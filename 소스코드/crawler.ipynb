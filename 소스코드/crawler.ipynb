{
 "cells": [
  {
   "cell_type": "code",
   "execution_count": 8,
   "metadata": {},
   "outputs": [],
   "source": [
    "import requests\n",
    "from pandas import DataFrame\n",
    "from bs4 import BeautifulSoup\n",
    "import re\n",
    "from datetime import datetime\n",
    "import os\n",
    "import pandas as pd\n",
    "import numpy as np\n",
    "import time\n",
    "import urllib.request"
   ]
  },
  {
   "cell_type": "code",
   "execution_count": 25,
   "metadata": {},
   "outputs": [],
   "source": [
    "plant_url = 'https://www.nongsaro.go.kr/portal/ps/psz/psza/contentSub.ps?menuId=PS00376&pageIndex=1&pageSize=10&pageUnit=6&cntntsNo=12938&detailSrch=&sDtlSrchText=&sType=sCntntsSj&sText=&sDtlSrchType=sDtlSrchsCntntsSj&sDtlSrchLight=&sDtlSrchGrwhstle=&sDtlSrchLefcolr=&sDtlSrchLefmrk=&sDtlSrchFlclr=&sDtlSrchFmldecolr=&sDtlSrchIgnSeason=&sDtlSrchWinterLwet=&priceType=big&sDtlSrchPriceType=&sDtlSrchWaterCycle='\n",
    "\n",
    "def plant_info(url):\n",
    "    req = requests.get(url, verify=False)\n",
    "    soup = BeautifulSoup(req.text, 'html.parser')\n",
    "    data_list = []\n",
    "    dataname_list = []\n",
    "    plant_info = []\n",
    "    name = (\"식물이름\", soup.select_one('#contentForm > h4').get_text() )\n",
    "    plant_info.append(name)\n",
    "    \n",
    "    table = soup.select('table')\n",
    "    data1_name = table[1].select('tbody > tr > th')\n",
    "    data1 = table[1].select('tbody > tr > td')\n",
    "    data2_name = table[2].select('tbody > tr > th')\n",
    "    data2 = table[2].select('tbody > tr > td')\n",
    "    \n",
    "    for i in data1_name:\n",
    "        i = i.text.replace(\" \", '')\n",
    "        i = i.replace(\"(cm)\", '')\n",
    "        dataname_list.append(i)\n",
    "    for i in data1:\n",
    "        i = i.text.replace(\"\\r\", '')\n",
    "        i = i.replace(\"\\t\", '')\n",
    "        i = i.replace(\"\\n\", '')\n",
    "        data_list.append(i)\n",
    "    for i in data2_name:\n",
    "        i = i.text.replace(\" \", '')\n",
    "        i = i.replace(\"(cm)\", '')\n",
    "        dataname_list.append(i)\n",
    "    for i in data2:\n",
    "        i = i.text.replace(\"\\r\", '')\n",
    "        i = i.replace(\"\\t\", '')\n",
    "        i = i.replace(\"\\n\", '')\n",
    "        data_list.append(i)\n",
    "        \n",
    "    for i in zip(dataname_list, data_list):\n",
    "        plant_info.append(i)\n",
    "    product_img_url = \"https://www.nongsaro.go.kr/\"+ soup.select_one('dd.pic > img')['src']\n",
    "    urllib.request.urlretrieve(product_img_url, str(soup.select_one('#contentForm > h4').get_text())+\".jpg\")\n",
    "    print(product_img_url)\n",
    "    return plant_info\n",
    "\n",
    "def plant_info_dry(url):\n",
    "    headers = {\"user-agent\": \"Mozilla/5.0 (Macintosh; Intel Mac OS X 10_15_5) AppleWebKit/537.36 (KHTML, like Gecko) Chrome/84.0.4147.89 Safari/537.36\"}\n",
    "    req = requests.get(url, verify = False, headers=headers)\n",
    "    #print(url)\n",
    "    soup = BeautifulSoup(req.text, 'html.parser')\n",
    "    name = (\"식물이름\", soup.select_one('h4.mt20').text)\n",
    "    data1_name = soup.select('div.sedumDiv.fl > ul > li > strong')\n",
    "    data2_name = soup.select('div.sedumDiv.fr > ul > li > strong')\n",
    "    data1 = soup.select('div.sedumDiv.fl > ul > li > span')\n",
    "    data2 = soup.select('div.sedumDiv.fr > ul > li > span')\n",
    "    data_list =[]\n",
    "    dataname_list = []\n",
    "    plant_info=[]\n",
    "    plant_info.append(name)\n",
    "    for i in data1_name:\n",
    "        i = i.text.replace(\" \", '')\n",
    "        i = i.replace(\"형태분류\", '생태형')\n",
    "        i = i.replace(\"엽색변화\", '잎색')\n",
    "        i = i.replace(\"월동온도\", '겨울최저온도')\n",
    "        i = i.replace(\"생육온도\", '생육적온')\n",
    "        dataname_list.append(i)\n",
    "    for i in data1:\n",
    "        i = i.text.replace(\"\\r-\", '')\n",
    "        data_list.append(i)\n",
    "    for i in data2_name:\n",
    "        i = i.text.replace(\" \", '')\n",
    "        i = i.replace(\"광\", '광요구도')\n",
    "        dataname_list.append(i)  \n",
    "    for i in data2:\n",
    "        i = i.text.replace(\"\\r-\", '')\n",
    "        data_list.append(i)\n",
    "        \n",
    "    for i in zip(dataname_list, data_list):\n",
    "        plant_info.append(i)\n",
    "    #sedumInfo > div.sedumData > div.imgArea > span > img\n",
    "    product_img_url = \"https://www.nongsaro.go.kr/\"+ soup.select_one('div.imgArea > span > img')['src']\n",
    "    print(product_img_url)\n",
    "    urllib.request.urlretrieve(product_img_url, str(soup.select_one('h4.mt20').text)+\".jpg\")\n",
    "    \n",
    "    return plant_info"
   ]
  },
  {
   "cell_type": "code",
   "execution_count": null,
   "metadata": {},
   "outputs": [],
   "source": [
    "#전체코드\n",
    "\n",
    "import requests\n",
    "from bs4 import BeautifulSoup\n",
    "import urllib.request\n",
    "\n",
    "URL = 'https://www.coupang.com/vp/products/5647481827?itemId=9231892317&vendorItemId=76517595808&sourceType=CAMPAIGN&campaignId=82&categoryId=0&isAddedCart='\n",
    "\n",
    "headers = {\"User-Agent\":\"Mozilla/5.0 (Windows NT 10.0; Win64; x64) AppleWebKit/537.36 (KHTML, like Gecko) Chrome/90.0.4430.93 Safari/537.36\"}\n",
    "res = requests.get(URL, headers=headers)\n",
    "res.raise_for_status()\n",
    "soup = BeautifulSoup(res.text, \"lxml\") \n",
    "\n",
    "product_img_url = \"http:\"+ soup.select_one('#repImageContainer > img')['src']\n",
    "\n",
    "urllib.request.urlretrieve(product_img_url, \"이미지.jpg\")"
   ]
  },
  {
   "cell_type": "code",
   "execution_count": 26,
   "metadata": {},
   "outputs": [
    {
     "name": "stderr",
     "output_type": "stream",
     "text": [
      "/Users/soojin/opt/anaconda3/lib/python3.8/site-packages/urllib3/connectionpool.py:981: InsecureRequestWarning: Unverified HTTPS request is being made to host 'www.nongsaro.go.kr'. Adding certificate verification is strongly advised. See: https://urllib3.readthedocs.io/en/latest/advanced-usage.html#ssl-warnings\n",
      "  warnings.warn(\n"
     ]
    },
    {
     "name": "stdout",
     "output_type": "stream",
     "text": [
      "https://www.nongsaro.go.kr//cms_contents/301/12938_MF_REPR_ATTACH_01.jpg\n"
     ]
    },
    {
     "name": "stderr",
     "output_type": "stream",
     "text": [
      "/Users/soojin/opt/anaconda3/lib/python3.8/site-packages/urllib3/connectionpool.py:981: InsecureRequestWarning: Unverified HTTPS request is being made to host 'www.nongsaro.go.kr'. Adding certificate verification is strongly advised. See: https://urllib3.readthedocs.io/en/latest/advanced-usage.html#ssl-warnings\n",
      "  warnings.warn(\n"
     ]
    },
    {
     "name": "stdout",
     "output_type": "stream",
     "text": [
      "https://www.nongsaro.go.kr//cms_contents/1122/204870_MF_BIMG_01.jpg\n"
     ]
    },
    {
     "data": {
      "text/plain": [
       "[('식물이름', '페페로미아 그라베올렌스'),\n",
       " ('학명', 'Peperomia graveolens, 후추과'),\n",
       " ('원산지', '페루'),\n",
       " ('생태형', '불규칙형'),\n",
       " ('잎색', '잎의 앞면은 초록, 잎의 뒷면은 붉은색을 띰'),\n",
       " ('뿌리형태', '가는 뿌리'),\n",
       " ('생장형', '봄~가을 성장 (겨울에 휴면)'),\n",
       " ('생장속도', '느림'),\n",
       " ('겨울최저온도', '10°C'),\n",
       " ('광요구도', '충분한 광 필요'),\n",
       " ('물주기', '분 흙이 마르면 흠뻑 관수 한겨울에는 단수'),\n",
       " ('번식', '줄기꽂이'),\n",
       " ('관리수준', '어려움'),\n",
       " ('관리요구도', '필요함'),\n",
       " ('배치장소', '발코니 내측까지 이용 가능함 창측의 형태 그대로 유지'),\n",
       " ('Tip', '직사광선 및 다습한 환경을 피함')]"
      ]
     },
     "execution_count": 26,
     "metadata": {},
     "output_type": "execute_result"
    }
   ],
   "source": [
    "url = 'https://www.nongsaro.go.kr/portal/ps/psz/psza/contentSub.ps?menuId=PS00376&pageIndex=1&pageSize=10&pageUnit=6&cntntsNo=12938&detailSrch=&sDtlSrchText=&sType=sCntntsSj&sText=&sDtlSrchType=sDtlSrchsCntntsSj&sDtlSrchLight=&sDtlSrchGrwhstle=&sDtlSrchLefcolr=&sDtlSrchLefmrk=&sDtlSrchFlclr=&sDtlSrchFmldecolr=&sDtlSrchIgnSeason=&sDtlSrchWinterLwet=&priceType=big&sDtlSrchPriceType=&sDtlSrchWaterCycle='\n",
    "plant_info(url)\n",
    "url_dry = 'https://www.nongsaro.go.kr/portal/ps/psz/psza/contentSub.ps?menuId=PS04099&pageIndex=1&pageSize=10&pageUnit=6&cntntsNo=204870&detailSrch=&sDtlSrchText=&sClCode=&sType=sCntntsSj&sText=&sDtlSrchType=sDtlSrchsCntntsSj&sDtlSrchStleSeCode=&sDtlSrchRdxStleCode=&sDtlSrchGrwtseVeCode=&sDtlSrchManageLevelCode=&sDtlSrchManageDemandCode='\n",
    "plant_info_dry(url_dry)"
   ]
  },
  {
   "cell_type": "code",
   "execution_count": 20,
   "metadata": {},
   "outputs": [],
   "source": [
    "import ssl\n",
    "\n",
    "ssl._create_default_https_context = ssl._create_unverified_context"
   ]
  },
  {
   "cell_type": "code",
   "execution_count": 27,
   "metadata": {},
   "outputs": [],
   "source": [
    "import pandas as pd\n",
    "import numpy as np # linear algebra\n",
    "\n",
    "xlsxFile1 = 'first_link.xlsx'\n",
    "xlsxFile2 = 'second_link.xlsx'\n",
    "\n",
    "# pandas를 이용하여 각 시트별 데이터 가져오기\n",
    "df1 = pd.read_excel(xlsxFile1)\n",
    "df1 = df1.drop(labels='Unnamed: 0',axis=1)\n",
    "df2 = pd.read_excel(xlsxFile2)\n",
    "df2 = df2.drop(labels='Unnamed: 0',axis=1)"
   ]
  },
  {
   "cell_type": "code",
   "execution_count": 28,
   "metadata": {},
   "outputs": [
    {
     "data": {
      "text/html": [
       "<div>\n",
       "<style scoped>\n",
       "    .dataframe tbody tr th:only-of-type {\n",
       "        vertical-align: middle;\n",
       "    }\n",
       "\n",
       "    .dataframe tbody tr th {\n",
       "        vertical-align: top;\n",
       "    }\n",
       "\n",
       "    .dataframe thead th {\n",
       "        text-align: right;\n",
       "    }\n",
       "</style>\n",
       "<table border=\"1\" class=\"dataframe\">\n",
       "  <thead>\n",
       "    <tr style=\"text-align: right;\">\n",
       "      <th></th>\n",
       "      <th>0</th>\n",
       "    </tr>\n",
       "  </thead>\n",
       "  <tbody>\n",
       "    <tr>\n",
       "      <th>0</th>\n",
       "      <td>https://www.nongsaro.go.kr/portal/ps/psz/psza/...</td>\n",
       "    </tr>\n",
       "    <tr>\n",
       "      <th>1</th>\n",
       "      <td>https://www.nongsaro.go.kr/portal/ps/psz/psza/...</td>\n",
       "    </tr>\n",
       "    <tr>\n",
       "      <th>2</th>\n",
       "      <td>https://www.nongsaro.go.kr/portal/ps/psz/psza/...</td>\n",
       "    </tr>\n",
       "    <tr>\n",
       "      <th>3</th>\n",
       "      <td>https://www.nongsaro.go.kr/portal/ps/psz/psza/...</td>\n",
       "    </tr>\n",
       "    <tr>\n",
       "      <th>4</th>\n",
       "      <td>https://www.nongsaro.go.kr/portal/ps/psz/psza/...</td>\n",
       "    </tr>\n",
       "    <tr>\n",
       "      <th>...</th>\n",
       "      <td>...</td>\n",
       "    </tr>\n",
       "    <tr>\n",
       "      <th>92</th>\n",
       "      <td>https://www.nongsaro.go.kr/portal/ps/psz/psza/...</td>\n",
       "    </tr>\n",
       "    <tr>\n",
       "      <th>93</th>\n",
       "      <td>https://www.nongsaro.go.kr/portal/ps/psz/psza/...</td>\n",
       "    </tr>\n",
       "    <tr>\n",
       "      <th>94</th>\n",
       "      <td>https://www.nongsaro.go.kr/portal/ps/psz/psza/...</td>\n",
       "    </tr>\n",
       "    <tr>\n",
       "      <th>95</th>\n",
       "      <td>https://www.nongsaro.go.kr/portal/ps/psz/psza/...</td>\n",
       "    </tr>\n",
       "    <tr>\n",
       "      <th>96</th>\n",
       "      <td>https://www.nongsaro.go.kr/portal/ps/psz/psza/...</td>\n",
       "    </tr>\n",
       "  </tbody>\n",
       "</table>\n",
       "<p>97 rows × 1 columns</p>\n",
       "</div>"
      ],
      "text/plain": [
       "                                                    0\n",
       "0   https://www.nongsaro.go.kr/portal/ps/psz/psza/...\n",
       "1   https://www.nongsaro.go.kr/portal/ps/psz/psza/...\n",
       "2   https://www.nongsaro.go.kr/portal/ps/psz/psza/...\n",
       "3   https://www.nongsaro.go.kr/portal/ps/psz/psza/...\n",
       "4   https://www.nongsaro.go.kr/portal/ps/psz/psza/...\n",
       "..                                                ...\n",
       "92  https://www.nongsaro.go.kr/portal/ps/psz/psza/...\n",
       "93  https://www.nongsaro.go.kr/portal/ps/psz/psza/...\n",
       "94  https://www.nongsaro.go.kr/portal/ps/psz/psza/...\n",
       "95  https://www.nongsaro.go.kr/portal/ps/psz/psza/...\n",
       "96  https://www.nongsaro.go.kr/portal/ps/psz/psza/...\n",
       "\n",
       "[97 rows x 1 columns]"
      ]
     },
     "execution_count": 28,
     "metadata": {},
     "output_type": "execute_result"
    }
   ],
   "source": [
    "df2"
   ]
  },
  {
   "cell_type": "code",
   "execution_count": 29,
   "metadata": {},
   "outputs": [
    {
     "name": "stderr",
     "output_type": "stream",
     "text": [
      "/Users/soojin/opt/anaconda3/lib/python3.8/site-packages/urllib3/connectionpool.py:981: InsecureRequestWarning: Unverified HTTPS request is being made to host 'www.nongsaro.go.kr'. Adding certificate verification is strongly advised. See: https://urllib3.readthedocs.io/en/latest/advanced-usage.html#ssl-warnings\n",
      "  warnings.warn(\n"
     ]
    },
    {
     "name": "stdout",
     "output_type": "stream",
     "text": [
      "https://www.nongsaro.go.kr//cms_contents/301/12938_MF_REPR_ATTACH_01.jpg\n"
     ]
    },
    {
     "name": "stderr",
     "output_type": "stream",
     "text": [
      "/Users/soojin/opt/anaconda3/lib/python3.8/site-packages/urllib3/connectionpool.py:981: InsecureRequestWarning: Unverified HTTPS request is being made to host 'www.nongsaro.go.kr'. Adding certificate verification is strongly advised. See: https://urllib3.readthedocs.io/en/latest/advanced-usage.html#ssl-warnings\n",
      "  warnings.warn(\n"
     ]
    },
    {
     "name": "stdout",
     "output_type": "stream",
     "text": [
      "https://www.nongsaro.go.kr//cms_contents/301/12954_MF_REPR_ATTACH_01.jpg\n"
     ]
    },
    {
     "name": "stderr",
     "output_type": "stream",
     "text": [
      "/Users/soojin/opt/anaconda3/lib/python3.8/site-packages/urllib3/connectionpool.py:981: InsecureRequestWarning: Unverified HTTPS request is being made to host 'www.nongsaro.go.kr'. Adding certificate verification is strongly advised. See: https://urllib3.readthedocs.io/en/latest/advanced-usage.html#ssl-warnings\n",
      "  warnings.warn(\n"
     ]
    },
    {
     "name": "stdout",
     "output_type": "stream",
     "text": [
      "https://www.nongsaro.go.kr//cms_contents/301/12955_MF_REPR_ATTACH_01.jpg\n"
     ]
    },
    {
     "name": "stderr",
     "output_type": "stream",
     "text": [
      "/Users/soojin/opt/anaconda3/lib/python3.8/site-packages/urllib3/connectionpool.py:981: InsecureRequestWarning: Unverified HTTPS request is being made to host 'www.nongsaro.go.kr'. Adding certificate verification is strongly advised. See: https://urllib3.readthedocs.io/en/latest/advanced-usage.html#ssl-warnings\n",
      "  warnings.warn(\n"
     ]
    },
    {
     "name": "stdout",
     "output_type": "stream",
     "text": [
      "https://www.nongsaro.go.kr//cms_contents/301/12957_MF_REPR_ATTACH_01.jpg\n"
     ]
    },
    {
     "name": "stderr",
     "output_type": "stream",
     "text": [
      "/Users/soojin/opt/anaconda3/lib/python3.8/site-packages/urllib3/connectionpool.py:981: InsecureRequestWarning: Unverified HTTPS request is being made to host 'www.nongsaro.go.kr'. Adding certificate verification is strongly advised. See: https://urllib3.readthedocs.io/en/latest/advanced-usage.html#ssl-warnings\n",
      "  warnings.warn(\n"
     ]
    },
    {
     "name": "stdout",
     "output_type": "stream",
     "text": [
      "https://www.nongsaro.go.kr//cms_contents/301/12962_MF_REPR_ATTACH_01.jpg\n"
     ]
    },
    {
     "name": "stderr",
     "output_type": "stream",
     "text": [
      "/Users/soojin/opt/anaconda3/lib/python3.8/site-packages/urllib3/connectionpool.py:981: InsecureRequestWarning: Unverified HTTPS request is being made to host 'www.nongsaro.go.kr'. Adding certificate verification is strongly advised. See: https://urllib3.readthedocs.io/en/latest/advanced-usage.html#ssl-warnings\n",
      "  warnings.warn(\n"
     ]
    },
    {
     "name": "stdout",
     "output_type": "stream",
     "text": [
      "https://www.nongsaro.go.kr//cms_contents/301/12963_MF_REPR_ATTACH_01.jpg\n"
     ]
    },
    {
     "name": "stderr",
     "output_type": "stream",
     "text": [
      "/Users/soojin/opt/anaconda3/lib/python3.8/site-packages/urllib3/connectionpool.py:981: InsecureRequestWarning: Unverified HTTPS request is being made to host 'www.nongsaro.go.kr'. Adding certificate verification is strongly advised. See: https://urllib3.readthedocs.io/en/latest/advanced-usage.html#ssl-warnings\n",
      "  warnings.warn(\n"
     ]
    },
    {
     "name": "stdout",
     "output_type": "stream",
     "text": [
      "https://www.nongsaro.go.kr//cms_contents/301/12966_MF_REPR_ATTACH_01.jpg\n"
     ]
    },
    {
     "name": "stderr",
     "output_type": "stream",
     "text": [
      "/Users/soojin/opt/anaconda3/lib/python3.8/site-packages/urllib3/connectionpool.py:981: InsecureRequestWarning: Unverified HTTPS request is being made to host 'www.nongsaro.go.kr'. Adding certificate verification is strongly advised. See: https://urllib3.readthedocs.io/en/latest/advanced-usage.html#ssl-warnings\n",
      "  warnings.warn(\n"
     ]
    },
    {
     "name": "stdout",
     "output_type": "stream",
     "text": [
      "https://www.nongsaro.go.kr//cms_contents/301/12972_MF_REPR_ATTACH_01.jpg\n"
     ]
    },
    {
     "name": "stderr",
     "output_type": "stream",
     "text": [
      "/Users/soojin/opt/anaconda3/lib/python3.8/site-packages/urllib3/connectionpool.py:981: InsecureRequestWarning: Unverified HTTPS request is being made to host 'www.nongsaro.go.kr'. Adding certificate verification is strongly advised. See: https://urllib3.readthedocs.io/en/latest/advanced-usage.html#ssl-warnings\n",
      "  warnings.warn(\n"
     ]
    },
    {
     "name": "stdout",
     "output_type": "stream",
     "text": [
      "https://www.nongsaro.go.kr//cms_contents/301/12974_MF_REPR_ATTACH_01.jpg\n"
     ]
    },
    {
     "name": "stderr",
     "output_type": "stream",
     "text": [
      "/Users/soojin/opt/anaconda3/lib/python3.8/site-packages/urllib3/connectionpool.py:981: InsecureRequestWarning: Unverified HTTPS request is being made to host 'www.nongsaro.go.kr'. Adding certificate verification is strongly advised. See: https://urllib3.readthedocs.io/en/latest/advanced-usage.html#ssl-warnings\n",
      "  warnings.warn(\n"
     ]
    },
    {
     "name": "stdout",
     "output_type": "stream",
     "text": [
      "https://www.nongsaro.go.kr//cms_contents/301/12988_MF_REPR_ATTACH_01.jpg\n"
     ]
    },
    {
     "name": "stderr",
     "output_type": "stream",
     "text": [
      "/Users/soojin/opt/anaconda3/lib/python3.8/site-packages/urllib3/connectionpool.py:981: InsecureRequestWarning: Unverified HTTPS request is being made to host 'www.nongsaro.go.kr'. Adding certificate verification is strongly advised. See: https://urllib3.readthedocs.io/en/latest/advanced-usage.html#ssl-warnings\n",
      "  warnings.warn(\n"
     ]
    },
    {
     "name": "stdout",
     "output_type": "stream",
     "text": [
      "https://www.nongsaro.go.kr//cms_contents/301/12990_MF_REPR_ATTACH_01.jpg\n"
     ]
    },
    {
     "name": "stderr",
     "output_type": "stream",
     "text": [
      "/Users/soojin/opt/anaconda3/lib/python3.8/site-packages/urllib3/connectionpool.py:981: InsecureRequestWarning: Unverified HTTPS request is being made to host 'www.nongsaro.go.kr'. Adding certificate verification is strongly advised. See: https://urllib3.readthedocs.io/en/latest/advanced-usage.html#ssl-warnings\n",
      "  warnings.warn(\n"
     ]
    },
    {
     "name": "stdout",
     "output_type": "stream",
     "text": [
      "https://www.nongsaro.go.kr//cms_contents/301/12994_MF_REPR_ATTACH_01.jpg\n"
     ]
    },
    {
     "name": "stderr",
     "output_type": "stream",
     "text": [
      "/Users/soojin/opt/anaconda3/lib/python3.8/site-packages/urllib3/connectionpool.py:981: InsecureRequestWarning: Unverified HTTPS request is being made to host 'www.nongsaro.go.kr'. Adding certificate verification is strongly advised. See: https://urllib3.readthedocs.io/en/latest/advanced-usage.html#ssl-warnings\n",
      "  warnings.warn(\n"
     ]
    },
    {
     "name": "stdout",
     "output_type": "stream",
     "text": [
      "https://www.nongsaro.go.kr//cms_contents/301/12998_MF_REPR_ATTACH_01.jpg\n"
     ]
    },
    {
     "name": "stderr",
     "output_type": "stream",
     "text": [
      "/Users/soojin/opt/anaconda3/lib/python3.8/site-packages/urllib3/connectionpool.py:981: InsecureRequestWarning: Unverified HTTPS request is being made to host 'www.nongsaro.go.kr'. Adding certificate verification is strongly advised. See: https://urllib3.readthedocs.io/en/latest/advanced-usage.html#ssl-warnings\n",
      "  warnings.warn(\n"
     ]
    },
    {
     "name": "stdout",
     "output_type": "stream",
     "text": [
      "https://www.nongsaro.go.kr//cms_contents/301/13186_MF_REPR_ATTACH_01.jpg\n"
     ]
    },
    {
     "name": "stderr",
     "output_type": "stream",
     "text": [
      "/Users/soojin/opt/anaconda3/lib/python3.8/site-packages/urllib3/connectionpool.py:981: InsecureRequestWarning: Unverified HTTPS request is being made to host 'www.nongsaro.go.kr'. Adding certificate verification is strongly advised. See: https://urllib3.readthedocs.io/en/latest/advanced-usage.html#ssl-warnings\n",
      "  warnings.warn(\n"
     ]
    },
    {
     "name": "stdout",
     "output_type": "stream",
     "text": [
      "https://www.nongsaro.go.kr//cms_contents/301/13196_MF_REPR_ATTACH_01.jpg\n"
     ]
    },
    {
     "name": "stderr",
     "output_type": "stream",
     "text": [
      "/Users/soojin/opt/anaconda3/lib/python3.8/site-packages/urllib3/connectionpool.py:981: InsecureRequestWarning: Unverified HTTPS request is being made to host 'www.nongsaro.go.kr'. Adding certificate verification is strongly advised. See: https://urllib3.readthedocs.io/en/latest/advanced-usage.html#ssl-warnings\n",
      "  warnings.warn(\n"
     ]
    },
    {
     "name": "stdout",
     "output_type": "stream",
     "text": [
      "https://www.nongsaro.go.kr//cms_contents/301/13199_MF_REPR_ATTACH_01.jpg\n"
     ]
    },
    {
     "name": "stderr",
     "output_type": "stream",
     "text": [
      "/Users/soojin/opt/anaconda3/lib/python3.8/site-packages/urllib3/connectionpool.py:981: InsecureRequestWarning: Unverified HTTPS request is being made to host 'www.nongsaro.go.kr'. Adding certificate verification is strongly advised. See: https://urllib3.readthedocs.io/en/latest/advanced-usage.html#ssl-warnings\n",
      "  warnings.warn(\n"
     ]
    },
    {
     "name": "stdout",
     "output_type": "stream",
     "text": [
      "https://www.nongsaro.go.kr//cms_contents/301/13201_MF_REPR_ATTACH_01.jpg\n"
     ]
    },
    {
     "name": "stderr",
     "output_type": "stream",
     "text": [
      "/Users/soojin/opt/anaconda3/lib/python3.8/site-packages/urllib3/connectionpool.py:981: InsecureRequestWarning: Unverified HTTPS request is being made to host 'www.nongsaro.go.kr'. Adding certificate verification is strongly advised. See: https://urllib3.readthedocs.io/en/latest/advanced-usage.html#ssl-warnings\n",
      "  warnings.warn(\n"
     ]
    },
    {
     "name": "stdout",
     "output_type": "stream",
     "text": [
      "https://www.nongsaro.go.kr//cms_contents/301/13202_MF_REPR_ATTACH_01.jpg\n"
     ]
    },
    {
     "name": "stderr",
     "output_type": "stream",
     "text": [
      "/Users/soojin/opt/anaconda3/lib/python3.8/site-packages/urllib3/connectionpool.py:981: InsecureRequestWarning: Unverified HTTPS request is being made to host 'www.nongsaro.go.kr'. Adding certificate verification is strongly advised. See: https://urllib3.readthedocs.io/en/latest/advanced-usage.html#ssl-warnings\n",
      "  warnings.warn(\n"
     ]
    },
    {
     "name": "stdout",
     "output_type": "stream",
     "text": [
      "https://www.nongsaro.go.kr//cms_contents/301/13203_MF_REPR_ATTACH_01.jpg\n"
     ]
    },
    {
     "name": "stderr",
     "output_type": "stream",
     "text": [
      "/Users/soojin/opt/anaconda3/lib/python3.8/site-packages/urllib3/connectionpool.py:981: InsecureRequestWarning: Unverified HTTPS request is being made to host 'www.nongsaro.go.kr'. Adding certificate verification is strongly advised. See: https://urllib3.readthedocs.io/en/latest/advanced-usage.html#ssl-warnings\n",
      "  warnings.warn(\n"
     ]
    },
    {
     "name": "stdout",
     "output_type": "stream",
     "text": [
      "https://www.nongsaro.go.kr//cms_contents/301/13206_MF_REPR_ATTACH_01.jpg\n"
     ]
    },
    {
     "name": "stderr",
     "output_type": "stream",
     "text": [
      "/Users/soojin/opt/anaconda3/lib/python3.8/site-packages/urllib3/connectionpool.py:981: InsecureRequestWarning: Unverified HTTPS request is being made to host 'www.nongsaro.go.kr'. Adding certificate verification is strongly advised. See: https://urllib3.readthedocs.io/en/latest/advanced-usage.html#ssl-warnings\n",
      "  warnings.warn(\n"
     ]
    },
    {
     "name": "stdout",
     "output_type": "stream",
     "text": [
      "https://www.nongsaro.go.kr//cms_contents/301/13207_MF_REPR_ATTACH_01.jpg\n"
     ]
    },
    {
     "name": "stderr",
     "output_type": "stream",
     "text": [
      "/Users/soojin/opt/anaconda3/lib/python3.8/site-packages/urllib3/connectionpool.py:981: InsecureRequestWarning: Unverified HTTPS request is being made to host 'www.nongsaro.go.kr'. Adding certificate verification is strongly advised. See: https://urllib3.readthedocs.io/en/latest/advanced-usage.html#ssl-warnings\n",
      "  warnings.warn(\n"
     ]
    },
    {
     "name": "stdout",
     "output_type": "stream",
     "text": [
      "https://www.nongsaro.go.kr//cms_contents/301/13208_MF_REPR_ATTACH_01.jpg\n"
     ]
    },
    {
     "name": "stderr",
     "output_type": "stream",
     "text": [
      "/Users/soojin/opt/anaconda3/lib/python3.8/site-packages/urllib3/connectionpool.py:981: InsecureRequestWarning: Unverified HTTPS request is being made to host 'www.nongsaro.go.kr'. Adding certificate verification is strongly advised. See: https://urllib3.readthedocs.io/en/latest/advanced-usage.html#ssl-warnings\n",
      "  warnings.warn(\n"
     ]
    },
    {
     "name": "stdout",
     "output_type": "stream",
     "text": [
      "https://www.nongsaro.go.kr//cms_contents/301/13210_MF_REPR_ATTACH_01.jpg\n"
     ]
    },
    {
     "name": "stderr",
     "output_type": "stream",
     "text": [
      "/Users/soojin/opt/anaconda3/lib/python3.8/site-packages/urllib3/connectionpool.py:981: InsecureRequestWarning: Unverified HTTPS request is being made to host 'www.nongsaro.go.kr'. Adding certificate verification is strongly advised. See: https://urllib3.readthedocs.io/en/latest/advanced-usage.html#ssl-warnings\n",
      "  warnings.warn(\n"
     ]
    },
    {
     "name": "stdout",
     "output_type": "stream",
     "text": [
      "https://www.nongsaro.go.kr//cms_contents/301/13218_MF_REPR_ATTACH_01.jpg\n"
     ]
    },
    {
     "name": "stderr",
     "output_type": "stream",
     "text": [
      "/Users/soojin/opt/anaconda3/lib/python3.8/site-packages/urllib3/connectionpool.py:981: InsecureRequestWarning: Unverified HTTPS request is being made to host 'www.nongsaro.go.kr'. Adding certificate verification is strongly advised. See: https://urllib3.readthedocs.io/en/latest/advanced-usage.html#ssl-warnings\n",
      "  warnings.warn(\n"
     ]
    },
    {
     "name": "stdout",
     "output_type": "stream",
     "text": [
      "https://www.nongsaro.go.kr//cms_contents/301/13333_MF_REPR_ATTACH_01.jpg\n"
     ]
    },
    {
     "name": "stderr",
     "output_type": "stream",
     "text": [
      "/Users/soojin/opt/anaconda3/lib/python3.8/site-packages/urllib3/connectionpool.py:981: InsecureRequestWarning: Unverified HTTPS request is being made to host 'www.nongsaro.go.kr'. Adding certificate verification is strongly advised. See: https://urllib3.readthedocs.io/en/latest/advanced-usage.html#ssl-warnings\n",
      "  warnings.warn(\n"
     ]
    },
    {
     "name": "stdout",
     "output_type": "stream",
     "text": [
      "https://www.nongsaro.go.kr//cms_contents/301/13335_MF_REPR_ATTACH_01.jpg\n"
     ]
    },
    {
     "name": "stderr",
     "output_type": "stream",
     "text": [
      "/Users/soojin/opt/anaconda3/lib/python3.8/site-packages/urllib3/connectionpool.py:981: InsecureRequestWarning: Unverified HTTPS request is being made to host 'www.nongsaro.go.kr'. Adding certificate verification is strongly advised. See: https://urllib3.readthedocs.io/en/latest/advanced-usage.html#ssl-warnings\n",
      "  warnings.warn(\n"
     ]
    },
    {
     "name": "stdout",
     "output_type": "stream",
     "text": [
      "https://www.nongsaro.go.kr//cms_contents/301/13336_MF_REPR_ATTACH_01.jpg\n"
     ]
    },
    {
     "name": "stderr",
     "output_type": "stream",
     "text": [
      "/Users/soojin/opt/anaconda3/lib/python3.8/site-packages/urllib3/connectionpool.py:981: InsecureRequestWarning: Unverified HTTPS request is being made to host 'www.nongsaro.go.kr'. Adding certificate verification is strongly advised. See: https://urllib3.readthedocs.io/en/latest/advanced-usage.html#ssl-warnings\n",
      "  warnings.warn(\n"
     ]
    },
    {
     "name": "stdout",
     "output_type": "stream",
     "text": [
      "https://www.nongsaro.go.kr//cms_contents/301/13337_MF_REPR_ATTACH_01.jpg\n"
     ]
    },
    {
     "name": "stderr",
     "output_type": "stream",
     "text": [
      "/Users/soojin/opt/anaconda3/lib/python3.8/site-packages/urllib3/connectionpool.py:981: InsecureRequestWarning: Unverified HTTPS request is being made to host 'www.nongsaro.go.kr'. Adding certificate verification is strongly advised. See: https://urllib3.readthedocs.io/en/latest/advanced-usage.html#ssl-warnings\n",
      "  warnings.warn(\n"
     ]
    },
    {
     "name": "stdout",
     "output_type": "stream",
     "text": [
      "https://www.nongsaro.go.kr//cms_contents/301/13338_MF_REPR_ATTACH_01.jpg\n"
     ]
    },
    {
     "name": "stderr",
     "output_type": "stream",
     "text": [
      "/Users/soojin/opt/anaconda3/lib/python3.8/site-packages/urllib3/connectionpool.py:981: InsecureRequestWarning: Unverified HTTPS request is being made to host 'www.nongsaro.go.kr'. Adding certificate verification is strongly advised. See: https://urllib3.readthedocs.io/en/latest/advanced-usage.html#ssl-warnings\n",
      "  warnings.warn(\n"
     ]
    },
    {
     "name": "stdout",
     "output_type": "stream",
     "text": [
      "https://www.nongsaro.go.kr//cms_contents/301/13339_MF_REPR_ATTACH_01.jpg\n"
     ]
    },
    {
     "name": "stderr",
     "output_type": "stream",
     "text": [
      "/Users/soojin/opt/anaconda3/lib/python3.8/site-packages/urllib3/connectionpool.py:981: InsecureRequestWarning: Unverified HTTPS request is being made to host 'www.nongsaro.go.kr'. Adding certificate verification is strongly advised. See: https://urllib3.readthedocs.io/en/latest/advanced-usage.html#ssl-warnings\n",
      "  warnings.warn(\n"
     ]
    },
    {
     "name": "stdout",
     "output_type": "stream",
     "text": [
      "https://www.nongsaro.go.kr//cms_contents/301/13340_MF_REPR_ATTACH_01.jpg\n"
     ]
    },
    {
     "name": "stderr",
     "output_type": "stream",
     "text": [
      "/Users/soojin/opt/anaconda3/lib/python3.8/site-packages/urllib3/connectionpool.py:981: InsecureRequestWarning: Unverified HTTPS request is being made to host 'www.nongsaro.go.kr'. Adding certificate verification is strongly advised. See: https://urllib3.readthedocs.io/en/latest/advanced-usage.html#ssl-warnings\n",
      "  warnings.warn(\n"
     ]
    },
    {
     "name": "stdout",
     "output_type": "stream",
     "text": [
      "https://www.nongsaro.go.kr//cms_contents/301/14663_MF_REPR_ATTACH_01.jpg\n"
     ]
    },
    {
     "name": "stderr",
     "output_type": "stream",
     "text": [
      "/Users/soojin/opt/anaconda3/lib/python3.8/site-packages/urllib3/connectionpool.py:981: InsecureRequestWarning: Unverified HTTPS request is being made to host 'www.nongsaro.go.kr'. Adding certificate verification is strongly advised. See: https://urllib3.readthedocs.io/en/latest/advanced-usage.html#ssl-warnings\n",
      "  warnings.warn(\n"
     ]
    },
    {
     "name": "stdout",
     "output_type": "stream",
     "text": [
      "https://www.nongsaro.go.kr//cms_contents/301/14674_MF_REPR_ATTACH_01.jpg\n"
     ]
    },
    {
     "name": "stderr",
     "output_type": "stream",
     "text": [
      "/Users/soojin/opt/anaconda3/lib/python3.8/site-packages/urllib3/connectionpool.py:981: InsecureRequestWarning: Unverified HTTPS request is being made to host 'www.nongsaro.go.kr'. Adding certificate verification is strongly advised. See: https://urllib3.readthedocs.io/en/latest/advanced-usage.html#ssl-warnings\n",
      "  warnings.warn(\n"
     ]
    },
    {
     "name": "stdout",
     "output_type": "stream",
     "text": [
      "https://www.nongsaro.go.kr//cms_contents/301/14675_MF_REPR_ATTACH_01.jpg\n"
     ]
    },
    {
     "name": "stderr",
     "output_type": "stream",
     "text": [
      "/Users/soojin/opt/anaconda3/lib/python3.8/site-packages/urllib3/connectionpool.py:981: InsecureRequestWarning: Unverified HTTPS request is being made to host 'www.nongsaro.go.kr'. Adding certificate verification is strongly advised. See: https://urllib3.readthedocs.io/en/latest/advanced-usage.html#ssl-warnings\n",
      "  warnings.warn(\n"
     ]
    },
    {
     "name": "stdout",
     "output_type": "stream",
     "text": [
      "https://www.nongsaro.go.kr//cms_contents/301/14676_MF_REPR_ATTACH_01.jpg\n"
     ]
    },
    {
     "name": "stderr",
     "output_type": "stream",
     "text": [
      "/Users/soojin/opt/anaconda3/lib/python3.8/site-packages/urllib3/connectionpool.py:981: InsecureRequestWarning: Unverified HTTPS request is being made to host 'www.nongsaro.go.kr'. Adding certificate verification is strongly advised. See: https://urllib3.readthedocs.io/en/latest/advanced-usage.html#ssl-warnings\n",
      "  warnings.warn(\n"
     ]
    },
    {
     "name": "stdout",
     "output_type": "stream",
     "text": [
      "https://www.nongsaro.go.kr//cms_contents/301/14687_MF_REPR_ATTACH_01.jpg\n"
     ]
    },
    {
     "name": "stderr",
     "output_type": "stream",
     "text": [
      "/Users/soojin/opt/anaconda3/lib/python3.8/site-packages/urllib3/connectionpool.py:981: InsecureRequestWarning: Unverified HTTPS request is being made to host 'www.nongsaro.go.kr'. Adding certificate verification is strongly advised. See: https://urllib3.readthedocs.io/en/latest/advanced-usage.html#ssl-warnings\n",
      "  warnings.warn(\n"
     ]
    },
    {
     "name": "stdout",
     "output_type": "stream",
     "text": [
      "https://www.nongsaro.go.kr//cms_contents/301/14694_MF_REPR_ATTACH_01.jpg\n"
     ]
    },
    {
     "name": "stderr",
     "output_type": "stream",
     "text": [
      "/Users/soojin/opt/anaconda3/lib/python3.8/site-packages/urllib3/connectionpool.py:981: InsecureRequestWarning: Unverified HTTPS request is being made to host 'www.nongsaro.go.kr'. Adding certificate verification is strongly advised. See: https://urllib3.readthedocs.io/en/latest/advanced-usage.html#ssl-warnings\n",
      "  warnings.warn(\n"
     ]
    },
    {
     "name": "stdout",
     "output_type": "stream",
     "text": [
      "https://www.nongsaro.go.kr//cms_contents/301/14696_MF_REPR_ATTACH_01.jpg\n"
     ]
    },
    {
     "name": "stderr",
     "output_type": "stream",
     "text": [
      "/Users/soojin/opt/anaconda3/lib/python3.8/site-packages/urllib3/connectionpool.py:981: InsecureRequestWarning: Unverified HTTPS request is being made to host 'www.nongsaro.go.kr'. Adding certificate verification is strongly advised. See: https://urllib3.readthedocs.io/en/latest/advanced-usage.html#ssl-warnings\n",
      "  warnings.warn(\n"
     ]
    },
    {
     "name": "stdout",
     "output_type": "stream",
     "text": [
      "https://www.nongsaro.go.kr//cms_contents/301/14697_MF_REPR_ATTACH_01.jpg\n"
     ]
    },
    {
     "name": "stderr",
     "output_type": "stream",
     "text": [
      "/Users/soojin/opt/anaconda3/lib/python3.8/site-packages/urllib3/connectionpool.py:981: InsecureRequestWarning: Unverified HTTPS request is being made to host 'www.nongsaro.go.kr'. Adding certificate verification is strongly advised. See: https://urllib3.readthedocs.io/en/latest/advanced-usage.html#ssl-warnings\n",
      "  warnings.warn(\n"
     ]
    },
    {
     "name": "stdout",
     "output_type": "stream",
     "text": [
      "https://www.nongsaro.go.kr//cms_contents/301/14698_MF_REPR_ATTACH_01.jpg\n"
     ]
    },
    {
     "name": "stderr",
     "output_type": "stream",
     "text": [
      "/Users/soojin/opt/anaconda3/lib/python3.8/site-packages/urllib3/connectionpool.py:981: InsecureRequestWarning: Unverified HTTPS request is being made to host 'www.nongsaro.go.kr'. Adding certificate verification is strongly advised. See: https://urllib3.readthedocs.io/en/latest/advanced-usage.html#ssl-warnings\n",
      "  warnings.warn(\n"
     ]
    },
    {
     "name": "stdout",
     "output_type": "stream",
     "text": [
      "https://www.nongsaro.go.kr//cms_contents/301/14688_MF_REPR_ATTACH_01.jpg\n"
     ]
    },
    {
     "name": "stderr",
     "output_type": "stream",
     "text": [
      "/Users/soojin/opt/anaconda3/lib/python3.8/site-packages/urllib3/connectionpool.py:981: InsecureRequestWarning: Unverified HTTPS request is being made to host 'www.nongsaro.go.kr'. Adding certificate verification is strongly advised. See: https://urllib3.readthedocs.io/en/latest/advanced-usage.html#ssl-warnings\n",
      "  warnings.warn(\n"
     ]
    },
    {
     "name": "stdout",
     "output_type": "stream",
     "text": [
      "https://www.nongsaro.go.kr//cms_contents/301/14689_MF_REPR_ATTACH_01.jpg\n"
     ]
    },
    {
     "name": "stderr",
     "output_type": "stream",
     "text": [
      "/Users/soojin/opt/anaconda3/lib/python3.8/site-packages/urllib3/connectionpool.py:981: InsecureRequestWarning: Unverified HTTPS request is being made to host 'www.nongsaro.go.kr'. Adding certificate verification is strongly advised. See: https://urllib3.readthedocs.io/en/latest/advanced-usage.html#ssl-warnings\n",
      "  warnings.warn(\n"
     ]
    },
    {
     "name": "stdout",
     "output_type": "stream",
     "text": [
      "https://www.nongsaro.go.kr//cms_contents/301/14690_MF_REPR_ATTACH_01.jpg\n"
     ]
    },
    {
     "name": "stderr",
     "output_type": "stream",
     "text": [
      "/Users/soojin/opt/anaconda3/lib/python3.8/site-packages/urllib3/connectionpool.py:981: InsecureRequestWarning: Unverified HTTPS request is being made to host 'www.nongsaro.go.kr'. Adding certificate verification is strongly advised. See: https://urllib3.readthedocs.io/en/latest/advanced-usage.html#ssl-warnings\n",
      "  warnings.warn(\n"
     ]
    },
    {
     "name": "stdout",
     "output_type": "stream",
     "text": [
      "https://www.nongsaro.go.kr//cms_contents/301/14691_MF_REPR_ATTACH_01.gif\n"
     ]
    },
    {
     "name": "stderr",
     "output_type": "stream",
     "text": [
      "/Users/soojin/opt/anaconda3/lib/python3.8/site-packages/urllib3/connectionpool.py:981: InsecureRequestWarning: Unverified HTTPS request is being made to host 'www.nongsaro.go.kr'. Adding certificate verification is strongly advised. See: https://urllib3.readthedocs.io/en/latest/advanced-usage.html#ssl-warnings\n",
      "  warnings.warn(\n"
     ]
    },
    {
     "name": "stdout",
     "output_type": "stream",
     "text": [
      "https://www.nongsaro.go.kr//cms_contents/301/14692_MF_REPR_ATTACH_01.jpg\n"
     ]
    },
    {
     "name": "stderr",
     "output_type": "stream",
     "text": [
      "/Users/soojin/opt/anaconda3/lib/python3.8/site-packages/urllib3/connectionpool.py:981: InsecureRequestWarning: Unverified HTTPS request is being made to host 'www.nongsaro.go.kr'. Adding certificate verification is strongly advised. See: https://urllib3.readthedocs.io/en/latest/advanced-usage.html#ssl-warnings\n",
      "  warnings.warn(\n"
     ]
    },
    {
     "name": "stdout",
     "output_type": "stream",
     "text": [
      "https://www.nongsaro.go.kr//cms_contents/301/14695_MF_REPR_ATTACH_01.jpg\n"
     ]
    },
    {
     "name": "stderr",
     "output_type": "stream",
     "text": [
      "/Users/soojin/opt/anaconda3/lib/python3.8/site-packages/urllib3/connectionpool.py:981: InsecureRequestWarning: Unverified HTTPS request is being made to host 'www.nongsaro.go.kr'. Adding certificate verification is strongly advised. See: https://urllib3.readthedocs.io/en/latest/advanced-usage.html#ssl-warnings\n",
      "  warnings.warn(\n"
     ]
    },
    {
     "name": "stdout",
     "output_type": "stream",
     "text": [
      "https://www.nongsaro.go.kr//cms_contents/301/14699_MF_REPR_ATTACH_01.jpg\n"
     ]
    },
    {
     "name": "stderr",
     "output_type": "stream",
     "text": [
      "/Users/soojin/opt/anaconda3/lib/python3.8/site-packages/urllib3/connectionpool.py:981: InsecureRequestWarning: Unverified HTTPS request is being made to host 'www.nongsaro.go.kr'. Adding certificate verification is strongly advised. See: https://urllib3.readthedocs.io/en/latest/advanced-usage.html#ssl-warnings\n",
      "  warnings.warn(\n"
     ]
    },
    {
     "name": "stdout",
     "output_type": "stream",
     "text": [
      "https://www.nongsaro.go.kr//cms_contents/301/14700_MF_REPR_ATTACH_01.jpg\n"
     ]
    },
    {
     "name": "stderr",
     "output_type": "stream",
     "text": [
      "/Users/soojin/opt/anaconda3/lib/python3.8/site-packages/urllib3/connectionpool.py:981: InsecureRequestWarning: Unverified HTTPS request is being made to host 'www.nongsaro.go.kr'. Adding certificate verification is strongly advised. See: https://urllib3.readthedocs.io/en/latest/advanced-usage.html#ssl-warnings\n",
      "  warnings.warn(\n"
     ]
    },
    {
     "name": "stdout",
     "output_type": "stream",
     "text": [
      "https://www.nongsaro.go.kr//cms_contents/301/14713_MF_REPR_ATTACH_01.jpg\n"
     ]
    },
    {
     "name": "stderr",
     "output_type": "stream",
     "text": [
      "/Users/soojin/opt/anaconda3/lib/python3.8/site-packages/urllib3/connectionpool.py:981: InsecureRequestWarning: Unverified HTTPS request is being made to host 'www.nongsaro.go.kr'. Adding certificate verification is strongly advised. See: https://urllib3.readthedocs.io/en/latest/advanced-usage.html#ssl-warnings\n",
      "  warnings.warn(\n"
     ]
    },
    {
     "name": "stdout",
     "output_type": "stream",
     "text": [
      "https://www.nongsaro.go.kr//cms_contents/301/14911_MF_REPR_ATTACH_01.jpg\n"
     ]
    },
    {
     "name": "stderr",
     "output_type": "stream",
     "text": [
      "/Users/soojin/opt/anaconda3/lib/python3.8/site-packages/urllib3/connectionpool.py:981: InsecureRequestWarning: Unverified HTTPS request is being made to host 'www.nongsaro.go.kr'. Adding certificate verification is strongly advised. See: https://urllib3.readthedocs.io/en/latest/advanced-usage.html#ssl-warnings\n",
      "  warnings.warn(\n"
     ]
    },
    {
     "name": "stdout",
     "output_type": "stream",
     "text": [
      "https://www.nongsaro.go.kr//cms_contents/301/14913_MF_REPR_ATTACH_01.jpg\n"
     ]
    },
    {
     "name": "stderr",
     "output_type": "stream",
     "text": [
      "/Users/soojin/opt/anaconda3/lib/python3.8/site-packages/urllib3/connectionpool.py:981: InsecureRequestWarning: Unverified HTTPS request is being made to host 'www.nongsaro.go.kr'. Adding certificate verification is strongly advised. See: https://urllib3.readthedocs.io/en/latest/advanced-usage.html#ssl-warnings\n",
      "  warnings.warn(\n"
     ]
    },
    {
     "name": "stdout",
     "output_type": "stream",
     "text": [
      "https://www.nongsaro.go.kr//cms_contents/301/14920_MF_REPR_ATTACH_01.jpg\n"
     ]
    },
    {
     "name": "stderr",
     "output_type": "stream",
     "text": [
      "/Users/soojin/opt/anaconda3/lib/python3.8/site-packages/urllib3/connectionpool.py:981: InsecureRequestWarning: Unverified HTTPS request is being made to host 'www.nongsaro.go.kr'. Adding certificate verification is strongly advised. See: https://urllib3.readthedocs.io/en/latest/advanced-usage.html#ssl-warnings\n",
      "  warnings.warn(\n"
     ]
    },
    {
     "name": "stdout",
     "output_type": "stream",
     "text": [
      "https://www.nongsaro.go.kr//cms_contents/301/15830_MF_REPR_ATTACH_01.jpg\n"
     ]
    },
    {
     "name": "stderr",
     "output_type": "stream",
     "text": [
      "/Users/soojin/opt/anaconda3/lib/python3.8/site-packages/urllib3/connectionpool.py:981: InsecureRequestWarning: Unverified HTTPS request is being made to host 'www.nongsaro.go.kr'. Adding certificate verification is strongly advised. See: https://urllib3.readthedocs.io/en/latest/advanced-usage.html#ssl-warnings\n",
      "  warnings.warn(\n"
     ]
    },
    {
     "name": "stdout",
     "output_type": "stream",
     "text": [
      "https://www.nongsaro.go.kr//cms_contents/301/16034_MF_REPR_ATTACH_01.jpg\n"
     ]
    },
    {
     "name": "stderr",
     "output_type": "stream",
     "text": [
      "/Users/soojin/opt/anaconda3/lib/python3.8/site-packages/urllib3/connectionpool.py:981: InsecureRequestWarning: Unverified HTTPS request is being made to host 'www.nongsaro.go.kr'. Adding certificate verification is strongly advised. See: https://urllib3.readthedocs.io/en/latest/advanced-usage.html#ssl-warnings\n",
      "  warnings.warn(\n"
     ]
    },
    {
     "name": "stdout",
     "output_type": "stream",
     "text": [
      "https://www.nongsaro.go.kr//cms_contents/301/16038_MF_REPR_ATTACH_01.jpg\n"
     ]
    },
    {
     "name": "stderr",
     "output_type": "stream",
     "text": [
      "/Users/soojin/opt/anaconda3/lib/python3.8/site-packages/urllib3/connectionpool.py:981: InsecureRequestWarning: Unverified HTTPS request is being made to host 'www.nongsaro.go.kr'. Adding certificate verification is strongly advised. See: https://urllib3.readthedocs.io/en/latest/advanced-usage.html#ssl-warnings\n",
      "  warnings.warn(\n"
     ]
    },
    {
     "name": "stdout",
     "output_type": "stream",
     "text": [
      "https://www.nongsaro.go.kr//cms_contents/301/16238_MF_REPR_ATTACH_01.jpg\n"
     ]
    },
    {
     "name": "stderr",
     "output_type": "stream",
     "text": [
      "/Users/soojin/opt/anaconda3/lib/python3.8/site-packages/urllib3/connectionpool.py:981: InsecureRequestWarning: Unverified HTTPS request is being made to host 'www.nongsaro.go.kr'. Adding certificate verification is strongly advised. See: https://urllib3.readthedocs.io/en/latest/advanced-usage.html#ssl-warnings\n",
      "  warnings.warn(\n"
     ]
    },
    {
     "name": "stdout",
     "output_type": "stream",
     "text": [
      "https://www.nongsaro.go.kr//cms_contents/301/16239_MF_REPR_ATTACH_01.jpg\n"
     ]
    },
    {
     "name": "stderr",
     "output_type": "stream",
     "text": [
      "/Users/soojin/opt/anaconda3/lib/python3.8/site-packages/urllib3/connectionpool.py:981: InsecureRequestWarning: Unverified HTTPS request is being made to host 'www.nongsaro.go.kr'. Adding certificate verification is strongly advised. See: https://urllib3.readthedocs.io/en/latest/advanced-usage.html#ssl-warnings\n",
      "  warnings.warn(\n"
     ]
    },
    {
     "name": "stdout",
     "output_type": "stream",
     "text": [
      "https://www.nongsaro.go.kr//cms_contents/301/16241_MF_REPR_ATTACH_01.jpg\n"
     ]
    },
    {
     "name": "stderr",
     "output_type": "stream",
     "text": [
      "/Users/soojin/opt/anaconda3/lib/python3.8/site-packages/urllib3/connectionpool.py:981: InsecureRequestWarning: Unverified HTTPS request is being made to host 'www.nongsaro.go.kr'. Adding certificate verification is strongly advised. See: https://urllib3.readthedocs.io/en/latest/advanced-usage.html#ssl-warnings\n",
      "  warnings.warn(\n"
     ]
    },
    {
     "name": "stdout",
     "output_type": "stream",
     "text": [
      "https://www.nongsaro.go.kr//cms_contents/301/16245_MF_REPR_ATTACH_01.jpg\n"
     ]
    },
    {
     "name": "stderr",
     "output_type": "stream",
     "text": [
      "/Users/soojin/opt/anaconda3/lib/python3.8/site-packages/urllib3/connectionpool.py:981: InsecureRequestWarning: Unverified HTTPS request is being made to host 'www.nongsaro.go.kr'. Adding certificate verification is strongly advised. See: https://urllib3.readthedocs.io/en/latest/advanced-usage.html#ssl-warnings\n",
      "  warnings.warn(\n"
     ]
    },
    {
     "name": "stdout",
     "output_type": "stream",
     "text": [
      "https://www.nongsaro.go.kr//cms_contents/301/16246_MF_REPR_ATTACH_01.jpg\n"
     ]
    },
    {
     "name": "stderr",
     "output_type": "stream",
     "text": [
      "/Users/soojin/opt/anaconda3/lib/python3.8/site-packages/urllib3/connectionpool.py:981: InsecureRequestWarning: Unverified HTTPS request is being made to host 'www.nongsaro.go.kr'. Adding certificate verification is strongly advised. See: https://urllib3.readthedocs.io/en/latest/advanced-usage.html#ssl-warnings\n",
      "  warnings.warn(\n"
     ]
    },
    {
     "name": "stdout",
     "output_type": "stream",
     "text": [
      "https://www.nongsaro.go.kr//cms_contents/301/16448_MF_REPR_ATTACH_01.jpg\n"
     ]
    },
    {
     "name": "stderr",
     "output_type": "stream",
     "text": [
      "/Users/soojin/opt/anaconda3/lib/python3.8/site-packages/urllib3/connectionpool.py:981: InsecureRequestWarning: Unverified HTTPS request is being made to host 'www.nongsaro.go.kr'. Adding certificate verification is strongly advised. See: https://urllib3.readthedocs.io/en/latest/advanced-usage.html#ssl-warnings\n",
      "  warnings.warn(\n"
     ]
    },
    {
     "name": "stdout",
     "output_type": "stream",
     "text": [
      "https://www.nongsaro.go.kr//cms_contents/301/16449_MF_REPR_ATTACH_01.jpg\n"
     ]
    },
    {
     "name": "stderr",
     "output_type": "stream",
     "text": [
      "/Users/soojin/opt/anaconda3/lib/python3.8/site-packages/urllib3/connectionpool.py:981: InsecureRequestWarning: Unverified HTTPS request is being made to host 'www.nongsaro.go.kr'. Adding certificate verification is strongly advised. See: https://urllib3.readthedocs.io/en/latest/advanced-usage.html#ssl-warnings\n",
      "  warnings.warn(\n"
     ]
    },
    {
     "name": "stdout",
     "output_type": "stream",
     "text": [
      "https://www.nongsaro.go.kr//cms_contents/301/17749_MF_REPR_ATTACH_01.jpg\n"
     ]
    },
    {
     "name": "stderr",
     "output_type": "stream",
     "text": [
      "/Users/soojin/opt/anaconda3/lib/python3.8/site-packages/urllib3/connectionpool.py:981: InsecureRequestWarning: Unverified HTTPS request is being made to host 'www.nongsaro.go.kr'. Adding certificate verification is strongly advised. See: https://urllib3.readthedocs.io/en/latest/advanced-usage.html#ssl-warnings\n",
      "  warnings.warn(\n"
     ]
    },
    {
     "name": "stdout",
     "output_type": "stream",
     "text": [
      "https://www.nongsaro.go.kr//cms_contents/301/17750_MF_REPR_ATTACH_01.jpg\n"
     ]
    },
    {
     "name": "stderr",
     "output_type": "stream",
     "text": [
      "/Users/soojin/opt/anaconda3/lib/python3.8/site-packages/urllib3/connectionpool.py:981: InsecureRequestWarning: Unverified HTTPS request is being made to host 'www.nongsaro.go.kr'. Adding certificate verification is strongly advised. See: https://urllib3.readthedocs.io/en/latest/advanced-usage.html#ssl-warnings\n",
      "  warnings.warn(\n"
     ]
    },
    {
     "name": "stdout",
     "output_type": "stream",
     "text": [
      "https://www.nongsaro.go.kr//cms_contents/301/17751_MF_REPR_ATTACH_01.jpg\n"
     ]
    },
    {
     "name": "stderr",
     "output_type": "stream",
     "text": [
      "/Users/soojin/opt/anaconda3/lib/python3.8/site-packages/urllib3/connectionpool.py:981: InsecureRequestWarning: Unverified HTTPS request is being made to host 'www.nongsaro.go.kr'. Adding certificate verification is strongly advised. See: https://urllib3.readthedocs.io/en/latest/advanced-usage.html#ssl-warnings\n",
      "  warnings.warn(\n"
     ]
    },
    {
     "name": "stdout",
     "output_type": "stream",
     "text": [
      "https://www.nongsaro.go.kr//cms_contents/301/18575_MF_REPR_ATTACH_01.jpg\n"
     ]
    },
    {
     "name": "stderr",
     "output_type": "stream",
     "text": [
      "/Users/soojin/opt/anaconda3/lib/python3.8/site-packages/urllib3/connectionpool.py:981: InsecureRequestWarning: Unverified HTTPS request is being made to host 'www.nongsaro.go.kr'. Adding certificate verification is strongly advised. See: https://urllib3.readthedocs.io/en/latest/advanced-usage.html#ssl-warnings\n",
      "  warnings.warn(\n"
     ]
    },
    {
     "name": "stdout",
     "output_type": "stream",
     "text": [
      "https://www.nongsaro.go.kr//cms_contents/301/18576_MF_REPR_ATTACH_01.jpg\n"
     ]
    },
    {
     "name": "stderr",
     "output_type": "stream",
     "text": [
      "/Users/soojin/opt/anaconda3/lib/python3.8/site-packages/urllib3/connectionpool.py:981: InsecureRequestWarning: Unverified HTTPS request is being made to host 'www.nongsaro.go.kr'. Adding certificate verification is strongly advised. See: https://urllib3.readthedocs.io/en/latest/advanced-usage.html#ssl-warnings\n",
      "  warnings.warn(\n"
     ]
    },
    {
     "name": "stdout",
     "output_type": "stream",
     "text": [
      "https://www.nongsaro.go.kr//cms_contents/301/18593_MF_REPR_ATTACH_01.jpg\n"
     ]
    },
    {
     "name": "stderr",
     "output_type": "stream",
     "text": [
      "/Users/soojin/opt/anaconda3/lib/python3.8/site-packages/urllib3/connectionpool.py:981: InsecureRequestWarning: Unverified HTTPS request is being made to host 'www.nongsaro.go.kr'. Adding certificate verification is strongly advised. See: https://urllib3.readthedocs.io/en/latest/advanced-usage.html#ssl-warnings\n",
      "  warnings.warn(\n"
     ]
    },
    {
     "name": "stdout",
     "output_type": "stream",
     "text": [
      "https://www.nongsaro.go.kr//cms_contents/301/18596_MF_REPR_ATTACH_01.jpg\n"
     ]
    },
    {
     "name": "stderr",
     "output_type": "stream",
     "text": [
      "/Users/soojin/opt/anaconda3/lib/python3.8/site-packages/urllib3/connectionpool.py:981: InsecureRequestWarning: Unverified HTTPS request is being made to host 'www.nongsaro.go.kr'. Adding certificate verification is strongly advised. See: https://urllib3.readthedocs.io/en/latest/advanced-usage.html#ssl-warnings\n",
      "  warnings.warn(\n"
     ]
    },
    {
     "name": "stdout",
     "output_type": "stream",
     "text": [
      "https://www.nongsaro.go.kr//cms_contents/301/18597_MF_REPR_ATTACH_01.jpg\n"
     ]
    },
    {
     "name": "stderr",
     "output_type": "stream",
     "text": [
      "/Users/soojin/opt/anaconda3/lib/python3.8/site-packages/urllib3/connectionpool.py:981: InsecureRequestWarning: Unverified HTTPS request is being made to host 'www.nongsaro.go.kr'. Adding certificate verification is strongly advised. See: https://urllib3.readthedocs.io/en/latest/advanced-usage.html#ssl-warnings\n",
      "  warnings.warn(\n"
     ]
    },
    {
     "name": "stdout",
     "output_type": "stream",
     "text": [
      "https://www.nongsaro.go.kr//cms_contents/301/18599_MF_REPR_ATTACH_01.jpg\n"
     ]
    },
    {
     "name": "stderr",
     "output_type": "stream",
     "text": [
      "/Users/soojin/opt/anaconda3/lib/python3.8/site-packages/urllib3/connectionpool.py:981: InsecureRequestWarning: Unverified HTTPS request is being made to host 'www.nongsaro.go.kr'. Adding certificate verification is strongly advised. See: https://urllib3.readthedocs.io/en/latest/advanced-usage.html#ssl-warnings\n",
      "  warnings.warn(\n"
     ]
    },
    {
     "name": "stdout",
     "output_type": "stream",
     "text": [
      "https://www.nongsaro.go.kr//cms_contents/301/18600_MF_REPR_ATTACH_01.jpg\n"
     ]
    },
    {
     "name": "stderr",
     "output_type": "stream",
     "text": [
      "/Users/soojin/opt/anaconda3/lib/python3.8/site-packages/urllib3/connectionpool.py:981: InsecureRequestWarning: Unverified HTTPS request is being made to host 'www.nongsaro.go.kr'. Adding certificate verification is strongly advised. See: https://urllib3.readthedocs.io/en/latest/advanced-usage.html#ssl-warnings\n",
      "  warnings.warn(\n"
     ]
    },
    {
     "name": "stdout",
     "output_type": "stream",
     "text": [
      "https://www.nongsaro.go.kr//cms_contents/301/18602_MF_REPR_ATTACH_01.jpg\n"
     ]
    },
    {
     "name": "stderr",
     "output_type": "stream",
     "text": [
      "/Users/soojin/opt/anaconda3/lib/python3.8/site-packages/urllib3/connectionpool.py:981: InsecureRequestWarning: Unverified HTTPS request is being made to host 'www.nongsaro.go.kr'. Adding certificate verification is strongly advised. See: https://urllib3.readthedocs.io/en/latest/advanced-usage.html#ssl-warnings\n",
      "  warnings.warn(\n"
     ]
    },
    {
     "name": "stdout",
     "output_type": "stream",
     "text": [
      "https://www.nongsaro.go.kr//cms_contents/301/18604_MF_REPR_ATTACH_01.jpg\n"
     ]
    },
    {
     "name": "stderr",
     "output_type": "stream",
     "text": [
      "/Users/soojin/opt/anaconda3/lib/python3.8/site-packages/urllib3/connectionpool.py:981: InsecureRequestWarning: Unverified HTTPS request is being made to host 'www.nongsaro.go.kr'. Adding certificate verification is strongly advised. See: https://urllib3.readthedocs.io/en/latest/advanced-usage.html#ssl-warnings\n",
      "  warnings.warn(\n"
     ]
    },
    {
     "name": "stdout",
     "output_type": "stream",
     "text": [
      "https://www.nongsaro.go.kr//cms_contents/301/18649_MF_REPR_ATTACH_01.jpg\n"
     ]
    },
    {
     "name": "stderr",
     "output_type": "stream",
     "text": [
      "/Users/soojin/opt/anaconda3/lib/python3.8/site-packages/urllib3/connectionpool.py:981: InsecureRequestWarning: Unverified HTTPS request is being made to host 'www.nongsaro.go.kr'. Adding certificate verification is strongly advised. See: https://urllib3.readthedocs.io/en/latest/advanced-usage.html#ssl-warnings\n",
      "  warnings.warn(\n"
     ]
    },
    {
     "name": "stdout",
     "output_type": "stream",
     "text": [
      "https://www.nongsaro.go.kr//cms_contents/301/18656_MF_REPR_ATTACH_01.jpg\n"
     ]
    },
    {
     "name": "stderr",
     "output_type": "stream",
     "text": [
      "/Users/soojin/opt/anaconda3/lib/python3.8/site-packages/urllib3/connectionpool.py:981: InsecureRequestWarning: Unverified HTTPS request is being made to host 'www.nongsaro.go.kr'. Adding certificate verification is strongly advised. See: https://urllib3.readthedocs.io/en/latest/advanced-usage.html#ssl-warnings\n",
      "  warnings.warn(\n"
     ]
    },
    {
     "name": "stdout",
     "output_type": "stream",
     "text": [
      "https://www.nongsaro.go.kr//cms_contents/301/18659_MF_REPR_ATTACH_01.jpg\n"
     ]
    },
    {
     "name": "stderr",
     "output_type": "stream",
     "text": [
      "/Users/soojin/opt/anaconda3/lib/python3.8/site-packages/urllib3/connectionpool.py:981: InsecureRequestWarning: Unverified HTTPS request is being made to host 'www.nongsaro.go.kr'. Adding certificate verification is strongly advised. See: https://urllib3.readthedocs.io/en/latest/advanced-usage.html#ssl-warnings\n",
      "  warnings.warn(\n"
     ]
    },
    {
     "name": "stdout",
     "output_type": "stream",
     "text": [
      "https://www.nongsaro.go.kr//cms_contents/301/18694_MF_REPR_ATTACH_01.jpg\n"
     ]
    },
    {
     "name": "stderr",
     "output_type": "stream",
     "text": [
      "/Users/soojin/opt/anaconda3/lib/python3.8/site-packages/urllib3/connectionpool.py:981: InsecureRequestWarning: Unverified HTTPS request is being made to host 'www.nongsaro.go.kr'. Adding certificate verification is strongly advised. See: https://urllib3.readthedocs.io/en/latest/advanced-usage.html#ssl-warnings\n",
      "  warnings.warn(\n"
     ]
    },
    {
     "name": "stdout",
     "output_type": "stream",
     "text": [
      "https://www.nongsaro.go.kr//cms_contents/301/14915_MF_REPR_ATTACH_01.jpg\n"
     ]
    },
    {
     "name": "stderr",
     "output_type": "stream",
     "text": [
      "/Users/soojin/opt/anaconda3/lib/python3.8/site-packages/urllib3/connectionpool.py:981: InsecureRequestWarning: Unverified HTTPS request is being made to host 'www.nongsaro.go.kr'. Adding certificate verification is strongly advised. See: https://urllib3.readthedocs.io/en/latest/advanced-usage.html#ssl-warnings\n",
      "  warnings.warn(\n"
     ]
    },
    {
     "name": "stdout",
     "output_type": "stream",
     "text": [
      "https://www.nongsaro.go.kr//cms_contents/301/14916_MF_REPR_ATTACH_01.jpg\n"
     ]
    },
    {
     "name": "stderr",
     "output_type": "stream",
     "text": [
      "/Users/soojin/opt/anaconda3/lib/python3.8/site-packages/urllib3/connectionpool.py:981: InsecureRequestWarning: Unverified HTTPS request is being made to host 'www.nongsaro.go.kr'. Adding certificate verification is strongly advised. See: https://urllib3.readthedocs.io/en/latest/advanced-usage.html#ssl-warnings\n",
      "  warnings.warn(\n"
     ]
    },
    {
     "name": "stdout",
     "output_type": "stream",
     "text": [
      "https://www.nongsaro.go.kr//cms_contents/301/14919_MF_REPR_ATTACH_01.jpg\n"
     ]
    },
    {
     "name": "stderr",
     "output_type": "stream",
     "text": [
      "/Users/soojin/opt/anaconda3/lib/python3.8/site-packages/urllib3/connectionpool.py:981: InsecureRequestWarning: Unverified HTTPS request is being made to host 'www.nongsaro.go.kr'. Adding certificate verification is strongly advised. See: https://urllib3.readthedocs.io/en/latest/advanced-usage.html#ssl-warnings\n",
      "  warnings.warn(\n"
     ]
    },
    {
     "name": "stdout",
     "output_type": "stream",
     "text": [
      "https://www.nongsaro.go.kr//cms_contents/301/15828_MF_REPR_ATTACH_01.jpg\n"
     ]
    },
    {
     "name": "stderr",
     "output_type": "stream",
     "text": [
      "/Users/soojin/opt/anaconda3/lib/python3.8/site-packages/urllib3/connectionpool.py:981: InsecureRequestWarning: Unverified HTTPS request is being made to host 'www.nongsaro.go.kr'. Adding certificate verification is strongly advised. See: https://urllib3.readthedocs.io/en/latest/advanced-usage.html#ssl-warnings\n",
      "  warnings.warn(\n"
     ]
    },
    {
     "name": "stdout",
     "output_type": "stream",
     "text": [
      "https://www.nongsaro.go.kr//cms_contents/301/15831_MF_REPR_ATTACH_01.jpg\n"
     ]
    },
    {
     "name": "stderr",
     "output_type": "stream",
     "text": [
      "/Users/soojin/opt/anaconda3/lib/python3.8/site-packages/urllib3/connectionpool.py:981: InsecureRequestWarning: Unverified HTTPS request is being made to host 'www.nongsaro.go.kr'. Adding certificate verification is strongly advised. See: https://urllib3.readthedocs.io/en/latest/advanced-usage.html#ssl-warnings\n",
      "  warnings.warn(\n"
     ]
    },
    {
     "name": "stdout",
     "output_type": "stream",
     "text": [
      "https://www.nongsaro.go.kr//cms_contents/301/15835_MF_REPR_ATTACH_01.JPG\n"
     ]
    },
    {
     "name": "stderr",
     "output_type": "stream",
     "text": [
      "/Users/soojin/opt/anaconda3/lib/python3.8/site-packages/urllib3/connectionpool.py:981: InsecureRequestWarning: Unverified HTTPS request is being made to host 'www.nongsaro.go.kr'. Adding certificate verification is strongly advised. See: https://urllib3.readthedocs.io/en/latest/advanced-usage.html#ssl-warnings\n",
      "  warnings.warn(\n"
     ]
    },
    {
     "name": "stdout",
     "output_type": "stream",
     "text": [
      "https://www.nongsaro.go.kr//cms_contents/301/16037_MF_REPR_ATTACH_01.jpg\n"
     ]
    },
    {
     "name": "stderr",
     "output_type": "stream",
     "text": [
      "/Users/soojin/opt/anaconda3/lib/python3.8/site-packages/urllib3/connectionpool.py:981: InsecureRequestWarning: Unverified HTTPS request is being made to host 'www.nongsaro.go.kr'. Adding certificate verification is strongly advised. See: https://urllib3.readthedocs.io/en/latest/advanced-usage.html#ssl-warnings\n",
      "  warnings.warn(\n"
     ]
    },
    {
     "name": "stdout",
     "output_type": "stream",
     "text": [
      "https://www.nongsaro.go.kr//cms_contents/301/16138_MF_REPR_ATTACH_01.JPG\n"
     ]
    },
    {
     "name": "stderr",
     "output_type": "stream",
     "text": [
      "/Users/soojin/opt/anaconda3/lib/python3.8/site-packages/urllib3/connectionpool.py:981: InsecureRequestWarning: Unverified HTTPS request is being made to host 'www.nongsaro.go.kr'. Adding certificate verification is strongly advised. See: https://urllib3.readthedocs.io/en/latest/advanced-usage.html#ssl-warnings\n",
      "  warnings.warn(\n"
     ]
    },
    {
     "name": "stdout",
     "output_type": "stream",
     "text": [
      "https://www.nongsaro.go.kr//cms_contents/301/18613_MF_REPR_ATTACH_01.jpg\n"
     ]
    },
    {
     "name": "stderr",
     "output_type": "stream",
     "text": [
      "/Users/soojin/opt/anaconda3/lib/python3.8/site-packages/urllib3/connectionpool.py:981: InsecureRequestWarning: Unverified HTTPS request is being made to host 'www.nongsaro.go.kr'. Adding certificate verification is strongly advised. See: https://urllib3.readthedocs.io/en/latest/advanced-usage.html#ssl-warnings\n",
      "  warnings.warn(\n"
     ]
    },
    {
     "name": "stdout",
     "output_type": "stream",
     "text": [
      "https://www.nongsaro.go.kr//cms_contents/301/18652_MF_REPR_ATTACH_01.jpg\n"
     ]
    },
    {
     "name": "stderr",
     "output_type": "stream",
     "text": [
      "/Users/soojin/opt/anaconda3/lib/python3.8/site-packages/urllib3/connectionpool.py:981: InsecureRequestWarning: Unverified HTTPS request is being made to host 'www.nongsaro.go.kr'. Adding certificate verification is strongly advised. See: https://urllib3.readthedocs.io/en/latest/advanced-usage.html#ssl-warnings\n",
      "  warnings.warn(\n"
     ]
    },
    {
     "name": "stdout",
     "output_type": "stream",
     "text": [
      "https://www.nongsaro.go.kr//cms_contents/301/18655_MF_REPR_ATTACH_01.jpg\n"
     ]
    },
    {
     "name": "stderr",
     "output_type": "stream",
     "text": [
      "/Users/soojin/opt/anaconda3/lib/python3.8/site-packages/urllib3/connectionpool.py:981: InsecureRequestWarning: Unverified HTTPS request is being made to host 'www.nongsaro.go.kr'. Adding certificate verification is strongly advised. See: https://urllib3.readthedocs.io/en/latest/advanced-usage.html#ssl-warnings\n",
      "  warnings.warn(\n"
     ]
    },
    {
     "name": "stdout",
     "output_type": "stream",
     "text": [
      "https://www.nongsaro.go.kr//cms_contents/301/18695_MF_REPR_ATTACH_01.JPG\n"
     ]
    },
    {
     "name": "stderr",
     "output_type": "stream",
     "text": [
      "/Users/soojin/opt/anaconda3/lib/python3.8/site-packages/urllib3/connectionpool.py:981: InsecureRequestWarning: Unverified HTTPS request is being made to host 'www.nongsaro.go.kr'. Adding certificate verification is strongly advised. See: https://urllib3.readthedocs.io/en/latest/advanced-usage.html#ssl-warnings\n",
      "  warnings.warn(\n"
     ]
    },
    {
     "name": "stdout",
     "output_type": "stream",
     "text": [
      "https://www.nongsaro.go.kr//cms_contents/301/18697_MF_REPR_ATTACH_01.JPG\n"
     ]
    },
    {
     "name": "stderr",
     "output_type": "stream",
     "text": [
      "/Users/soojin/opt/anaconda3/lib/python3.8/site-packages/urllib3/connectionpool.py:981: InsecureRequestWarning: Unverified HTTPS request is being made to host 'www.nongsaro.go.kr'. Adding certificate verification is strongly advised. See: https://urllib3.readthedocs.io/en/latest/advanced-usage.html#ssl-warnings\n",
      "  warnings.warn(\n"
     ]
    },
    {
     "name": "stdout",
     "output_type": "stream",
     "text": [
      "https://www.nongsaro.go.kr//cms_contents/301/19448_MF_REPR_ATTACH_01.jpg\n"
     ]
    },
    {
     "name": "stderr",
     "output_type": "stream",
     "text": [
      "/Users/soojin/opt/anaconda3/lib/python3.8/site-packages/urllib3/connectionpool.py:981: InsecureRequestWarning: Unverified HTTPS request is being made to host 'www.nongsaro.go.kr'. Adding certificate verification is strongly advised. See: https://urllib3.readthedocs.io/en/latest/advanced-usage.html#ssl-warnings\n",
      "  warnings.warn(\n"
     ]
    },
    {
     "name": "stdout",
     "output_type": "stream",
     "text": [
      "https://www.nongsaro.go.kr//cms_contents/301/19449_MF_REPR_ATTACH_01.jpg\n"
     ]
    },
    {
     "name": "stderr",
     "output_type": "stream",
     "text": [
      "/Users/soojin/opt/anaconda3/lib/python3.8/site-packages/urllib3/connectionpool.py:981: InsecureRequestWarning: Unverified HTTPS request is being made to host 'www.nongsaro.go.kr'. Adding certificate verification is strongly advised. See: https://urllib3.readthedocs.io/en/latest/advanced-usage.html#ssl-warnings\n",
      "  warnings.warn(\n"
     ]
    },
    {
     "name": "stdout",
     "output_type": "stream",
     "text": [
      "https://www.nongsaro.go.kr//cms_contents/301/19451_MF_REPR_ATTACH_01.jpg\n"
     ]
    },
    {
     "name": "stderr",
     "output_type": "stream",
     "text": [
      "/Users/soojin/opt/anaconda3/lib/python3.8/site-packages/urllib3/connectionpool.py:981: InsecureRequestWarning: Unverified HTTPS request is being made to host 'www.nongsaro.go.kr'. Adding certificate verification is strongly advised. See: https://urllib3.readthedocs.io/en/latest/advanced-usage.html#ssl-warnings\n",
      "  warnings.warn(\n"
     ]
    },
    {
     "name": "stdout",
     "output_type": "stream",
     "text": [
      "https://www.nongsaro.go.kr//cms_contents/301/19452_MF_REPR_ATTACH_01.jpg\n"
     ]
    },
    {
     "name": "stderr",
     "output_type": "stream",
     "text": [
      "/Users/soojin/opt/anaconda3/lib/python3.8/site-packages/urllib3/connectionpool.py:981: InsecureRequestWarning: Unverified HTTPS request is being made to host 'www.nongsaro.go.kr'. Adding certificate verification is strongly advised. See: https://urllib3.readthedocs.io/en/latest/advanced-usage.html#ssl-warnings\n",
      "  warnings.warn(\n"
     ]
    },
    {
     "name": "stdout",
     "output_type": "stream",
     "text": [
      "https://www.nongsaro.go.kr//cms_contents/301/19453_MF_REPR_ATTACH_01.jpg\n"
     ]
    },
    {
     "name": "stderr",
     "output_type": "stream",
     "text": [
      "/Users/soojin/opt/anaconda3/lib/python3.8/site-packages/urllib3/connectionpool.py:981: InsecureRequestWarning: Unverified HTTPS request is being made to host 'www.nongsaro.go.kr'. Adding certificate verification is strongly advised. See: https://urllib3.readthedocs.io/en/latest/advanced-usage.html#ssl-warnings\n",
      "  warnings.warn(\n"
     ]
    },
    {
     "name": "stdout",
     "output_type": "stream",
     "text": [
      "https://www.nongsaro.go.kr//cms_contents/301/19455_MF_REPR_ATTACH_01.jpg\n"
     ]
    },
    {
     "name": "stderr",
     "output_type": "stream",
     "text": [
      "/Users/soojin/opt/anaconda3/lib/python3.8/site-packages/urllib3/connectionpool.py:981: InsecureRequestWarning: Unverified HTTPS request is being made to host 'www.nongsaro.go.kr'. Adding certificate verification is strongly advised. See: https://urllib3.readthedocs.io/en/latest/advanced-usage.html#ssl-warnings\n",
      "  warnings.warn(\n"
     ]
    },
    {
     "name": "stdout",
     "output_type": "stream",
     "text": [
      "https://www.nongsaro.go.kr//cms_contents/301/19457_MF_REPR_ATTACH_01.jpg\n"
     ]
    },
    {
     "name": "stderr",
     "output_type": "stream",
     "text": [
      "/Users/soojin/opt/anaconda3/lib/python3.8/site-packages/urllib3/connectionpool.py:981: InsecureRequestWarning: Unverified HTTPS request is being made to host 'www.nongsaro.go.kr'. Adding certificate verification is strongly advised. See: https://urllib3.readthedocs.io/en/latest/advanced-usage.html#ssl-warnings\n",
      "  warnings.warn(\n"
     ]
    },
    {
     "name": "stdout",
     "output_type": "stream",
     "text": [
      "https://www.nongsaro.go.kr//cms_contents/301/19460_MF_REPR_ATTACH_01.jpg\n"
     ]
    },
    {
     "name": "stderr",
     "output_type": "stream",
     "text": [
      "/Users/soojin/opt/anaconda3/lib/python3.8/site-packages/urllib3/connectionpool.py:981: InsecureRequestWarning: Unverified HTTPS request is being made to host 'www.nongsaro.go.kr'. Adding certificate verification is strongly advised. See: https://urllib3.readthedocs.io/en/latest/advanced-usage.html#ssl-warnings\n",
      "  warnings.warn(\n"
     ]
    },
    {
     "name": "stdout",
     "output_type": "stream",
     "text": [
      "https://www.nongsaro.go.kr//cms_contents/301/19663_MF_REPR_ATTACH_01.jpg\n"
     ]
    },
    {
     "name": "stderr",
     "output_type": "stream",
     "text": [
      "/Users/soojin/opt/anaconda3/lib/python3.8/site-packages/urllib3/connectionpool.py:981: InsecureRequestWarning: Unverified HTTPS request is being made to host 'www.nongsaro.go.kr'. Adding certificate verification is strongly advised. See: https://urllib3.readthedocs.io/en/latest/advanced-usage.html#ssl-warnings\n",
      "  warnings.warn(\n"
     ]
    },
    {
     "name": "stdout",
     "output_type": "stream",
     "text": [
      "https://www.nongsaro.go.kr//cms_contents/301/19696_MF_REPR_ATTACH_01.jpg\n"
     ]
    },
    {
     "name": "stderr",
     "output_type": "stream",
     "text": [
      "/Users/soojin/opt/anaconda3/lib/python3.8/site-packages/urllib3/connectionpool.py:981: InsecureRequestWarning: Unverified HTTPS request is being made to host 'www.nongsaro.go.kr'. Adding certificate verification is strongly advised. See: https://urllib3.readthedocs.io/en/latest/advanced-usage.html#ssl-warnings\n",
      "  warnings.warn(\n"
     ]
    },
    {
     "name": "stdout",
     "output_type": "stream",
     "text": [
      "https://www.nongsaro.go.kr//cms_contents/301/19701_MF_REPR_ATTACH_01.jpg\n"
     ]
    },
    {
     "name": "stderr",
     "output_type": "stream",
     "text": [
      "/Users/soojin/opt/anaconda3/lib/python3.8/site-packages/urllib3/connectionpool.py:981: InsecureRequestWarning: Unverified HTTPS request is being made to host 'www.nongsaro.go.kr'. Adding certificate verification is strongly advised. See: https://urllib3.readthedocs.io/en/latest/advanced-usage.html#ssl-warnings\n",
      "  warnings.warn(\n"
     ]
    },
    {
     "name": "stdout",
     "output_type": "stream",
     "text": [
      "https://www.nongsaro.go.kr//cms_contents/301/19703_MF_REPR_ATTACH_01.jpg\n"
     ]
    },
    {
     "name": "stderr",
     "output_type": "stream",
     "text": [
      "/Users/soojin/opt/anaconda3/lib/python3.8/site-packages/urllib3/connectionpool.py:981: InsecureRequestWarning: Unverified HTTPS request is being made to host 'www.nongsaro.go.kr'. Adding certificate verification is strongly advised. See: https://urllib3.readthedocs.io/en/latest/advanced-usage.html#ssl-warnings\n",
      "  warnings.warn(\n"
     ]
    },
    {
     "name": "stdout",
     "output_type": "stream",
     "text": [
      "https://www.nongsaro.go.kr//cms_contents/301/19704_MF_REPR_ATTACH_01.jpg\n"
     ]
    },
    {
     "name": "stderr",
     "output_type": "stream",
     "text": [
      "/Users/soojin/opt/anaconda3/lib/python3.8/site-packages/urllib3/connectionpool.py:981: InsecureRequestWarning: Unverified HTTPS request is being made to host 'www.nongsaro.go.kr'. Adding certificate verification is strongly advised. See: https://urllib3.readthedocs.io/en/latest/advanced-usage.html#ssl-warnings\n",
      "  warnings.warn(\n"
     ]
    },
    {
     "name": "stdout",
     "output_type": "stream",
     "text": [
      "https://www.nongsaro.go.kr//cms_contents/301/19706_MF_REPR_ATTACH_01.jpg\n"
     ]
    },
    {
     "name": "stderr",
     "output_type": "stream",
     "text": [
      "/Users/soojin/opt/anaconda3/lib/python3.8/site-packages/urllib3/connectionpool.py:981: InsecureRequestWarning: Unverified HTTPS request is being made to host 'www.nongsaro.go.kr'. Adding certificate verification is strongly advised. See: https://urllib3.readthedocs.io/en/latest/advanced-usage.html#ssl-warnings\n",
      "  warnings.warn(\n"
     ]
    },
    {
     "name": "stdout",
     "output_type": "stream",
     "text": [
      "https://www.nongsaro.go.kr//cms_contents/301/19709_MF_REPR_ATTACH_01.jpg\n"
     ]
    },
    {
     "name": "stderr",
     "output_type": "stream",
     "text": [
      "/Users/soojin/opt/anaconda3/lib/python3.8/site-packages/urllib3/connectionpool.py:981: InsecureRequestWarning: Unverified HTTPS request is being made to host 'www.nongsaro.go.kr'. Adding certificate verification is strongly advised. See: https://urllib3.readthedocs.io/en/latest/advanced-usage.html#ssl-warnings\n",
      "  warnings.warn(\n"
     ]
    },
    {
     "name": "stdout",
     "output_type": "stream",
     "text": [
      "https://www.nongsaro.go.kr//cms_contents/301/19711_MF_REPR_ATTACH_01.jpg\n"
     ]
    },
    {
     "name": "stderr",
     "output_type": "stream",
     "text": [
      "/Users/soojin/opt/anaconda3/lib/python3.8/site-packages/urllib3/connectionpool.py:981: InsecureRequestWarning: Unverified HTTPS request is being made to host 'www.nongsaro.go.kr'. Adding certificate verification is strongly advised. See: https://urllib3.readthedocs.io/en/latest/advanced-usage.html#ssl-warnings\n",
      "  warnings.warn(\n"
     ]
    },
    {
     "name": "stdout",
     "output_type": "stream",
     "text": [
      "https://www.nongsaro.go.kr//cms_contents/301/19713_MF_REPR_ATTACH_01.jpg\n"
     ]
    },
    {
     "name": "stderr",
     "output_type": "stream",
     "text": [
      "/Users/soojin/opt/anaconda3/lib/python3.8/site-packages/urllib3/connectionpool.py:981: InsecureRequestWarning: Unverified HTTPS request is being made to host 'www.nongsaro.go.kr'. Adding certificate verification is strongly advised. See: https://urllib3.readthedocs.io/en/latest/advanced-usage.html#ssl-warnings\n",
      "  warnings.warn(\n"
     ]
    },
    {
     "name": "stdout",
     "output_type": "stream",
     "text": [
      "https://www.nongsaro.go.kr//cms_contents/301/19715_MF_REPR_ATTACH_01.jpg\n"
     ]
    },
    {
     "name": "stderr",
     "output_type": "stream",
     "text": [
      "/Users/soojin/opt/anaconda3/lib/python3.8/site-packages/urllib3/connectionpool.py:981: InsecureRequestWarning: Unverified HTTPS request is being made to host 'www.nongsaro.go.kr'. Adding certificate verification is strongly advised. See: https://urllib3.readthedocs.io/en/latest/advanced-usage.html#ssl-warnings\n",
      "  warnings.warn(\n"
     ]
    },
    {
     "name": "stdout",
     "output_type": "stream",
     "text": [
      "https://www.nongsaro.go.kr//cms_contents/301/19716_MF_REPR_ATTACH_01.jpg\n"
     ]
    },
    {
     "name": "stderr",
     "output_type": "stream",
     "text": [
      "/Users/soojin/opt/anaconda3/lib/python3.8/site-packages/urllib3/connectionpool.py:981: InsecureRequestWarning: Unverified HTTPS request is being made to host 'www.nongsaro.go.kr'. Adding certificate verification is strongly advised. See: https://urllib3.readthedocs.io/en/latest/advanced-usage.html#ssl-warnings\n",
      "  warnings.warn(\n"
     ]
    },
    {
     "name": "stdout",
     "output_type": "stream",
     "text": [
      "https://www.nongsaro.go.kr//cms_contents/301/19717_MF_REPR_ATTACH_01.jpg\n"
     ]
    },
    {
     "name": "stderr",
     "output_type": "stream",
     "text": [
      "/Users/soojin/opt/anaconda3/lib/python3.8/site-packages/urllib3/connectionpool.py:981: InsecureRequestWarning: Unverified HTTPS request is being made to host 'www.nongsaro.go.kr'. Adding certificate verification is strongly advised. See: https://urllib3.readthedocs.io/en/latest/advanced-usage.html#ssl-warnings\n",
      "  warnings.warn(\n"
     ]
    },
    {
     "name": "stdout",
     "output_type": "stream",
     "text": [
      "https://www.nongsaro.go.kr//cms_contents/301/19718_MF_REPR_ATTACH_01.jpg\n"
     ]
    },
    {
     "name": "stderr",
     "output_type": "stream",
     "text": [
      "/Users/soojin/opt/anaconda3/lib/python3.8/site-packages/urllib3/connectionpool.py:981: InsecureRequestWarning: Unverified HTTPS request is being made to host 'www.nongsaro.go.kr'. Adding certificate verification is strongly advised. See: https://urllib3.readthedocs.io/en/latest/advanced-usage.html#ssl-warnings\n",
      "  warnings.warn(\n"
     ]
    },
    {
     "name": "stdout",
     "output_type": "stream",
     "text": [
      "https://www.nongsaro.go.kr//cms_contents/301/19719_MF_REPR_ATTACH_01.jpg\n"
     ]
    },
    {
     "name": "stderr",
     "output_type": "stream",
     "text": [
      "/Users/soojin/opt/anaconda3/lib/python3.8/site-packages/urllib3/connectionpool.py:981: InsecureRequestWarning: Unverified HTTPS request is being made to host 'www.nongsaro.go.kr'. Adding certificate verification is strongly advised. See: https://urllib3.readthedocs.io/en/latest/advanced-usage.html#ssl-warnings\n",
      "  warnings.warn(\n"
     ]
    },
    {
     "name": "stdout",
     "output_type": "stream",
     "text": [
      "https://www.nongsaro.go.kr//cms_contents/301/19707_MF_REPR_ATTACH_01.jpg\n"
     ]
    },
    {
     "name": "stderr",
     "output_type": "stream",
     "text": [
      "/Users/soojin/opt/anaconda3/lib/python3.8/site-packages/urllib3/connectionpool.py:981: InsecureRequestWarning: Unverified HTTPS request is being made to host 'www.nongsaro.go.kr'. Adding certificate verification is strongly advised. See: https://urllib3.readthedocs.io/en/latest/advanced-usage.html#ssl-warnings\n",
      "  warnings.warn(\n"
     ]
    },
    {
     "name": "stdout",
     "output_type": "stream",
     "text": [
      "https://www.nongsaro.go.kr//cms_contents/301/19712_MF_REPR_ATTACH_01.JPG\n"
     ]
    },
    {
     "name": "stderr",
     "output_type": "stream",
     "text": [
      "/Users/soojin/opt/anaconda3/lib/python3.8/site-packages/urllib3/connectionpool.py:981: InsecureRequestWarning: Unverified HTTPS request is being made to host 'www.nongsaro.go.kr'. Adding certificate verification is strongly advised. See: https://urllib3.readthedocs.io/en/latest/advanced-usage.html#ssl-warnings\n",
      "  warnings.warn(\n"
     ]
    },
    {
     "name": "stdout",
     "output_type": "stream",
     "text": [
      "https://www.nongsaro.go.kr//cms_contents/301/19714_MF_REPR_ATTACH_01.jpg\n"
     ]
    },
    {
     "name": "stderr",
     "output_type": "stream",
     "text": [
      "/Users/soojin/opt/anaconda3/lib/python3.8/site-packages/urllib3/connectionpool.py:981: InsecureRequestWarning: Unverified HTTPS request is being made to host 'www.nongsaro.go.kr'. Adding certificate verification is strongly advised. See: https://urllib3.readthedocs.io/en/latest/advanced-usage.html#ssl-warnings\n",
      "  warnings.warn(\n"
     ]
    },
    {
     "name": "stdout",
     "output_type": "stream",
     "text": [
      "https://www.nongsaro.go.kr//cms_contents/301/19469_MF_REPR_ATTACH_01.jpg\n"
     ]
    },
    {
     "name": "stderr",
     "output_type": "stream",
     "text": [
      "/Users/soojin/opt/anaconda3/lib/python3.8/site-packages/urllib3/connectionpool.py:981: InsecureRequestWarning: Unverified HTTPS request is being made to host 'www.nongsaro.go.kr'. Adding certificate verification is strongly advised. See: https://urllib3.readthedocs.io/en/latest/advanced-usage.html#ssl-warnings\n",
      "  warnings.warn(\n"
     ]
    },
    {
     "name": "stdout",
     "output_type": "stream",
     "text": [
      "https://www.nongsaro.go.kr//cms_contents/301/19468_MF_REPR_ATTACH_01.jpg\n"
     ]
    },
    {
     "name": "stderr",
     "output_type": "stream",
     "text": [
      "/Users/soojin/opt/anaconda3/lib/python3.8/site-packages/urllib3/connectionpool.py:981: InsecureRequestWarning: Unverified HTTPS request is being made to host 'www.nongsaro.go.kr'. Adding certificate verification is strongly advised. See: https://urllib3.readthedocs.io/en/latest/advanced-usage.html#ssl-warnings\n",
      "  warnings.warn(\n"
     ]
    },
    {
     "name": "stdout",
     "output_type": "stream",
     "text": [
      "https://www.nongsaro.go.kr//cms_contents/301/19467_MF_REPR_ATTACH_01.jpg\n"
     ]
    },
    {
     "name": "stderr",
     "output_type": "stream",
     "text": [
      "/Users/soojin/opt/anaconda3/lib/python3.8/site-packages/urllib3/connectionpool.py:981: InsecureRequestWarning: Unverified HTTPS request is being made to host 'www.nongsaro.go.kr'. Adding certificate verification is strongly advised. See: https://urllib3.readthedocs.io/en/latest/advanced-usage.html#ssl-warnings\n",
      "  warnings.warn(\n"
     ]
    },
    {
     "name": "stdout",
     "output_type": "stream",
     "text": [
      "https://www.nongsaro.go.kr//cms_contents/301/19466_MF_REPR_ATTACH_01.jpg\n"
     ]
    },
    {
     "name": "stderr",
     "output_type": "stream",
     "text": [
      "/Users/soojin/opt/anaconda3/lib/python3.8/site-packages/urllib3/connectionpool.py:981: InsecureRequestWarning: Unverified HTTPS request is being made to host 'www.nongsaro.go.kr'. Adding certificate verification is strongly advised. See: https://urllib3.readthedocs.io/en/latest/advanced-usage.html#ssl-warnings\n",
      "  warnings.warn(\n"
     ]
    },
    {
     "name": "stdout",
     "output_type": "stream",
     "text": [
      "https://www.nongsaro.go.kr//cms_contents/301/19465_MF_REPR_ATTACH_01.jpg\n"
     ]
    },
    {
     "name": "stderr",
     "output_type": "stream",
     "text": [
      "/Users/soojin/opt/anaconda3/lib/python3.8/site-packages/urllib3/connectionpool.py:981: InsecureRequestWarning: Unverified HTTPS request is being made to host 'www.nongsaro.go.kr'. Adding certificate verification is strongly advised. See: https://urllib3.readthedocs.io/en/latest/advanced-usage.html#ssl-warnings\n",
      "  warnings.warn(\n"
     ]
    },
    {
     "name": "stdout",
     "output_type": "stream",
     "text": [
      "https://www.nongsaro.go.kr//cms_contents/301/19470_MF_REPR_ATTACH_01.jpg\n"
     ]
    },
    {
     "name": "stderr",
     "output_type": "stream",
     "text": [
      "/Users/soojin/opt/anaconda3/lib/python3.8/site-packages/urllib3/connectionpool.py:981: InsecureRequestWarning: Unverified HTTPS request is being made to host 'www.nongsaro.go.kr'. Adding certificate verification is strongly advised. See: https://urllib3.readthedocs.io/en/latest/advanced-usage.html#ssl-warnings\n",
      "  warnings.warn(\n"
     ]
    },
    {
     "name": "stdout",
     "output_type": "stream",
     "text": [
      "https://www.nongsaro.go.kr//cms_contents/301/19464_MF_REPR_ATTACH_01.jpg\n"
     ]
    },
    {
     "name": "stderr",
     "output_type": "stream",
     "text": [
      "/Users/soojin/opt/anaconda3/lib/python3.8/site-packages/urllib3/connectionpool.py:981: InsecureRequestWarning: Unverified HTTPS request is being made to host 'www.nongsaro.go.kr'. Adding certificate verification is strongly advised. See: https://urllib3.readthedocs.io/en/latest/advanced-usage.html#ssl-warnings\n",
      "  warnings.warn(\n"
     ]
    },
    {
     "name": "stdout",
     "output_type": "stream",
     "text": [
      "https://www.nongsaro.go.kr//cms_contents/301/19463_MF_REPR_ATTACH_01.jpg\n"
     ]
    },
    {
     "name": "stderr",
     "output_type": "stream",
     "text": [
      "/Users/soojin/opt/anaconda3/lib/python3.8/site-packages/urllib3/connectionpool.py:981: InsecureRequestWarning: Unverified HTTPS request is being made to host 'www.nongsaro.go.kr'. Adding certificate verification is strongly advised. See: https://urllib3.readthedocs.io/en/latest/advanced-usage.html#ssl-warnings\n",
      "  warnings.warn(\n"
     ]
    },
    {
     "name": "stdout",
     "output_type": "stream",
     "text": [
      "https://www.nongsaro.go.kr//cms_contents/301/19462_MF_REPR_ATTACH_01.jpg\n"
     ]
    },
    {
     "name": "stderr",
     "output_type": "stream",
     "text": [
      "/Users/soojin/opt/anaconda3/lib/python3.8/site-packages/urllib3/connectionpool.py:981: InsecureRequestWarning: Unverified HTTPS request is being made to host 'www.nongsaro.go.kr'. Adding certificate verification is strongly advised. See: https://urllib3.readthedocs.io/en/latest/advanced-usage.html#ssl-warnings\n",
      "  warnings.warn(\n"
     ]
    },
    {
     "name": "stdout",
     "output_type": "stream",
     "text": [
      "https://www.nongsaro.go.kr//cms_contents/301/19461_MF_REPR_ATTACH_01.jpg\n"
     ]
    },
    {
     "name": "stderr",
     "output_type": "stream",
     "text": [
      "/Users/soojin/opt/anaconda3/lib/python3.8/site-packages/urllib3/connectionpool.py:981: InsecureRequestWarning: Unverified HTTPS request is being made to host 'www.nongsaro.go.kr'. Adding certificate verification is strongly advised. See: https://urllib3.readthedocs.io/en/latest/advanced-usage.html#ssl-warnings\n",
      "  warnings.warn(\n"
     ]
    },
    {
     "name": "stdout",
     "output_type": "stream",
     "text": [
      "https://www.nongsaro.go.kr//cms_contents/301/19459_MF_REPR_ATTACH_01.jpg\n"
     ]
    },
    {
     "name": "stderr",
     "output_type": "stream",
     "text": [
      "/Users/soojin/opt/anaconda3/lib/python3.8/site-packages/urllib3/connectionpool.py:981: InsecureRequestWarning: Unverified HTTPS request is being made to host 'www.nongsaro.go.kr'. Adding certificate verification is strongly advised. See: https://urllib3.readthedocs.io/en/latest/advanced-usage.html#ssl-warnings\n",
      "  warnings.warn(\n"
     ]
    },
    {
     "name": "stdout",
     "output_type": "stream",
     "text": [
      "https://www.nongsaro.go.kr//cms_contents/301/18691_MF_REPR_ATTACH_01.gif\n"
     ]
    },
    {
     "name": "stderr",
     "output_type": "stream",
     "text": [
      "/Users/soojin/opt/anaconda3/lib/python3.8/site-packages/urllib3/connectionpool.py:981: InsecureRequestWarning: Unverified HTTPS request is being made to host 'www.nongsaro.go.kr'. Adding certificate verification is strongly advised. See: https://urllib3.readthedocs.io/en/latest/advanced-usage.html#ssl-warnings\n",
      "  warnings.warn(\n"
     ]
    },
    {
     "name": "stdout",
     "output_type": "stream",
     "text": [
      "https://www.nongsaro.go.kr//cms_contents/301/18660_MF_REPR_ATTACH_01.jpg\n"
     ]
    },
    {
     "name": "stderr",
     "output_type": "stream",
     "text": [
      "/Users/soojin/opt/anaconda3/lib/python3.8/site-packages/urllib3/connectionpool.py:981: InsecureRequestWarning: Unverified HTTPS request is being made to host 'www.nongsaro.go.kr'. Adding certificate verification is strongly advised. See: https://urllib3.readthedocs.io/en/latest/advanced-usage.html#ssl-warnings\n",
      "  warnings.warn(\n"
     ]
    },
    {
     "name": "stdout",
     "output_type": "stream",
     "text": [
      "https://www.nongsaro.go.kr//cms_contents/301/18658_MF_REPR_ATTACH_01.jpg\n"
     ]
    },
    {
     "name": "stderr",
     "output_type": "stream",
     "text": [
      "/Users/soojin/opt/anaconda3/lib/python3.8/site-packages/urllib3/connectionpool.py:981: InsecureRequestWarning: Unverified HTTPS request is being made to host 'www.nongsaro.go.kr'. Adding certificate verification is strongly advised. See: https://urllib3.readthedocs.io/en/latest/advanced-usage.html#ssl-warnings\n",
      "  warnings.warn(\n"
     ]
    },
    {
     "name": "stdout",
     "output_type": "stream",
     "text": [
      "https://www.nongsaro.go.kr//cms_contents/301/19471_MF_REPR_ATTACH_02.jpg\n"
     ]
    },
    {
     "name": "stderr",
     "output_type": "stream",
     "text": [
      "/Users/soojin/opt/anaconda3/lib/python3.8/site-packages/urllib3/connectionpool.py:981: InsecureRequestWarning: Unverified HTTPS request is being made to host 'www.nongsaro.go.kr'. Adding certificate verification is strongly advised. See: https://urllib3.readthedocs.io/en/latest/advanced-usage.html#ssl-warnings\n",
      "  warnings.warn(\n"
     ]
    },
    {
     "name": "stdout",
     "output_type": "stream",
     "text": [
      "https://www.nongsaro.go.kr//cms_contents/301/18657_MF_REPR_ATTACH_01.jpg\n"
     ]
    },
    {
     "name": "stderr",
     "output_type": "stream",
     "text": [
      "/Users/soojin/opt/anaconda3/lib/python3.8/site-packages/urllib3/connectionpool.py:981: InsecureRequestWarning: Unverified HTTPS request is being made to host 'www.nongsaro.go.kr'. Adding certificate verification is strongly advised. See: https://urllib3.readthedocs.io/en/latest/advanced-usage.html#ssl-warnings\n",
      "  warnings.warn(\n"
     ]
    },
    {
     "name": "stdout",
     "output_type": "stream",
     "text": [
      "https://www.nongsaro.go.kr//cms_contents/301/18654_MF_REPR_ATTACH_01.jpg\n"
     ]
    },
    {
     "name": "stderr",
     "output_type": "stream",
     "text": [
      "/Users/soojin/opt/anaconda3/lib/python3.8/site-packages/urllib3/connectionpool.py:981: InsecureRequestWarning: Unverified HTTPS request is being made to host 'www.nongsaro.go.kr'. Adding certificate verification is strongly advised. See: https://urllib3.readthedocs.io/en/latest/advanced-usage.html#ssl-warnings\n",
      "  warnings.warn(\n"
     ]
    },
    {
     "name": "stdout",
     "output_type": "stream",
     "text": [
      "https://www.nongsaro.go.kr//cms_contents/301/18601_MF_REPR_ATTACH_01.jpg\n"
     ]
    },
    {
     "name": "stderr",
     "output_type": "stream",
     "text": [
      "/Users/soojin/opt/anaconda3/lib/python3.8/site-packages/urllib3/connectionpool.py:981: InsecureRequestWarning: Unverified HTTPS request is being made to host 'www.nongsaro.go.kr'. Adding certificate verification is strongly advised. See: https://urllib3.readthedocs.io/en/latest/advanced-usage.html#ssl-warnings\n",
      "  warnings.warn(\n"
     ]
    },
    {
     "name": "stdout",
     "output_type": "stream",
     "text": [
      "https://www.nongsaro.go.kr//cms_contents/301/18598_MF_REPR_ATTACH_01.jpg\n"
     ]
    },
    {
     "name": "stderr",
     "output_type": "stream",
     "text": [
      "/Users/soojin/opt/anaconda3/lib/python3.8/site-packages/urllib3/connectionpool.py:981: InsecureRequestWarning: Unverified HTTPS request is being made to host 'www.nongsaro.go.kr'. Adding certificate verification is strongly advised. See: https://urllib3.readthedocs.io/en/latest/advanced-usage.html#ssl-warnings\n",
      "  warnings.warn(\n"
     ]
    },
    {
     "name": "stdout",
     "output_type": "stream",
     "text": [
      "https://www.nongsaro.go.kr//cms_contents/301/18595_MF_REPR_ATTACH_01.jpg\n"
     ]
    },
    {
     "name": "stderr",
     "output_type": "stream",
     "text": [
      "/Users/soojin/opt/anaconda3/lib/python3.8/site-packages/urllib3/connectionpool.py:981: InsecureRequestWarning: Unverified HTTPS request is being made to host 'www.nongsaro.go.kr'. Adding certificate verification is strongly advised. See: https://urllib3.readthedocs.io/en/latest/advanced-usage.html#ssl-warnings\n",
      "  warnings.warn(\n"
     ]
    },
    {
     "name": "stdout",
     "output_type": "stream",
     "text": [
      "https://www.nongsaro.go.kr//cms_contents/301/18591_MF_REPR_ATTACH_01.jpg\n"
     ]
    },
    {
     "name": "stderr",
     "output_type": "stream",
     "text": [
      "/Users/soojin/opt/anaconda3/lib/python3.8/site-packages/urllib3/connectionpool.py:981: InsecureRequestWarning: Unverified HTTPS request is being made to host 'www.nongsaro.go.kr'. Adding certificate verification is strongly advised. See: https://urllib3.readthedocs.io/en/latest/advanced-usage.html#ssl-warnings\n",
      "  warnings.warn(\n"
     ]
    },
    {
     "name": "stdout",
     "output_type": "stream",
     "text": [
      "https://www.nongsaro.go.kr//cms_contents/301/19474_MF_REPR_ATTACH_01.jpg\n"
     ]
    },
    {
     "name": "stderr",
     "output_type": "stream",
     "text": [
      "/Users/soojin/opt/anaconda3/lib/python3.8/site-packages/urllib3/connectionpool.py:981: InsecureRequestWarning: Unverified HTTPS request is being made to host 'www.nongsaro.go.kr'. Adding certificate verification is strongly advised. See: https://urllib3.readthedocs.io/en/latest/advanced-usage.html#ssl-warnings\n",
      "  warnings.warn(\n"
     ]
    },
    {
     "name": "stdout",
     "output_type": "stream",
     "text": [
      "https://www.nongsaro.go.kr//cms_contents/301/18589_MF_REPR_ATTACH_01.jpg\n"
     ]
    },
    {
     "name": "stderr",
     "output_type": "stream",
     "text": [
      "/Users/soojin/opt/anaconda3/lib/python3.8/site-packages/urllib3/connectionpool.py:981: InsecureRequestWarning: Unverified HTTPS request is being made to host 'www.nongsaro.go.kr'. Adding certificate verification is strongly advised. See: https://urllib3.readthedocs.io/en/latest/advanced-usage.html#ssl-warnings\n",
      "  warnings.warn(\n"
     ]
    },
    {
     "name": "stdout",
     "output_type": "stream",
     "text": [
      "https://www.nongsaro.go.kr//cms_contents/301/18588_MF_REPR_ATTACH_01.jpg\n"
     ]
    },
    {
     "name": "stderr",
     "output_type": "stream",
     "text": [
      "/Users/soojin/opt/anaconda3/lib/python3.8/site-packages/urllib3/connectionpool.py:981: InsecureRequestWarning: Unverified HTTPS request is being made to host 'www.nongsaro.go.kr'. Adding certificate verification is strongly advised. See: https://urllib3.readthedocs.io/en/latest/advanced-usage.html#ssl-warnings\n",
      "  warnings.warn(\n"
     ]
    },
    {
     "name": "stdout",
     "output_type": "stream",
     "text": [
      "https://www.nongsaro.go.kr//cms_contents/301/18587_MF_REPR_ATTACH_01.jpg\n"
     ]
    },
    {
     "name": "stderr",
     "output_type": "stream",
     "text": [
      "/Users/soojin/opt/anaconda3/lib/python3.8/site-packages/urllib3/connectionpool.py:981: InsecureRequestWarning: Unverified HTTPS request is being made to host 'www.nongsaro.go.kr'. Adding certificate verification is strongly advised. See: https://urllib3.readthedocs.io/en/latest/advanced-usage.html#ssl-warnings\n",
      "  warnings.warn(\n"
     ]
    },
    {
     "name": "stdout",
     "output_type": "stream",
     "text": [
      "https://www.nongsaro.go.kr//cms_contents/301/18585_MF_REPR_ATTACH_01.jpg\n"
     ]
    },
    {
     "name": "stderr",
     "output_type": "stream",
     "text": [
      "/Users/soojin/opt/anaconda3/lib/python3.8/site-packages/urllib3/connectionpool.py:981: InsecureRequestWarning: Unverified HTTPS request is being made to host 'www.nongsaro.go.kr'. Adding certificate verification is strongly advised. See: https://urllib3.readthedocs.io/en/latest/advanced-usage.html#ssl-warnings\n",
      "  warnings.warn(\n"
     ]
    },
    {
     "name": "stdout",
     "output_type": "stream",
     "text": [
      "https://www.nongsaro.go.kr//cms_contents/301/18582_MF_REPR_ATTACH_01.jpg\n"
     ]
    },
    {
     "name": "stderr",
     "output_type": "stream",
     "text": [
      "/Users/soojin/opt/anaconda3/lib/python3.8/site-packages/urllib3/connectionpool.py:981: InsecureRequestWarning: Unverified HTTPS request is being made to host 'www.nongsaro.go.kr'. Adding certificate verification is strongly advised. See: https://urllib3.readthedocs.io/en/latest/advanced-usage.html#ssl-warnings\n",
      "  warnings.warn(\n"
     ]
    },
    {
     "name": "stdout",
     "output_type": "stream",
     "text": [
      "https://www.nongsaro.go.kr//cms_contents/301/18581_MF_REPR_ATTACH_01.jpg\n"
     ]
    },
    {
     "name": "stderr",
     "output_type": "stream",
     "text": [
      "/Users/soojin/opt/anaconda3/lib/python3.8/site-packages/urllib3/connectionpool.py:981: InsecureRequestWarning: Unverified HTTPS request is being made to host 'www.nongsaro.go.kr'. Adding certificate verification is strongly advised. See: https://urllib3.readthedocs.io/en/latest/advanced-usage.html#ssl-warnings\n",
      "  warnings.warn(\n"
     ]
    },
    {
     "name": "stdout",
     "output_type": "stream",
     "text": [
      "https://www.nongsaro.go.kr//cms_contents/301/18578_MF_REPR_ATTACH_01.jpg\n"
     ]
    },
    {
     "name": "stderr",
     "output_type": "stream",
     "text": [
      "/Users/soojin/opt/anaconda3/lib/python3.8/site-packages/urllib3/connectionpool.py:981: InsecureRequestWarning: Unverified HTTPS request is being made to host 'www.nongsaro.go.kr'. Adding certificate verification is strongly advised. See: https://urllib3.readthedocs.io/en/latest/advanced-usage.html#ssl-warnings\n",
      "  warnings.warn(\n"
     ]
    },
    {
     "name": "stdout",
     "output_type": "stream",
     "text": [
      "https://www.nongsaro.go.kr//cms_contents/301/17748_MF_REPR_ATTACH_01.jpg\n"
     ]
    },
    {
     "name": "stderr",
     "output_type": "stream",
     "text": [
      "/Users/soojin/opt/anaconda3/lib/python3.8/site-packages/urllib3/connectionpool.py:981: InsecureRequestWarning: Unverified HTTPS request is being made to host 'www.nongsaro.go.kr'. Adding certificate verification is strongly advised. See: https://urllib3.readthedocs.io/en/latest/advanced-usage.html#ssl-warnings\n",
      "  warnings.warn(\n"
     ]
    },
    {
     "name": "stdout",
     "output_type": "stream",
     "text": [
      "https://www.nongsaro.go.kr//cms_contents/301/17741_MF_REPR_ATTACH_01.jpg\n"
     ]
    },
    {
     "name": "stderr",
     "output_type": "stream",
     "text": [
      "/Users/soojin/opt/anaconda3/lib/python3.8/site-packages/urllib3/connectionpool.py:981: InsecureRequestWarning: Unverified HTTPS request is being made to host 'www.nongsaro.go.kr'. Adding certificate verification is strongly advised. See: https://urllib3.readthedocs.io/en/latest/advanced-usage.html#ssl-warnings\n",
      "  warnings.warn(\n"
     ]
    },
    {
     "name": "stdout",
     "output_type": "stream",
     "text": [
      "https://www.nongsaro.go.kr//cms_contents/301/17393_MF_REPR_ATTACH_01.jpg\n"
     ]
    },
    {
     "name": "stderr",
     "output_type": "stream",
     "text": [
      "/Users/soojin/opt/anaconda3/lib/python3.8/site-packages/urllib3/connectionpool.py:981: InsecureRequestWarning: Unverified HTTPS request is being made to host 'www.nongsaro.go.kr'. Adding certificate verification is strongly advised. See: https://urllib3.readthedocs.io/en/latest/advanced-usage.html#ssl-warnings\n",
      "  warnings.warn(\n"
     ]
    },
    {
     "name": "stdout",
     "output_type": "stream",
     "text": [
      "https://www.nongsaro.go.kr//cms_contents/301/16450_MF_REPR_ATTACH_01.jpg\n"
     ]
    },
    {
     "name": "stderr",
     "output_type": "stream",
     "text": [
      "/Users/soojin/opt/anaconda3/lib/python3.8/site-packages/urllib3/connectionpool.py:981: InsecureRequestWarning: Unverified HTTPS request is being made to host 'www.nongsaro.go.kr'. Adding certificate verification is strongly advised. See: https://urllib3.readthedocs.io/en/latest/advanced-usage.html#ssl-warnings\n",
      "  warnings.warn(\n"
     ]
    },
    {
     "name": "stdout",
     "output_type": "stream",
     "text": [
      "https://www.nongsaro.go.kr//cms_contents/301/16447_MF_REPR_ATTACH_01.jpg\n"
     ]
    },
    {
     "name": "stderr",
     "output_type": "stream",
     "text": [
      "/Users/soojin/opt/anaconda3/lib/python3.8/site-packages/urllib3/connectionpool.py:981: InsecureRequestWarning: Unverified HTTPS request is being made to host 'www.nongsaro.go.kr'. Adding certificate verification is strongly advised. See: https://urllib3.readthedocs.io/en/latest/advanced-usage.html#ssl-warnings\n",
      "  warnings.warn(\n"
     ]
    },
    {
     "name": "stdout",
     "output_type": "stream",
     "text": [
      "https://www.nongsaro.go.kr//cms_contents/301/16248_MF_REPR_ATTACH_01.jpg\n"
     ]
    },
    {
     "name": "stderr",
     "output_type": "stream",
     "text": [
      "/Users/soojin/opt/anaconda3/lib/python3.8/site-packages/urllib3/connectionpool.py:981: InsecureRequestWarning: Unverified HTTPS request is being made to host 'www.nongsaro.go.kr'. Adding certificate verification is strongly advised. See: https://urllib3.readthedocs.io/en/latest/advanced-usage.html#ssl-warnings\n",
      "  warnings.warn(\n"
     ]
    },
    {
     "name": "stdout",
     "output_type": "stream",
     "text": [
      "https://www.nongsaro.go.kr//cms_contents/301/16242_MF_REPR_ATTACH_01.jpg\n"
     ]
    },
    {
     "name": "stderr",
     "output_type": "stream",
     "text": [
      "/Users/soojin/opt/anaconda3/lib/python3.8/site-packages/urllib3/connectionpool.py:981: InsecureRequestWarning: Unverified HTTPS request is being made to host 'www.nongsaro.go.kr'. Adding certificate verification is strongly advised. See: https://urllib3.readthedocs.io/en/latest/advanced-usage.html#ssl-warnings\n",
      "  warnings.warn(\n"
     ]
    },
    {
     "name": "stdout",
     "output_type": "stream",
     "text": [
      "https://www.nongsaro.go.kr//cms_contents/301/16036_MF_REPR_ATTACH_01.jpg\n"
     ]
    },
    {
     "name": "stderr",
     "output_type": "stream",
     "text": [
      "/Users/soojin/opt/anaconda3/lib/python3.8/site-packages/urllib3/connectionpool.py:981: InsecureRequestWarning: Unverified HTTPS request is being made to host 'www.nongsaro.go.kr'. Adding certificate verification is strongly advised. See: https://urllib3.readthedocs.io/en/latest/advanced-usage.html#ssl-warnings\n",
      "  warnings.warn(\n"
     ]
    },
    {
     "name": "stdout",
     "output_type": "stream",
     "text": [
      "https://www.nongsaro.go.kr//cms_contents/301/16035_MF_REPR_ATTACH_01.jpg\n"
     ]
    },
    {
     "name": "stderr",
     "output_type": "stream",
     "text": [
      "/Users/soojin/opt/anaconda3/lib/python3.8/site-packages/urllib3/connectionpool.py:981: InsecureRequestWarning: Unverified HTTPS request is being made to host 'www.nongsaro.go.kr'. Adding certificate verification is strongly advised. See: https://urllib3.readthedocs.io/en/latest/advanced-usage.html#ssl-warnings\n",
      "  warnings.warn(\n"
     ]
    },
    {
     "name": "stdout",
     "output_type": "stream",
     "text": [
      "https://www.nongsaro.go.kr//cms_contents/301/16033_MF_REPR_ATTACH_01.jpg\n"
     ]
    },
    {
     "name": "stderr",
     "output_type": "stream",
     "text": [
      "/Users/soojin/opt/anaconda3/lib/python3.8/site-packages/urllib3/connectionpool.py:981: InsecureRequestWarning: Unverified HTTPS request is being made to host 'www.nongsaro.go.kr'. Adding certificate verification is strongly advised. See: https://urllib3.readthedocs.io/en/latest/advanced-usage.html#ssl-warnings\n",
      "  warnings.warn(\n"
     ]
    },
    {
     "name": "stdout",
     "output_type": "stream",
     "text": [
      "https://www.nongsaro.go.kr//cms_contents/301/15834_MF_REPR_ATTACH_01.jpg\n"
     ]
    },
    {
     "name": "stderr",
     "output_type": "stream",
     "text": [
      "/Users/soojin/opt/anaconda3/lib/python3.8/site-packages/urllib3/connectionpool.py:981: InsecureRequestWarning: Unverified HTTPS request is being made to host 'www.nongsaro.go.kr'. Adding certificate verification is strongly advised. See: https://urllib3.readthedocs.io/en/latest/advanced-usage.html#ssl-warnings\n",
      "  warnings.warn(\n"
     ]
    },
    {
     "name": "stdout",
     "output_type": "stream",
     "text": [
      "https://www.nongsaro.go.kr//cms_contents/301/12991_MF_REPR_ATTACH_01.jpg\n"
     ]
    },
    {
     "name": "stderr",
     "output_type": "stream",
     "text": [
      "/Users/soojin/opt/anaconda3/lib/python3.8/site-packages/urllib3/connectionpool.py:981: InsecureRequestWarning: Unverified HTTPS request is being made to host 'www.nongsaro.go.kr'. Adding certificate verification is strongly advised. See: https://urllib3.readthedocs.io/en/latest/advanced-usage.html#ssl-warnings\n",
      "  warnings.warn(\n"
     ]
    },
    {
     "name": "stdout",
     "output_type": "stream",
     "text": [
      "https://www.nongsaro.go.kr//cms_contents/301/12989_MF_REPR_ATTACH_01.jpg\n"
     ]
    },
    {
     "name": "stderr",
     "output_type": "stream",
     "text": [
      "/Users/soojin/opt/anaconda3/lib/python3.8/site-packages/urllib3/connectionpool.py:981: InsecureRequestWarning: Unverified HTTPS request is being made to host 'www.nongsaro.go.kr'. Adding certificate verification is strongly advised. See: https://urllib3.readthedocs.io/en/latest/advanced-usage.html#ssl-warnings\n",
      "  warnings.warn(\n"
     ]
    },
    {
     "name": "stdout",
     "output_type": "stream",
     "text": [
      "https://www.nongsaro.go.kr//cms_contents/301/15829_MF_REPR_ATTACH_01.jpg\n"
     ]
    },
    {
     "name": "stderr",
     "output_type": "stream",
     "text": [
      "/Users/soojin/opt/anaconda3/lib/python3.8/site-packages/urllib3/connectionpool.py:981: InsecureRequestWarning: Unverified HTTPS request is being made to host 'www.nongsaro.go.kr'. Adding certificate verification is strongly advised. See: https://urllib3.readthedocs.io/en/latest/advanced-usage.html#ssl-warnings\n",
      "  warnings.warn(\n"
     ]
    },
    {
     "name": "stdout",
     "output_type": "stream",
     "text": [
      "https://www.nongsaro.go.kr//cms_contents/301/14918_MF_REPR_ATTACH_01.jpg\n"
     ]
    },
    {
     "name": "stderr",
     "output_type": "stream",
     "text": [
      "/Users/soojin/opt/anaconda3/lib/python3.8/site-packages/urllib3/connectionpool.py:981: InsecureRequestWarning: Unverified HTTPS request is being made to host 'www.nongsaro.go.kr'. Adding certificate verification is strongly advised. See: https://urllib3.readthedocs.io/en/latest/advanced-usage.html#ssl-warnings\n",
      "  warnings.warn(\n"
     ]
    },
    {
     "name": "stdout",
     "output_type": "stream",
     "text": [
      "https://www.nongsaro.go.kr//cms_contents/301/14917_MF_REPR_ATTACH_01.jpg\n"
     ]
    },
    {
     "name": "stderr",
     "output_type": "stream",
     "text": [
      "/Users/soojin/opt/anaconda3/lib/python3.8/site-packages/urllib3/connectionpool.py:981: InsecureRequestWarning: Unverified HTTPS request is being made to host 'www.nongsaro.go.kr'. Adding certificate verification is strongly advised. See: https://urllib3.readthedocs.io/en/latest/advanced-usage.html#ssl-warnings\n",
      "  warnings.warn(\n"
     ]
    },
    {
     "name": "stdout",
     "output_type": "stream",
     "text": [
      "https://www.nongsaro.go.kr//cms_contents/301/14914_MF_REPR_ATTACH_01.jpg\n"
     ]
    },
    {
     "name": "stderr",
     "output_type": "stream",
     "text": [
      "/Users/soojin/opt/anaconda3/lib/python3.8/site-packages/urllib3/connectionpool.py:981: InsecureRequestWarning: Unverified HTTPS request is being made to host 'www.nongsaro.go.kr'. Adding certificate verification is strongly advised. See: https://urllib3.readthedocs.io/en/latest/advanced-usage.html#ssl-warnings\n",
      "  warnings.warn(\n"
     ]
    },
    {
     "name": "stdout",
     "output_type": "stream",
     "text": [
      "https://www.nongsaro.go.kr//cms_contents/301/13319_MF_REPR_ATTACH_01.jpg\n"
     ]
    },
    {
     "name": "stderr",
     "output_type": "stream",
     "text": [
      "/Users/soojin/opt/anaconda3/lib/python3.8/site-packages/urllib3/connectionpool.py:981: InsecureRequestWarning: Unverified HTTPS request is being made to host 'www.nongsaro.go.kr'. Adding certificate verification is strongly advised. See: https://urllib3.readthedocs.io/en/latest/advanced-usage.html#ssl-warnings\n",
      "  warnings.warn(\n"
     ]
    },
    {
     "name": "stdout",
     "output_type": "stream",
     "text": [
      "https://www.nongsaro.go.kr//cms_contents/301/13317_MF_REPR_ATTACH_01.jpg\n"
     ]
    },
    {
     "name": "stderr",
     "output_type": "stream",
     "text": [
      "/Users/soojin/opt/anaconda3/lib/python3.8/site-packages/urllib3/connectionpool.py:981: InsecureRequestWarning: Unverified HTTPS request is being made to host 'www.nongsaro.go.kr'. Adding certificate verification is strongly advised. See: https://urllib3.readthedocs.io/en/latest/advanced-usage.html#ssl-warnings\n",
      "  warnings.warn(\n"
     ]
    },
    {
     "name": "stdout",
     "output_type": "stream",
     "text": [
      "https://www.nongsaro.go.kr//cms_contents/301/13318_MF_REPR_ATTACH_01.jpg\n"
     ]
    },
    {
     "name": "stderr",
     "output_type": "stream",
     "text": [
      "/Users/soojin/opt/anaconda3/lib/python3.8/site-packages/urllib3/connectionpool.py:981: InsecureRequestWarning: Unverified HTTPS request is being made to host 'www.nongsaro.go.kr'. Adding certificate verification is strongly advised. See: https://urllib3.readthedocs.io/en/latest/advanced-usage.html#ssl-warnings\n",
      "  warnings.warn(\n"
     ]
    },
    {
     "name": "stdout",
     "output_type": "stream",
     "text": [
      "https://www.nongsaro.go.kr//cms_contents/301/13309_MF_REPR_ATTACH_01.jpg\n"
     ]
    },
    {
     "name": "stderr",
     "output_type": "stream",
     "text": [
      "/Users/soojin/opt/anaconda3/lib/python3.8/site-packages/urllib3/connectionpool.py:981: InsecureRequestWarning: Unverified HTTPS request is being made to host 'www.nongsaro.go.kr'. Adding certificate verification is strongly advised. See: https://urllib3.readthedocs.io/en/latest/advanced-usage.html#ssl-warnings\n",
      "  warnings.warn(\n"
     ]
    },
    {
     "name": "stdout",
     "output_type": "stream",
     "text": [
      "https://www.nongsaro.go.kr//cms_contents/301/13260_MF_REPR_ATTACH_01.jpg\n"
     ]
    },
    {
     "name": "stderr",
     "output_type": "stream",
     "text": [
      "/Users/soojin/opt/anaconda3/lib/python3.8/site-packages/urllib3/connectionpool.py:981: InsecureRequestWarning: Unverified HTTPS request is being made to host 'www.nongsaro.go.kr'. Adding certificate verification is strongly advised. See: https://urllib3.readthedocs.io/en/latest/advanced-usage.html#ssl-warnings\n",
      "  warnings.warn(\n"
     ]
    },
    {
     "name": "stdout",
     "output_type": "stream",
     "text": [
      "https://www.nongsaro.go.kr//cms_contents/301/13261_MF_REPR_ATTACH_01.jpg\n"
     ]
    },
    {
     "name": "stderr",
     "output_type": "stream",
     "text": [
      "/Users/soojin/opt/anaconda3/lib/python3.8/site-packages/urllib3/connectionpool.py:981: InsecureRequestWarning: Unverified HTTPS request is being made to host 'www.nongsaro.go.kr'. Adding certificate verification is strongly advised. See: https://urllib3.readthedocs.io/en/latest/advanced-usage.html#ssl-warnings\n",
      "  warnings.warn(\n"
     ]
    },
    {
     "name": "stdout",
     "output_type": "stream",
     "text": [
      "https://www.nongsaro.go.kr//cms_contents/301/13257_MF_REPR_ATTACH_01.jpg\n"
     ]
    },
    {
     "name": "stderr",
     "output_type": "stream",
     "text": [
      "/Users/soojin/opt/anaconda3/lib/python3.8/site-packages/urllib3/connectionpool.py:981: InsecureRequestWarning: Unverified HTTPS request is being made to host 'www.nongsaro.go.kr'. Adding certificate verification is strongly advised. See: https://urllib3.readthedocs.io/en/latest/advanced-usage.html#ssl-warnings\n",
      "  warnings.warn(\n"
     ]
    },
    {
     "name": "stdout",
     "output_type": "stream",
     "text": [
      "https://www.nongsaro.go.kr//cms_contents/301/13255_MF_REPR_ATTACH_01.jpg\n"
     ]
    },
    {
     "name": "stderr",
     "output_type": "stream",
     "text": [
      "/Users/soojin/opt/anaconda3/lib/python3.8/site-packages/urllib3/connectionpool.py:981: InsecureRequestWarning: Unverified HTTPS request is being made to host 'www.nongsaro.go.kr'. Adding certificate verification is strongly advised. See: https://urllib3.readthedocs.io/en/latest/advanced-usage.html#ssl-warnings\n",
      "  warnings.warn(\n"
     ]
    },
    {
     "name": "stdout",
     "output_type": "stream",
     "text": [
      "https://www.nongsaro.go.kr//cms_contents/301/12996_MF_REPR_ATTACH_01.jpg\n"
     ]
    },
    {
     "name": "stderr",
     "output_type": "stream",
     "text": [
      "/Users/soojin/opt/anaconda3/lib/python3.8/site-packages/urllib3/connectionpool.py:981: InsecureRequestWarning: Unverified HTTPS request is being made to host 'www.nongsaro.go.kr'. Adding certificate verification is strongly advised. See: https://urllib3.readthedocs.io/en/latest/advanced-usage.html#ssl-warnings\n",
      "  warnings.warn(\n"
     ]
    },
    {
     "name": "stdout",
     "output_type": "stream",
     "text": [
      "https://www.nongsaro.go.kr//cms_contents/301/13001_MF_REPR_ATTACH_01.jpg\n"
     ]
    },
    {
     "name": "stderr",
     "output_type": "stream",
     "text": [
      "/Users/soojin/opt/anaconda3/lib/python3.8/site-packages/urllib3/connectionpool.py:981: InsecureRequestWarning: Unverified HTTPS request is being made to host 'www.nongsaro.go.kr'. Adding certificate verification is strongly advised. See: https://urllib3.readthedocs.io/en/latest/advanced-usage.html#ssl-warnings\n",
      "  warnings.warn(\n"
     ]
    },
    {
     "name": "stdout",
     "output_type": "stream",
     "text": [
      "https://www.nongsaro.go.kr//cms_contents/301/13002_MF_REPR_ATTACH_01.jpg\n"
     ]
    },
    {
     "name": "stderr",
     "output_type": "stream",
     "text": [
      "/Users/soojin/opt/anaconda3/lib/python3.8/site-packages/urllib3/connectionpool.py:981: InsecureRequestWarning: Unverified HTTPS request is being made to host 'www.nongsaro.go.kr'. Adding certificate verification is strongly advised. See: https://urllib3.readthedocs.io/en/latest/advanced-usage.html#ssl-warnings\n",
      "  warnings.warn(\n"
     ]
    },
    {
     "name": "stdout",
     "output_type": "stream",
     "text": [
      "https://www.nongsaro.go.kr//cms_contents/301/13003_MF_REPR_ATTACH_01.jpg\n"
     ]
    },
    {
     "name": "stderr",
     "output_type": "stream",
     "text": [
      "/Users/soojin/opt/anaconda3/lib/python3.8/site-packages/urllib3/connectionpool.py:981: InsecureRequestWarning: Unverified HTTPS request is being made to host 'www.nongsaro.go.kr'. Adding certificate verification is strongly advised. See: https://urllib3.readthedocs.io/en/latest/advanced-usage.html#ssl-warnings\n",
      "  warnings.warn(\n"
     ]
    },
    {
     "name": "stdout",
     "output_type": "stream",
     "text": [
      "https://www.nongsaro.go.kr//cms_contents/301/13004_MF_REPR_ATTACH_01.jpg\n"
     ]
    },
    {
     "name": "stderr",
     "output_type": "stream",
     "text": [
      "/Users/soojin/opt/anaconda3/lib/python3.8/site-packages/urllib3/connectionpool.py:981: InsecureRequestWarning: Unverified HTTPS request is being made to host 'www.nongsaro.go.kr'. Adding certificate verification is strongly advised. See: https://urllib3.readthedocs.io/en/latest/advanced-usage.html#ssl-warnings\n",
      "  warnings.warn(\n"
     ]
    },
    {
     "name": "stdout",
     "output_type": "stream",
     "text": [
      "https://www.nongsaro.go.kr//cms_contents/301/13248_MF_REPR_ATTACH_01.jpg\n"
     ]
    },
    {
     "name": "stderr",
     "output_type": "stream",
     "text": [
      "/Users/soojin/opt/anaconda3/lib/python3.8/site-packages/urllib3/connectionpool.py:981: InsecureRequestWarning: Unverified HTTPS request is being made to host 'www.nongsaro.go.kr'. Adding certificate verification is strongly advised. See: https://urllib3.readthedocs.io/en/latest/advanced-usage.html#ssl-warnings\n",
      "  warnings.warn(\n"
     ]
    },
    {
     "name": "stdout",
     "output_type": "stream",
     "text": [
      "https://www.nongsaro.go.kr//cms_contents/301/13247_MF_REPR_ATTACH_01.jpg\n"
     ]
    },
    {
     "name": "stderr",
     "output_type": "stream",
     "text": [
      "/Users/soojin/opt/anaconda3/lib/python3.8/site-packages/urllib3/connectionpool.py:981: InsecureRequestWarning: Unverified HTTPS request is being made to host 'www.nongsaro.go.kr'. Adding certificate verification is strongly advised. See: https://urllib3.readthedocs.io/en/latest/advanced-usage.html#ssl-warnings\n",
      "  warnings.warn(\n"
     ]
    },
    {
     "name": "stdout",
     "output_type": "stream",
     "text": [
      "https://www.nongsaro.go.kr//cms_contents/301/13245_MF_REPR_ATTACH_01.jpg\n"
     ]
    },
    {
     "name": "stderr",
     "output_type": "stream",
     "text": [
      "/Users/soojin/opt/anaconda3/lib/python3.8/site-packages/urllib3/connectionpool.py:981: InsecureRequestWarning: Unverified HTTPS request is being made to host 'www.nongsaro.go.kr'. Adding certificate verification is strongly advised. See: https://urllib3.readthedocs.io/en/latest/advanced-usage.html#ssl-warnings\n",
      "  warnings.warn(\n"
     ]
    },
    {
     "name": "stdout",
     "output_type": "stream",
     "text": [
      "https://www.nongsaro.go.kr//cms_contents/301/13244_MF_REPR_ATTACH_01.jpg\n"
     ]
    },
    {
     "name": "stderr",
     "output_type": "stream",
     "text": [
      "/Users/soojin/opt/anaconda3/lib/python3.8/site-packages/urllib3/connectionpool.py:981: InsecureRequestWarning: Unverified HTTPS request is being made to host 'www.nongsaro.go.kr'. Adding certificate verification is strongly advised. See: https://urllib3.readthedocs.io/en/latest/advanced-usage.html#ssl-warnings\n",
      "  warnings.warn(\n"
     ]
    },
    {
     "name": "stdout",
     "output_type": "stream",
     "text": [
      "https://www.nongsaro.go.kr//cms_contents/301/13242_MF_REPR_ATTACH_01.jpg\n"
     ]
    },
    {
     "name": "stderr",
     "output_type": "stream",
     "text": [
      "/Users/soojin/opt/anaconda3/lib/python3.8/site-packages/urllib3/connectionpool.py:981: InsecureRequestWarning: Unverified HTTPS request is being made to host 'www.nongsaro.go.kr'. Adding certificate verification is strongly advised. See: https://urllib3.readthedocs.io/en/latest/advanced-usage.html#ssl-warnings\n",
      "  warnings.warn(\n"
     ]
    },
    {
     "name": "stdout",
     "output_type": "stream",
     "text": [
      "https://www.nongsaro.go.kr//cms_contents/301/13253_MF_REPR_ATTACH_01.jpg\n"
     ]
    },
    {
     "name": "stderr",
     "output_type": "stream",
     "text": [
      "/Users/soojin/opt/anaconda3/lib/python3.8/site-packages/urllib3/connectionpool.py:981: InsecureRequestWarning: Unverified HTTPS request is being made to host 'www.nongsaro.go.kr'. Adding certificate verification is strongly advised. See: https://urllib3.readthedocs.io/en/latest/advanced-usage.html#ssl-warnings\n",
      "  warnings.warn(\n"
     ]
    },
    {
     "name": "stdout",
     "output_type": "stream",
     "text": [
      "https://www.nongsaro.go.kr//cms_contents/301/13240_MF_REPR_ATTACH_01.jpg\n"
     ]
    },
    {
     "name": "stderr",
     "output_type": "stream",
     "text": [
      "/Users/soojin/opt/anaconda3/lib/python3.8/site-packages/urllib3/connectionpool.py:981: InsecureRequestWarning: Unverified HTTPS request is being made to host 'www.nongsaro.go.kr'. Adding certificate verification is strongly advised. See: https://urllib3.readthedocs.io/en/latest/advanced-usage.html#ssl-warnings\n",
      "  warnings.warn(\n"
     ]
    },
    {
     "name": "stdout",
     "output_type": "stream",
     "text": [
      "https://www.nongsaro.go.kr//cms_contents/301/13216_MF_REPR_ATTACH_01.jpg\n"
     ]
    },
    {
     "name": "stderr",
     "output_type": "stream",
     "text": [
      "/Users/soojin/opt/anaconda3/lib/python3.8/site-packages/urllib3/connectionpool.py:981: InsecureRequestWarning: Unverified HTTPS request is being made to host 'www.nongsaro.go.kr'. Adding certificate verification is strongly advised. See: https://urllib3.readthedocs.io/en/latest/advanced-usage.html#ssl-warnings\n",
      "  warnings.warn(\n"
     ]
    },
    {
     "name": "stdout",
     "output_type": "stream",
     "text": [
      "https://www.nongsaro.go.kr//cms_contents/301/13215_MF_REPR_ATTACH_01.jpg\n"
     ]
    },
    {
     "name": "stderr",
     "output_type": "stream",
     "text": [
      "/Users/soojin/opt/anaconda3/lib/python3.8/site-packages/urllib3/connectionpool.py:981: InsecureRequestWarning: Unverified HTTPS request is being made to host 'www.nongsaro.go.kr'. Adding certificate verification is strongly advised. See: https://urllib3.readthedocs.io/en/latest/advanced-usage.html#ssl-warnings\n",
      "  warnings.warn(\n"
     ]
    },
    {
     "name": "stdout",
     "output_type": "stream",
     "text": [
      "https://www.nongsaro.go.kr//cms_contents/301/13214_MF_REPR_ATTACH_01.jpg\n"
     ]
    },
    {
     "name": "stderr",
     "output_type": "stream",
     "text": [
      "/Users/soojin/opt/anaconda3/lib/python3.8/site-packages/urllib3/connectionpool.py:981: InsecureRequestWarning: Unverified HTTPS request is being made to host 'www.nongsaro.go.kr'. Adding certificate verification is strongly advised. See: https://urllib3.readthedocs.io/en/latest/advanced-usage.html#ssl-warnings\n",
      "  warnings.warn(\n"
     ]
    },
    {
     "name": "stdout",
     "output_type": "stream",
     "text": [
      "https://www.nongsaro.go.kr//cms_contents/301/13213_MF_REPR_ATTACH_01.jpg\n"
     ]
    },
    {
     "name": "stderr",
     "output_type": "stream",
     "text": [
      "/Users/soojin/opt/anaconda3/lib/python3.8/site-packages/urllib3/connectionpool.py:981: InsecureRequestWarning: Unverified HTTPS request is being made to host 'www.nongsaro.go.kr'. Adding certificate verification is strongly advised. See: https://urllib3.readthedocs.io/en/latest/advanced-usage.html#ssl-warnings\n",
      "  warnings.warn(\n"
     ]
    },
    {
     "name": "stdout",
     "output_type": "stream",
     "text": [
      "https://www.nongsaro.go.kr//cms_contents/301/13212_MF_REPR_ATTACH_01.jpg\n"
     ]
    },
    {
     "name": "stderr",
     "output_type": "stream",
     "text": [
      "/Users/soojin/opt/anaconda3/lib/python3.8/site-packages/urllib3/connectionpool.py:981: InsecureRequestWarning: Unverified HTTPS request is being made to host 'www.nongsaro.go.kr'. Adding certificate verification is strongly advised. See: https://urllib3.readthedocs.io/en/latest/advanced-usage.html#ssl-warnings\n",
      "  warnings.warn(\n"
     ]
    },
    {
     "name": "stdout",
     "output_type": "stream",
     "text": [
      "https://www.nongsaro.go.kr//cms_contents/301/13211_MF_REPR_ATTACH_01.jpg\n"
     ]
    },
    {
     "name": "stderr",
     "output_type": "stream",
     "text": [
      "/Users/soojin/opt/anaconda3/lib/python3.8/site-packages/urllib3/connectionpool.py:981: InsecureRequestWarning: Unverified HTTPS request is being made to host 'www.nongsaro.go.kr'. Adding certificate verification is strongly advised. See: https://urllib3.readthedocs.io/en/latest/advanced-usage.html#ssl-warnings\n",
      "  warnings.warn(\n"
     ]
    },
    {
     "name": "stdout",
     "output_type": "stream",
     "text": [
      "https://www.nongsaro.go.kr//cms_contents/301/13209_MF_REPR_ATTACH_01.jpg\n"
     ]
    },
    {
     "name": "stderr",
     "output_type": "stream",
     "text": [
      "/Users/soojin/opt/anaconda3/lib/python3.8/site-packages/urllib3/connectionpool.py:981: InsecureRequestWarning: Unverified HTTPS request is being made to host 'www.nongsaro.go.kr'. Adding certificate verification is strongly advised. See: https://urllib3.readthedocs.io/en/latest/advanced-usage.html#ssl-warnings\n",
      "  warnings.warn(\n"
     ]
    },
    {
     "name": "stdout",
     "output_type": "stream",
     "text": [
      "https://www.nongsaro.go.kr//cms_contents/301/13251_MF_REPR_ATTACH_01.jpg\n"
     ]
    },
    {
     "name": "stderr",
     "output_type": "stream",
     "text": [
      "/Users/soojin/opt/anaconda3/lib/python3.8/site-packages/urllib3/connectionpool.py:981: InsecureRequestWarning: Unverified HTTPS request is being made to host 'www.nongsaro.go.kr'. Adding certificate verification is strongly advised. See: https://urllib3.readthedocs.io/en/latest/advanced-usage.html#ssl-warnings\n",
      "  warnings.warn(\n"
     ]
    },
    {
     "name": "stdout",
     "output_type": "stream",
     "text": [
      "https://www.nongsaro.go.kr//cms_contents/301/13197_MF_REPR_ATTACH_01.jpg\n"
     ]
    },
    {
     "name": "stderr",
     "output_type": "stream",
     "text": [
      "/Users/soojin/opt/anaconda3/lib/python3.8/site-packages/urllib3/connectionpool.py:981: InsecureRequestWarning: Unverified HTTPS request is being made to host 'www.nongsaro.go.kr'. Adding certificate verification is strongly advised. See: https://urllib3.readthedocs.io/en/latest/advanced-usage.html#ssl-warnings\n",
      "  warnings.warn(\n"
     ]
    },
    {
     "name": "stdout",
     "output_type": "stream",
     "text": [
      "https://www.nongsaro.go.kr//cms_contents/301/13194_MF_REPR_ATTACH_01.jpg\n"
     ]
    },
    {
     "name": "stderr",
     "output_type": "stream",
     "text": [
      "/Users/soojin/opt/anaconda3/lib/python3.8/site-packages/urllib3/connectionpool.py:981: InsecureRequestWarning: Unverified HTTPS request is being made to host 'www.nongsaro.go.kr'. Adding certificate verification is strongly advised. See: https://urllib3.readthedocs.io/en/latest/advanced-usage.html#ssl-warnings\n",
      "  warnings.warn(\n"
     ]
    },
    {
     "name": "stdout",
     "output_type": "stream",
     "text": [
      "https://www.nongsaro.go.kr//cms_contents/301/13193_MF_REPR_ATTACH_01.jpg\n"
     ]
    },
    {
     "name": "stderr",
     "output_type": "stream",
     "text": [
      "/Users/soojin/opt/anaconda3/lib/python3.8/site-packages/urllib3/connectionpool.py:981: InsecureRequestWarning: Unverified HTTPS request is being made to host 'www.nongsaro.go.kr'. Adding certificate verification is strongly advised. See: https://urllib3.readthedocs.io/en/latest/advanced-usage.html#ssl-warnings\n",
      "  warnings.warn(\n"
     ]
    },
    {
     "name": "stdout",
     "output_type": "stream",
     "text": [
      "https://www.nongsaro.go.kr//cms_contents/301/13190_MF_REPR_ATTACH_01.jpg\n"
     ]
    },
    {
     "name": "stderr",
     "output_type": "stream",
     "text": [
      "/Users/soojin/opt/anaconda3/lib/python3.8/site-packages/urllib3/connectionpool.py:981: InsecureRequestWarning: Unverified HTTPS request is being made to host 'www.nongsaro.go.kr'. Adding certificate verification is strongly advised. See: https://urllib3.readthedocs.io/en/latest/advanced-usage.html#ssl-warnings\n",
      "  warnings.warn(\n"
     ]
    },
    {
     "name": "stdout",
     "output_type": "stream",
     "text": [
      "https://www.nongsaro.go.kr//cms_contents/301/13187_MF_REPR_ATTACH_01.jpg\n"
     ]
    },
    {
     "name": "stderr",
     "output_type": "stream",
     "text": [
      "/Users/soojin/opt/anaconda3/lib/python3.8/site-packages/urllib3/connectionpool.py:981: InsecureRequestWarning: Unverified HTTPS request is being made to host 'www.nongsaro.go.kr'. Adding certificate verification is strongly advised. See: https://urllib3.readthedocs.io/en/latest/advanced-usage.html#ssl-warnings\n",
      "  warnings.warn(\n"
     ]
    },
    {
     "name": "stdout",
     "output_type": "stream",
     "text": [
      "https://www.nongsaro.go.kr//cms_contents/301/13192_MF_REPR_ATTACH_01.jpg\n"
     ]
    },
    {
     "name": "stderr",
     "output_type": "stream",
     "text": [
      "/Users/soojin/opt/anaconda3/lib/python3.8/site-packages/urllib3/connectionpool.py:981: InsecureRequestWarning: Unverified HTTPS request is being made to host 'www.nongsaro.go.kr'. Adding certificate verification is strongly advised. See: https://urllib3.readthedocs.io/en/latest/advanced-usage.html#ssl-warnings\n",
      "  warnings.warn(\n"
     ]
    },
    {
     "name": "stdout",
     "output_type": "stream",
     "text": [
      "https://www.nongsaro.go.kr//cms_contents/301/13191_MF_REPR_ATTACH_01.jpg\n"
     ]
    },
    {
     "name": "stderr",
     "output_type": "stream",
     "text": [
      "/Users/soojin/opt/anaconda3/lib/python3.8/site-packages/urllib3/connectionpool.py:981: InsecureRequestWarning: Unverified HTTPS request is being made to host 'www.nongsaro.go.kr'. Adding certificate verification is strongly advised. See: https://urllib3.readthedocs.io/en/latest/advanced-usage.html#ssl-warnings\n",
      "  warnings.warn(\n"
     ]
    },
    {
     "name": "stdout",
     "output_type": "stream",
     "text": [
      "https://www.nongsaro.go.kr//cms_contents/301/13189_MF_REPR_ATTACH_01.jpg\n"
     ]
    },
    {
     "name": "stderr",
     "output_type": "stream",
     "text": [
      "/Users/soojin/opt/anaconda3/lib/python3.8/site-packages/urllib3/connectionpool.py:981: InsecureRequestWarning: Unverified HTTPS request is being made to host 'www.nongsaro.go.kr'. Adding certificate verification is strongly advised. See: https://urllib3.readthedocs.io/en/latest/advanced-usage.html#ssl-warnings\n",
      "  warnings.warn(\n"
     ]
    },
    {
     "name": "stdout",
     "output_type": "stream",
     "text": [
      "https://www.nongsaro.go.kr//cms_contents/301/13188_MF_REPR_ATTACH_01.jpg\n"
     ]
    },
    {
     "name": "stderr",
     "output_type": "stream",
     "text": [
      "/Users/soojin/opt/anaconda3/lib/python3.8/site-packages/urllib3/connectionpool.py:981: InsecureRequestWarning: Unverified HTTPS request is being made to host 'www.nongsaro.go.kr'. Adding certificate verification is strongly advised. See: https://urllib3.readthedocs.io/en/latest/advanced-usage.html#ssl-warnings\n",
      "  warnings.warn(\n"
     ]
    },
    {
     "name": "stdout",
     "output_type": "stream",
     "text": [
      "https://www.nongsaro.go.kr//cms_contents/301/13249_MF_REPR_ATTACH_01.jpg\n"
     ]
    },
    {
     "name": "stderr",
     "output_type": "stream",
     "text": [
      "/Users/soojin/opt/anaconda3/lib/python3.8/site-packages/urllib3/connectionpool.py:981: InsecureRequestWarning: Unverified HTTPS request is being made to host 'www.nongsaro.go.kr'. Adding certificate verification is strongly advised. See: https://urllib3.readthedocs.io/en/latest/advanced-usage.html#ssl-warnings\n",
      "  warnings.warn(\n"
     ]
    },
    {
     "name": "stdout",
     "output_type": "stream",
     "text": [
      "https://www.nongsaro.go.kr//cms_contents/301/12987_MF_REPR_ATTACH_01.jpg\n"
     ]
    },
    {
     "name": "stderr",
     "output_type": "stream",
     "text": [
      "/Users/soojin/opt/anaconda3/lib/python3.8/site-packages/urllib3/connectionpool.py:981: InsecureRequestWarning: Unverified HTTPS request is being made to host 'www.nongsaro.go.kr'. Adding certificate verification is strongly advised. See: https://urllib3.readthedocs.io/en/latest/advanced-usage.html#ssl-warnings\n",
      "  warnings.warn(\n"
     ]
    },
    {
     "name": "stdout",
     "output_type": "stream",
     "text": [
      "https://www.nongsaro.go.kr//cms_contents/301/12983_MF_REPR_ATTACH_01.jpg\n"
     ]
    },
    {
     "name": "stderr",
     "output_type": "stream",
     "text": [
      "/Users/soojin/opt/anaconda3/lib/python3.8/site-packages/urllib3/connectionpool.py:981: InsecureRequestWarning: Unverified HTTPS request is being made to host 'www.nongsaro.go.kr'. Adding certificate verification is strongly advised. See: https://urllib3.readthedocs.io/en/latest/advanced-usage.html#ssl-warnings\n",
      "  warnings.warn(\n"
     ]
    },
    {
     "name": "stdout",
     "output_type": "stream",
     "text": [
      "https://www.nongsaro.go.kr//cms_contents/301/12981_MF_REPR_ATTACH_01.jpg\n"
     ]
    },
    {
     "name": "stderr",
     "output_type": "stream",
     "text": [
      "/Users/soojin/opt/anaconda3/lib/python3.8/site-packages/urllib3/connectionpool.py:981: InsecureRequestWarning: Unverified HTTPS request is being made to host 'www.nongsaro.go.kr'. Adding certificate verification is strongly advised. See: https://urllib3.readthedocs.io/en/latest/advanced-usage.html#ssl-warnings\n",
      "  warnings.warn(\n"
     ]
    },
    {
     "name": "stdout",
     "output_type": "stream",
     "text": [
      "https://www.nongsaro.go.kr//cms_contents/301/12979_MF_REPR_ATTACH_01.jpg\n"
     ]
    },
    {
     "name": "stderr",
     "output_type": "stream",
     "text": [
      "/Users/soojin/opt/anaconda3/lib/python3.8/site-packages/urllib3/connectionpool.py:981: InsecureRequestWarning: Unverified HTTPS request is being made to host 'www.nongsaro.go.kr'. Adding certificate verification is strongly advised. See: https://urllib3.readthedocs.io/en/latest/advanced-usage.html#ssl-warnings\n",
      "  warnings.warn(\n"
     ]
    },
    {
     "name": "stdout",
     "output_type": "stream",
     "text": [
      "https://www.nongsaro.go.kr//cms_contents/301/12978_MF_REPR_ATTACH_01.jpg\n"
     ]
    },
    {
     "name": "stderr",
     "output_type": "stream",
     "text": [
      "/Users/soojin/opt/anaconda3/lib/python3.8/site-packages/urllib3/connectionpool.py:981: InsecureRequestWarning: Unverified HTTPS request is being made to host 'www.nongsaro.go.kr'. Adding certificate verification is strongly advised. See: https://urllib3.readthedocs.io/en/latest/advanced-usage.html#ssl-warnings\n",
      "  warnings.warn(\n"
     ]
    },
    {
     "name": "stdout",
     "output_type": "stream",
     "text": [
      "https://www.nongsaro.go.kr//cms_contents/301/12976_MF_REPR_ATTACH_01.jpg\n"
     ]
    },
    {
     "name": "stderr",
     "output_type": "stream",
     "text": [
      "/Users/soojin/opt/anaconda3/lib/python3.8/site-packages/urllib3/connectionpool.py:981: InsecureRequestWarning: Unverified HTTPS request is being made to host 'www.nongsaro.go.kr'. Adding certificate verification is strongly advised. See: https://urllib3.readthedocs.io/en/latest/advanced-usage.html#ssl-warnings\n",
      "  warnings.warn(\n"
     ]
    },
    {
     "name": "stdout",
     "output_type": "stream",
     "text": [
      "https://www.nongsaro.go.kr//cms_contents/301/12986_MF_REPR_ATTACH_01.jpg\n"
     ]
    },
    {
     "name": "stderr",
     "output_type": "stream",
     "text": [
      "/Users/soojin/opt/anaconda3/lib/python3.8/site-packages/urllib3/connectionpool.py:981: InsecureRequestWarning: Unverified HTTPS request is being made to host 'www.nongsaro.go.kr'. Adding certificate verification is strongly advised. See: https://urllib3.readthedocs.io/en/latest/advanced-usage.html#ssl-warnings\n",
      "  warnings.warn(\n"
     ]
    },
    {
     "name": "stdout",
     "output_type": "stream",
     "text": [
      "https://www.nongsaro.go.kr//cms_contents/301/12975_MF_REPR_ATTACH_01.jpg\n"
     ]
    },
    {
     "name": "stderr",
     "output_type": "stream",
     "text": [
      "/Users/soojin/opt/anaconda3/lib/python3.8/site-packages/urllib3/connectionpool.py:981: InsecureRequestWarning: Unverified HTTPS request is being made to host 'www.nongsaro.go.kr'. Adding certificate verification is strongly advised. See: https://urllib3.readthedocs.io/en/latest/advanced-usage.html#ssl-warnings\n",
      "  warnings.warn(\n"
     ]
    },
    {
     "name": "stdout",
     "output_type": "stream",
     "text": [
      "https://www.nongsaro.go.kr//cms_contents/301/12973_MF_REPR_ATTACH_01.jpg\n"
     ]
    },
    {
     "name": "stderr",
     "output_type": "stream",
     "text": [
      "/Users/soojin/opt/anaconda3/lib/python3.8/site-packages/urllib3/connectionpool.py:981: InsecureRequestWarning: Unverified HTTPS request is being made to host 'www.nongsaro.go.kr'. Adding certificate verification is strongly advised. See: https://urllib3.readthedocs.io/en/latest/advanced-usage.html#ssl-warnings\n",
      "  warnings.warn(\n"
     ]
    },
    {
     "name": "stdout",
     "output_type": "stream",
     "text": [
      "https://www.nongsaro.go.kr//cms_contents/301/12971_MF_REPR_ATTACH_01.jpg\n"
     ]
    },
    {
     "name": "stderr",
     "output_type": "stream",
     "text": [
      "/Users/soojin/opt/anaconda3/lib/python3.8/site-packages/urllib3/connectionpool.py:981: InsecureRequestWarning: Unverified HTTPS request is being made to host 'www.nongsaro.go.kr'. Adding certificate verification is strongly advised. See: https://urllib3.readthedocs.io/en/latest/advanced-usage.html#ssl-warnings\n",
      "  warnings.warn(\n"
     ]
    },
    {
     "name": "stdout",
     "output_type": "stream",
     "text": [
      "https://www.nongsaro.go.kr//cms_contents/301/12937_MF_REPR_ATTACH_01.jpg\n"
     ]
    },
    {
     "name": "stderr",
     "output_type": "stream",
     "text": [
      "/Users/soojin/opt/anaconda3/lib/python3.8/site-packages/urllib3/connectionpool.py:981: InsecureRequestWarning: Unverified HTTPS request is being made to host 'www.nongsaro.go.kr'. Adding certificate verification is strongly advised. See: https://urllib3.readthedocs.io/en/latest/advanced-usage.html#ssl-warnings\n",
      "  warnings.warn(\n"
     ]
    },
    {
     "name": "stdout",
     "output_type": "stream",
     "text": [
      "https://www.nongsaro.go.kr//cms_contents/301/12932_MF_REPR_ATTACH_01.jpg\n"
     ]
    },
    {
     "name": "stderr",
     "output_type": "stream",
     "text": [
      "/Users/soojin/opt/anaconda3/lib/python3.8/site-packages/urllib3/connectionpool.py:981: InsecureRequestWarning: Unverified HTTPS request is being made to host 'www.nongsaro.go.kr'. Adding certificate verification is strongly advised. See: https://urllib3.readthedocs.io/en/latest/advanced-usage.html#ssl-warnings\n",
      "  warnings.warn(\n"
     ]
    },
    {
     "name": "stdout",
     "output_type": "stream",
     "text": [
      "https://www.nongsaro.go.kr//cms_contents/301/12956_MF_REPR_ATTACH_01.jpg\n"
     ]
    },
    {
     "name": "stderr",
     "output_type": "stream",
     "text": [
      "/Users/soojin/opt/anaconda3/lib/python3.8/site-packages/urllib3/connectionpool.py:981: InsecureRequestWarning: Unverified HTTPS request is being made to host 'www.nongsaro.go.kr'. Adding certificate verification is strongly advised. See: https://urllib3.readthedocs.io/en/latest/advanced-usage.html#ssl-warnings\n",
      "  warnings.warn(\n"
     ]
    },
    {
     "name": "stdout",
     "output_type": "stream",
     "text": [
      "https://www.nongsaro.go.kr//cms_contents/301/12920_MF_REPR_ATTACH_01.jpg\n"
     ]
    },
    {
     "name": "stderr",
     "output_type": "stream",
     "text": [
      "/Users/soojin/opt/anaconda3/lib/python3.8/site-packages/urllib3/connectionpool.py:981: InsecureRequestWarning: Unverified HTTPS request is being made to host 'www.nongsaro.go.kr'. Adding certificate verification is strongly advised. See: https://urllib3.readthedocs.io/en/latest/advanced-usage.html#ssl-warnings\n",
      "  warnings.warn(\n"
     ]
    },
    {
     "name": "stdout",
     "output_type": "stream",
     "text": [
      "https://www.nongsaro.go.kr//cms_contents/301/12919_MF_REPR_ATTACH_01.jpg\n"
     ]
    },
    {
     "name": "stderr",
     "output_type": "stream",
     "text": [
      "/Users/soojin/opt/anaconda3/lib/python3.8/site-packages/urllib3/connectionpool.py:981: InsecureRequestWarning: Unverified HTTPS request is being made to host 'www.nongsaro.go.kr'. Adding certificate verification is strongly advised. See: https://urllib3.readthedocs.io/en/latest/advanced-usage.html#ssl-warnings\n",
      "  warnings.warn(\n"
     ]
    },
    {
     "name": "stdout",
     "output_type": "stream",
     "text": [
      "https://www.nongsaro.go.kr//cms_contents/301/12901_MF_REPR_ATTACH_01.jpg\n"
     ]
    },
    {
     "name": "stderr",
     "output_type": "stream",
     "text": [
      "/Users/soojin/opt/anaconda3/lib/python3.8/site-packages/urllib3/connectionpool.py:981: InsecureRequestWarning: Unverified HTTPS request is being made to host 'www.nongsaro.go.kr'. Adding certificate verification is strongly advised. See: https://urllib3.readthedocs.io/en/latest/advanced-usage.html#ssl-warnings\n",
      "  warnings.warn(\n"
     ]
    },
    {
     "name": "stdout",
     "output_type": "stream",
     "text": [
      "https://www.nongsaro.go.kr//cms_contents/1122/204870_MF_BIMG_01.jpg\n"
     ]
    },
    {
     "name": "stderr",
     "output_type": "stream",
     "text": [
      "/Users/soojin/opt/anaconda3/lib/python3.8/site-packages/urllib3/connectionpool.py:981: InsecureRequestWarning: Unverified HTTPS request is being made to host 'www.nongsaro.go.kr'. Adding certificate verification is strongly advised. See: https://urllib3.readthedocs.io/en/latest/advanced-usage.html#ssl-warnings\n",
      "  warnings.warn(\n"
     ]
    },
    {
     "name": "stdout",
     "output_type": "stream",
     "text": [
      "https://www.nongsaro.go.kr//cms_contents/1122/204869_MF_BIMG_01.jpg\n"
     ]
    },
    {
     "name": "stderr",
     "output_type": "stream",
     "text": [
      "/Users/soojin/opt/anaconda3/lib/python3.8/site-packages/urllib3/connectionpool.py:981: InsecureRequestWarning: Unverified HTTPS request is being made to host 'www.nongsaro.go.kr'. Adding certificate verification is strongly advised. See: https://urllib3.readthedocs.io/en/latest/advanced-usage.html#ssl-warnings\n",
      "  warnings.warn(\n"
     ]
    },
    {
     "name": "stdout",
     "output_type": "stream",
     "text": [
      "https://www.nongsaro.go.kr//cms_contents/1122/204868_MF_BIMG_01.jpg\n"
     ]
    },
    {
     "name": "stderr",
     "output_type": "stream",
     "text": [
      "/Users/soojin/opt/anaconda3/lib/python3.8/site-packages/urllib3/connectionpool.py:981: InsecureRequestWarning: Unverified HTTPS request is being made to host 'www.nongsaro.go.kr'. Adding certificate verification is strongly advised. See: https://urllib3.readthedocs.io/en/latest/advanced-usage.html#ssl-warnings\n",
      "  warnings.warn(\n"
     ]
    },
    {
     "name": "stdout",
     "output_type": "stream",
     "text": [
      "https://www.nongsaro.go.kr//cms_contents/1122/204867_MF_BIMG_01.jpg\n"
     ]
    },
    {
     "name": "stderr",
     "output_type": "stream",
     "text": [
      "/Users/soojin/opt/anaconda3/lib/python3.8/site-packages/urllib3/connectionpool.py:981: InsecureRequestWarning: Unverified HTTPS request is being made to host 'www.nongsaro.go.kr'. Adding certificate verification is strongly advised. See: https://urllib3.readthedocs.io/en/latest/advanced-usage.html#ssl-warnings\n",
      "  warnings.warn(\n"
     ]
    },
    {
     "name": "stdout",
     "output_type": "stream",
     "text": [
      "https://www.nongsaro.go.kr//cms_contents/1122/204866_MF_BIMG_01.jpg\n"
     ]
    },
    {
     "name": "stderr",
     "output_type": "stream",
     "text": [
      "/Users/soojin/opt/anaconda3/lib/python3.8/site-packages/urllib3/connectionpool.py:981: InsecureRequestWarning: Unverified HTTPS request is being made to host 'www.nongsaro.go.kr'. Adding certificate verification is strongly advised. See: https://urllib3.readthedocs.io/en/latest/advanced-usage.html#ssl-warnings\n",
      "  warnings.warn(\n"
     ]
    },
    {
     "name": "stdout",
     "output_type": "stream",
     "text": [
      "https://www.nongsaro.go.kr//cms_contents/1122/204865_MF_BIMG_01.jpg\n"
     ]
    },
    {
     "name": "stderr",
     "output_type": "stream",
     "text": [
      "/Users/soojin/opt/anaconda3/lib/python3.8/site-packages/urllib3/connectionpool.py:981: InsecureRequestWarning: Unverified HTTPS request is being made to host 'www.nongsaro.go.kr'. Adding certificate verification is strongly advised. See: https://urllib3.readthedocs.io/en/latest/advanced-usage.html#ssl-warnings\n",
      "  warnings.warn(\n"
     ]
    },
    {
     "name": "stdout",
     "output_type": "stream",
     "text": [
      "https://www.nongsaro.go.kr//cms_contents/1122/204864_MF_BIMG_01.jpg\n"
     ]
    },
    {
     "name": "stderr",
     "output_type": "stream",
     "text": [
      "/Users/soojin/opt/anaconda3/lib/python3.8/site-packages/urllib3/connectionpool.py:981: InsecureRequestWarning: Unverified HTTPS request is being made to host 'www.nongsaro.go.kr'. Adding certificate verification is strongly advised. See: https://urllib3.readthedocs.io/en/latest/advanced-usage.html#ssl-warnings\n",
      "  warnings.warn(\n"
     ]
    },
    {
     "name": "stdout",
     "output_type": "stream",
     "text": [
      "https://www.nongsaro.go.kr//cms_contents/1122/204863_MF_BIMG_01.jpg\n"
     ]
    },
    {
     "name": "stderr",
     "output_type": "stream",
     "text": [
      "/Users/soojin/opt/anaconda3/lib/python3.8/site-packages/urllib3/connectionpool.py:981: InsecureRequestWarning: Unverified HTTPS request is being made to host 'www.nongsaro.go.kr'. Adding certificate verification is strongly advised. See: https://urllib3.readthedocs.io/en/latest/advanced-usage.html#ssl-warnings\n",
      "  warnings.warn(\n"
     ]
    },
    {
     "name": "stdout",
     "output_type": "stream",
     "text": [
      "https://www.nongsaro.go.kr//cms_contents/1122/204862_MF_BIMG_01.jpg\n"
     ]
    },
    {
     "name": "stderr",
     "output_type": "stream",
     "text": [
      "/Users/soojin/opt/anaconda3/lib/python3.8/site-packages/urllib3/connectionpool.py:981: InsecureRequestWarning: Unverified HTTPS request is being made to host 'www.nongsaro.go.kr'. Adding certificate verification is strongly advised. See: https://urllib3.readthedocs.io/en/latest/advanced-usage.html#ssl-warnings\n",
      "  warnings.warn(\n"
     ]
    },
    {
     "name": "stdout",
     "output_type": "stream",
     "text": [
      "https://www.nongsaro.go.kr//cms_contents/1122/204861_MF_BIMG_01.jpg\n"
     ]
    },
    {
     "name": "stderr",
     "output_type": "stream",
     "text": [
      "/Users/soojin/opt/anaconda3/lib/python3.8/site-packages/urllib3/connectionpool.py:981: InsecureRequestWarning: Unverified HTTPS request is being made to host 'www.nongsaro.go.kr'. Adding certificate verification is strongly advised. See: https://urllib3.readthedocs.io/en/latest/advanced-usage.html#ssl-warnings\n",
      "  warnings.warn(\n"
     ]
    },
    {
     "name": "stdout",
     "output_type": "stream",
     "text": [
      "https://www.nongsaro.go.kr//cms_contents/1122/204860_MF_BIMG_01.jpg\n"
     ]
    },
    {
     "name": "stderr",
     "output_type": "stream",
     "text": [
      "/Users/soojin/opt/anaconda3/lib/python3.8/site-packages/urllib3/connectionpool.py:981: InsecureRequestWarning: Unverified HTTPS request is being made to host 'www.nongsaro.go.kr'. Adding certificate verification is strongly advised. See: https://urllib3.readthedocs.io/en/latest/advanced-usage.html#ssl-warnings\n",
      "  warnings.warn(\n"
     ]
    },
    {
     "name": "stdout",
     "output_type": "stream",
     "text": [
      "https://www.nongsaro.go.kr//cms_contents/1122/204859_MF_BIMG_01.jpg\n"
     ]
    },
    {
     "name": "stderr",
     "output_type": "stream",
     "text": [
      "/Users/soojin/opt/anaconda3/lib/python3.8/site-packages/urllib3/connectionpool.py:981: InsecureRequestWarning: Unverified HTTPS request is being made to host 'www.nongsaro.go.kr'. Adding certificate verification is strongly advised. See: https://urllib3.readthedocs.io/en/latest/advanced-usage.html#ssl-warnings\n",
      "  warnings.warn(\n"
     ]
    },
    {
     "name": "stdout",
     "output_type": "stream",
     "text": [
      "https://www.nongsaro.go.kr//cms_contents/1122/204858_MF_BIMG_01.jpg\n"
     ]
    },
    {
     "name": "stderr",
     "output_type": "stream",
     "text": [
      "/Users/soojin/opt/anaconda3/lib/python3.8/site-packages/urllib3/connectionpool.py:981: InsecureRequestWarning: Unverified HTTPS request is being made to host 'www.nongsaro.go.kr'. Adding certificate verification is strongly advised. See: https://urllib3.readthedocs.io/en/latest/advanced-usage.html#ssl-warnings\n",
      "  warnings.warn(\n"
     ]
    },
    {
     "name": "stdout",
     "output_type": "stream",
     "text": [
      "https://www.nongsaro.go.kr//cms_contents/1122/204857_MF_BIMG_01.jpg\n"
     ]
    },
    {
     "name": "stderr",
     "output_type": "stream",
     "text": [
      "/Users/soojin/opt/anaconda3/lib/python3.8/site-packages/urllib3/connectionpool.py:981: InsecureRequestWarning: Unverified HTTPS request is being made to host 'www.nongsaro.go.kr'. Adding certificate verification is strongly advised. See: https://urllib3.readthedocs.io/en/latest/advanced-usage.html#ssl-warnings\n",
      "  warnings.warn(\n"
     ]
    },
    {
     "name": "stdout",
     "output_type": "stream",
     "text": [
      "https://www.nongsaro.go.kr//cms_contents/1122/204856_MF_BIMG_01.jpg\n"
     ]
    },
    {
     "name": "stderr",
     "output_type": "stream",
     "text": [
      "/Users/soojin/opt/anaconda3/lib/python3.8/site-packages/urllib3/connectionpool.py:981: InsecureRequestWarning: Unverified HTTPS request is being made to host 'www.nongsaro.go.kr'. Adding certificate verification is strongly advised. See: https://urllib3.readthedocs.io/en/latest/advanced-usage.html#ssl-warnings\n",
      "  warnings.warn(\n"
     ]
    },
    {
     "name": "stdout",
     "output_type": "stream",
     "text": [
      "https://www.nongsaro.go.kr//cms_contents/1122/204855_MF_BIMG_01.jpg\n"
     ]
    },
    {
     "name": "stderr",
     "output_type": "stream",
     "text": [
      "/Users/soojin/opt/anaconda3/lib/python3.8/site-packages/urllib3/connectionpool.py:981: InsecureRequestWarning: Unverified HTTPS request is being made to host 'www.nongsaro.go.kr'. Adding certificate verification is strongly advised. See: https://urllib3.readthedocs.io/en/latest/advanced-usage.html#ssl-warnings\n",
      "  warnings.warn(\n"
     ]
    },
    {
     "name": "stdout",
     "output_type": "stream",
     "text": [
      "https://www.nongsaro.go.kr//cms_contents/1122/204854_MF_BIMG_01.jpg\n"
     ]
    },
    {
     "name": "stderr",
     "output_type": "stream",
     "text": [
      "/Users/soojin/opt/anaconda3/lib/python3.8/site-packages/urllib3/connectionpool.py:981: InsecureRequestWarning: Unverified HTTPS request is being made to host 'www.nongsaro.go.kr'. Adding certificate verification is strongly advised. See: https://urllib3.readthedocs.io/en/latest/advanced-usage.html#ssl-warnings\n",
      "  warnings.warn(\n"
     ]
    },
    {
     "name": "stdout",
     "output_type": "stream",
     "text": [
      "https://www.nongsaro.go.kr//cms_contents/1122/204853_MF_BIMG_01.jpg\n"
     ]
    },
    {
     "name": "stderr",
     "output_type": "stream",
     "text": [
      "/Users/soojin/opt/anaconda3/lib/python3.8/site-packages/urllib3/connectionpool.py:981: InsecureRequestWarning: Unverified HTTPS request is being made to host 'www.nongsaro.go.kr'. Adding certificate verification is strongly advised. See: https://urllib3.readthedocs.io/en/latest/advanced-usage.html#ssl-warnings\n",
      "  warnings.warn(\n"
     ]
    },
    {
     "name": "stdout",
     "output_type": "stream",
     "text": [
      "https://www.nongsaro.go.kr//cms_contents/1122/204852_MF_BIMG_01.jpg\n"
     ]
    },
    {
     "name": "stderr",
     "output_type": "stream",
     "text": [
      "/Users/soojin/opt/anaconda3/lib/python3.8/site-packages/urllib3/connectionpool.py:981: InsecureRequestWarning: Unverified HTTPS request is being made to host 'www.nongsaro.go.kr'. Adding certificate verification is strongly advised. See: https://urllib3.readthedocs.io/en/latest/advanced-usage.html#ssl-warnings\n",
      "  warnings.warn(\n"
     ]
    },
    {
     "name": "stdout",
     "output_type": "stream",
     "text": [
      "https://www.nongsaro.go.kr//cms_contents/1122/204851_MF_BIMG_01.jpg\n"
     ]
    },
    {
     "name": "stderr",
     "output_type": "stream",
     "text": [
      "/Users/soojin/opt/anaconda3/lib/python3.8/site-packages/urllib3/connectionpool.py:981: InsecureRequestWarning: Unverified HTTPS request is being made to host 'www.nongsaro.go.kr'. Adding certificate verification is strongly advised. See: https://urllib3.readthedocs.io/en/latest/advanced-usage.html#ssl-warnings\n",
      "  warnings.warn(\n"
     ]
    },
    {
     "name": "stdout",
     "output_type": "stream",
     "text": [
      "https://www.nongsaro.go.kr//cms_contents/1122/204850_MF_BIMG_01.jpg\n"
     ]
    },
    {
     "name": "stderr",
     "output_type": "stream",
     "text": [
      "/Users/soojin/opt/anaconda3/lib/python3.8/site-packages/urllib3/connectionpool.py:981: InsecureRequestWarning: Unverified HTTPS request is being made to host 'www.nongsaro.go.kr'. Adding certificate verification is strongly advised. See: https://urllib3.readthedocs.io/en/latest/advanced-usage.html#ssl-warnings\n",
      "  warnings.warn(\n"
     ]
    },
    {
     "name": "stdout",
     "output_type": "stream",
     "text": [
      "https://www.nongsaro.go.kr//cms_contents/1122/204849_MF_BIMG_01.jpg\n"
     ]
    },
    {
     "name": "stderr",
     "output_type": "stream",
     "text": [
      "/Users/soojin/opt/anaconda3/lib/python3.8/site-packages/urllib3/connectionpool.py:981: InsecureRequestWarning: Unverified HTTPS request is being made to host 'www.nongsaro.go.kr'. Adding certificate verification is strongly advised. See: https://urllib3.readthedocs.io/en/latest/advanced-usage.html#ssl-warnings\n",
      "  warnings.warn(\n"
     ]
    },
    {
     "name": "stdout",
     "output_type": "stream",
     "text": [
      "https://www.nongsaro.go.kr//cms_contents/1122/204848_MF_BIMG_01.jpg\n"
     ]
    },
    {
     "name": "stderr",
     "output_type": "stream",
     "text": [
      "/Users/soojin/opt/anaconda3/lib/python3.8/site-packages/urllib3/connectionpool.py:981: InsecureRequestWarning: Unverified HTTPS request is being made to host 'www.nongsaro.go.kr'. Adding certificate verification is strongly advised. See: https://urllib3.readthedocs.io/en/latest/advanced-usage.html#ssl-warnings\n",
      "  warnings.warn(\n"
     ]
    },
    {
     "name": "stdout",
     "output_type": "stream",
     "text": [
      "https://www.nongsaro.go.kr//cms_contents/1122/204847_MF_BIMG_01.jpg\n"
     ]
    },
    {
     "name": "stderr",
     "output_type": "stream",
     "text": [
      "/Users/soojin/opt/anaconda3/lib/python3.8/site-packages/urllib3/connectionpool.py:981: InsecureRequestWarning: Unverified HTTPS request is being made to host 'www.nongsaro.go.kr'. Adding certificate verification is strongly advised. See: https://urllib3.readthedocs.io/en/latest/advanced-usage.html#ssl-warnings\n",
      "  warnings.warn(\n"
     ]
    },
    {
     "name": "stdout",
     "output_type": "stream",
     "text": [
      "https://www.nongsaro.go.kr//cms_contents/1122/204846_MF_BIMG_01.jpg\n"
     ]
    },
    {
     "name": "stderr",
     "output_type": "stream",
     "text": [
      "/Users/soojin/opt/anaconda3/lib/python3.8/site-packages/urllib3/connectionpool.py:981: InsecureRequestWarning: Unverified HTTPS request is being made to host 'www.nongsaro.go.kr'. Adding certificate verification is strongly advised. See: https://urllib3.readthedocs.io/en/latest/advanced-usage.html#ssl-warnings\n",
      "  warnings.warn(\n"
     ]
    },
    {
     "name": "stdout",
     "output_type": "stream",
     "text": [
      "https://www.nongsaro.go.kr//cms_contents/1122/204845_MF_BIMG_01.jpg\n"
     ]
    },
    {
     "name": "stderr",
     "output_type": "stream",
     "text": [
      "/Users/soojin/opt/anaconda3/lib/python3.8/site-packages/urllib3/connectionpool.py:981: InsecureRequestWarning: Unverified HTTPS request is being made to host 'www.nongsaro.go.kr'. Adding certificate verification is strongly advised. See: https://urllib3.readthedocs.io/en/latest/advanced-usage.html#ssl-warnings\n",
      "  warnings.warn(\n"
     ]
    },
    {
     "name": "stdout",
     "output_type": "stream",
     "text": [
      "https://www.nongsaro.go.kr//cms_contents/1122/204844_MF_BIMG_01.jpg\n"
     ]
    },
    {
     "name": "stderr",
     "output_type": "stream",
     "text": [
      "/Users/soojin/opt/anaconda3/lib/python3.8/site-packages/urllib3/connectionpool.py:981: InsecureRequestWarning: Unverified HTTPS request is being made to host 'www.nongsaro.go.kr'. Adding certificate verification is strongly advised. See: https://urllib3.readthedocs.io/en/latest/advanced-usage.html#ssl-warnings\n",
      "  warnings.warn(\n"
     ]
    },
    {
     "name": "stdout",
     "output_type": "stream",
     "text": [
      "https://www.nongsaro.go.kr//cms_contents/1122/204843_MF_BIMG_01.jpg\n"
     ]
    },
    {
     "name": "stderr",
     "output_type": "stream",
     "text": [
      "/Users/soojin/opt/anaconda3/lib/python3.8/site-packages/urllib3/connectionpool.py:981: InsecureRequestWarning: Unverified HTTPS request is being made to host 'www.nongsaro.go.kr'. Adding certificate verification is strongly advised. See: https://urllib3.readthedocs.io/en/latest/advanced-usage.html#ssl-warnings\n",
      "  warnings.warn(\n"
     ]
    },
    {
     "name": "stdout",
     "output_type": "stream",
     "text": [
      "https://www.nongsaro.go.kr//cms_contents/1122/204842_MF_BIMG_01.jpg\n"
     ]
    },
    {
     "name": "stderr",
     "output_type": "stream",
     "text": [
      "/Users/soojin/opt/anaconda3/lib/python3.8/site-packages/urllib3/connectionpool.py:981: InsecureRequestWarning: Unverified HTTPS request is being made to host 'www.nongsaro.go.kr'. Adding certificate verification is strongly advised. See: https://urllib3.readthedocs.io/en/latest/advanced-usage.html#ssl-warnings\n",
      "  warnings.warn(\n"
     ]
    },
    {
     "name": "stdout",
     "output_type": "stream",
     "text": [
      "https://www.nongsaro.go.kr//cms_contents/1122/204841_MF_BIMG_01.jpg\n"
     ]
    },
    {
     "name": "stderr",
     "output_type": "stream",
     "text": [
      "/Users/soojin/opt/anaconda3/lib/python3.8/site-packages/urllib3/connectionpool.py:981: InsecureRequestWarning: Unverified HTTPS request is being made to host 'www.nongsaro.go.kr'. Adding certificate verification is strongly advised. See: https://urllib3.readthedocs.io/en/latest/advanced-usage.html#ssl-warnings\n",
      "  warnings.warn(\n"
     ]
    },
    {
     "name": "stdout",
     "output_type": "stream",
     "text": [
      "https://www.nongsaro.go.kr//cms_contents/1122/204840_MF_BIMG_01.jpg\n"
     ]
    },
    {
     "name": "stderr",
     "output_type": "stream",
     "text": [
      "/Users/soojin/opt/anaconda3/lib/python3.8/site-packages/urllib3/connectionpool.py:981: InsecureRequestWarning: Unverified HTTPS request is being made to host 'www.nongsaro.go.kr'. Adding certificate verification is strongly advised. See: https://urllib3.readthedocs.io/en/latest/advanced-usage.html#ssl-warnings\n",
      "  warnings.warn(\n"
     ]
    },
    {
     "name": "stdout",
     "output_type": "stream",
     "text": [
      "https://www.nongsaro.go.kr//cms_contents/1122/204839_MF_BIMG_01.jpg\n"
     ]
    },
    {
     "name": "stderr",
     "output_type": "stream",
     "text": [
      "/Users/soojin/opt/anaconda3/lib/python3.8/site-packages/urllib3/connectionpool.py:981: InsecureRequestWarning: Unverified HTTPS request is being made to host 'www.nongsaro.go.kr'. Adding certificate verification is strongly advised. See: https://urllib3.readthedocs.io/en/latest/advanced-usage.html#ssl-warnings\n",
      "  warnings.warn(\n"
     ]
    },
    {
     "name": "stdout",
     "output_type": "stream",
     "text": [
      "https://www.nongsaro.go.kr//cms_contents/1122/204838_MF_BIMG_01.jpg\n"
     ]
    },
    {
     "name": "stderr",
     "output_type": "stream",
     "text": [
      "/Users/soojin/opt/anaconda3/lib/python3.8/site-packages/urllib3/connectionpool.py:981: InsecureRequestWarning: Unverified HTTPS request is being made to host 'www.nongsaro.go.kr'. Adding certificate verification is strongly advised. See: https://urllib3.readthedocs.io/en/latest/advanced-usage.html#ssl-warnings\n",
      "  warnings.warn(\n"
     ]
    },
    {
     "name": "stdout",
     "output_type": "stream",
     "text": [
      "https://www.nongsaro.go.kr//cms_contents/1122/204837_MF_BIMG_01.jpg\n"
     ]
    },
    {
     "name": "stderr",
     "output_type": "stream",
     "text": [
      "/Users/soojin/opt/anaconda3/lib/python3.8/site-packages/urllib3/connectionpool.py:981: InsecureRequestWarning: Unverified HTTPS request is being made to host 'www.nongsaro.go.kr'. Adding certificate verification is strongly advised. See: https://urllib3.readthedocs.io/en/latest/advanced-usage.html#ssl-warnings\n",
      "  warnings.warn(\n"
     ]
    },
    {
     "name": "stdout",
     "output_type": "stream",
     "text": [
      "https://www.nongsaro.go.kr//cms_contents/1122/204836_MF_BIMG_01.jpg\n"
     ]
    },
    {
     "name": "stderr",
     "output_type": "stream",
     "text": [
      "/Users/soojin/opt/anaconda3/lib/python3.8/site-packages/urllib3/connectionpool.py:981: InsecureRequestWarning: Unverified HTTPS request is being made to host 'www.nongsaro.go.kr'. Adding certificate verification is strongly advised. See: https://urllib3.readthedocs.io/en/latest/advanced-usage.html#ssl-warnings\n",
      "  warnings.warn(\n"
     ]
    },
    {
     "name": "stdout",
     "output_type": "stream",
     "text": [
      "https://www.nongsaro.go.kr//cms_contents/1122/204835_MF_BIMG_01.jpg\n"
     ]
    },
    {
     "name": "stderr",
     "output_type": "stream",
     "text": [
      "/Users/soojin/opt/anaconda3/lib/python3.8/site-packages/urllib3/connectionpool.py:981: InsecureRequestWarning: Unverified HTTPS request is being made to host 'www.nongsaro.go.kr'. Adding certificate verification is strongly advised. See: https://urllib3.readthedocs.io/en/latest/advanced-usage.html#ssl-warnings\n",
      "  warnings.warn(\n"
     ]
    },
    {
     "name": "stdout",
     "output_type": "stream",
     "text": [
      "https://www.nongsaro.go.kr//cms_contents/1122/204834_MF_BIMG_01.jpg\n"
     ]
    },
    {
     "name": "stderr",
     "output_type": "stream",
     "text": [
      "/Users/soojin/opt/anaconda3/lib/python3.8/site-packages/urllib3/connectionpool.py:981: InsecureRequestWarning: Unverified HTTPS request is being made to host 'www.nongsaro.go.kr'. Adding certificate verification is strongly advised. See: https://urllib3.readthedocs.io/en/latest/advanced-usage.html#ssl-warnings\n",
      "  warnings.warn(\n"
     ]
    },
    {
     "name": "stdout",
     "output_type": "stream",
     "text": [
      "https://www.nongsaro.go.kr//cms_contents/1122/204833_MF_BIMG_01.jpg\n"
     ]
    },
    {
     "name": "stderr",
     "output_type": "stream",
     "text": [
      "/Users/soojin/opt/anaconda3/lib/python3.8/site-packages/urllib3/connectionpool.py:981: InsecureRequestWarning: Unverified HTTPS request is being made to host 'www.nongsaro.go.kr'. Adding certificate verification is strongly advised. See: https://urllib3.readthedocs.io/en/latest/advanced-usage.html#ssl-warnings\n",
      "  warnings.warn(\n"
     ]
    },
    {
     "name": "stdout",
     "output_type": "stream",
     "text": [
      "https://www.nongsaro.go.kr//cms_contents/1122/204832_MF_BIMG_01.jpg\n"
     ]
    },
    {
     "name": "stderr",
     "output_type": "stream",
     "text": [
      "/Users/soojin/opt/anaconda3/lib/python3.8/site-packages/urllib3/connectionpool.py:981: InsecureRequestWarning: Unverified HTTPS request is being made to host 'www.nongsaro.go.kr'. Adding certificate verification is strongly advised. See: https://urllib3.readthedocs.io/en/latest/advanced-usage.html#ssl-warnings\n",
      "  warnings.warn(\n"
     ]
    },
    {
     "name": "stdout",
     "output_type": "stream",
     "text": [
      "https://www.nongsaro.go.kr//cms_contents/1122/204831_MF_BIMG_01.jpg\n"
     ]
    },
    {
     "name": "stderr",
     "output_type": "stream",
     "text": [
      "/Users/soojin/opt/anaconda3/lib/python3.8/site-packages/urllib3/connectionpool.py:981: InsecureRequestWarning: Unverified HTTPS request is being made to host 'www.nongsaro.go.kr'. Adding certificate verification is strongly advised. See: https://urllib3.readthedocs.io/en/latest/advanced-usage.html#ssl-warnings\n",
      "  warnings.warn(\n"
     ]
    },
    {
     "name": "stdout",
     "output_type": "stream",
     "text": [
      "https://www.nongsaro.go.kr//cms_contents/1122/204830_MF_BIMG_01.jpg\n"
     ]
    },
    {
     "name": "stderr",
     "output_type": "stream",
     "text": [
      "/Users/soojin/opt/anaconda3/lib/python3.8/site-packages/urllib3/connectionpool.py:981: InsecureRequestWarning: Unverified HTTPS request is being made to host 'www.nongsaro.go.kr'. Adding certificate verification is strongly advised. See: https://urllib3.readthedocs.io/en/latest/advanced-usage.html#ssl-warnings\n",
      "  warnings.warn(\n"
     ]
    },
    {
     "name": "stdout",
     "output_type": "stream",
     "text": [
      "https://www.nongsaro.go.kr//cms_contents/1122/204829_MF_BIMG_01.jpg\n"
     ]
    },
    {
     "name": "stderr",
     "output_type": "stream",
     "text": [
      "/Users/soojin/opt/anaconda3/lib/python3.8/site-packages/urllib3/connectionpool.py:981: InsecureRequestWarning: Unverified HTTPS request is being made to host 'www.nongsaro.go.kr'. Adding certificate verification is strongly advised. See: https://urllib3.readthedocs.io/en/latest/advanced-usage.html#ssl-warnings\n",
      "  warnings.warn(\n"
     ]
    },
    {
     "name": "stdout",
     "output_type": "stream",
     "text": [
      "https://www.nongsaro.go.kr//cms_contents/1122/204828_MF_BIMG_01.jpg\n"
     ]
    },
    {
     "name": "stderr",
     "output_type": "stream",
     "text": [
      "/Users/soojin/opt/anaconda3/lib/python3.8/site-packages/urllib3/connectionpool.py:981: InsecureRequestWarning: Unverified HTTPS request is being made to host 'www.nongsaro.go.kr'. Adding certificate verification is strongly advised. See: https://urllib3.readthedocs.io/en/latest/advanced-usage.html#ssl-warnings\n",
      "  warnings.warn(\n"
     ]
    },
    {
     "name": "stdout",
     "output_type": "stream",
     "text": [
      "https://www.nongsaro.go.kr//cms_contents/1122/204827_MF_BIMG_01.jpg\n"
     ]
    },
    {
     "name": "stderr",
     "output_type": "stream",
     "text": [
      "/Users/soojin/opt/anaconda3/lib/python3.8/site-packages/urllib3/connectionpool.py:981: InsecureRequestWarning: Unverified HTTPS request is being made to host 'www.nongsaro.go.kr'. Adding certificate verification is strongly advised. See: https://urllib3.readthedocs.io/en/latest/advanced-usage.html#ssl-warnings\n",
      "  warnings.warn(\n"
     ]
    },
    {
     "name": "stdout",
     "output_type": "stream",
     "text": [
      "https://www.nongsaro.go.kr//cms_contents/1122/204826_MF_BIMG_01.jpg\n"
     ]
    },
    {
     "name": "stderr",
     "output_type": "stream",
     "text": [
      "/Users/soojin/opt/anaconda3/lib/python3.8/site-packages/urllib3/connectionpool.py:981: InsecureRequestWarning: Unverified HTTPS request is being made to host 'www.nongsaro.go.kr'. Adding certificate verification is strongly advised. See: https://urllib3.readthedocs.io/en/latest/advanced-usage.html#ssl-warnings\n",
      "  warnings.warn(\n"
     ]
    },
    {
     "name": "stdout",
     "output_type": "stream",
     "text": [
      "https://www.nongsaro.go.kr//cms_contents/1122/204825_MF_BIMG_01.jpg\n"
     ]
    },
    {
     "name": "stderr",
     "output_type": "stream",
     "text": [
      "/Users/soojin/opt/anaconda3/lib/python3.8/site-packages/urllib3/connectionpool.py:981: InsecureRequestWarning: Unverified HTTPS request is being made to host 'www.nongsaro.go.kr'. Adding certificate verification is strongly advised. See: https://urllib3.readthedocs.io/en/latest/advanced-usage.html#ssl-warnings\n",
      "  warnings.warn(\n"
     ]
    },
    {
     "name": "stdout",
     "output_type": "stream",
     "text": [
      "https://www.nongsaro.go.kr//cms_contents/1122/204824_MF_BIMG_01.jpg\n"
     ]
    },
    {
     "name": "stderr",
     "output_type": "stream",
     "text": [
      "/Users/soojin/opt/anaconda3/lib/python3.8/site-packages/urllib3/connectionpool.py:981: InsecureRequestWarning: Unverified HTTPS request is being made to host 'www.nongsaro.go.kr'. Adding certificate verification is strongly advised. See: https://urllib3.readthedocs.io/en/latest/advanced-usage.html#ssl-warnings\n",
      "  warnings.warn(\n"
     ]
    },
    {
     "name": "stdout",
     "output_type": "stream",
     "text": [
      "https://www.nongsaro.go.kr//cms_contents/1122/204823_MF_BIMG_01.jpg\n"
     ]
    },
    {
     "name": "stderr",
     "output_type": "stream",
     "text": [
      "/Users/soojin/opt/anaconda3/lib/python3.8/site-packages/urllib3/connectionpool.py:981: InsecureRequestWarning: Unverified HTTPS request is being made to host 'www.nongsaro.go.kr'. Adding certificate verification is strongly advised. See: https://urllib3.readthedocs.io/en/latest/advanced-usage.html#ssl-warnings\n",
      "  warnings.warn(\n"
     ]
    },
    {
     "name": "stdout",
     "output_type": "stream",
     "text": [
      "https://www.nongsaro.go.kr//cms_contents/1122/204822_MF_BIMG_01.jpg\n"
     ]
    },
    {
     "name": "stderr",
     "output_type": "stream",
     "text": [
      "/Users/soojin/opt/anaconda3/lib/python3.8/site-packages/urllib3/connectionpool.py:981: InsecureRequestWarning: Unverified HTTPS request is being made to host 'www.nongsaro.go.kr'. Adding certificate verification is strongly advised. See: https://urllib3.readthedocs.io/en/latest/advanced-usage.html#ssl-warnings\n",
      "  warnings.warn(\n"
     ]
    },
    {
     "name": "stdout",
     "output_type": "stream",
     "text": [
      "https://www.nongsaro.go.kr//cms_contents/1122/204821_MF_BIMG_01.jpg\n"
     ]
    },
    {
     "name": "stderr",
     "output_type": "stream",
     "text": [
      "/Users/soojin/opt/anaconda3/lib/python3.8/site-packages/urllib3/connectionpool.py:981: InsecureRequestWarning: Unverified HTTPS request is being made to host 'www.nongsaro.go.kr'. Adding certificate verification is strongly advised. See: https://urllib3.readthedocs.io/en/latest/advanced-usage.html#ssl-warnings\n",
      "  warnings.warn(\n"
     ]
    },
    {
     "name": "stdout",
     "output_type": "stream",
     "text": [
      "https://www.nongsaro.go.kr//cms_contents/1122/204820_MF_BIMG_01.jpg\n"
     ]
    },
    {
     "name": "stderr",
     "output_type": "stream",
     "text": [
      "/Users/soojin/opt/anaconda3/lib/python3.8/site-packages/urllib3/connectionpool.py:981: InsecureRequestWarning: Unverified HTTPS request is being made to host 'www.nongsaro.go.kr'. Adding certificate verification is strongly advised. See: https://urllib3.readthedocs.io/en/latest/advanced-usage.html#ssl-warnings\n",
      "  warnings.warn(\n"
     ]
    },
    {
     "name": "stdout",
     "output_type": "stream",
     "text": [
      "https://www.nongsaro.go.kr//cms_contents/1122/204819_MF_BIMG_01.jpg\n"
     ]
    },
    {
     "name": "stderr",
     "output_type": "stream",
     "text": [
      "/Users/soojin/opt/anaconda3/lib/python3.8/site-packages/urllib3/connectionpool.py:981: InsecureRequestWarning: Unverified HTTPS request is being made to host 'www.nongsaro.go.kr'. Adding certificate verification is strongly advised. See: https://urllib3.readthedocs.io/en/latest/advanced-usage.html#ssl-warnings\n",
      "  warnings.warn(\n"
     ]
    },
    {
     "name": "stdout",
     "output_type": "stream",
     "text": [
      "https://www.nongsaro.go.kr//cms_contents/1122/204818_MF_BIMG_01.jpg\n"
     ]
    },
    {
     "name": "stderr",
     "output_type": "stream",
     "text": [
      "/Users/soojin/opt/anaconda3/lib/python3.8/site-packages/urllib3/connectionpool.py:981: InsecureRequestWarning: Unverified HTTPS request is being made to host 'www.nongsaro.go.kr'. Adding certificate verification is strongly advised. See: https://urllib3.readthedocs.io/en/latest/advanced-usage.html#ssl-warnings\n",
      "  warnings.warn(\n"
     ]
    },
    {
     "name": "stdout",
     "output_type": "stream",
     "text": [
      "https://www.nongsaro.go.kr//cms_contents/1122/204817_MF_BIMG_01.jpg\n"
     ]
    },
    {
     "name": "stderr",
     "output_type": "stream",
     "text": [
      "/Users/soojin/opt/anaconda3/lib/python3.8/site-packages/urllib3/connectionpool.py:981: InsecureRequestWarning: Unverified HTTPS request is being made to host 'www.nongsaro.go.kr'. Adding certificate verification is strongly advised. See: https://urllib3.readthedocs.io/en/latest/advanced-usage.html#ssl-warnings\n",
      "  warnings.warn(\n"
     ]
    },
    {
     "name": "stdout",
     "output_type": "stream",
     "text": [
      "https://www.nongsaro.go.kr//cms_contents/1122/204816_MF_BIMG_01.jpg\n"
     ]
    },
    {
     "name": "stderr",
     "output_type": "stream",
     "text": [
      "/Users/soojin/opt/anaconda3/lib/python3.8/site-packages/urllib3/connectionpool.py:981: InsecureRequestWarning: Unverified HTTPS request is being made to host 'www.nongsaro.go.kr'. Adding certificate verification is strongly advised. See: https://urllib3.readthedocs.io/en/latest/advanced-usage.html#ssl-warnings\n",
      "  warnings.warn(\n"
     ]
    },
    {
     "name": "stdout",
     "output_type": "stream",
     "text": [
      "https://www.nongsaro.go.kr//cms_contents/1122/204815_MF_BIMG_01.jpg\n"
     ]
    },
    {
     "name": "stderr",
     "output_type": "stream",
     "text": [
      "/Users/soojin/opt/anaconda3/lib/python3.8/site-packages/urllib3/connectionpool.py:981: InsecureRequestWarning: Unverified HTTPS request is being made to host 'www.nongsaro.go.kr'. Adding certificate verification is strongly advised. See: https://urllib3.readthedocs.io/en/latest/advanced-usage.html#ssl-warnings\n",
      "  warnings.warn(\n"
     ]
    },
    {
     "name": "stdout",
     "output_type": "stream",
     "text": [
      "https://www.nongsaro.go.kr//cms_contents/1122/204814_MF_BIMG_01.jpg\n"
     ]
    },
    {
     "name": "stderr",
     "output_type": "stream",
     "text": [
      "/Users/soojin/opt/anaconda3/lib/python3.8/site-packages/urllib3/connectionpool.py:981: InsecureRequestWarning: Unverified HTTPS request is being made to host 'www.nongsaro.go.kr'. Adding certificate verification is strongly advised. See: https://urllib3.readthedocs.io/en/latest/advanced-usage.html#ssl-warnings\n",
      "  warnings.warn(\n"
     ]
    },
    {
     "name": "stdout",
     "output_type": "stream",
     "text": [
      "https://www.nongsaro.go.kr//cms_contents/1122/204813_MF_BIMG_01.jpg\n"
     ]
    },
    {
     "name": "stderr",
     "output_type": "stream",
     "text": [
      "/Users/soojin/opt/anaconda3/lib/python3.8/site-packages/urllib3/connectionpool.py:981: InsecureRequestWarning: Unverified HTTPS request is being made to host 'www.nongsaro.go.kr'. Adding certificate verification is strongly advised. See: https://urllib3.readthedocs.io/en/latest/advanced-usage.html#ssl-warnings\n",
      "  warnings.warn(\n"
     ]
    },
    {
     "name": "stdout",
     "output_type": "stream",
     "text": [
      "https://www.nongsaro.go.kr//cms_contents/1122/204812_MF_BIMG_01.jpg\n"
     ]
    },
    {
     "name": "stderr",
     "output_type": "stream",
     "text": [
      "/Users/soojin/opt/anaconda3/lib/python3.8/site-packages/urllib3/connectionpool.py:981: InsecureRequestWarning: Unverified HTTPS request is being made to host 'www.nongsaro.go.kr'. Adding certificate verification is strongly advised. See: https://urllib3.readthedocs.io/en/latest/advanced-usage.html#ssl-warnings\n",
      "  warnings.warn(\n"
     ]
    },
    {
     "name": "stdout",
     "output_type": "stream",
     "text": [
      "https://www.nongsaro.go.kr//cms_contents/1122/204811_MF_BIMG_01.jpg\n"
     ]
    },
    {
     "name": "stderr",
     "output_type": "stream",
     "text": [
      "/Users/soojin/opt/anaconda3/lib/python3.8/site-packages/urllib3/connectionpool.py:981: InsecureRequestWarning: Unverified HTTPS request is being made to host 'www.nongsaro.go.kr'. Adding certificate verification is strongly advised. See: https://urllib3.readthedocs.io/en/latest/advanced-usage.html#ssl-warnings\n",
      "  warnings.warn(\n"
     ]
    },
    {
     "name": "stdout",
     "output_type": "stream",
     "text": [
      "https://www.nongsaro.go.kr//cms_contents/1122/204810_MF_BIMG_01.jpg\n"
     ]
    },
    {
     "name": "stderr",
     "output_type": "stream",
     "text": [
      "/Users/soojin/opt/anaconda3/lib/python3.8/site-packages/urllib3/connectionpool.py:981: InsecureRequestWarning: Unverified HTTPS request is being made to host 'www.nongsaro.go.kr'. Adding certificate verification is strongly advised. See: https://urllib3.readthedocs.io/en/latest/advanced-usage.html#ssl-warnings\n",
      "  warnings.warn(\n"
     ]
    },
    {
     "name": "stdout",
     "output_type": "stream",
     "text": [
      "https://www.nongsaro.go.kr//cms_contents/1122/204809_MF_BIMG_01.jpg\n"
     ]
    },
    {
     "name": "stderr",
     "output_type": "stream",
     "text": [
      "/Users/soojin/opt/anaconda3/lib/python3.8/site-packages/urllib3/connectionpool.py:981: InsecureRequestWarning: Unverified HTTPS request is being made to host 'www.nongsaro.go.kr'. Adding certificate verification is strongly advised. See: https://urllib3.readthedocs.io/en/latest/advanced-usage.html#ssl-warnings\n",
      "  warnings.warn(\n"
     ]
    },
    {
     "name": "stdout",
     "output_type": "stream",
     "text": [
      "https://www.nongsaro.go.kr//cms_contents/1122/204808_MF_BIMG_01.jpg\n"
     ]
    },
    {
     "name": "stderr",
     "output_type": "stream",
     "text": [
      "/Users/soojin/opt/anaconda3/lib/python3.8/site-packages/urllib3/connectionpool.py:981: InsecureRequestWarning: Unverified HTTPS request is being made to host 'www.nongsaro.go.kr'. Adding certificate verification is strongly advised. See: https://urllib3.readthedocs.io/en/latest/advanced-usage.html#ssl-warnings\n",
      "  warnings.warn(\n"
     ]
    },
    {
     "name": "stdout",
     "output_type": "stream",
     "text": [
      "https://www.nongsaro.go.kr//cms_contents/1122/204807_MF_BIMG_01.jpg\n"
     ]
    },
    {
     "name": "stderr",
     "output_type": "stream",
     "text": [
      "/Users/soojin/opt/anaconda3/lib/python3.8/site-packages/urllib3/connectionpool.py:981: InsecureRequestWarning: Unverified HTTPS request is being made to host 'www.nongsaro.go.kr'. Adding certificate verification is strongly advised. See: https://urllib3.readthedocs.io/en/latest/advanced-usage.html#ssl-warnings\n",
      "  warnings.warn(\n"
     ]
    },
    {
     "name": "stdout",
     "output_type": "stream",
     "text": [
      "https://www.nongsaro.go.kr//cms_contents/1122/204806_MF_BIMG_01.jpg\n"
     ]
    },
    {
     "name": "stderr",
     "output_type": "stream",
     "text": [
      "/Users/soojin/opt/anaconda3/lib/python3.8/site-packages/urllib3/connectionpool.py:981: InsecureRequestWarning: Unverified HTTPS request is being made to host 'www.nongsaro.go.kr'. Adding certificate verification is strongly advised. See: https://urllib3.readthedocs.io/en/latest/advanced-usage.html#ssl-warnings\n",
      "  warnings.warn(\n"
     ]
    },
    {
     "name": "stdout",
     "output_type": "stream",
     "text": [
      "https://www.nongsaro.go.kr//cms_contents/1122/204805_MF_BIMG_01.jpg\n"
     ]
    },
    {
     "name": "stderr",
     "output_type": "stream",
     "text": [
      "/Users/soojin/opt/anaconda3/lib/python3.8/site-packages/urllib3/connectionpool.py:981: InsecureRequestWarning: Unverified HTTPS request is being made to host 'www.nongsaro.go.kr'. Adding certificate verification is strongly advised. See: https://urllib3.readthedocs.io/en/latest/advanced-usage.html#ssl-warnings\n",
      "  warnings.warn(\n"
     ]
    },
    {
     "name": "stdout",
     "output_type": "stream",
     "text": [
      "https://www.nongsaro.go.kr//cms_contents/1122/204804_MF_BIMG_01.jpg\n"
     ]
    },
    {
     "name": "stderr",
     "output_type": "stream",
     "text": [
      "/Users/soojin/opt/anaconda3/lib/python3.8/site-packages/urllib3/connectionpool.py:981: InsecureRequestWarning: Unverified HTTPS request is being made to host 'www.nongsaro.go.kr'. Adding certificate verification is strongly advised. See: https://urllib3.readthedocs.io/en/latest/advanced-usage.html#ssl-warnings\n",
      "  warnings.warn(\n"
     ]
    },
    {
     "name": "stdout",
     "output_type": "stream",
     "text": [
      "https://www.nongsaro.go.kr//cms_contents/1122/204803_MF_BIMG_01.jpg\n"
     ]
    },
    {
     "name": "stderr",
     "output_type": "stream",
     "text": [
      "/Users/soojin/opt/anaconda3/lib/python3.8/site-packages/urllib3/connectionpool.py:981: InsecureRequestWarning: Unverified HTTPS request is being made to host 'www.nongsaro.go.kr'. Adding certificate verification is strongly advised. See: https://urllib3.readthedocs.io/en/latest/advanced-usage.html#ssl-warnings\n",
      "  warnings.warn(\n"
     ]
    },
    {
     "name": "stdout",
     "output_type": "stream",
     "text": [
      "https://www.nongsaro.go.kr//cms_contents/1122/204802_MF_BIMG_01.jpg\n"
     ]
    },
    {
     "name": "stderr",
     "output_type": "stream",
     "text": [
      "/Users/soojin/opt/anaconda3/lib/python3.8/site-packages/urllib3/connectionpool.py:981: InsecureRequestWarning: Unverified HTTPS request is being made to host 'www.nongsaro.go.kr'. Adding certificate verification is strongly advised. See: https://urllib3.readthedocs.io/en/latest/advanced-usage.html#ssl-warnings\n",
      "  warnings.warn(\n"
     ]
    },
    {
     "name": "stdout",
     "output_type": "stream",
     "text": [
      "https://www.nongsaro.go.kr//cms_contents/1122/204801_MF_BIMG_01.jpg\n"
     ]
    },
    {
     "name": "stderr",
     "output_type": "stream",
     "text": [
      "/Users/soojin/opt/anaconda3/lib/python3.8/site-packages/urllib3/connectionpool.py:981: InsecureRequestWarning: Unverified HTTPS request is being made to host 'www.nongsaro.go.kr'. Adding certificate verification is strongly advised. See: https://urllib3.readthedocs.io/en/latest/advanced-usage.html#ssl-warnings\n",
      "  warnings.warn(\n"
     ]
    },
    {
     "name": "stdout",
     "output_type": "stream",
     "text": [
      "https://www.nongsaro.go.kr//cms_contents/1122/204800_MF_BIMG_01.jpg\n"
     ]
    },
    {
     "name": "stderr",
     "output_type": "stream",
     "text": [
      "/Users/soojin/opt/anaconda3/lib/python3.8/site-packages/urllib3/connectionpool.py:981: InsecureRequestWarning: Unverified HTTPS request is being made to host 'www.nongsaro.go.kr'. Adding certificate verification is strongly advised. See: https://urllib3.readthedocs.io/en/latest/advanced-usage.html#ssl-warnings\n",
      "  warnings.warn(\n"
     ]
    },
    {
     "name": "stdout",
     "output_type": "stream",
     "text": [
      "https://www.nongsaro.go.kr//cms_contents/1122/204799_MF_BIMG_01.jpg\n"
     ]
    },
    {
     "name": "stderr",
     "output_type": "stream",
     "text": [
      "/Users/soojin/opt/anaconda3/lib/python3.8/site-packages/urllib3/connectionpool.py:981: InsecureRequestWarning: Unverified HTTPS request is being made to host 'www.nongsaro.go.kr'. Adding certificate verification is strongly advised. See: https://urllib3.readthedocs.io/en/latest/advanced-usage.html#ssl-warnings\n",
      "  warnings.warn(\n"
     ]
    },
    {
     "name": "stdout",
     "output_type": "stream",
     "text": [
      "https://www.nongsaro.go.kr//cms_contents/1122/204798_MF_BIMG_01.jpg\n"
     ]
    },
    {
     "name": "stderr",
     "output_type": "stream",
     "text": [
      "/Users/soojin/opt/anaconda3/lib/python3.8/site-packages/urllib3/connectionpool.py:981: InsecureRequestWarning: Unverified HTTPS request is being made to host 'www.nongsaro.go.kr'. Adding certificate verification is strongly advised. See: https://urllib3.readthedocs.io/en/latest/advanced-usage.html#ssl-warnings\n",
      "  warnings.warn(\n"
     ]
    },
    {
     "name": "stdout",
     "output_type": "stream",
     "text": [
      "https://www.nongsaro.go.kr//cms_contents/1122/204797_MF_BIMG_01.jpg\n"
     ]
    },
    {
     "name": "stderr",
     "output_type": "stream",
     "text": [
      "/Users/soojin/opt/anaconda3/lib/python3.8/site-packages/urllib3/connectionpool.py:981: InsecureRequestWarning: Unverified HTTPS request is being made to host 'www.nongsaro.go.kr'. Adding certificate verification is strongly advised. See: https://urllib3.readthedocs.io/en/latest/advanced-usage.html#ssl-warnings\n",
      "  warnings.warn(\n"
     ]
    },
    {
     "name": "stdout",
     "output_type": "stream",
     "text": [
      "https://www.nongsaro.go.kr//cms_contents/1122/204796_MF_BIMG_01.jpg\n"
     ]
    },
    {
     "name": "stderr",
     "output_type": "stream",
     "text": [
      "/Users/soojin/opt/anaconda3/lib/python3.8/site-packages/urllib3/connectionpool.py:981: InsecureRequestWarning: Unverified HTTPS request is being made to host 'www.nongsaro.go.kr'. Adding certificate verification is strongly advised. See: https://urllib3.readthedocs.io/en/latest/advanced-usage.html#ssl-warnings\n",
      "  warnings.warn(\n"
     ]
    },
    {
     "name": "stdout",
     "output_type": "stream",
     "text": [
      "https://www.nongsaro.go.kr//cms_contents/1122/204795_MF_BIMG_01.jpg\n"
     ]
    },
    {
     "name": "stderr",
     "output_type": "stream",
     "text": [
      "/Users/soojin/opt/anaconda3/lib/python3.8/site-packages/urllib3/connectionpool.py:981: InsecureRequestWarning: Unverified HTTPS request is being made to host 'www.nongsaro.go.kr'. Adding certificate verification is strongly advised. See: https://urllib3.readthedocs.io/en/latest/advanced-usage.html#ssl-warnings\n",
      "  warnings.warn(\n"
     ]
    },
    {
     "name": "stdout",
     "output_type": "stream",
     "text": [
      "https://www.nongsaro.go.kr//cms_contents/1122/204794_MF_BIMG_01.jpg\n"
     ]
    },
    {
     "name": "stderr",
     "output_type": "stream",
     "text": [
      "/Users/soojin/opt/anaconda3/lib/python3.8/site-packages/urllib3/connectionpool.py:981: InsecureRequestWarning: Unverified HTTPS request is being made to host 'www.nongsaro.go.kr'. Adding certificate verification is strongly advised. See: https://urllib3.readthedocs.io/en/latest/advanced-usage.html#ssl-warnings\n",
      "  warnings.warn(\n"
     ]
    },
    {
     "name": "stdout",
     "output_type": "stream",
     "text": [
      "https://www.nongsaro.go.kr//cms_contents/1122/204793_MF_BIMG_01.jpg\n"
     ]
    },
    {
     "name": "stderr",
     "output_type": "stream",
     "text": [
      "/Users/soojin/opt/anaconda3/lib/python3.8/site-packages/urllib3/connectionpool.py:981: InsecureRequestWarning: Unverified HTTPS request is being made to host 'www.nongsaro.go.kr'. Adding certificate verification is strongly advised. See: https://urllib3.readthedocs.io/en/latest/advanced-usage.html#ssl-warnings\n",
      "  warnings.warn(\n"
     ]
    },
    {
     "name": "stdout",
     "output_type": "stream",
     "text": [
      "https://www.nongsaro.go.kr//cms_contents/1122/204792_MF_BIMG_01.jpg\n"
     ]
    },
    {
     "name": "stderr",
     "output_type": "stream",
     "text": [
      "/Users/soojin/opt/anaconda3/lib/python3.8/site-packages/urllib3/connectionpool.py:981: InsecureRequestWarning: Unverified HTTPS request is being made to host 'www.nongsaro.go.kr'. Adding certificate verification is strongly advised. See: https://urllib3.readthedocs.io/en/latest/advanced-usage.html#ssl-warnings\n",
      "  warnings.warn(\n"
     ]
    },
    {
     "name": "stdout",
     "output_type": "stream",
     "text": [
      "https://www.nongsaro.go.kr//cms_contents/1122/204791_MF_BIMG_01.jpg\n"
     ]
    },
    {
     "name": "stderr",
     "output_type": "stream",
     "text": [
      "/Users/soojin/opt/anaconda3/lib/python3.8/site-packages/urllib3/connectionpool.py:981: InsecureRequestWarning: Unverified HTTPS request is being made to host 'www.nongsaro.go.kr'. Adding certificate verification is strongly advised. See: https://urllib3.readthedocs.io/en/latest/advanced-usage.html#ssl-warnings\n",
      "  warnings.warn(\n"
     ]
    },
    {
     "name": "stdout",
     "output_type": "stream",
     "text": [
      "https://www.nongsaro.go.kr//cms_contents/1122/204790_MF_BIMG_01.jpg\n"
     ]
    },
    {
     "name": "stderr",
     "output_type": "stream",
     "text": [
      "/Users/soojin/opt/anaconda3/lib/python3.8/site-packages/urllib3/connectionpool.py:981: InsecureRequestWarning: Unverified HTTPS request is being made to host 'www.nongsaro.go.kr'. Adding certificate verification is strongly advised. See: https://urllib3.readthedocs.io/en/latest/advanced-usage.html#ssl-warnings\n",
      "  warnings.warn(\n"
     ]
    },
    {
     "name": "stdout",
     "output_type": "stream",
     "text": [
      "https://www.nongsaro.go.kr//cms_contents/1122/204789_MF_BIMG_01.jpg\n"
     ]
    },
    {
     "name": "stderr",
     "output_type": "stream",
     "text": [
      "/Users/soojin/opt/anaconda3/lib/python3.8/site-packages/urllib3/connectionpool.py:981: InsecureRequestWarning: Unverified HTTPS request is being made to host 'www.nongsaro.go.kr'. Adding certificate verification is strongly advised. See: https://urllib3.readthedocs.io/en/latest/advanced-usage.html#ssl-warnings\n",
      "  warnings.warn(\n"
     ]
    },
    {
     "name": "stdout",
     "output_type": "stream",
     "text": [
      "https://www.nongsaro.go.kr//cms_contents/1122/204788_MF_BIMG_01.jpg\n"
     ]
    },
    {
     "name": "stderr",
     "output_type": "stream",
     "text": [
      "/Users/soojin/opt/anaconda3/lib/python3.8/site-packages/urllib3/connectionpool.py:981: InsecureRequestWarning: Unverified HTTPS request is being made to host 'www.nongsaro.go.kr'. Adding certificate verification is strongly advised. See: https://urllib3.readthedocs.io/en/latest/advanced-usage.html#ssl-warnings\n",
      "  warnings.warn(\n"
     ]
    },
    {
     "name": "stdout",
     "output_type": "stream",
     "text": [
      "https://www.nongsaro.go.kr//cms_contents/1122/204787_MF_BIMG_01.jpg\n"
     ]
    },
    {
     "name": "stderr",
     "output_type": "stream",
     "text": [
      "/Users/soojin/opt/anaconda3/lib/python3.8/site-packages/urllib3/connectionpool.py:981: InsecureRequestWarning: Unverified HTTPS request is being made to host 'www.nongsaro.go.kr'. Adding certificate verification is strongly advised. See: https://urllib3.readthedocs.io/en/latest/advanced-usage.html#ssl-warnings\n",
      "  warnings.warn(\n"
     ]
    },
    {
     "name": "stdout",
     "output_type": "stream",
     "text": [
      "https://www.nongsaro.go.kr//cms_contents/1122/204786_MF_BIMG_01.jpg\n"
     ]
    },
    {
     "name": "stderr",
     "output_type": "stream",
     "text": [
      "/Users/soojin/opt/anaconda3/lib/python3.8/site-packages/urllib3/connectionpool.py:981: InsecureRequestWarning: Unverified HTTPS request is being made to host 'www.nongsaro.go.kr'. Adding certificate verification is strongly advised. See: https://urllib3.readthedocs.io/en/latest/advanced-usage.html#ssl-warnings\n",
      "  warnings.warn(\n"
     ]
    },
    {
     "name": "stdout",
     "output_type": "stream",
     "text": [
      "https://www.nongsaro.go.kr//cms_contents/1122/204785_MF_BIMG_01.jpg\n"
     ]
    },
    {
     "name": "stderr",
     "output_type": "stream",
     "text": [
      "/Users/soojin/opt/anaconda3/lib/python3.8/site-packages/urllib3/connectionpool.py:981: InsecureRequestWarning: Unverified HTTPS request is being made to host 'www.nongsaro.go.kr'. Adding certificate verification is strongly advised. See: https://urllib3.readthedocs.io/en/latest/advanced-usage.html#ssl-warnings\n",
      "  warnings.warn(\n"
     ]
    },
    {
     "name": "stdout",
     "output_type": "stream",
     "text": [
      "https://www.nongsaro.go.kr//cms_contents/1122/204784_MF_BIMG_01.jpg\n"
     ]
    },
    {
     "name": "stderr",
     "output_type": "stream",
     "text": [
      "/Users/soojin/opt/anaconda3/lib/python3.8/site-packages/urllib3/connectionpool.py:981: InsecureRequestWarning: Unverified HTTPS request is being made to host 'www.nongsaro.go.kr'. Adding certificate verification is strongly advised. See: https://urllib3.readthedocs.io/en/latest/advanced-usage.html#ssl-warnings\n",
      "  warnings.warn(\n"
     ]
    },
    {
     "name": "stdout",
     "output_type": "stream",
     "text": [
      "https://www.nongsaro.go.kr//cms_contents/1122/204783_MF_BIMG_01.jpg\n"
     ]
    },
    {
     "name": "stderr",
     "output_type": "stream",
     "text": [
      "/Users/soojin/opt/anaconda3/lib/python3.8/site-packages/urllib3/connectionpool.py:981: InsecureRequestWarning: Unverified HTTPS request is being made to host 'www.nongsaro.go.kr'. Adding certificate verification is strongly advised. See: https://urllib3.readthedocs.io/en/latest/advanced-usage.html#ssl-warnings\n",
      "  warnings.warn(\n"
     ]
    },
    {
     "name": "stdout",
     "output_type": "stream",
     "text": [
      "https://www.nongsaro.go.kr//cms_contents/1122/204782_MF_BIMG_01.jpg\n"
     ]
    },
    {
     "name": "stderr",
     "output_type": "stream",
     "text": [
      "/Users/soojin/opt/anaconda3/lib/python3.8/site-packages/urllib3/connectionpool.py:981: InsecureRequestWarning: Unverified HTTPS request is being made to host 'www.nongsaro.go.kr'. Adding certificate verification is strongly advised. See: https://urllib3.readthedocs.io/en/latest/advanced-usage.html#ssl-warnings\n",
      "  warnings.warn(\n"
     ]
    },
    {
     "name": "stdout",
     "output_type": "stream",
     "text": [
      "https://www.nongsaro.go.kr//cms_contents/1122/204781_MF_BIMG_01.jpg\n"
     ]
    },
    {
     "name": "stderr",
     "output_type": "stream",
     "text": [
      "/Users/soojin/opt/anaconda3/lib/python3.8/site-packages/urllib3/connectionpool.py:981: InsecureRequestWarning: Unverified HTTPS request is being made to host 'www.nongsaro.go.kr'. Adding certificate verification is strongly advised. See: https://urllib3.readthedocs.io/en/latest/advanced-usage.html#ssl-warnings\n",
      "  warnings.warn(\n"
     ]
    },
    {
     "name": "stdout",
     "output_type": "stream",
     "text": [
      "https://www.nongsaro.go.kr//cms_contents/1122/204780_MF_BIMG_01.jpg\n"
     ]
    },
    {
     "name": "stderr",
     "output_type": "stream",
     "text": [
      "/Users/soojin/opt/anaconda3/lib/python3.8/site-packages/urllib3/connectionpool.py:981: InsecureRequestWarning: Unverified HTTPS request is being made to host 'www.nongsaro.go.kr'. Adding certificate verification is strongly advised. See: https://urllib3.readthedocs.io/en/latest/advanced-usage.html#ssl-warnings\n",
      "  warnings.warn(\n"
     ]
    },
    {
     "name": "stdout",
     "output_type": "stream",
     "text": [
      "https://www.nongsaro.go.kr//cms_contents/1122/204779_MF_BIMG_01.jpg\n"
     ]
    },
    {
     "name": "stderr",
     "output_type": "stream",
     "text": [
      "/Users/soojin/opt/anaconda3/lib/python3.8/site-packages/urllib3/connectionpool.py:981: InsecureRequestWarning: Unverified HTTPS request is being made to host 'www.nongsaro.go.kr'. Adding certificate verification is strongly advised. See: https://urllib3.readthedocs.io/en/latest/advanced-usage.html#ssl-warnings\n",
      "  warnings.warn(\n"
     ]
    },
    {
     "name": "stdout",
     "output_type": "stream",
     "text": [
      "https://www.nongsaro.go.kr//cms_contents/1122/204778_MF_BIMG_01.jpg\n"
     ]
    },
    {
     "name": "stderr",
     "output_type": "stream",
     "text": [
      "/Users/soojin/opt/anaconda3/lib/python3.8/site-packages/urllib3/connectionpool.py:981: InsecureRequestWarning: Unverified HTTPS request is being made to host 'www.nongsaro.go.kr'. Adding certificate verification is strongly advised. See: https://urllib3.readthedocs.io/en/latest/advanced-usage.html#ssl-warnings\n",
      "  warnings.warn(\n"
     ]
    },
    {
     "name": "stdout",
     "output_type": "stream",
     "text": [
      "https://www.nongsaro.go.kr//cms_contents/1122/204777_MF_BIMG_01.jpg\n"
     ]
    },
    {
     "name": "stderr",
     "output_type": "stream",
     "text": [
      "/Users/soojin/opt/anaconda3/lib/python3.8/site-packages/urllib3/connectionpool.py:981: InsecureRequestWarning: Unverified HTTPS request is being made to host 'www.nongsaro.go.kr'. Adding certificate verification is strongly advised. See: https://urllib3.readthedocs.io/en/latest/advanced-usage.html#ssl-warnings\n",
      "  warnings.warn(\n"
     ]
    },
    {
     "name": "stdout",
     "output_type": "stream",
     "text": [
      "https://www.nongsaro.go.kr//cms_contents/1122/204776_MF_BIMG_01.jpg\n"
     ]
    },
    {
     "name": "stderr",
     "output_type": "stream",
     "text": [
      "/Users/soojin/opt/anaconda3/lib/python3.8/site-packages/urllib3/connectionpool.py:981: InsecureRequestWarning: Unverified HTTPS request is being made to host 'www.nongsaro.go.kr'. Adding certificate verification is strongly advised. See: https://urllib3.readthedocs.io/en/latest/advanced-usage.html#ssl-warnings\n",
      "  warnings.warn(\n"
     ]
    },
    {
     "name": "stdout",
     "output_type": "stream",
     "text": [
      "https://www.nongsaro.go.kr//cms_contents/1122/204775_MF_BIMG_01.jpg\n"
     ]
    },
    {
     "name": "stderr",
     "output_type": "stream",
     "text": [
      "/Users/soojin/opt/anaconda3/lib/python3.8/site-packages/urllib3/connectionpool.py:981: InsecureRequestWarning: Unverified HTTPS request is being made to host 'www.nongsaro.go.kr'. Adding certificate verification is strongly advised. See: https://urllib3.readthedocs.io/en/latest/advanced-usage.html#ssl-warnings\n",
      "  warnings.warn(\n"
     ]
    },
    {
     "name": "stdout",
     "output_type": "stream",
     "text": [
      "https://www.nongsaro.go.kr//cms_contents/1122/204774_MF_BIMG_01.jpg\n"
     ]
    },
    {
     "data": {
      "text/plain": [
       "[[('식물이름', '가울테리아'),\n",
       "  ('분류', '잎&꽃보기식물,열매보기식물'),\n",
       "  ('생육형태', '관목형'),\n",
       "  ('생장높이', '15'),\n",
       "  ('생장너비', '25'),\n",
       "  ('실내정원구성', '하층목,지피식물'),\n",
       "  ('생태형', '일반형'),\n",
       "  ('잎형태', '화려함, 잎의 질감-중간, 잎의 광택-있음, 상록'),\n",
       "  ('잎무늬', '기타 (무늬없음 등)'),\n",
       "  ('잎색', '녹색, 연두색'),\n",
       "  ('꽃피는계절', '여름'),\n",
       "  ('꽃색', '분홍색,흰색'),\n",
       "  ('열매맺는계절', '여름'),\n",
       "  ('열매색', '빨강색'),\n",
       "  ('향기', '중간'),\n",
       "  ('번식방법', '파종,삽목,분주'),\n",
       "  ('번식시기', '파종-9~11월/분주-3~5월'),\n",
       "  ('관리수준', '경험자'),\n",
       "  ('관리요구도', '낮음 (잘 견딤)'),\n",
       "  ('광요구도', '중간 광도(800~1,500 Lux),높은 광도(1,500~10,000 Lux)'),\n",
       "  ('배치장소', '거실 창측 (실내깊이 150~300cm)발코니 내측 (실내깊이 50~150cm)발코니 창측 (실내깊이 0~50cm)'),\n",
       "  ('생장속도', '느림'),\n",
       "  ('생육적온', '16~20℃'),\n",
       "  ('겨울최저온도', '0℃ 이하'),\n",
       "  ('습도', '40 ~ 70%'),\n",
       "  ('비료', '비료를 보통 요구함'),\n",
       "  ('토양', '토양 : 중성,산성 / 배수 잘 됨 (Loam,Sand)'),\n",
       "  ('물주기-봄', '토양 표면이 말랐을때 충분히 관수함'),\n",
       "  ('물주기-여름', '토양 표면이 말랐을때 충분히 관수함'),\n",
       "  ('물주기-가을', '토양 표면이 말랐을때 충분히 관수함'),\n",
       "  ('물주기-겨울', '화분 흙 대부분 말랐을때 충분히 관수함'),\n",
       "  ('병충해', '응애,깍지벌레')],\n",
       " [('식물이름', '개운죽'),\n",
       "  ('분류', '잎보기식물'),\n",
       "  ('생육형태', '직립형'),\n",
       "  ('생장높이', '90'),\n",
       "  ('생장너비', '30'),\n",
       "  ('실내정원구성', '중층목,하층목'),\n",
       "  ('생태형', '일반형,수경형'),\n",
       "  ('잎무늬', '기타 (무늬없음 등)'),\n",
       "  ('잎색', '녹색, 연두색'),\n",
       "  ('향기', '거의 없음'),\n",
       "  ('독성', '있음'),\n",
       "  ('번식방법', '삽목'),\n",
       "  ('관리수준', '초보자'),\n",
       "  ('관리요구도', '낮음 (잘 견딤)'),\n",
       "  ('광요구도', '낮은 광도(300~800 Lux),중간 광도(800~1,500 Lux),높은 광도(1,500~10,000 Lux)'),\n",
       "  ('배치장소',\n",
       "   '거실 내측 (실내깊이 300~500cm)거실 창측 (실내깊이 150~300cm)발코니 내측 (실내깊이 50~150cm)발코니 창측 (실내깊이 0~50cm)'),\n",
       "  ('생장속도', '보통'),\n",
       "  ('생육적온', '16~20℃'),\n",
       "  ('겨울최저온도', '13℃ 이상'),\n",
       "  ('습도', '40 ~ 70%'),\n",
       "  ('비료', '비료를 거의 요구하지않음'),\n",
       "  ('물주기-봄', '흙을 촉촉하게 유지함(물에 잠기지 않도록 주의)'),\n",
       "  ('물주기-여름', '흙을 촉촉하게 유지함(물에 잠기지 않도록 주의)'),\n",
       "  ('물주기-가을', '흙을 촉촉하게 유지함(물에 잠기지 않도록 주의)'),\n",
       "  ('물주기-겨울', '토양 표면이 말랐을때 충분히 관수함'),\n",
       "  ('병충해', '응애,깍지벌레'),\n",
       "  ('특별관리', '수경은 물주기가 필요 없으나, 화분은 1-2주에 한번씩 충분히 관수한다.')],\n",
       " [('식물이름', \"골드크레스트 '윌마'\"),\n",
       "  ('분류', '잎보기식물'),\n",
       "  ('생육형태', '직립형'),\n",
       "  ('생장높이', '100'),\n",
       "  ('생장너비', '50'),\n",
       "  ('실내정원구성', '중층목,하층목'),\n",
       "  ('생태형', '일반형'),\n",
       "  ('잎무늬', '기타 (무늬없음 등)'),\n",
       "  ('잎색', '녹색, 연두색'),\n",
       "  ('향기', '강함'),\n",
       "  ('번식방법', '삽목'),\n",
       "  ('관리수준', '경험자'),\n",
       "  ('관리요구도', '보통 (약간 잘 견딤)'),\n",
       "  ('광요구도', '높은 광도(1,500~10,000 Lux)'),\n",
       "  ('배치장소', '거실 창측 (실내깊이 150~300cm)발코니 내측 (실내깊이 50~150cm)발코니 창측 (실내깊이 0~50cm)'),\n",
       "  ('생장속도', '보통'),\n",
       "  ('생육적온', '16~20℃'),\n",
       "  ('겨울최저온도', '10℃'),\n",
       "  ('습도', '40 ~ 70%'),\n",
       "  ('비료', '비료를 보통 요구함'),\n",
       "  ('물주기-봄', '토양 표면이 말랐을때 충분히 관수함'),\n",
       "  ('물주기-여름', '토양 표면이 말랐을때 충분히 관수함'),\n",
       "  ('물주기-가을', '토양 표면이 말랐을때 충분히 관수함'),\n",
       "  ('물주기-겨울', '화분 흙 대부분 말랐을때 충분히 관수함'),\n",
       "  ('병충해', '응애,깍지벌레'),\n",
       "  ('특별관리', '겨울에는 건조하게 관리한다. 어린 나무일수록 물을 더 자주 준다.')],\n",
       " [('식물이름', '공작야자'),\n",
       "  ('분류', '잎보기식물'),\n",
       "  ('생육형태', '직립형'),\n",
       "  ('생장높이', '300'),\n",
       "  ('생장너비', '100'),\n",
       "  ('실내정원구성', '상층목'),\n",
       "  ('생태형', '일반형'),\n",
       "  ('잎형태', '잎의 광택-있음 / 잎의 질감-굵고 선명한 / 상록 / 껍질질감- 부드러움 / 가시-없음'),\n",
       "  ('잎무늬', '기타 (무늬없음 등)'),\n",
       "  ('잎색', '녹색, 연두색'),\n",
       "  ('꽃피는계절', '여름'),\n",
       "  ('꽃색', '흰색'),\n",
       "  ('열매맺는계절', '여름'),\n",
       "  ('열매색', '빨강색'),\n",
       "  ('번식방법', '파종'),\n",
       "  ('관리수준', '경험자'),\n",
       "  ('관리요구도', '필요함'),\n",
       "  ('광요구도', '중간 광도(800~1,500 Lux),높은 광도(1,500~10,000 Lux)'),\n",
       "  ('배치장소', '거실 창측 (실내깊이 150~300cm)발코니 내측 (실내깊이 50~150cm)발코니 창측 (실내깊이 0~50cm)'),\n",
       "  ('생장속도', '보통'),\n",
       "  ('생육적온', '21~25℃'),\n",
       "  ('겨울최저온도', '13℃ 이상'),\n",
       "  ('습도', '70% 이상'),\n",
       "  ('비료', '비료를 보통 요구함'),\n",
       "  ('토양', '토양-중성,산성/배수잘됨/타입-Loam'),\n",
       "  ('물주기-봄', '토양 표면이 말랐을때 충분히 관수함'),\n",
       "  ('물주기-여름', '토양 표면이 말랐을때 충분히 관수함'),\n",
       "  ('물주기-가을', '토양 표면이 말랐을때 충분히 관수함'),\n",
       "  ('물주기-겨울', '토양 표면이 말랐을때 충분히 관수함'),\n",
       "  ('병충해', '응애,깍지벌레')],\n",
       " [('식물이름', '관엽베고니아'),\n",
       "  ('분류', '잎&꽃보기식물'),\n",
       "  ('생육형태', '관목형'),\n",
       "  ('생장높이', '30'),\n",
       "  ('생장너비', '30'),\n",
       "  ('실내정원구성', '하층목,지피식물'),\n",
       "  ('생태형', '일반형'),\n",
       "  ('잎무늬', '점무늬'),\n",
       "  ('잎색', '녹색, 연두색,은색, 회색,빨강, 분홍, 자주색'),\n",
       "  ('꽃피는계절', '봄'),\n",
       "  ('꽃색', '분홍색'),\n",
       "  ('번식방법', '삽목'),\n",
       "  ('관리수준', '경험자'),\n",
       "  ('관리요구도', '보통 (약간 잘 견딤)'),\n",
       "  ('광요구도', '중간 광도(800~1,500 Lux),높은 광도(1,500~10,000 Lux)'),\n",
       "  ('배치장소', '거실 창측 (실내깊이 150~300cm)발코니 내측 (실내깊이 50~150cm)발코니 창측 (실내깊이 0~50cm)'),\n",
       "  ('생장속도', '보통'),\n",
       "  ('생육적온', '16~20℃'),\n",
       "  ('겨울최저온도', '13℃ 이상'),\n",
       "  ('습도', '40 ~ 70%'),\n",
       "  ('비료', '비료를 보통 요구함'),\n",
       "  ('물주기-봄', '토양 표면이 말랐을때 충분히 관수함'),\n",
       "  ('물주기-여름', '토양 표면이 말랐을때 충분히 관수함'),\n",
       "  ('물주기-가을', '토양 표면이 말랐을때 충분히 관수함'),\n",
       "  ('물주기-겨울', '토양 표면이 말랐을때 충분히 관수함'),\n",
       "  ('병충해', '응애,깍지벌레,온실가루이')],\n",
       " [('식물이름', '관음죽'),\n",
       "  ('분류', '잎보기식물'),\n",
       "  ('생육형태', '관목형'),\n",
       "  ('생장높이', '200'),\n",
       "  ('생장너비', '70'),\n",
       "  ('실내정원구성', '상층목,중층목'),\n",
       "  ('생태형', '일반형'),\n",
       "  ('잎형태', '잎의 질감-거침 / 잎의 광택-있음 / 상록'),\n",
       "  ('잎무늬', '기타 (무늬없음 등)'),\n",
       "  ('잎색', '녹색, 연두색'),\n",
       "  ('독성', '수액이 인체의 피부나 점막을 자극할 수 있음'),\n",
       "  ('번식방법', '파종,분주'),\n",
       "  ('관리수준', '경험자'),\n",
       "  ('관리요구도', '보통 (약간 잘 견딤)'),\n",
       "  ('광요구도', '낮은 광도(300~800 Lux),중간 광도(800~1,500 Lux),높은 광도(1,500~10,000 Lux)'),\n",
       "  ('배치장소',\n",
       "   '실내 어두운 곳 (실내깊이 500 이상cm)거실 내측 (실내깊이 300~500cm)거실 창측 (실내깊이 150~300cm)발코니 내측 (실내깊이 50~150cm)발코니 창측 (실내깊이 0~50cm)'),\n",
       "  ('생장속도', '느림'),\n",
       "  ('생육적온', '16~20℃'),\n",
       "  ('겨울최저온도', '5℃'),\n",
       "  ('습도', '40 ~ 70%'),\n",
       "  ('비료', '비료를 보통 요구함'),\n",
       "  ('토양', '중성,산성 / 배수 잘 됨 / 타입-Loam, Sand'),\n",
       "  ('물주기-봄', '토양 표면이 말랐을때 충분히 관수함'),\n",
       "  ('물주기-여름', '토양 표면이 말랐을때 충분히 관수함'),\n",
       "  ('물주기-가을', '토양 표면이 말랐을때 충분히 관수함'),\n",
       "  ('물주기-겨울', '화분 흙 대부분 말랐을때 충분히 관수함'),\n",
       "  ('병충해', '응애,깍지벌레'),\n",
       "  ('병충해관리', '일반적으로 병이나 해충이 없으나 매우 드물게 응애가 생기기도 한다.'),\n",
       "  ('특별관리',\n",
       "   '관음죽을 지하관수나 수경재배로 기르는 경우에는 수돗물 속의 염분이나 미네랄이 잎 끝에 축적되어 갈색으로 변할 수도 있다. 이런 현상이 나타날 때에는 갈색으로 변한 부분만 가위로 잘라내면 된다. 그러면 염분도 제거할 수 있고 특유의 톱니모양의 녹색 잎을 유지시킬 수 있다.')],\n",
       " [('식물이름', '구문초'),\n",
       "  ('분류', '잎&꽃보기식물'),\n",
       "  ('생육형태', '관목형'),\n",
       "  ('생장높이', '50'),\n",
       "  ('생장너비', '50'),\n",
       "  ('실내정원구성', '중층목,하층목'),\n",
       "  ('생태형', '일반형'),\n",
       "  ('잎무늬', '기타 (무늬없음 등)'),\n",
       "  ('잎색', '녹색, 연두색'),\n",
       "  ('꽃피는계절', '봄,여름'),\n",
       "  ('꽃색', '분홍색,흰색'),\n",
       "  ('향기', '중간'),\n",
       "  ('독성', '모기퇴치 식물'),\n",
       "  ('번식방법', '삽목'),\n",
       "  ('관리요구도', '필요함'),\n",
       "  ('광요구도', '중간 광도(800~1,500 Lux),높은 광도(1,500~10,000 Lux)'),\n",
       "  ('배치장소', '거실 창측 (실내깊이 150~300cm)발코니 내측 (실내깊이 50~150cm)발코니 창측 (실내깊이 0~50cm)'),\n",
       "  ('생육적온', '16~20℃'),\n",
       "  ('겨울최저온도', '10℃'),\n",
       "  ('습도', '40 ~ 70%'),\n",
       "  ('비료', '비료를 보통 요구함'),\n",
       "  ('물주기-봄', '토양 표면이 말랐을때 충분히 관수함'),\n",
       "  ('물주기-여름', '토양 표면이 말랐을때 충분히 관수함'),\n",
       "  ('물주기-가을', '토양 표면이 말랐을때 충분히 관수함'),\n",
       "  ('물주기-겨울', '화분 흙 대부분 말랐을때 충분히 관수함'),\n",
       "  ('병충해', '응애,깍지벌레,온실가루이')],\n",
       " [('식물이름', '구즈마니아'),\n",
       "  ('분류', '잎&꽃보기식물'),\n",
       "  ('생육형태', '로제트형'),\n",
       "  ('생장높이', '30'),\n",
       "  ('생장너비', '30'),\n",
       "  ('실내정원구성', '하층목'),\n",
       "  ('생태형', '일반형'),\n",
       "  ('잎형태', '잎이 가죽질로 표면이 반들반들하다. 꽃을 감싸고 있는 윗 부분의 잎들이 빨갛게 물들어(포엽) 보기가 좋다.'),\n",
       "  ('잎무늬', '줄무늬,기타 (무늬없음 등)'),\n",
       "  ('잎색', '녹색, 연두색,흰색, 크림색'),\n",
       "  ('꽃피는계절', '봄,여름'),\n",
       "  ('꽃색', '분홍색,빨강색,노랑색'),\n",
       "  ('번식방법', '분주'),\n",
       "  ('관리수준', '경험자'),\n",
       "  ('관리요구도', '필요함'),\n",
       "  ('광요구도', '중간 광도(800~1,500 Lux),높은 광도(1,500~10,000 Lux)'),\n",
       "  ('배치장소', '거실 창측 (실내깊이 150~300cm)발코니 내측 (실내깊이 50~150cm)발코니 창측 (실내깊이 0~50cm)'),\n",
       "  ('생장속도', '느림'),\n",
       "  ('생육적온', '21~25℃'),\n",
       "  ('겨울최저온도', '13℃ 이상'),\n",
       "  ('습도', '40 ~ 70%'),\n",
       "  ('비료', '비료를 보통 요구함'),\n",
       "  ('물주기-봄', '토양 표면이 말랐을때 충분히 관수함'),\n",
       "  ('물주기-여름', '토양 표면이 말랐을때 충분히 관수함'),\n",
       "  ('물주기-가을', '토양 표면이 말랐을때 충분히 관수함'),\n",
       "  ('물주기-겨울', '토양 표면이 말랐을때 충분히 관수함'),\n",
       "  ('병충해', '응애'),\n",
       "  ('특별관리',\n",
       "   '이 구즈마니아는 습도가 높은 것을 좋아하며, 음지에서 잘 자라기 때문에 아파트에서 기를 경우 차광을 강하게 하는 것이 바람직하다. 생육에 알맞은 온도는 낮에는 25-30℃, 밤에는 20℃ 정도이며 추위에는 약한 편으로 겨울에 10℃ 이상은 유지해 주어야 안전하게 월동할 수 있다.')],\n",
       " [('식물이름', '군자란'),\n",
       "  ('분류', '잎&꽃보기식물'),\n",
       "  ('생육형태', '풀모양'),\n",
       "  ('생장높이', '50'),\n",
       "  ('생장너비', '30'),\n",
       "  ('실내정원구성', '하층목'),\n",
       "  ('생태형', '일반형'),\n",
       "  ('잎형태', '잎-화려함 / 잎의 광택-있음 / 상록'),\n",
       "  ('잎무늬', '줄무늬,기타 (무늬없음 등)'),\n",
       "  ('잎색', '녹색, 연두색,흰색, 크림색'),\n",
       "  ('꽃피는계절', '봄,여름'),\n",
       "  ('꽃색', '빨강색,오렌지색,노랑색'),\n",
       "  ('열매맺는계절', '여름,가을'),\n",
       "  ('열매색', '빨강색'),\n",
       "  ('독성', '복용시 치명적 독성'),\n",
       "  ('번식방법', '파종,분주'),\n",
       "  ('번식시기', '봄'),\n",
       "  ('관리수준', '경험자'),\n",
       "  ('관리요구도', '보통 (약간 잘 견딤)'),\n",
       "  ('광요구도', '중간 광도(800~1,500 Lux),높은 광도(1,500~10,000 Lux)'),\n",
       "  ('배치장소', '거실 창측 (실내깊이 150~300cm)발코니 내측 (실내깊이 50~150cm)발코니 창측 (실내깊이 0~50cm)'),\n",
       "  ('생장속도', '느림'),\n",
       "  ('생육적온', '16~20℃'),\n",
       "  ('겨울최저온도', '10℃'),\n",
       "  ('습도', '40 ~ 70%'),\n",
       "  ('비료', '비료를 보통 요구함'),\n",
       "  ('물주기-봄', '토양 표면이 말랐을때 충분히 관수함'),\n",
       "  ('물주기-여름', '토양 표면이 말랐을때 충분히 관수함'),\n",
       "  ('물주기-가을', '토양 표면이 말랐을때 충분히 관수함'),\n",
       "  ('물주기-겨울', '화분 흙 대부분 말랐을때 충분히 관수함'),\n",
       "  ('병충해', '응애,깍지벌레'),\n",
       "  ('특별관리',\n",
       "   '군자란의 수명은 30년 이상으로 장수하는 식물이다.어린 묘로부터 시작하면 3년은 지나야 꽃이 피지만, 일단 꽃을 피운 것은 이듬해부터는 매년 꽃을 피운다. 씨앗으로 번식해도 되지만 꽃이 피기까지 5년 정도 걸리기 때문에 보통은 포기나누기 한다. 씨앗은 11월경에 충분히 성숙된 것을 따서 뿌리면 되는데 다소 저온인 16-21℃에서 발아가 잘된다. 포기나누기는 늦은 겨울이나 이른 봄에 한다.')],\n",
       " [('식물이름', '글레코마'),\n",
       "  ('분류', '잎&꽃보기식물'),\n",
       "  ('생육형태', '덩굴성'),\n",
       "  ('생장높이', '10'),\n",
       "  ('생장너비', '50'),\n",
       "  ('실내정원구성', '지피식물'),\n",
       "  ('생태형', '일반형'),\n",
       "  ('잎무늬', '점무늬,잎 가장자리 무늬,기타 (무늬없음 등)'),\n",
       "  ('잎색', '녹색, 연두색,흰색, 크림색'),\n",
       "  ('꽃피는계절', '봄,여름'),\n",
       "  ('꽃색', '분홍색,흰색'),\n",
       "  ('번식방법', '삽목'),\n",
       "  ('관리수준', '초보자'),\n",
       "  ('관리요구도', '낮음 (잘 견딤)'),\n",
       "  ('광요구도', '중간 광도(800~1,500 Lux),높은 광도(1,500~10,000 Lux)'),\n",
       "  ('배치장소', '거실 창측 (실내깊이 150~300cm)발코니 내측 (실내깊이 50~150cm)발코니 창측 (실내깊이 0~50cm)'),\n",
       "  ('생육적온', '16~20℃'),\n",
       "  ('겨울최저온도', '5℃'),\n",
       "  ('습도', '40 ~ 70%'),\n",
       "  ('비료', '비료를 보통 요구함'),\n",
       "  ('물주기-봄', '토양 표면이 말랐을때 충분히 관수함'),\n",
       "  ('물주기-여름', '토양 표면이 말랐을때 충분히 관수함'),\n",
       "  ('물주기-가을', '토양 표면이 말랐을때 충분히 관수함'),\n",
       "  ('물주기-겨울', '화분 흙 대부분 말랐을때 충분히 관수함'),\n",
       "  ('병충해', '진딧물,응애,온실가루이')],\n",
       " [('식물이름', '금목서'),\n",
       "  ('분류', '잎&꽃보기식물'),\n",
       "  ('생육형태', '관목형'),\n",
       "  ('생장높이', '100'),\n",
       "  ('생장너비', '50'),\n",
       "  ('실내정원구성', '상층목,중층목'),\n",
       "  ('생태형', '일반형'),\n",
       "  ('잎형태',\n",
       "   '타원형 / 가장자리에 얕은 물결모양, 잔톱니 / 광택 주로 관상하는 부위는 잎으로 무늬종들이 많으며, 대부분 종이 잎 끝에 강한 가시가 있다.'),\n",
       "  ('잎무늬', '기타 (무늬없음 등)'),\n",
       "  ('잎색', '녹색, 연두색'),\n",
       "  ('꽃피는계절', '가을'),\n",
       "  ('꽃색', '오렌지색,노랑색,흰색'),\n",
       "  ('향기', '강함'),\n",
       "  ('번식방법', '파종,삽목'),\n",
       "  ('번식시기', '봄, 여름'),\n",
       "  ('관리수준', '초보자'),\n",
       "  ('관리요구도', '낮음 (잘 견딤)'),\n",
       "  ('광요구도', '중간 광도(800~1,500 Lux),높은 광도(1,500~10,000 Lux)'),\n",
       "  ('배치장소', '거실 창측 (실내깊이 150~300cm)발코니 내측 (실내깊이 50~150cm)발코니 창측 (실내깊이 0~50cm)'),\n",
       "  ('생장속도', '보통'),\n",
       "  ('생육적온', '16~20℃'),\n",
       "  ('겨울최저온도', '0℃ 이하'),\n",
       "  ('습도', '40 ~ 70%'),\n",
       "  ('비료', '비료를 보통 요구함'),\n",
       "  ('토양', '산성, 중성 / 양질토, 모래'),\n",
       "  ('물주기-봄', '토양 표면이 말랐을때 충분히 관수함'),\n",
       "  ('물주기-여름', '토양 표면이 말랐을때 충분히 관수함'),\n",
       "  ('물주기-가을', '토양 표면이 말랐을때 충분히 관수함'),\n",
       "  ('물주기-겨울', '토양 표면이 말랐을때 충분히 관수함'),\n",
       "  ('병충해', '응애,깍지벌레'),\n",
       "  ('병충해관리', '개각충 등 (깨끗한 용기에 심기, 가정과 온실 도입시 유의 제거)'),\n",
       "  ('특별관리', '- 실내환경: 밝고 시원한 곳- 전지전정: 무성한 성장을 촉진시키기 위해 정기적으로 적심함')],\n",
       " [('식물이름', '금사철나무'),\n",
       "  ('분류', '잎보기식물'),\n",
       "  ('생육형태', '관목형'),\n",
       "  ('생장높이', '100'),\n",
       "  ('생장너비', '70'),\n",
       "  ('실내정원구성', '중층목,하층목'),\n",
       "  ('생태형', '일반형'),\n",
       "  ('잎무늬', '잎 가장자리 무늬'),\n",
       "  ('잎색', '녹색, 연두색,금색, 노란색'),\n",
       "  ('향기', '약함'),\n",
       "  ('번식방법', '삽목'),\n",
       "  ('관리요구도', '보통 (약간 잘 견딤)'),\n",
       "  ('광요구도', '중간 광도(800~1,500 Lux),높은 광도(1,500~10,000 Lux)'),\n",
       "  ('배치장소',\n",
       "   '거실 내측 (실내깊이 300~500cm)거실 창측 (실내깊이 150~300cm)발코니 내측 (실내깊이 50~150cm)발코니 창측 (실내깊이 0~50cm)'),\n",
       "  ('생장속도', '보통'),\n",
       "  ('생육적온', '16~20℃'),\n",
       "  ('겨울최저온도', '0℃ 이하'),\n",
       "  ('습도', '40 ~ 70%'),\n",
       "  ('비료', '비료를 보통 요구함'),\n",
       "  ('물주기-봄', '토양 표면이 말랐을때 충분히 관수함'),\n",
       "  ('물주기-여름', '토양 표면이 말랐을때 충분히 관수함'),\n",
       "  ('물주기-가을', '토양 표면이 말랐을때 충분히 관수함'),\n",
       "  ('물주기-겨울', '화분 흙 대부분 말랐을때 충분히 관수함'),\n",
       "  ('병충해', '응애,깍지벌레')],\n",
       " [('식물이름', '금식나무'),\n",
       "  ('분류', '잎보기식물,열매보기식물'),\n",
       "  ('생육형태', '관목형'),\n",
       "  ('생장높이', '100'),\n",
       "  ('생장너비', '70'),\n",
       "  ('실내정원구성', '상층목,중층목'),\n",
       "  ('생태형', '일반형'),\n",
       "  ('잎형태', '잎-화려함 / 잎의 질감-거침 / 잎의 광택-있음 / 상록'),\n",
       "  ('잎무늬', '점무늬'),\n",
       "  ('잎색', '녹색, 연두색,금색, 노란색'),\n",
       "  ('꽃피는계절', '봄'),\n",
       "  ('꽃색', '파랑색,노랑색'),\n",
       "  ('열매맺는계절', '가을'),\n",
       "  ('열매색', '빨강색'),\n",
       "  ('향기', '약함'),\n",
       "  ('번식방법', '삽목'),\n",
       "  ('번식시기', '여름'),\n",
       "  ('관리수준', '초보자'),\n",
       "  ('관리요구도', '낮음 (잘 견딤)'),\n",
       "  ('광요구도', '중간 광도(800~1,500 Lux),높은 광도(1,500~10,000 Lux)'),\n",
       "  ('배치장소', '거실 창측 (실내깊이 150~300cm)발코니 내측 (실내깊이 50~150cm)발코니 창측 (실내깊이 0~50cm)'),\n",
       "  ('생장속도', '느림'),\n",
       "  ('생육적온', '16~20℃'),\n",
       "  ('겨울최저온도', '0℃ 이하'),\n",
       "  ('습도', '40 ~ 70%'),\n",
       "  ('비료', '비료를 보통 요구함'),\n",
       "  ('토양', '중성,산성 / 배수 잘 됨 / 타입-Loam, Clay'),\n",
       "  ('물주기-봄', '토양 표면이 말랐을때 충분히 관수함'),\n",
       "  ('물주기-여름', '토양 표면이 말랐을때 충분히 관수함'),\n",
       "  ('물주기-가을', '토양 표면이 말랐을때 충분히 관수함'),\n",
       "  ('물주기-겨울', '화분 흙 대부분 말랐을때 충분히 관수함'),\n",
       "  ('병충해', '응애,깍지벌레')],\n",
       " [('식물이름', '금전수'),\n",
       "  ('분류', '잎보기식물'),\n",
       "  ('생육형태', '풀모양'),\n",
       "  ('생장높이', '60'),\n",
       "  ('생장너비', '30'),\n",
       "  ('실내정원구성', '하층목'),\n",
       "  ('생태형', '건조형'),\n",
       "  ('잎형태', '잎-화려함 / 잎의 질감- 두꺼움, 선명함 / 잎의 광택-있음 / 상록, 반상록'),\n",
       "  ('잎무늬', '기타 (무늬없음 등)'),\n",
       "  ('잎색', '녹색, 연두색'),\n",
       "  ('독성', '복용시 치명적 독성'),\n",
       "  ('번식방법', '삽목,분주'),\n",
       "  ('번식시기', '봄'),\n",
       "  ('관리수준', '초보자'),\n",
       "  ('관리요구도', '낮음 (잘 견딤)'),\n",
       "  ('광요구도', '중간 광도(800~1,500 Lux),높은 광도(1,500~10,000 Lux)'),\n",
       "  ('배치장소',\n",
       "   '거실 내측 (실내깊이 300~500cm)거실 창측 (실내깊이 150~300cm)발코니 내측 (실내깊이 50~150cm)발코니 창측 (실내깊이 0~50cm)'),\n",
       "  ('생장속도', '느림'),\n",
       "  ('생육적온', '16~20℃'),\n",
       "  ('겨울최저온도', '13℃ 이상'),\n",
       "  ('습도', '40 ~ 70%'),\n",
       "  ('비료', '비료를 거의 요구하지않음 (1회/년, 봄)'),\n",
       "  ('토양', '중성,산성 / 배수 잘 됨 / 타입-Loam, Sand'),\n",
       "  ('물주기-봄', '토양 표면이 말랐을때 충분히 관수함'),\n",
       "  ('물주기-여름', '토양 표면이 말랐을때 충분히 관수함'),\n",
       "  ('물주기-가을', '토양 표면이 말랐을때 충분히 관수함'),\n",
       "  ('물주기-겨울', '화분 흙 대부분 말랐을때 충분히 관수함'),\n",
       "  ('병충해', '응애,깍지벌레')],\n",
       " [('식물이름', '금천죽'),\n",
       "  ('분류', '잎보기식물'),\n",
       "  ('생육형태', '관목형'),\n",
       "  ('생장높이', '100'),\n",
       "  ('생장너비', '30'),\n",
       "  ('실내정원구성', '중층목,하층목'),\n",
       "  ('생태형', '일반형,수경형'),\n",
       "  ('잎형태', '잎의 질감-거침 / 잎의 광택-있음 / 상록'),\n",
       "  ('잎무늬', '기타 (무늬없음 등)'),\n",
       "  ('잎색', '녹색, 연두색'),\n",
       "  ('독성', '있음'),\n",
       "  ('번식방법', '삽목'),\n",
       "  ('번식시기', '봄~여름'),\n",
       "  ('관리수준', '초보자'),\n",
       "  ('관리요구도', '낮음 (잘 견딤)'),\n",
       "  ('광요구도', '낮은 광도(300~800 Lux),중간 광도(800~1,500 Lux),높은 광도(1,500~10,000 Lux)'),\n",
       "  ('배치장소', '거실 창측 (실내깊이 150~300cm)발코니 내측 (실내깊이 50~150cm)발코니 창측 (실내깊이 0~50cm)'),\n",
       "  ('생장속도', '느림'),\n",
       "  ('생육적온', '16~20℃'),\n",
       "  ('겨울최저온도', '13℃ 이상'),\n",
       "  ('습도', '40 ~ 70%'),\n",
       "  ('비료', '비료를 보통 요구함'),\n",
       "  ('토양', '중성 / 배수 잘 됨 / 타입-Loam, Sand'),\n",
       "  ('물주기-봄', '토양 표면이 말랐을때 충분히 관수함'),\n",
       "  ('물주기-여름', '토양 표면이 말랐을때 충분히 관수함'),\n",
       "  ('물주기-가을', '토양 표면이 말랐을때 충분히 관수함'),\n",
       "  ('물주기-겨울', '화분 흙 대부분 말랐을때 충분히 관수함'),\n",
       "  ('병충해', '응애,깍지벌레'),\n",
       "  ('특별관리', '식물체 중심 잎과 잎 포기 사이 물통에 물이 고이도록 한다.')],\n",
       " [('식물이름', '기누라'),\n",
       "  ('분류', '잎보기식물'),\n",
       "  ('생육형태', '풀모양'),\n",
       "  ('생장높이', '30'),\n",
       "  ('생장너비', '30'),\n",
       "  ('실내정원구성', '하층목'),\n",
       "  ('생태형', '일반형'),\n",
       "  ('잎형태', '잎-화려함 / 잎의 질감-중간 / 잎의 광택-없음 / 상록'),\n",
       "  ('잎무늬', '기타 (무늬없음 등)'),\n",
       "  ('잎색', '빨강, 분홍, 자주색'),\n",
       "  ('향기', '거의 없음'),\n",
       "  ('번식방법', '삽목'),\n",
       "  ('관리수준', '경험자'),\n",
       "  ('관리요구도', '필요함'),\n",
       "  ('광요구도', '중간 광도(800~1,500 Lux),높은 광도(1,500~10,000 Lux)'),\n",
       "  ('배치장소', '거실 창측 (실내깊이 150~300cm)발코니 내측 (실내깊이 50~150cm)발코니 창측 (실내깊이 0~50cm)'),\n",
       "  ('생장속도', '보통'),\n",
       "  ('생육적온', '16~20℃'),\n",
       "  ('겨울최저온도', '13℃ 이상'),\n",
       "  ('습도', '40 ~ 70%'),\n",
       "  ('비료', '비료를 보통 요구함'),\n",
       "  ('토양', '중성 / 배수 잘 됨 / 타입-Loam'),\n",
       "  ('물주기-봄', '토양 표면이 말랐을때 충분히 관수함'),\n",
       "  ('물주기-여름', '토양 표면이 말랐을때 충분히 관수함'),\n",
       "  ('물주기-가을', '토양 표면이 말랐을때 충분히 관수함'),\n",
       "  ('물주기-겨울', '화분 흙 대부분 말랐을때 충분히 관수함'),\n",
       "  ('병충해', '응애,온실가루이')],\n",
       " [('식물이름', '꽃베고니아'),\n",
       "  ('분류', '잎&꽃보기식물'),\n",
       "  ('생육형태', '풀모양'),\n",
       "  ('생장높이', '30'),\n",
       "  ('생장너비', '30'),\n",
       "  ('실내정원구성', '하층목,지피식물'),\n",
       "  ('생태형', '일반형'),\n",
       "  ('잎형태', '잎-화려함 / 잎의 질감-중간 / 잎의 광택-있음 / 상록'),\n",
       "  ('잎색', '녹색, 연두색,빨강, 분홍, 자주색'),\n",
       "  ('꽃피는계절', '봄,여름,가을'),\n",
       "  ('꽃색', '분홍색,빨강색,오렌지색,흰색'),\n",
       "  ('향기', '거의 없음'),\n",
       "  ('번식방법', '파종,삽목'),\n",
       "  ('번식시기', '봄'),\n",
       "  ('관리수준', '경험자'),\n",
       "  ('관리요구도', '보통 (약간 잘 견딤)'),\n",
       "  ('광요구도', '높은 광도(1,500~10,000 Lux)'),\n",
       "  ('배치장소', '거실 창측 (실내깊이 150~300cm)발코니 내측 (실내깊이 50~150cm)발코니 창측 (실내깊이 0~50cm)'),\n",
       "  ('생장속도', '빠름'),\n",
       "  ('생육적온', '21~25℃'),\n",
       "  ('겨울최저온도', '13℃ 이상'),\n",
       "  ('습도', '70% 이상'),\n",
       "  ('비료', '비료를 보통 요구함'),\n",
       "  ('토양', '중성,산성 / 배수 잘 됨 / 타입-Loam, Sand'),\n",
       "  ('물주기-봄', '흙을 촉촉하게 유지함(물에 잠기지 않도록 주의)'),\n",
       "  ('물주기-여름', '흙을 촉촉하게 유지함(물에 잠기지 않도록 주의)'),\n",
       "  ('물주기-가을', '토양 표면이 말랐을때 충분히 관수함'),\n",
       "  ('물주기-겨울', '화분 흙 대부분 말랐을때 충분히 관수함'),\n",
       "  ('병충해', '응애,깍지벌레'),\n",
       "  ('병충해관리', '관부썩음병'),\n",
       "  ('특별관리',\n",
       "   '1년 내내 꽃을 피워내는 귀한 식물이다. 실내, 실외 화단에 꼭 필요하며 생장속도가 빨라서 식물이 너무 무성해지면 통풍이 되지 않으므로 주의한다. 시든잎과 시든꽃잎은 자주 따 준다.')],\n",
       " [('식물이름', '나도풍란'),\n",
       "  ('분류', '잎&꽃보기식물'),\n",
       "  ('생육형태', '로제트형'),\n",
       "  ('생장높이', '10'),\n",
       "  ('생장너비', '20'),\n",
       "  ('실내정원구성', '하층목'),\n",
       "  ('생태형', '건조형'),\n",
       "  ('잎무늬', '줄무늬,잎 가장자리 무늬,기타 (무늬없음 등)'),\n",
       "  ('잎색', '녹색, 연두색,금색, 노란색,흰색, 크림색'),\n",
       "  ('꽃피는계절', '봄,여름'),\n",
       "  ('꽃색', '흰색,기타'),\n",
       "  ('향기', '중간'),\n",
       "  ('번식방법', '파종,기타'),\n",
       "  ('관리수준', '경험자'),\n",
       "  ('관리요구도', '필요함'),\n",
       "  ('광요구도', '중간 광도(800~1,500 Lux)'),\n",
       "  ('배치장소', '발코니 내측 (실내깊이 50~150cm)발코니 창측 (실내깊이 0~50cm)'),\n",
       "  ('생장속도', '느림'),\n",
       "  ('생육적온', '21~25℃'),\n",
       "  ('겨울최저온도', '7℃'),\n",
       "  ('습도', '70% 이상'),\n",
       "  ('물주기-봄', '화분 흙 대부분 말랐을때 충분히 관수함'),\n",
       "  ('물주기-여름', '화분 흙 대부분 말랐을때 충분히 관수함'),\n",
       "  ('물주기-가을', '화분 흙 대부분 말랐을때 충분히 관수함'),\n",
       "  ('물주기-겨울', '화분 흙 대부분 말랐을때 충분히 관수함'),\n",
       "  ('병충해', '응애,깍지벌레'),\n",
       "  ('특별관리',\n",
       "   '- 보통 풍란 하면 소엽풍란을 말한다. - 나도풍란은 잎이 넓은 대엽풍란이다. - 자연 상태에서는 6년 정도가 지나야 꽃을 피우는데, 그 향기가 진하여 취할 정도로 좋다.')],\n",
       " [('식물이름', '나한송'),\n",
       "  ('분류', '잎보기식물'),\n",
       "  ('생육형태', '직립형,관목형'),\n",
       "  ('생장높이', '200'),\n",
       "  ('생장너비', '100'),\n",
       "  ('실내정원구성', '상층목,중층목'),\n",
       "  ('생태형', '일반형'),\n",
       "  ('잎형태', '잎-화려함 / 잎의 질감-섬세함 / 잎의 광택-있음 / 상록'),\n",
       "  ('잎무늬', '기타 (무늬없음 등)'),\n",
       "  ('잎색', '녹색, 연두색'),\n",
       "  ('향기', '거의 없음'),\n",
       "  ('독성', '있음'),\n",
       "  ('번식방법', '파종,삽목'),\n",
       "  ('관리수준', '초보자'),\n",
       "  ('관리요구도', '낮음 (잘 견딤)'),\n",
       "  ('광요구도', '중간 광도(800~1,500 Lux),높은 광도(1,500~10,000 Lux)'),\n",
       "  ('배치장소', '거실 창측 (실내깊이 150~300cm)발코니 내측 (실내깊이 50~150cm)발코니 창측 (실내깊이 0~50cm)'),\n",
       "  ('생장속도', '느림'),\n",
       "  ('생육적온', '10~15℃'),\n",
       "  ('겨울최저온도', '5℃'),\n",
       "  ('비료', '보통 요구함'),\n",
       "  ('토양', '중성,산성,알칼리성 / 배수 잘 됨 / 타입-Clay, Loam, Sand'),\n",
       "  ('물주기-봄', '흙을 촉촉하게 유지함(물에 잠기지 않도록 주의)'),\n",
       "  ('물주기-여름', '흙을 촉촉하게 유지함(물에 잠기지 않도록 주의)'),\n",
       "  ('물주기-가을', '흙을 촉촉하게 유지함(물에 잠기지 않도록 주의)'),\n",
       "  ('물주기-겨울', '토양 표면이 말랐을때 충분히 관수함'),\n",
       "  ('병충해', '응애,깍지벌레'),\n",
       "  ('특별관리', '실내의 불량한 환경에도 잘 견디며 생장이 더디며 많은 관리를 필요로 하지 않는다.')],\n",
       " [('식물이름', '남천'),\n",
       "  ('분류', '잎보기식물,열매보기식물'),\n",
       "  ('생육형태', '관목형'),\n",
       "  ('생장높이', '150'),\n",
       "  ('생장너비', '100'),\n",
       "  ('실내정원구성', '상층목,중층목'),\n",
       "  ('생태형', '일반형'),\n",
       "  ('잎형태', '잎의 질감-중간 / 잎의 광택-있음 / 상록'),\n",
       "  ('잎무늬', '기타 (무늬없음 등)'),\n",
       "  ('잎색', '녹색, 연두색,금색, 노란색,빨강, 분홍, 자주색'),\n",
       "  ('꽃피는계절', '봄,여름'),\n",
       "  ('꽃색', '분홍색,흰색'),\n",
       "  ('열매맺는계절', '여름,가을'),\n",
       "  ('열매색', '빨강색,오렌지색,흰색'),\n",
       "  ('향기', '거의 없음'),\n",
       "  ('독성', '있음'),\n",
       "  ('번식방법', '파종,삽목'),\n",
       "  ('관리수준', '초보자'),\n",
       "  ('관리요구도', '낮음 (잘 견딤)'),\n",
       "  ('광요구도', '높은 광도(1,500~10,000 Lux)'),\n",
       "  ('배치장소', '거실 창측 (실내깊이 150~300cm)발코니 내측 (실내깊이 50~150cm)발코니 창측 (실내깊이 0~50cm)'),\n",
       "  ('생장속도', '보통'),\n",
       "  ('생육적온', '16~20℃'),\n",
       "  ('겨울최저온도', '5℃'),\n",
       "  ('습도', '40 ~ 70%'),\n",
       "  ('비료', '비료를 보통 요구함'),\n",
       "  ('토양', '중성,산성 / 배수 잘 됨 / 타입-Loam, Sand'),\n",
       "  ('물주기-봄', '토양 표면이 말랐을때 충분히 관수함'),\n",
       "  ('물주기-여름', '토양 표면이 말랐을때 충분히 관수함'),\n",
       "  ('물주기-가을', '토양 표면이 말랐을때 충분히 관수함'),\n",
       "  ('물주기-겨울', '화분 흙 대부분 말랐을때 충분히 관수함'),\n",
       "  ('병충해', '응애,깍지벌레'),\n",
       "  ('특별관리', '분흙의 물빠짐이 좋아야 한다. 지나친 과습과 건조는 잎을  황화시켜 떨어지게 한다.')],\n",
       " [('식물이름', '네마탄투스'),\n",
       "  ('분류', '잎&꽃보기식물'),\n",
       "  ('생육형태', '관목형,덩굴성'),\n",
       "  ('생장높이', '30'),\n",
       "  ('생장너비', '50'),\n",
       "  ('실내정원구성', '하층목,지피식물'),\n",
       "  ('생태형', '일반형,건조형'),\n",
       "  ('잎형태', '화려함 / 잎의 질감-거침 / 잎의 광택-있음 / 상록'),\n",
       "  ('잎무늬', '기타 (무늬없음 등)'),\n",
       "  ('잎색', '녹색, 연두색'),\n",
       "  ('꽃피는계절', '봄,여름'),\n",
       "  ('꽃색', '빨강색,오렌지색'),\n",
       "  ('향기', '거의 없음'),\n",
       "  ('번식방법', '삽목'),\n",
       "  ('관리수준', '경험자'),\n",
       "  ('관리요구도', '보통 (약간 잘 견딤)'),\n",
       "  ('광요구도', '중간 광도(800~1,500 Lux),높은 광도(1,500~10,000 Lux)'),\n",
       "  ('배치장소', '거실 창측 (실내깊이 150~300cm)발코니 내측 (실내깊이 50~150cm)발코니 창측 (실내깊이 0~50cm)'),\n",
       "  ('생장속도', '보통'),\n",
       "  ('생육적온', '16~20℃'),\n",
       "  ('겨울최저온도', '10℃'),\n",
       "  ('습도', '40 ~ 70%'),\n",
       "  ('비료', '비료를 보통 요구함'),\n",
       "  ('토양', '중성 / 배수정도 보통 / 타입 - Loam, Sand'),\n",
       "  ('물주기-봄', '토양 표면이 말랐을때 충분히 관수함'),\n",
       "  ('물주기-여름', '토양 표면이 말랐을때 충분히 관수함'),\n",
       "  ('물주기-가을', '토양 표면이 말랐을때 충분히 관수함'),\n",
       "  ('물주기-겨울', '화분 흙 대부분 말랐을때 충분히 관수함'),\n",
       "  ('병충해', '진딧물,응애,깍지벌레')],\n",
       " [('식물이름', '네오레겔리아'),\n",
       "  ('분류', '잎&꽃보기식물'),\n",
       "  ('생육형태', '풀모양,로제트형'),\n",
       "  ('생장높이', '30'),\n",
       "  ('생장너비', '30'),\n",
       "  ('실내정원구성', '하층목'),\n",
       "  ('생태형', '일반형'),\n",
       "  ('잎무늬', '줄무늬,점무늬,기타 (무늬없음 등)'),\n",
       "  ('잎색', '녹색, 연두색,흰색, 크림색,빨강, 분홍, 자주색'),\n",
       "  ('꽃피는계절', '봄,여름'),\n",
       "  ('꽃색', '보라색,분홍색,빨강색,흰색'),\n",
       "  ('번식방법', '분주,기타'),\n",
       "  ('관리수준', '경험자'),\n",
       "  ('관리요구도', '필요함'),\n",
       "  ('광요구도', '중간 광도(800~1,500 Lux),높은 광도(1,500~10,000 Lux)'),\n",
       "  ('배치장소', '거실 창측 (실내깊이 150~300cm)발코니 내측 (실내깊이 50~150cm)발코니 창측 (실내깊이 0~50cm)'),\n",
       "  ('생장속도', '보통'),\n",
       "  ('생육적온', '16~20℃'),\n",
       "  ('겨울최저온도', '13℃ 이상'),\n",
       "  ('습도', '70% 이상'),\n",
       "  ('비료', '보통 요구함'),\n",
       "  ('물주기-봄', '토양 표면이 말랐을때 충분히 관수함'),\n",
       "  ('물주기-여름', '토양 표면이 말랐을때 충분히 관수함'),\n",
       "  ('물주기-가을', '토양 표면이 말랐을때 충분히 관수함'),\n",
       "  ('물주기-겨울', '토양 표면이 말랐을때 충분히 관수함'),\n",
       "  ('병충해', '응애'),\n",
       "  ('특별관리',\n",
       "   '잎이 단단하여 오래가지만 몸에 가시가 있어 세게 만지면 다친다.개화기에는 가운데 있는 잎들이 포인세티아처럼 빨갛게 또는 보랏빛으로 물이 들어 오랜 기간동안 그 모습을 유지한다. 포엽 가운데 물이 차며 여기서 청보라색의 꽃이 핀다. 잎을 보는 관엽식물로써 실내분화용으로 쓰인다. 우리나라에서도 즐겨 재배되고 있으며 화원에서 쉽게 구할 수 있다. 꽃대는 거의 뻗어 나오질 않고 원통 속에서 꽃이 핀다.이 식물의 생육습성은 착생형으로 일부 동양란들처럼 뿌리가 공기에 많이 노출돼야 잘 자란다. 그래서 통기성이 아주 뛰어난 바크(소나무 껍질 같은 유기물) 같은 용토에 심는 것이 보통이다.')],\n",
       " [('식물이름', '녹영'),\n",
       "  ('분류', '선인장다육식물'),\n",
       "  ('생육형태', '덩굴성'),\n",
       "  ('생장높이', '5'),\n",
       "  ('생장너비', '30'),\n",
       "  ('실내정원구성', '지피식물'),\n",
       "  ('생태형', '건조형'),\n",
       "  ('잎무늬', '기타 (무늬없음 등)'),\n",
       "  ('잎색', '녹색, 연두색'),\n",
       "  ('향기', '약함'),\n",
       "  ('독성', '복용시 치명적 독성'),\n",
       "  ('번식방법', '삽목,분주'),\n",
       "  ('번식시기', '여름'),\n",
       "  ('관리수준', '경험자'),\n",
       "  ('관리요구도', '필요함'),\n",
       "  ('광요구도', '중간 광도(800~1,500 Lux),높은 광도(1,500~10,000 Lux)'),\n",
       "  ('배치장소', '거실 창측 (실내깊이 150~300cm)발코니 내측 (실내깊이 50~150cm)발코니 창측 (실내깊이 0~50cm)'),\n",
       "  ('생육적온', '16~20℃'),\n",
       "  ('겨울최저온도', '13℃ 이상'),\n",
       "  ('습도', '40 ~ 70%'),\n",
       "  ('비료', '비료를 보통 요구함 (2회/년, 4월, 7월)'),\n",
       "  ('토양', '건조에 강한 식물이므로 겉흙이 완전히 마르면 관수하며 온도가 낮은 환경에서는 특별히 흙을 건조하게 관리한다.'),\n",
       "  ('물주기-봄', '화분 흙 대부분 말랐을때 충분히 관수함'),\n",
       "  ('물주기-여름', '화분 흙 대부분 말랐을때 충분히 관수함'),\n",
       "  ('물주기-가을', '화분 흙 대부분 말랐을때 충분히 관수함'),\n",
       "  ('물주기-겨울', '화분 흙 대부분 말랐을때 충분히 관수함'),\n",
       "  ('병충해', '응애')],\n",
       " [('식물이름', '뉴기니아봉선화'),\n",
       "  ('분류', '꽃보기식물'),\n",
       "  ('생육형태', '관목형'),\n",
       "  ('생장높이', '30'),\n",
       "  ('생장너비', '30'),\n",
       "  ('실내정원구성', '하층목'),\n",
       "  ('생태형', '일반형'),\n",
       "  ('잎형태', '잎은 긴 타원형이며 끝이 뾰족한 피침형이다.잎은 암록색이나 동록색을 띈다.'),\n",
       "  ('잎무늬', '기타 (무늬없음 등)'),\n",
       "  ('잎색', '녹색, 연두색,빨강, 분홍, 자주색'),\n",
       "  ('꽃피는계절', '봄,여름,가을'),\n",
       "  ('꽃색', '분홍색,빨강색,오렌지색,흰색'),\n",
       "  ('향기', '거의 없음'),\n",
       "  ('번식방법', '파종,삽목'),\n",
       "  ('관리수준', '초보자'),\n",
       "  ('관리요구도', '보통 (약간 잘 견딤)'),\n",
       "  ('광요구도', '중간 광도(800~1,500 Lux),높은 광도(1,500~10,000 Lux)'),\n",
       "  ('배치장소', '거실 창측 (실내깊이 150~300cm)발코니 내측 (실내깊이 50~150cm)발코니 창측 (실내깊이 0~50cm)'),\n",
       "  ('생장속도', '보통'),\n",
       "  ('생육적온', '21~25℃'),\n",
       "  ('겨울최저온도', '13℃ 이상'),\n",
       "  ('습도', '40% 미만'),\n",
       "  ('비료', '연중 개화하는 식물이므로 규칙적인 시비가 필요하다.'),\n",
       "  ('토양', '유기질이 풍부한 배합토로 만든 토양에서 기른다.'),\n",
       "  ('물주기-봄', '흙을 촉촉하게 유지함(물에 잠기지 않도록 주의)'),\n",
       "  ('물주기-여름', '흙을 촉촉하게 유지함(물에 잠기지 않도록 주의)'),\n",
       "  ('물주기-가을', '토양 표면이 말랐을때 충분히 관수함'),\n",
       "  ('물주기-겨울', '화분 흙 대부분 말랐을때 충분히 관수함'),\n",
       "  ('병충해', '진딧물,응애,총채벌레,온실가루이'),\n",
       "  ('병충해관리', '고온 건조할때 햇빛이 강한 곳에 두면, 잎이 떨어지거나 진딧물이 발생하므로 주의한다.'),\n",
       "  ('특별관리', '물을 매우 좋아하므로 생장기에는 충분히 주지만, 흙이 물에 잠겨있으면, 뿌리가 썩을 수 있다.')],\n",
       " [('식물이름', '대만고무나무'),\n",
       "  ('분류', '잎보기식물'),\n",
       "  ('생육형태', '직립형,관목형'),\n",
       "  ('생장높이', '200'),\n",
       "  ('생장너비', '100'),\n",
       "  ('실내정원구성', '상층목,중층목'),\n",
       "  ('생태형', '일반형'),\n",
       "  ('잎무늬', '기타 (무늬없음 등)'),\n",
       "  ('잎색', '녹색, 연두색'),\n",
       "  ('번식방법', '삽목'),\n",
       "  ('관리수준', '경험자'),\n",
       "  ('관리요구도', '필요함'),\n",
       "  ('광요구도', '중간 광도(800~1,500 Lux),높은 광도(1,500~10,000 Lux)'),\n",
       "  ('배치장소',\n",
       "   '거실 내측 (실내깊이 300~500cm)거실 창측 (실내깊이 150~300cm)발코니 내측 (실내깊이 50~150cm)발코니 창측 (실내깊이 0~50cm)'),\n",
       "  ('생장속도', '보통'),\n",
       "  ('생육적온', '21~25℃'),\n",
       "  ('겨울최저온도', '13℃ 이상'),\n",
       "  ('습도', '40 ~ 70%'),\n",
       "  ('비료', '비료를 보통 요구함'),\n",
       "  ('물주기-봄', '토양 표면이 말랐을때 충분히 관수함'),\n",
       "  ('물주기-여름', '토양 표면이 말랐을때 충분히 관수함'),\n",
       "  ('물주기-가을', '토양 표면이 말랐을때 충분히 관수함'),\n",
       "  ('물주기-겨울', '화분 흙 대부분 말랐을때 충분히 관수함'),\n",
       "  ('병충해', '응애,깍지벌레'),\n",
       "  ('특별관리',\n",
       "   '환경에 빨리 적응하지 못하므로 갑자기 햇빛으로 내 놓거나, 실내로 옮기면 잎이 많이 떨어지므로 서서히 적응기간을 두어 옮긴다.')],\n",
       " [('식물이름', '더피고사리'),\n",
       "  ('분류', '잎보기식물'),\n",
       "  ('생육형태', '풀모양'),\n",
       "  ('생장높이', '30'),\n",
       "  ('생장너비', '30'),\n",
       "  ('실내정원구성', '하층목'),\n",
       "  ('생태형', '일반형'),\n",
       "  ('잎무늬', '기타 (무늬없음 등)'),\n",
       "  ('잎색', '녹색, 연두색'),\n",
       "  ('향기', '거의 없음'),\n",
       "  ('번식방법', '분주,기타'),\n",
       "  ('관리수준', '경험자'),\n",
       "  ('관리요구도', '낮음 (잘 견딤)'),\n",
       "  ('광요구도', '중간 광도(800~1,500 Lux),높은 광도(1,500~10,000 Lux)'),\n",
       "  ('배치장소',\n",
       "   '거실 내측 (실내깊이 300~500cm)거실 창측 (실내깊이 150~300cm)발코니 내측 (실내깊이 50~150cm)발코니 창측 (실내깊이 0~50cm)'),\n",
       "  ('생장속도', '느림'),\n",
       "  ('생육적온', '16~20℃'),\n",
       "  ('겨울최저온도', '13℃ 이상'),\n",
       "  ('습도', '70% 이상'),\n",
       "  ('비료', '비료를 보통 요구함'),\n",
       "  ('토양', '난석 4:부엽토 3:강모래 3'),\n",
       "  ('물주기-봄', '흙을 촉촉하게 유지함(물에 잠기지 않도록 주의)'),\n",
       "  ('물주기-여름', '흙을 촉촉하게 유지함(물에 잠기지 않도록 주의)'),\n",
       "  ('물주기-가을', '흙을 촉촉하게 유지함(물에 잠기지 않도록 주의)'),\n",
       "  ('물주기-겨울', '토양 표면이 말랐을때 충분히 관수함'),\n",
       "  ('병충해', '응애,깍지벌레'),\n",
       "  ('병충해관리',\n",
       "   '습기가 많아서 민달팽이에 침해되기 쉬우므로 민달팽이가 붙으면 약을 뿌려 주도록 하고 과습에 의한 곰팡이병도 문제가 된다. 또, 건조할 때는 깍지벌레, 온실가루이, 가루깍지벌레 등이 발생한다.'),\n",
       "  ('특별관리',\n",
       "   '매일 분무해서 공기 중의 습도를 높여 준다. 수분이 부족하게 되면 바로 잎끝이 상한다. 한번 말리면 회복이 힘들다.')],\n",
       " [('식물이름', '덕구리난'),\n",
       "  ('분류', '잎보기식물,선인장다육식물'),\n",
       "  ('생육형태', '직립형,다육형'),\n",
       "  ('생장높이', '100'),\n",
       "  ('생장너비', '40'),\n",
       "  ('실내정원구성', '중층목'),\n",
       "  ('생태형', '건조형'),\n",
       "  ('잎형태', '잎-화려 / 잎의 질감-거칠 / 잎의 광택-있음 / 잎은 얇고 단단함'),\n",
       "  ('잎무늬', '기타 (무늬없음 등)'),\n",
       "  ('잎색', '녹색, 연두색'),\n",
       "  ('향기', '거의 없음'),\n",
       "  ('독성', '없음'),\n",
       "  ('번식방법', '파종'),\n",
       "  ('관리수준', '초보자'),\n",
       "  ('관리요구도', '낮음 (잘 견딤)'),\n",
       "  ('광요구도', '높은 광도(1,500~10,000 Lux)'),\n",
       "  ('배치장소', '거실 창측 (실내깊이 150~300cm)발코니 내측 (실내깊이 50~150cm)발코니 창측 (실내깊이 0~50cm)'),\n",
       "  ('생장속도', '느림'),\n",
       "  ('생육적온', '21~25℃'),\n",
       "  ('겨울최저온도', '13℃ 이상'),\n",
       "  ('습도', '40% 미만'),\n",
       "  ('비료', '비료를 거의 요구하지않음 (2회/년, 4월, 7월)'),\n",
       "  ('토양', '배수가 잘 되는 토양'),\n",
       "  ('물주기-봄', '토양 표면이 말랐을때 충분히 관수함'),\n",
       "  ('물주기-여름', '토양 표면이 말랐을때 충분히 관수함'),\n",
       "  ('물주기-가을', '토양 표면이 말랐을때 충분히 관수함'),\n",
       "  ('물주기-겨울', '화분 흙 대부분 말랐을때 충분히 관수함'),\n",
       "  ('병충해', '응애,깍지벌레'),\n",
       "  ('특별관리', '적절한 환기가 필요함, 여름동안 햇볕이 잘드는 위치에 배치하는 것이 좋음.')],\n",
       " [('식물이름', '데코라고무나무'),\n",
       "  ('분류', '잎보기식물'),\n",
       "  ('생육형태', '직립형,관목형'),\n",
       "  ('생장높이', '200'),\n",
       "  ('생장너비', '100'),\n",
       "  ('실내정원구성', '상층목,중층목'),\n",
       "  ('생태형', '일반형'),\n",
       "  ('잎형태', '잎-화려함 / 잎의 질감-두꺼움 / 잎의 광택-있음 / 상록'),\n",
       "  ('잎무늬', '점무늬,기타 (무늬없음 등)'),\n",
       "  ('잎색', '녹색, 연두색,흰색, 크림색,빨강, 분홍, 자주색'),\n",
       "  ('향기', '거의 없음'),\n",
       "  ('독성', '수액이 인체의 피부나 점막을 자극할 수 있다.'),\n",
       "  ('번식방법', '삽목'),\n",
       "  ('관리수준', '초보자'),\n",
       "  ('관리요구도', '필요함'),\n",
       "  ('광요구도', '중간 광도(800~1,500 Lux),높은 광도(1,500~10,000 Lux)'),\n",
       "  ('배치장소', '거실 창측 (실내깊이 150~300cm)발코니 내측 (실내깊이 50~150cm)발코니 창측 (실내깊이 0~50cm)'),\n",
       "  ('생장속도', '빠름'),\n",
       "  ('생육적온', '21~25℃'),\n",
       "  ('겨울최저온도', '13℃ 이상'),\n",
       "  ('습도', '40 ~ 70%'),\n",
       "  ('비료', '비료를 보통 요구함'),\n",
       "  ('토양', '중성,산성,알칼리성 / 배수 잘 됨 / 타입-Loam, Sand'),\n",
       "  ('물주기-봄', '토양 표면이 말랐을때 충분히 관수함'),\n",
       "  ('물주기-여름', '토양 표면이 말랐을때 충분히 관수함'),\n",
       "  ('물주기-가을', '토양 표면이 말랐을때 충분히 관수함'),\n",
       "  ('물주기-겨울', '화분 흙 대부분 말랐을때 충분히 관수함'),\n",
       "  ('병충해', '응애,깍지벌레')],\n",
       " [('식물이름', '덴파레'),\n",
       "  ('분류', '잎&꽃보기식물'),\n",
       "  ('생육형태', '관목형,풀모양,다육형'),\n",
       "  ('생장높이', '50'),\n",
       "  ('생장너비', '30'),\n",
       "  ('실내정원구성', '하층목'),\n",
       "  ('생태형', '건조형'),\n",
       "  ('잎무늬', '기타 (무늬없음 등)'),\n",
       "  ('잎색', '녹색, 연두색'),\n",
       "  ('꽃피는계절', '봄,여름,가을,겨울'),\n",
       "  ('꽃색', '보라색,분홍색,빨강색,노랑색,흰색,혼합색'),\n",
       "  ('향기', '약함'),\n",
       "  ('번식방법', '분주,기타'),\n",
       "  ('관리수준', '경험자'),\n",
       "  ('관리요구도', '보통 (약간 잘 견딤)'),\n",
       "  ('광요구도', '높은 광도(1,500~10,000 Lux)'),\n",
       "  ('배치장소', '거실 창측 (실내깊이 150~300cm)발코니 내측 (실내깊이 50~150cm)발코니 창측 (실내깊이 0~50cm)'),\n",
       "  ('생장속도', '느림'),\n",
       "  ('생육적온', '21~25℃'),\n",
       "  ('겨울최저온도', '13℃ 이상'),\n",
       "  ('습도', '40 ~ 70%'),\n",
       "  ('물주기-봄', '화분 흙 대부분 말랐을때 충분히 관수함'),\n",
       "  ('물주기-여름', '화분 흙 대부분 말랐을때 충분히 관수함'),\n",
       "  ('물주기-가을', '화분 흙 대부분 말랐을때 충분히 관수함'),\n",
       "  ('물주기-겨울', '화분 흙 대부분 말랐을때 충분히 관수함'),\n",
       "  ('병충해', '응애,총채벌레'),\n",
       "  ('특별관리', '봄-가을 까지는 실외에 두고 꽃이 개화하여 80%정도에서 꽃대를 잘라주면 새로운 싹을 받기에 좋다.')],\n",
       " [('식물이름', '도깨비고비'),\n",
       "  ('분류', '잎보기식물'),\n",
       "  ('생육형태', '풀모양'),\n",
       "  ('생장높이', '30'),\n",
       "  ('생장너비', '30'),\n",
       "  ('실내정원구성', '하층목,지피식물'),\n",
       "  ('생태형', '일반형'),\n",
       "  ('잎형태', '잎-화려함 / 잎의 질감-거침 / 잎의 광택-있음 / 상록'),\n",
       "  ('잎색', '녹색, 연두색'),\n",
       "  ('향기', '거의 없음'),\n",
       "  ('번식방법', '파종,기타'),\n",
       "  ('관리수준', '초보자'),\n",
       "  ('관리요구도', '낮음 (잘 견딤)'),\n",
       "  ('광요구도', '낮은 광도(300~800 Lux),중간 광도(800~1,500 Lux),높은 광도(1,500~10,000 Lux)'),\n",
       "  ('배치장소',\n",
       "   '실내 어두운 곳 (실내깊이 500 이상cm)거실 내측 (실내깊이 300~500cm)거실 창측 (실내깊이 150~300cm)발코니 내측 (실내깊이 50~150cm)발코니 창측 (실내깊이 0~50cm)'),\n",
       "  ('생장속도', '보통'),\n",
       "  ('생육적온', '16~20℃'),\n",
       "  ('겨울최저온도', '0℃ 이하'),\n",
       "  ('습도', '40% 미만'),\n",
       "  ('비료', '비료를 보통 요구함'),\n",
       "  ('토양', '중성 / 배수 잘 됨 / 타입-Loam'),\n",
       "  ('물주기-봄', '흙을 촉촉하게 유지함(물에 잠기지 않도록 주의)'),\n",
       "  ('물주기-여름', '흙을 촉촉하게 유지함(물에 잠기지 않도록 주의)'),\n",
       "  ('물주기-가을', '흙을 촉촉하게 유지함(물에 잠기지 않도록 주의)'),\n",
       "  ('물주기-겨울', '토양 표면이 말랐을때 충분히 관수함'),\n",
       "  ('병충해', '응애,깍지벌레')],\n",
       " [('식물이름', '돈나무'),\n",
       "  ('분류', '잎&꽃보기식물,열매보기식물'),\n",
       "  ('생육형태', '관목형'),\n",
       "  ('생장높이', '100'),\n",
       "  ('생장너비', '50'),\n",
       "  ('실내정원구성', '중층목'),\n",
       "  ('생태형', '일반형'),\n",
       "  ('잎형태', '둥근형, 광택있음'),\n",
       "  ('잎무늬', '기타 (무늬없음 등)'),\n",
       "  ('잎색', '녹색, 연두색'),\n",
       "  ('꽃피는계절', '봄'),\n",
       "  ('꽃색', '노랑색,흰색'),\n",
       "  ('열매맺는계절', '가을,겨울'),\n",
       "  ('열매색', '빨강색,오렌지색'),\n",
       "  ('향기', '강함'),\n",
       "  ('독성', '애완동물에게 해로울 수 있음'),\n",
       "  ('번식방법', '파종,삽목'),\n",
       "  ('번식시기', '여름'),\n",
       "  ('관리수준', '초보자'),\n",
       "  ('관리요구도', '낮음 (잘 견딤)'),\n",
       "  ('광요구도', '중간 광도(800~1,500 Lux),높은 광도(1,500~10,000 Lux)'),\n",
       "  ('배치장소', '거실 창측 (실내깊이 150~300cm)발코니 내측 (실내깊이 50~150cm)발코니 창측 (실내깊이 0~50cm)'),\n",
       "  ('생장속도', '보통'),\n",
       "  ('생육적온', '16~20℃'),\n",
       "  ('겨울최저온도', '0℃ 이하'),\n",
       "  ('습도', '40 ~ 70%'),\n",
       "  ('비료', '보통 요구함 (수용성비료를 봄과 여름에 격주로 줌)'),\n",
       "  ('토양', '화분용 영양토'),\n",
       "  ('물주기-봄', '토양 표면이 말랐을때 충분히 관수함'),\n",
       "  ('물주기-여름', '토양 표면이 말랐을때 충분히 관수함'),\n",
       "  ('물주기-가을', '토양 표면이 말랐을때 충분히 관수함'),\n",
       "  ('물주기-겨울', '화분 흙 대부분 말랐을때 충분히 관수함'),\n",
       "  ('병충해', '응애,깍지벌레'),\n",
       "  ('병충해관리', '실내나 온실 도입 전에 병충해 검사 요함')],\n",
       " [('식물이름', '동백'),\n",
       "  ('분류', '잎&꽃보기식물'),\n",
       "  ('생육형태', '관목형'),\n",
       "  ('생장높이', '200'),\n",
       "  ('생장너비', '100'),\n",
       "  ('실내정원구성', '상층목,중층목'),\n",
       "  ('생태형', '일반형'),\n",
       "  ('잎형태', '타원형 / 광택'),\n",
       "  ('잎무늬', '기타 (무늬없음 등)'),\n",
       "  ('잎색', '녹색, 연두색'),\n",
       "  ('꽃피는계절', '봄,겨울'),\n",
       "  ('꽃색', '분홍색,빨강색,흰색,혼합색'),\n",
       "  ('향기', '중간'),\n",
       "  ('독성', '없음'),\n",
       "  ('번식방법', '파종,삽목,접목'),\n",
       "  ('번식시기', '늦여름'),\n",
       "  ('관리수준', '경험자'),\n",
       "  ('관리요구도', '필요함'),\n",
       "  ('광요구도', '높은 광도(1,500~10,000 Lux)'),\n",
       "  ('배치장소', '거실 창측 (실내깊이 150~300cm)발코니 내측 (실내깊이 50~150cm)발코니 창측 (실내깊이 0~50cm)'),\n",
       "  ('생장속도', '느림'),\n",
       "  ('생육적온', '16~20℃'),\n",
       "  ('겨울최저온도', '0℃ 이하'),\n",
       "  ('습도', '40 ~ 70%'),\n",
       "  ('비료', '많이 요구함 (유기물이 풍부, 성장기간동안 산성비료 2주에 1번)'),\n",
       "  ('토양', '양토(산성, 중성), 점토, 모래, 건조토양'),\n",
       "  ('물주기-봄', '토양 표면이 말랐을때 충분히 관수함'),\n",
       "  ('물주기-여름', '토양 표면이 말랐을때 충분히 관수함'),\n",
       "  ('물주기-가을', '토양 표면이 말랐을때 충분히 관수함'),\n",
       "  ('물주기-겨울', '화분 흙 대부분 말랐을때 충분히 관수함'),\n",
       "  ('병충해', '응애,깍지벌레'),\n",
       "  ('병충해관리', '거미진드기 (실내나 온실 도입 전에 병충해 검사 요함.)'),\n",
       "  ('특별관리', '- 겨울철 바람으로 인한 탈수피해가 있을 수 있어 노출을 주의함 - 지나친 가지치기를 피함')],\n",
       " [('식물이름', '둥근잎 아랄리아'),\n",
       "  ('분류', '잎보기식물'),\n",
       "  ('생육형태', '관목형'),\n",
       "  ('생장높이', '150'),\n",
       "  ('생장너비', '60'),\n",
       "  ('실내정원구성', '상층목,중층목'),\n",
       "  ('생태형', '일반형'),\n",
       "  ('잎형태', '둥근형'),\n",
       "  ('잎무늬', '잎 가장자리 무늬,기타 (무늬없음 등)'),\n",
       "  ('잎색', '녹색, 연두색,빨강, 분홍, 자주색,기타'),\n",
       "  ('향기', '거의 없음'),\n",
       "  ('번식방법', '삽목'),\n",
       "  ('관리수준', '경험자'),\n",
       "  ('관리요구도', '필요함'),\n",
       "  ('광요구도', '중간 광도(800~1,500 Lux),높은 광도(1,500~10,000 Lux)'),\n",
       "  ('배치장소',\n",
       "   '거실 내측 (실내깊이 300~500cm)거실 창측 (실내깊이 150~300cm)발코니 내측 (실내깊이 50~150cm)발코니 창측 (실내깊이 0~50cm)'),\n",
       "  ('생장속도', '보통'),\n",
       "  ('생육적온', '21~25℃'),\n",
       "  ('겨울최저온도', '13℃ 이상'),\n",
       "  ('습도', '40 ~ 70%'),\n",
       "  ('비료', '비료를 보통 요구함'),\n",
       "  ('물주기-봄', '토양 표면이 말랐을때 충분히 관수함'),\n",
       "  ('물주기-여름', '토양 표면이 말랐을때 충분히 관수함'),\n",
       "  ('물주기-가을', '토양 표면이 말랐을때 충분히 관수함'),\n",
       "  ('물주기-겨울', '화분 흙 대부분 말랐을때 충분히 관수함'),\n",
       "  ('병충해', '응애,깍지벌레'),\n",
       "  ('특별관리',\n",
       "   '- 성장기인 5~9월엔 분흙의 상태를 보아 1주일을 기준으로 물관리함  흙이 마르지 않게 조절하되 과습하지 않도록 주의- 과습은 잎이 노랗게 마르면서 낙엽이 지거나 줄기가 썩는 원인 - 온도가 낮아지면 낙엽 지고, 봄이 되어야 잎이 나옴')],\n",
       " [('식물이름', '듀란타'),\n",
       "  ('분류', '잎&꽃보기식물'),\n",
       "  ('생육형태', '관목형'),\n",
       "  ('생장높이', '100'),\n",
       "  ('생장너비', '100'),\n",
       "  ('실내정원구성', '상층목,중층목'),\n",
       "  ('생태형', '일반형'),\n",
       "  ('잎무늬', '기타 (무늬없음 등)'),\n",
       "  ('잎색', '녹색, 연두색,금색, 노란색'),\n",
       "  ('꽃피는계절', '봄,여름'),\n",
       "  ('꽃색', '보라색,기타'),\n",
       "  ('향기', '강함'),\n",
       "  ('번식방법', '삽목'),\n",
       "  ('관리요구도', '필요함'),\n",
       "  ('광요구도', '높은 광도(1,500~10,000 Lux)'),\n",
       "  ('배치장소', '거실 창측 (실내깊이 150~300cm)발코니 내측 (실내깊이 50~150cm)발코니 창측 (실내깊이 0~50cm)'),\n",
       "  ('생육적온', '21~25℃'),\n",
       "  ('겨울최저온도', '13℃ 이상'),\n",
       "  ('습도', '40 ~ 70%'),\n",
       "  ('비료', '비료를 보통 요구함'),\n",
       "  ('토양', '화분용 영양토'),\n",
       "  ('물주기-봄', '토양 표면이 말랐을때 충분히 관수함'),\n",
       "  ('물주기-여름', '토양 표면이 말랐을때 충분히 관수함'),\n",
       "  ('물주기-가을', '토양 표면이 말랐을때 충분히 관수함'),\n",
       "  ('물주기-겨울', '화분 흙 대부분 말랐을때 충분히 관수함'),\n",
       "  ('병충해', '진딧물,응애,깍지벌레,온실가루이')],\n",
       " [('식물이름', \"드라세나  '송오브자마이카'\"),\n",
       "  ('분류', '잎보기식물'),\n",
       "  ('생육형태', '관목형'),\n",
       "  ('생장높이', '150'),\n",
       "  ('생장너비', '50'),\n",
       "  ('실내정원구성', '중층목'),\n",
       "  ('생태형', '일반형,수경형'),\n",
       "  ('잎형태', '좁은 칼 모양 잎'),\n",
       "  ('잎무늬', '줄무늬'),\n",
       "  ('잎색', '녹색, 연두색'),\n",
       "  ('향기', '약함'),\n",
       "  ('독성', '없음'),\n",
       "  ('번식방법', '삽목,기타'),\n",
       "  ('관리수준', '초보자'),\n",
       "  ('관리요구도', '보통 (약간 잘 견딤)'),\n",
       "  ('광요구도', '낮은 광도(300~800 Lux),중간 광도(800~1,500 Lux),높은 광도(1,500~10,000 Lux)'),\n",
       "  ('배치장소',\n",
       "   '거실 내측 (실내깊이 300~500cm)거실 창측 (실내깊이 150~300cm)발코니 내측 (실내깊이 50~150cm)발코니 창측 (실내깊이 0~50cm)'),\n",
       "  ('생장속도', '보통'),\n",
       "  ('생육적온', '16~20℃'),\n",
       "  ('겨울최저온도', '5℃'),\n",
       "  ('습도', '40 ~ 70%'),\n",
       "  ('비료', '비료를 보통 요구함'),\n",
       "  ('토양', '물빠짐이 좋으면서 보수력을 지닌 토양'),\n",
       "  ('물주기-봄', '토양 표면이 말랐을때 충분히 관수함'),\n",
       "  ('물주기-여름', '토양 표면이 말랐을때 충분히 관수함'),\n",
       "  ('물주기-가을', '토양 표면이 말랐을때 충분히 관수함'),\n",
       "  ('물주기-겨울', '화분 흙 대부분 말랐을때 충분히 관수함'),\n",
       "  ('병충해', '응애,깍지벌레'),\n",
       "  ('병충해관리',\n",
       "   '불소 화합물 독성 때문에 잎끝이 갈변되고 살충제로 인해 잎가장자리가 타기도 함. 응애, 깍지벌레 등, 과습이 심할 경우 부패, 시들, 잎반점 등 나타남.'),\n",
       "  ('특별관리',\n",
       "   '-물주기: 겨울철에는 차가운물을 사용하면 잎이 황변할 수 있으므로 하루쯤 받아둔 물을 사용-난방으로 실내가 건조할 경우 분무로 습도 높어줌 / 흙의 상태,관리환경에 따라 분흙이 마르는 듯하면 충분이 줌.(물이 부족하면 잎무늬에 기미가 끼게 되고 건조하면 응애가 발생함) -병충해: 불소 화합물 독성 때문에 잎끝이 갈변되고 살충제로 인해 잎가장자리가 타기도 함. 응애, 깍지벌레 등, 과습이 심할 경우 부패, 시들, 잎반점 등 나타남.')],\n",
       " [('식물이름', \"드라세나  '와네끼'\"),\n",
       "  ('분류', '잎보기식물'),\n",
       "  ('생육형태', '직립형,관목형'),\n",
       "  ('생장높이', '150'),\n",
       "  ('생장너비', '70'),\n",
       "  ('실내정원구성', '상층목,중층목'),\n",
       "  ('생태형', '일반형,수경형'),\n",
       "  ('잎형태', '긴 칼 모양 잎'),\n",
       "  ('잎무늬', '줄무늬'),\n",
       "  ('잎색', '녹색, 연두색,금색, 노란색,흰색, 크림색'),\n",
       "  ('향기', '약함'),\n",
       "  ('독성', '애완동물에게 해로울 수 있음.'),\n",
       "  ('번식방법', '삽목'),\n",
       "  ('번식시기', '여름'),\n",
       "  ('관리수준', '초보자'),\n",
       "  ('관리요구도', '보통 (약간 잘 견딤)'),\n",
       "  ('광요구도', '중간 광도(800~1,500 Lux),높은 광도(1,500~10,000 Lux)'),\n",
       "  ('배치장소',\n",
       "   '거실 내측 (실내깊이 300~500cm)거실 창측 (실내깊이 150~300cm)발코니 내측 (실내깊이 50~150cm)발코니 창측 (실내깊이 0~50cm)'),\n",
       "  ('생장속도', '보통'),\n",
       "  ('생육적온', '16~20℃'),\n",
       "  ('겨울최저온도', '13℃ 이상'),\n",
       "  ('습도', '40 ~ 70%'),\n",
       "  ('비료', '비료를 보통 요구함. (수용성비료 2주에 한번 줌)'),\n",
       "  ('토양', '화분용 영양토'),\n",
       "  ('물주기-봄', '토양 표면이 말랐을때 충분히 관수함'),\n",
       "  ('물주기-여름', '토양 표면이 말랐을때 충분히 관수함'),\n",
       "  ('물주기-가을', '토양 표면이 말랐을때 충분히 관수함'),\n",
       "  ('물주기-겨울', '화분 흙 대부분 말랐을때 충분히 관수함'),\n",
       "  ('병충해', '응애,깍지벌레'),\n",
       "  ('병충해관리', '가정과 온실 도입시 유의 제거'),\n",
       "  ('특별관리', '-물주기: 균일하게 촉촉함 유지, 빗물사용시 산성화 주의, 따뜻한물 사용')],\n",
       " [('식물이름', \"드라세나 '송오브인디아'\"),\n",
       "  ('분류', '잎보기식물'),\n",
       "  ('생육형태', '관목형'),\n",
       "  ('생장높이', '150'),\n",
       "  ('생장너비', '50'),\n",
       "  ('실내정원구성', '중층목'),\n",
       "  ('생태형', '일반형,수경형'),\n",
       "  ('잎형태', '좁은 칼 모양'),\n",
       "  ('잎무늬', '줄무늬'),\n",
       "  ('잎색', '녹색, 연두색,금색, 노란색'),\n",
       "  ('꽃색', '흰색'),\n",
       "  ('향기', '약함'),\n",
       "  ('독성', '없음'),\n",
       "  ('번식방법', '삽목,기타'),\n",
       "  ('관리수준', '초보자'),\n",
       "  ('관리요구도', '보통 (약간 잘 견딤)'),\n",
       "  ('광요구도', '낮은 광도(300~800 Lux),중간 광도(800~1,500 Lux),높은 광도(1,500~10,000 Lux)'),\n",
       "  ('배치장소',\n",
       "   '거실 내측 (실내깊이 300~500cm)거실 창측 (실내깊이 150~300cm)발코니 내측 (실내깊이 50~150cm)발코니 창측 (실내깊이 0~50cm)'),\n",
       "  ('생장속도', '보통'),\n",
       "  ('생육적온', '16~20℃'),\n",
       "  ('겨울최저온도', '5℃'),\n",
       "  ('습도', '40 ~ 70%'),\n",
       "  ('비료', '비료를 보통 요구함(봄~가을 완효성비료를 규칙적으로 주고 겨울에 중단)'),\n",
       "  ('토양', '물빠짐이 좋고 다소 보수력이 있는 토양'),\n",
       "  ('물주기-봄', '흙을 촉촉하게 유지함(물에 잠기지 않도록 주의)'),\n",
       "  ('물주기-여름', '흙을 촉촉하게 유지함(물에 잠기지 않도록 주의)'),\n",
       "  ('물주기-가을', '흙을 촉촉하게 유지함(물에 잠기지 않도록 주의)'),\n",
       "  ('물주기-겨울', '화분 흙 대부분 말랐을때 충분히 관수함'),\n",
       "  ('병충해', '응애,깍지벌레'),\n",
       "  ('병충해관리', '가정과 온실 도입시 유의 제거'),\n",
       "  ('특별관리',\n",
       "   '- 물주기: 흙의 상태,관리환경에 따라 분흙이 마르는 듯하면 충분이 줌.(물이 부족하면 잎무늬에 기미가 끼게 되고 건조하면 응애가 발생함)- 불소 화합물 독성 때문에 잎끝이 갈변되고 살충제로 인해 잎가장자리가 타기도 함. - 과습이 심할 경우 부패, 시들음, 잎반점 등 나타남.')],\n",
       " [('식물이름', \"드라세나 '자바'\"),\n",
       "  ('분류', '잎보기식물'),\n",
       "  ('생육형태', '관목형'),\n",
       "  ('생장높이', '150'),\n",
       "  ('생장너비', '100'),\n",
       "  ('실내정원구성', '상층목,중층목'),\n",
       "  ('생태형', '일반형'),\n",
       "  ('잎형태', '좁고 가늘고 긴 잎'),\n",
       "  ('잎무늬', '기타 (무늬없음 등)'),\n",
       "  ('잎색', '녹색, 연두색'),\n",
       "  ('향기', '약함'),\n",
       "  ('번식방법', '삽목'),\n",
       "  ('관리수준', '경험자'),\n",
       "  ('관리요구도', '보통 (약간 잘 견딤)'),\n",
       "  ('광요구도', '중간 광도(800~1,500 Lux),높은 광도(1,500~10,000 Lux)'),\n",
       "  ('배치장소',\n",
       "   '거실 내측 (실내깊이 300~500cm)거실 창측 (실내깊이 150~300cm)발코니 내측 (실내깊이 50~150cm)발코니 창측 (실내깊이 0~50cm)'),\n",
       "  ('생장속도', '보통'),\n",
       "  ('생육적온', '16~20℃'),\n",
       "  ('겨울최저온도', '13℃ 이상'),\n",
       "  ('습도', '40 ~ 70%'),\n",
       "  ('비료', '비료를 보통 요구함'),\n",
       "  ('물주기-봄', '토양 표면이 말랐을때 충분히 관수함'),\n",
       "  ('물주기-여름', '토양 표면이 말랐을때 충분히 관수함'),\n",
       "  ('물주기-가을', '토양 표면이 말랐을때 충분히 관수함'),\n",
       "  ('물주기-겨울', '화분 흙 대부분 말랐을때 충분히 관수함'),\n",
       "  ('병충해', '응애,깍지벌레')],\n",
       " [('식물이름', \"드라세나 '콤팩타'\"),\n",
       "  ('분류', '잎보기식물'),\n",
       "  ('생육형태', '직립형,관목형'),\n",
       "  ('생장높이', '100'),\n",
       "  ('생장너비', '50'),\n",
       "  ('실내정원구성', '중층목'),\n",
       "  ('생태형', '일반형'),\n",
       "  ('잎무늬', '기타 (무늬없음 등)'),\n",
       "  ('잎색', '녹색, 연두색'),\n",
       "  ('향기', '약함'),\n",
       "  ('독성', '애완동물에게 해로울 수 있음'),\n",
       "  ('번식방법', '삽목'),\n",
       "  ('번식시기', '봄, 여름'),\n",
       "  ('관리수준', '초보자'),\n",
       "  ('관리요구도', '보통 (약간 잘 견딤)'),\n",
       "  ('광요구도', '낮은 광도(300~800 Lux),중간 광도(800~1,500 Lux),높은 광도(1,500~10,000 Lux)'),\n",
       "  ('배치장소',\n",
       "   '실내 어두운 곳 (실내깊이 500 이상cm)거실 내측 (실내깊이 300~500cm)거실 창측 (실내깊이 150~300cm)발코니 내측 (실내깊이 50~150cm)발코니 창측 (실내깊이 0~50cm)'),\n",
       "  ('생장속도', '보통'),\n",
       "  ('생육적온', '16~20℃'),\n",
       "  ('겨울최저온도', '13℃ 이상'),\n",
       "  ('습도', '40 ~ 70%'),\n",
       "  ('비료', '비료를 보통 요구함 (수용성비료 2주에 한번 줌)'),\n",
       "  ('토양', '화분용영양토'),\n",
       "  ('물주기-봄', '흙을 촉촉하게 유지함(물에 잠기지 않도록 주의)'),\n",
       "  ('물주기-여름', '흙을 촉촉하게 유지함(물에 잠기지 않도록 주의)'),\n",
       "  ('물주기-가을', '흙을 촉촉하게 유지함(물에 잠기지 않도록 주의)'),\n",
       "  ('물주기-겨울', '화분 흙 대부분 말랐을때 충분히 관수함'),\n",
       "  ('병충해', '응애,깍지벌레'),\n",
       "  ('병충해관리', '거미진드기, 분질벌레, 삽주벌레(가정과 온실 도입시 유의 제거)')],\n",
       " [('식물이름', \"드라세나 '트리컬러 레인보우'\"),\n",
       "  ('분류', '잎보기식물'),\n",
       "  ('생육형태', '관목형'),\n",
       "  ('생장높이', '150'),\n",
       "  ('생장너비', '70'),\n",
       "  ('실내정원구성', '중층목'),\n",
       "  ('생태형', '일반형,수경형'),\n",
       "  ('잎형태', '가늘고 긴 칼모양 잎'),\n",
       "  ('잎무늬', '줄무늬'),\n",
       "  ('잎색', '녹색, 연두색,빨강, 분홍, 자주색,여러색 혼합'),\n",
       "  ('향기', '약함'),\n",
       "  ('독성', '없음'),\n",
       "  ('번식방법', '삽목'),\n",
       "  ('관리수준', '초보자'),\n",
       "  ('관리요구도', '보통 (약간 잘 견딤)'),\n",
       "  ('광요구도', '중간 광도(800~1,500 Lux),높은 광도(1,500~10,000 Lux)'),\n",
       "  ('배치장소', '거실 창측 (실내깊이 150~300cm)발코니 내측 (실내깊이 50~150cm)발코니 창측 (실내깊이 0~50cm)'),\n",
       "  ('생장속도', '보통'),\n",
       "  ('생육적온', '16~20℃'),\n",
       "  ('겨울최저온도', '13℃ 이상'),\n",
       "  ('습도', '40 ~ 70%'),\n",
       "  ('비료', '비료를 보통 요구함'),\n",
       "  ('물주기-봄', '흙을 촉촉하게 유지함(물에 잠기지 않도록 주의)'),\n",
       "  ('물주기-여름', '흙을 촉촉하게 유지함(물에 잠기지 않도록 주의)'),\n",
       "  ('물주기-가을', '흙을 촉촉하게 유지함(물에 잠기지 않도록 주의)'),\n",
       "  ('물주기-겨울', '토양 표면이 말랐을때 충분히 관수함'),\n",
       "  ('병충해', '응애,깍지벌레')],\n",
       " [('식물이름', '드라세나 드라코'),\n",
       "  ('분류', '잎보기식물'),\n",
       "  ('생육형태', '관목형'),\n",
       "  ('생장높이', '150'),\n",
       "  ('생장너비', '50'),\n",
       "  ('실내정원구성', '상층목,중층목'),\n",
       "  ('생태형', '일반형'),\n",
       "  ('잎형태', '두꺼운 긴타원형'),\n",
       "  ('잎무늬', '기타 (무늬없음 등)'),\n",
       "  ('잎색', '녹색, 연두색'),\n",
       "  ('향기', '약함'),\n",
       "  ('독성', '애완동물에게 해로울 수 있음'),\n",
       "  ('번식방법', '삽목,기타'),\n",
       "  ('번식시기', '봄, 여름'),\n",
       "  ('관리수준', '경험자'),\n",
       "  ('관리요구도', '필요함'),\n",
       "  ('광요구도', '중간 광도(800~1,500 Lux),높은 광도(1,500~10,000 Lux)'),\n",
       "  ('배치장소',\n",
       "   '거실 내측 (실내깊이 300~500cm)거실 창측 (실내깊이 150~300cm)발코니 내측 (실내깊이 50~150cm)발코니 창측 (실내깊이 0~50cm)'),\n",
       "  ('생장속도', '느림'),\n",
       "  ('생육적온', '21~25℃'),\n",
       "  ('겨울최저온도', '13℃ 이상'),\n",
       "  ('습도', '40 ~ 70%'),\n",
       "  ('비료', '비료를 보통 요구함 (수용성비료 2주에 한번 줌)'),\n",
       "  ('토양',\n",
       "   '가볍고, 건조잘되는것, 양질토, 모래, 산도(알칼리, 중성), 일반화분용토양(토양자체가 단단하면 모래 또는 펄라이트, 피트모스를 추가하여 흙을 만듬)'),\n",
       "  ('물주기-봄', '토양 표면이 말랐을때 충분히 관수함'),\n",
       "  ('물주기-여름', '토양 표면이 말랐을때 충분히 관수함'),\n",
       "  ('물주기-가을', '토양 표면이 말랐을때 충분히 관수함'),\n",
       "  ('물주기-겨울', '화분 흙 대부분 말랐을때 충분히 관수함'),\n",
       "  ('병충해', '응애,깍지벌레'),\n",
       "  ('병충해관리', '가정과 온실 도입시 유의 제거'),\n",
       "  ('특별관리', '-물주기: 온수사용')],\n",
       " [('식물이름', '드라세나 마지나타'),\n",
       "  ('분류', '잎보기식물'),\n",
       "  ('생육형태', '관목형'),\n",
       "  ('생장높이', '150'),\n",
       "  ('생장너비', '50'),\n",
       "  ('실내정원구성', '상층목,중층목'),\n",
       "  ('생태형', '일반형,수경형'),\n",
       "  ('잎형태', '폭이 좁고 가는잎'),\n",
       "  ('잎무늬', '줄무늬'),\n",
       "  ('잎색', '녹색, 연두색,흰색, 크림색,빨강, 분홍, 자주색'),\n",
       "  ('열매색', '노랑색'),\n",
       "  ('향기', '약함'),\n",
       "  ('독성', '없음'),\n",
       "  ('번식방법', '삽목,기타'),\n",
       "  ('관리수준', '초보자'),\n",
       "  ('관리요구도', '보통 (약간 잘 견딤)'),\n",
       "  ('광요구도', '중간 광도(800~1,500 Lux),높은 광도(1,500~10,000 Lux)'),\n",
       "  ('배치장소',\n",
       "   '거실 내측 (실내깊이 300~500cm)거실 창측 (실내깊이 150~300cm)발코니 내측 (실내깊이 50~150cm)발코니 창측 (실내깊이 0~50cm)'),\n",
       "  ('생장속도', '느림'),\n",
       "  ('생육적온', '16~20℃'),\n",
       "  ('겨울최저온도', '10℃'),\n",
       "  ('습도', '40 ~ 70%'),\n",
       "  ('비료', '비료를 보통 요구함(봄~가을 완효성비료를 규칙적으로 줌)'),\n",
       "  ('토양', '건조하고 가벼운 토양 / 산성, 알카리'),\n",
       "  ('물주기-봄', '흙을 촉촉하게 유지함(물에 잠기지 않도록 주의)'),\n",
       "  ('물주기-여름', '흙을 촉촉하게 유지함(물에 잠기지 않도록 주의)'),\n",
       "  ('물주기-가을', '흙을 촉촉하게 유지함(물에 잠기지 않도록 주의)'),\n",
       "  ('물주기-겨울', '화분 흙 대부분 말랐을때 충분히 관수함'),\n",
       "  ('병충해', '응애,깍지벌레'),\n",
       "  ('병충해관리', '가정과 온실 도입시 유의 제거'),\n",
       "  ('특별관리', '- 물주기: 찬물 사용 주의')],\n",
       " [('식물이름', '드라세나 맛상게아나'),\n",
       "  ('분류', '잎보기식물'),\n",
       "  ('생육형태', '직립형,관목형'),\n",
       "  ('생장높이', '150'),\n",
       "  ('생장너비', '50'),\n",
       "  ('실내정원구성', '상층목,중층목'),\n",
       "  ('생태형', '일반형,수경형'),\n",
       "  ('잎형태', '칼모양 잎'),\n",
       "  ('잎무늬', '줄무늬'),\n",
       "  ('잎색', '녹색, 연두색,기타'),\n",
       "  ('향기', '약함'),\n",
       "  ('독성', '애완동물에게 해로울 수 있음'),\n",
       "  ('번식방법', '삽목,기타'),\n",
       "  ('관리수준', '초보자'),\n",
       "  ('관리요구도', '낮음 (잘 견딤)'),\n",
       "  ('광요구도', '낮은 광도(300~800 Lux),중간 광도(800~1,500 Lux),높은 광도(1,500~10,000 Lux)'),\n",
       "  ('배치장소',\n",
       "   '거실 내측 (실내깊이 300~500cm)거실 창측 (실내깊이 150~300cm)발코니 내측 (실내깊이 50~150cm)발코니 창측 (실내깊이 0~50cm)'),\n",
       "  ('생장속도', '보통'),\n",
       "  ('생육적온', '16~20℃'),\n",
       "  ('겨울최저온도', '13℃ 이상'),\n",
       "  ('습도', '40 ~ 70%'),\n",
       "  ('비료', '비료를 보통 요구함(수용성비료 2주에 한번 줌)'),\n",
       "  ('토양', '화분용영양토'),\n",
       "  ('물주기-봄', '흙을 촉촉하게 유지함(물에 잠기지 않도록 주의)'),\n",
       "  ('물주기-여름', '흙을 촉촉하게 유지함(물에 잠기지 않도록 주의)'),\n",
       "  ('물주기-가을', '흙을 촉촉하게 유지함(물에 잠기지 않도록 주의)'),\n",
       "  ('물주기-겨울', '화분 흙 대부분 말랐을때 충분히 관수함'),\n",
       "  ('병충해', '응애,깍지벌레'),\n",
       "  ('병충해관리', '가정과 온실 도입시 유의 제거'),\n",
       "  ('특별관리', '-비료: 오래된 나무인 경우는 봄과 여름동안 비료 시비량을 증가한다.')],\n",
       " [('식물이름', '드라세나 산데리아나'),\n",
       "  ('분류', '잎보기식물'),\n",
       "  ('생육형태', '직립형,관목형'),\n",
       "  ('생장높이', '100'),\n",
       "  ('생장너비', '50'),\n",
       "  ('실내정원구성', '중층목,하층목'),\n",
       "  ('생태형', '일반형,수경형'),\n",
       "  ('잎형태', '칼처럼 생긴잎 / 광택'),\n",
       "  ('잎무늬', '줄무늬'),\n",
       "  ('잎색', '녹색, 연두색,흰색, 크림색'),\n",
       "  ('향기', '약함'),\n",
       "  ('독성', '애완동물에 독성'),\n",
       "  ('번식방법', '삽목'),\n",
       "  ('번식시기', '여름'),\n",
       "  ('관리수준', '초보자'),\n",
       "  ('관리요구도', '낮음 (잘 견딤)'),\n",
       "  ('광요구도', '낮은 광도(300~800 Lux),중간 광도(800~1,500 Lux),높은 광도(1,500~10,000 Lux)'),\n",
       "  ('배치장소',\n",
       "   '실내 어두운 곳 (실내깊이 500 이상cm)거실 내측 (실내깊이 300~500cm)거실 창측 (실내깊이 150~300cm)발코니 내측 (실내깊이 50~150cm)발코니 창측 (실내깊이 0~50cm)'),\n",
       "  ('생장속도', '느림'),\n",
       "  ('생육적온', '21~25℃'),\n",
       "  ('겨울최저온도', '13℃ 이상'),\n",
       "  ('습도', '40 ~ 70%'),\n",
       "  ('비료', '비료를 보통 요구함(봄~가을 완효성비료를 규칙적으로 줌)'),\n",
       "  ('토양', '물빠짐이 좋은토양, 양질토, 모래, 중성(산도)'),\n",
       "  ('물주기-봄', '흙을 촉촉하게 유지함(물에 잠기지 않도록 주의)'),\n",
       "  ('물주기-여름', '흙을 촉촉하게 유지함(물에 잠기지 않도록 주의)'),\n",
       "  ('물주기-가을', '흙을 촉촉하게 유지함(물에 잠기지 않도록 주의)'),\n",
       "  ('물주기-겨울', '화분 흙 대부분 말랐을때 충분히 관수함'),\n",
       "  ('병충해', '응애,깍지벌레,총채벌레'),\n",
       "  ('병충해관리', '가정과 온실 도입시 유의 제거'),\n",
       "  ('특별관리',\n",
       "   '-물주기: 겨울철에 찬수돗물은 잎을 노랗게 변하므로 하루쯤 받아 둔 물을 줌.-기타 : 실내 건조시 잎에 분무해주면 잎도 싱싱해지고 병충해 피해도 줄일 수 있음.')],\n",
       " [('식물이름', \"드라세나 산데리아나 '세레스'\"),\n",
       "  ('분류', '잎보기식물'),\n",
       "  ('생육형태', '직립형,관목형'),\n",
       "  ('생장높이', '50'),\n",
       "  ('생장너비', '30'),\n",
       "  ('실내정원구성', '중층목'),\n",
       "  ('생태형', '일반형,수경형'),\n",
       "  ('잎형태', '폭이 좁고 가는 잎'),\n",
       "  ('잎무늬', '줄무늬'),\n",
       "  ('잎색', '녹색, 연두색'),\n",
       "  ('향기', '약함'),\n",
       "  ('번식방법', '삽목'),\n",
       "  ('관리수준', '초보자'),\n",
       "  ('관리요구도', '보통 (약간 잘 견딤)'),\n",
       "  ('광요구도', '낮은 광도(300~800 Lux),중간 광도(800~1,500 Lux),높은 광도(1,500~10,000 Lux)'),\n",
       "  ('배치장소',\n",
       "   '실내 어두운 곳 (실내깊이 500 이상cm)거실 내측 (실내깊이 300~500cm)거실 창측 (실내깊이 150~300cm)발코니 내측 (실내깊이 50~150cm)'),\n",
       "  ('생장속도', '보통'),\n",
       "  ('생육적온', '16~20℃'),\n",
       "  ('겨울최저온도', '13℃ 이상'),\n",
       "  ('습도', '40 ~ 70%'),\n",
       "  ('비료', '비료를 보통 요구함'),\n",
       "  ('토양', '건조한 토양'),\n",
       "  ('물주기-봄', '흙을 촉촉하게 유지함(물에 잠기지 않도록 주의)'),\n",
       "  ('물주기-여름', '흙을 촉촉하게 유지함(물에 잠기지 않도록 주의)'),\n",
       "  ('물주기-가을', '흙을 촉촉하게 유지함(물에 잠기지 않도록 주의)'),\n",
       "  ('물주기-겨울', '토양 표면이 말랐을때 충분히 관수함'),\n",
       "  ('병충해', '응애,깍지벌레')],\n",
       " [('식물이름', '드라세나 수르쿨로사'),\n",
       "  ('분류', '잎보기식물'),\n",
       "  ('생육형태', '관목형'),\n",
       "  ('생장높이', '150'),\n",
       "  ('생장너비', '100'),\n",
       "  ('실내정원구성', '중층목'),\n",
       "  ('생태형', '일반형'),\n",
       "  ('잎형태', '타원형'),\n",
       "  ('잎무늬', '점무늬,기타 (무늬없음 등)'),\n",
       "  ('잎색', '녹색, 연두색,흰색, 크림색'),\n",
       "  ('꽃색', '흰색'),\n",
       "  ('향기', '약함'),\n",
       "  ('번식방법', '삽목'),\n",
       "  ('관리수준', '경험자'),\n",
       "  ('관리요구도', '필요함'),\n",
       "  ('광요구도', '낮은 광도(300~800 Lux),중간 광도(800~1,500 Lux),높은 광도(1,500~10,000 Lux)'),\n",
       "  ('배치장소',\n",
       "   '거실 내측 (실내깊이 300~500cm)거실 창측 (실내깊이 150~300cm)발코니 내측 (실내깊이 50~150cm)발코니 창측 (실내깊이 0~50cm)'),\n",
       "  ('생장속도', '느림'),\n",
       "  ('생육적온', '16~20℃'),\n",
       "  ('겨울최저온도', '13℃ 이상'),\n",
       "  ('습도', '40% 미만'),\n",
       "  ('비료', '비료를 보통 요구함(동절기 비료주지 않음)'),\n",
       "  ('물주기-봄', '토양 표면이 말랐을때 충분히 관수함'),\n",
       "  ('물주기-여름', '토양 표면이 말랐을때 충분히 관수함'),\n",
       "  ('물주기-가을', '토양 표면이 말랐을때 충분히 관수함'),\n",
       "  ('물주기-겨울', '화분 흙 대부분 말랐을때 충분히 관수함'),\n",
       "  ('병충해', '응애,깍지벌레')],\n",
       " [('식물이름', '디지고데카'),\n",
       "  ('분류', '잎보기식물'),\n",
       "  ('생육형태', '직립형,관목형'),\n",
       "  ('생장높이', '100'),\n",
       "  ('생장너비', '50'),\n",
       "  ('실내정원구성', '상층목,중층목'),\n",
       "  ('생태형', '일반형'),\n",
       "  ('잎형태', '깊이 파인 손바닥모양 (가장자리 톱니)'),\n",
       "  ('잎무늬', '잎 가장자리 무늬,기타 (무늬없음 등)'),\n",
       "  ('잎색', '녹색, 연두색,흰색, 크림색,빨강, 분홍, 자주색'),\n",
       "  ('향기', '약함'),\n",
       "  ('번식방법', '삽목'),\n",
       "  ('관리수준', '경험자'),\n",
       "  ('관리요구도', '필요함'),\n",
       "  ('광요구도', '중간 광도(800~1,500 Lux),높은 광도(1,500~10,000 Lux)'),\n",
       "  ('배치장소',\n",
       "   '거실 내측 (실내깊이 300~500cm)거실 창측 (실내깊이 150~300cm)발코니 내측 (실내깊이 50~150cm)발코니 창측 (실내깊이 0~50cm)'),\n",
       "  ('생장속도', '빠름'),\n",
       "  ('생육적온', '16~20℃'),\n",
       "  ('겨울최저온도', '13℃ 이상'),\n",
       "  ('습도', '40 ~ 70%'),\n",
       "  ('비료', '비료를 보통 요구함'),\n",
       "  ('토양', '좋은 배수와 균등 습한 토양 / 양질토, 모래 / 중성, 알카리'),\n",
       "  ('물주기-봄', '토양 표면이 말랐을때 충분히 관수함'),\n",
       "  ('물주기-여름', '토양 표면이 말랐을때 충분히 관수함'),\n",
       "  ('물주기-가을', '토양 표면이 말랐을때 충분히 관수함'),\n",
       "  ('물주기-겨울', '화분 흙 대부분 말랐을때 충분히 관수함'),\n",
       "  ('병충해', '응애,깍지벌레')],\n",
       " [('식물이름', \"디펜바키아 '마리안느'\"),\n",
       "  ('분류', '잎보기식물'),\n",
       "  ('생육형태', '풀모양'),\n",
       "  ('생장높이', '50'),\n",
       "  ('생장너비', '30'),\n",
       "  ('실내정원구성', '중층목,하층목'),\n",
       "  ('생태형', '일반형'),\n",
       "  ('잎형태', '엽첨이 날렵한 타원형'),\n",
       "  ('잎무늬', '점무늬'),\n",
       "  ('잎색', '녹색, 연두색,흰색, 크림색'),\n",
       "  ('향기', '거의 없음'),\n",
       "  ('독성', '있음 (수액이 피부 자극을 일으킬 수 있음)'),\n",
       "  ('번식방법', '삽목,분주,기타'),\n",
       "  ('관리수준', '경험자'),\n",
       "  ('관리요구도', '필요함'),\n",
       "  ('광요구도', '중간 광도(800~1,500 Lux),높은 광도(1,500~10,000 Lux)'),\n",
       "  ('배치장소', '거실 창측 (실내깊이 150~300cm)발코니 내측 (실내깊이 50~150cm)발코니 창측 (실내깊이 0~50cm)'),\n",
       "  ('생장속도', '느림'),\n",
       "  ('생육적온', '21~25℃'),\n",
       "  ('겨울최저온도', '13℃ 이상'),\n",
       "  ('습도', '40 ~ 70%'),\n",
       "  ('비료', '비료를 많이 요구함'),\n",
       "  ('토양', '산성, 중성 / 양질토, 모래'),\n",
       "  ('물주기-봄', '토양 표면이 말랐을때 충분히 관수함'),\n",
       "  ('물주기-여름', '토양 표면이 말랐을때 충분히 관수함'),\n",
       "  ('물주기-가을', '토양 표면이 말랐을때 충분히 관수함'),\n",
       "  ('물주기-겨울', '화분 흙 대부분 말랐을때 충분히 관수함'),\n",
       "  ('병충해', '응애,깍지벌레,온실가루이'),\n",
       "  ('특별관리', '고온 다습을 좋아하므로 공중습도를 높게 유지한다.')],\n",
       " [('식물이름', \"디펜바키아 '트로픽스노우'\"),\n",
       "  ('분류', '잎보기식물'),\n",
       "  ('생육형태', '풀모양'),\n",
       "  ('생장높이', '50'),\n",
       "  ('생장너비', '30'),\n",
       "  ('실내정원구성', '중층목,하층목'),\n",
       "  ('생태형', '일반형'),\n",
       "  ('잎형태', '엽첨이 날렵하고 긴타원형'),\n",
       "  ('잎무늬', '점무늬'),\n",
       "  ('잎색', '녹색, 연두색,금색, 노란색'),\n",
       "  ('향기', '거의 없음'),\n",
       "  ('독성', '강함 (수액이 피부 자극을 일으킬 수 있음)'),\n",
       "  ('번식방법', '삽목,분주,기타'),\n",
       "  ('관리수준', '경험자'),\n",
       "  ('관리요구도', '필요함'),\n",
       "  ('광요구도', '중간 광도(800~1,500 Lux),높은 광도(1,500~10,000 Lux)'),\n",
       "  ('배치장소',\n",
       "   '거실 내측 (실내깊이 300~500cm)거실 창측 (실내깊이 150~300cm)발코니 내측 (실내깊이 50~150cm)발코니 창측 (실내깊이 0~50cm)'),\n",
       "  ('생장속도', '빠름'),\n",
       "  ('생육적온', '21~25℃'),\n",
       "  ('겨울최저온도', '13℃ 이상'),\n",
       "  ('습도', '40 ~ 70%'),\n",
       "  ('비료', '비료를 많이 요구함'),\n",
       "  ('토양', '산성, 중성 / 양질토'),\n",
       "  ('물주기-봄', '토양 표면이 말랐을때 충분히 관수함'),\n",
       "  ('물주기-여름', '토양 표면이 말랐을때 충분히 관수함'),\n",
       "  ('물주기-가을', '토양 표면이 말랐을때 충분히 관수함'),\n",
       "  ('물주기-겨울', '화분 흙 대부분 말랐을때 충분히 관수함'),\n",
       "  ('병충해', '응애,깍지벌레,온실가루이'),\n",
       "  ('병충해관리', '가정과 온실 도입시 유의 제거')],\n",
       " [('식물이름', '떡갈잎 고무나무'),\n",
       "  ('분류', '잎보기식물'),\n",
       "  ('생육형태', '직립형,관목형'),\n",
       "  ('생장높이', '200'),\n",
       "  ('생장너비', '70'),\n",
       "  ('실내정원구성', '상층목'),\n",
       "  ('생태형', '일반형'),\n",
       "  ('잎형태', '바이올린 이나 고대현악기 모양 / 광택'),\n",
       "  ('잎무늬', '기타 (무늬없음 등)'),\n",
       "  ('잎색', '녹색, 연두색'),\n",
       "  ('향기', '거의 없음'),\n",
       "  ('독성', '강함 (식물체 전체에 독이 있음)'),\n",
       "  ('번식방법', '삽목,기타'),\n",
       "  ('번식시기', '봄'),\n",
       "  ('관리수준', '초보자'),\n",
       "  ('관리요구도', '필요함'),\n",
       "  ('광요구도', '중간 광도(800~1,500 Lux),높은 광도(1,500~10,000 Lux)'),\n",
       "  ('배치장소', '거실 창측 (실내깊이 150~300cm)발코니 내측 (실내깊이 50~150cm)발코니 창측 (실내깊이 0~50cm)'),\n",
       "  ('생장속도', '보통'),\n",
       "  ('생육적온', '16~20℃'),\n",
       "  ('겨울최저온도', '13℃ 이상'),\n",
       "  ('습도', '40 ~ 70%'),\n",
       "  ('비료', '비료를 보통 요구함(봄과 여름 2주에 한번씩 수용성 비료 줌)'),\n",
       "  ('토양', '산성, 중성, 알칼리성 / 양질토, 모래'),\n",
       "  ('물주기-봄', '토양 표면이 말랐을때 충분히 관수함'),\n",
       "  ('물주기-여름', '토양 표면이 말랐을때 충분히 관수함'),\n",
       "  ('물주기-가을', '토양 표면이 말랐을때 충분히 관수함'),\n",
       "  ('물주기-겨울', '화분 흙 대부분 말랐을때 충분히 관수함'),\n",
       "  ('병충해', '응애,깍지벌레'),\n",
       "  ('병충해관리', '가정과 온실 도입시 유의 제거'),\n",
       "  ('특별관리', '- 여름에 물이 젖은 천으로 잎을 닦아준다.')],\n",
       " [('식물이름', '러브체인'),\n",
       "  ('분류', '잎보기식물'),\n",
       "  ('생육형태', '덩굴성,다육형'),\n",
       "  ('생장높이', '5'),\n",
       "  ('생장너비', '30'),\n",
       "  ('실내정원구성', '지피식물'),\n",
       "  ('생태형', '건조형'),\n",
       "  ('잎형태', '심장모양'),\n",
       "  ('잎무늬', '점무늬,기타 (무늬없음 등)'),\n",
       "  ('잎색', '녹색, 연두색,은색, 회색'),\n",
       "  ('향기', '거의 없음'),\n",
       "  ('독성', '없음'),\n",
       "  ('번식방법', '삽목,분주'),\n",
       "  ('번식시기', '봄, 여름'),\n",
       "  ('관리수준', '경험자'),\n",
       "  ('관리요구도', '보통 (약간 잘 견딤)'),\n",
       "  ('광요구도', '중간 광도(800~1,500 Lux),높은 광도(1,500~10,000 Lux)'),\n",
       "  ('배치장소', '거실 창측 (실내깊이 150~300cm)발코니 내측 (실내깊이 50~150cm)발코니 창측 (실내깊이 0~50cm)'),\n",
       "  ('생장속도', '보통'),\n",
       "  ('생육적온', '16~20℃'),\n",
       "  ('겨울최저온도', '10℃'),\n",
       "  ('습도', '40% 미만'),\n",
       "  ('비료', '비료를 거의 요구하지않음 (2회/년, 4월, 7월 수용성비료 줌)'),\n",
       "  ('토양', '화분용영양토'),\n",
       "  ('물주기-봄', '화분 흙 대부분 말랐을때 충분히 관수함'),\n",
       "  ('물주기-여름', '화분 흙 대부분 말랐을때 충분히 관수함'),\n",
       "  ('물주기-가을', '화분 흙 대부분 말랐을때 충분히 관수함'),\n",
       "  ('물주기-겨울', '화분 흙 대부분 말랐을때 충분히 관수함'),\n",
       "  ('병충해', '응애,깍지벌레'),\n",
       "  ('병충해관리', '가정과 온실 도입시 유의 제거'),\n",
       "  ('특별관리',\n",
       "   '- 번식 후 어느정도 성장할때까지 습윤한 토양과 안개에 주의함- 환기: 규칙적인 환기가 필요. - 물관리: 과습과 과한 물주기는 피해야 함. 빗물을 주면 토양이 산성화 될 수도 있음. 따뜻한 물을 사용하세요.- 행잉 바구니에 적합한 식물.')],\n",
       " [('식물이름', '렉스베고니아'),\n",
       "  ('분류', '잎&꽃보기식물'),\n",
       "  ('생육형태', '풀모양'),\n",
       "  ('생장높이', '40'),\n",
       "  ('생장너비', '40'),\n",
       "  ('실내정원구성', '하층목'),\n",
       "  ('생태형', '일반형'),\n",
       "  ('잎형태', '심장 또는 쐐기 모양 / 가장자리 톱니 / 벨벳'),\n",
       "  ('잎무늬', '점무늬,잎 가장자리 무늬'),\n",
       "  ('잎색', '녹색, 연두색,흰색, 크림색'),\n",
       "  ('꽃피는계절', '봄,여름'),\n",
       "  ('꽃색', '분홍색,흰색'),\n",
       "  ('향기', '거의 없음'),\n",
       "  ('독성', '없음'),\n",
       "  ('번식방법', '삽목'),\n",
       "  ('번식시기', '봄, 여름'),\n",
       "  ('관리수준', '경험자'),\n",
       "  ('관리요구도', '필요함'),\n",
       "  ('광요구도', '중간 광도(800~1,500 Lux),높은 광도(1,500~10,000 Lux)'),\n",
       "  ('배치장소', '거실 창측 (실내깊이 150~300cm)발코니 내측 (실내깊이 50~150cm)발코니 창측 (실내깊이 0~50cm)'),\n",
       "  ('생장속도', '보통'),\n",
       "  ('생육적온', '16~20℃'),\n",
       "  ('겨울최저온도', '13℃ 이상'),\n",
       "  ('습도', '40 ~ 70%'),\n",
       "  ('비료', '비료를 보통 요구함(봄과 가을에 수용성비료를 2주에 한번 줌)'),\n",
       "  ('토양', '중성 / 양질토, 모래'),\n",
       "  ('물주기-봄', '토양 표면이 말랐을때 충분히 관수함'),\n",
       "  ('물주기-여름', '토양 표면이 말랐을때 충분히 관수함'),\n",
       "  ('물주기-가을', '토양 표면이 말랐을때 충분히 관수함'),\n",
       "  ('물주기-겨울', '화분 흙 대부분 말랐을때 충분히 관수함'),\n",
       "  ('병충해', '진딧물,응애,깍지벌레,온실가루이'),\n",
       "  ('병충해관리', '거미진드기 등 (가정과 온실 도입시 유의 제거)'),\n",
       "  ('특별관리',\n",
       "   '- 물주기: 차가운 물로 관수하지 않는다. ]- 식물을 물 속에 침수하지 않는다.- 벤치 아래, 시원하고 습한 그늘에 가장 이상적인 성장을 한다.- 행잉 바스켓에 잘 어울린다.')],\n",
       " [('식물이름', '루모라고사리'),\n",
       "  ('분류', '잎보기식물'),\n",
       "  ('생육형태', '덩굴성,풀모양'),\n",
       "  ('생장높이', '30'),\n",
       "  ('생장너비', '30'),\n",
       "  ('실내정원구성', '하층목,지피식물'),\n",
       "  ('생태형', '일반형'),\n",
       "  ('잎형태', '넓은 삼각형 비늘잎'),\n",
       "  ('잎무늬', '기타 (무늬없음 등)'),\n",
       "  ('잎색', '녹색, 연두색'),\n",
       "  ('향기', '거의 없음'),\n",
       "  ('독성', '없음'),\n",
       "  ('번식방법', '분주,기타'),\n",
       "  ('번식시기', '봄 (포자번식)'),\n",
       "  ('관리수준', '전문가'),\n",
       "  ('관리요구도', '특별 관리 요구'),\n",
       "  ('광요구도', '중간 광도(800~1,500 Lux),높은 광도(1,500~10,000 Lux)'),\n",
       "  ('배치장소', '거실 창측 (실내깊이 150~300cm)발코니 내측 (실내깊이 50~150cm)발코니 창측 (실내깊이 0~50cm)'),\n",
       "  ('생장속도', '보통'),\n",
       "  ('생육적온', '16~20℃'),\n",
       "  ('겨울최저온도', '5℃'),\n",
       "  ('습도', '70% 이상'),\n",
       "  ('비료', '비료를 보통 요구함'),\n",
       "  ('토양', '산성, 중성 / 점토, 양질토'),\n",
       "  ('물주기-봄', '흙을 촉촉하게 유지함(물에 잠기지 않도록 주의)'),\n",
       "  ('물주기-여름', '흙을 촉촉하게 유지함(물에 잠기지 않도록 주의)'),\n",
       "  ('물주기-가을', '흙을 촉촉하게 유지함(물에 잠기지 않도록 주의)'),\n",
       "  ('물주기-겨울', '토양 표면이 말랐을때 충분히 관수함'),\n",
       "  ('병충해', '응애,깍지벌레'),\n",
       "  ('병충해관리', '가정과 온실 도입시 벌레 확인!')],\n",
       " [('식물이름', '루스커스'),\n",
       "  ('분류', '잎보기식물'),\n",
       "  ('생육형태', '관목형'),\n",
       "  ('생장높이', '70'),\n",
       "  ('생장너비', '50'),\n",
       "  ('실내정원구성', '중층목'),\n",
       "  ('생태형', '일반형'),\n",
       "  ('잎형태', '엽첨과 엽각이 뾰족한 작은 잎'),\n",
       "  ('잎무늬', '기타 (무늬없음 등)'),\n",
       "  ('잎색', '녹색, 연두색'),\n",
       "  ('향기', '거의 없음'),\n",
       "  ('번식방법', '파종,삽목,분주'),\n",
       "  ('번식시기', '3월'),\n",
       "  ('관리수준', '초보자'),\n",
       "  ('관리요구도', '낮음 (잘 견딤)'),\n",
       "  ('광요구도', '중간 광도(800~1,500 Lux),높은 광도(1,500~10,000 Lux)'),\n",
       "  ('배치장소', '거실 창측 (실내깊이 150~300cm)발코니 내측 (실내깊이 50~150cm)발코니 창측 (실내깊이 0~50cm)'),\n",
       "  ('생장속도', '보통'),\n",
       "  ('생육적온', '16~20℃'),\n",
       "  ('겨울최저온도', '5℃'),\n",
       "  ('습도', '40 ~ 70%'),\n",
       "  ('비료', '비료를 보통 요구함'),\n",
       "  ('토양', '배수 잘 됨 / 모래'),\n",
       "  ('물주기-봄', '토양 표면이 말랐을때 충분히 관수함'),\n",
       "  ('물주기-여름', '토양 표면이 말랐을때 충분히 관수함'),\n",
       "  ('물주기-가을', '토양 표면이 말랐을때 충분히 관수함'),\n",
       "  ('물주기-겨울', '화분 흙 대부분 말랐을때 충분히 관수함'),\n",
       "  ('병충해', '응애,깍지벌레'),\n",
       "  ('병충해관리', '가정과 온실 도입시 유의 제거'),\n",
       "  ('특별관리', '- 매우 건조하고 그늘진 토양에서 가장 널리 번식, 성장함.')],\n",
       " [('식물이름', '마란타 류코뉴라'),\n",
       "  ('분류', '잎보기식물'),\n",
       "  ('생육형태', '풀모양'),\n",
       "  ('생장높이', '25'),\n",
       "  ('생장너비', '25'),\n",
       "  ('실내정원구성', '하층목'),\n",
       "  ('생태형', '일반형'),\n",
       "  ('잎형태', '넓은 타원형'),\n",
       "  ('잎무늬', '줄무늬,점무늬'),\n",
       "  ('잎색', '녹색, 연두색,빨강, 분홍, 자주색,기타'),\n",
       "  ('향기', '거의 없음'),\n",
       "  ('번식방법', '분주,기타'),\n",
       "  ('번식시기', '여름'),\n",
       "  ('관리수준', '초보자'),\n",
       "  ('관리요구도', '필요함'),\n",
       "  ('광요구도', '중간 광도(800~1,500 Lux),높은 광도(1,500~10,000 Lux)'),\n",
       "  ('배치장소', '거실 창측 (실내깊이 150~300cm)발코니 내측 (실내깊이 50~150cm)발코니 창측 (실내깊이 0~50cm)'),\n",
       "  ('생장속도', '빠름'),\n",
       "  ('생육적온', '16~20℃'),\n",
       "  ('겨울최저온도', '13℃ 이상'),\n",
       "  ('습도', '40 ~ 70%'),\n",
       "  ('비료', '비료를 보통 요구함(가을에 수용성비료를 2주에 한번 줌)'),\n",
       "  ('토양', '산성, 중성, 알칼리 / 양질토, 모래 / 건조한 토양'),\n",
       "  ('물주기-봄', '토양 표면이 말랐을때 충분히 관수함'),\n",
       "  ('물주기-여름', '토양 표면이 말랐을때 충분히 관수함'),\n",
       "  ('물주기-가을', '토양 표면이 말랐을때 충분히 관수함'),\n",
       "  ('물주기-겨울', '토양 표면이 말랐을때 충분히 관수함'),\n",
       "  ('병충해', '응애,깍지벌레,온실가루이'),\n",
       "  ('병충해관리', '거미진드기, 작은벌레 등 (가정과 온실 도입시 유의 제거)'),\n",
       "  ('특별관리',\n",
       "   '- 따뜻하고, 습한 지역에서 잘 성장함.- 온습도: 건조하고 추운 환경에서는 잎이 갈색으로 변하여 떨어지거나 잎이 틀어질 수 있음.- 물주기: 빗물을 사용하면 토양이 산성화 될 수 있으므로 주의, 온수사용')],\n",
       " [('식물이름', '마삭줄'),\n",
       "  ('분류', '잎&꽃보기식물'),\n",
       "  ('생육형태', '덩굴성'),\n",
       "  ('생장높이', '100'),\n",
       "  ('생장너비', '50'),\n",
       "  ('실내정원구성', '중층목,하층목,지피식물'),\n",
       "  ('생태형', '일반형'),\n",
       "  ('잎형태', '타원형, 달걀형 / 광택'),\n",
       "  ('잎무늬', '잎 가장자리 무늬,기타 (무늬없음 등)'),\n",
       "  ('잎색', '녹색, 연두색,금색, 노란색,흰색, 크림색,빨강, 분홍, 자주색'),\n",
       "  ('꽃피는계절', '여름'),\n",
       "  ('꽃색', '노랑색,흰색'),\n",
       "  ('향기', '강함'),\n",
       "  ('번식방법', '삽목'),\n",
       "  ('번식시기', '가을, 겨울'),\n",
       "  ('관리수준', '초보자'),\n",
       "  ('관리요구도', '보통 (약간 잘 견딤)'),\n",
       "  ('광요구도', '중간 광도(800~1,500 Lux),높은 광도(1,500~10,000 Lux)'),\n",
       "  ('배치장소', '거실 창측 (실내깊이 150~300cm)발코니 내측 (실내깊이 50~150cm)발코니 창측 (실내깊이 0~50cm)'),\n",
       "  ('생장속도', '보통'),\n",
       "  ('생육적온', '16~20℃'),\n",
       "  ('겨울최저온도', '0℃ 이하'),\n",
       "  ('습도', '40 ~ 70%'),\n",
       "  ('비료', '비료를 보통 요구함 (2~3개월에 한번씩 수용성 비료 줌)'),\n",
       "  ('토양', '산성, 중성, 알칼리성 / 점토, 양질토, 모래'),\n",
       "  ('물주기-봄', '토양 표면이 말랐을때 충분히 관수함'),\n",
       "  ('물주기-여름', '토양 표면이 말랐을때 충분히 관수함'),\n",
       "  ('물주기-가을', '토양 표면이 말랐을때 충분히 관수함'),\n",
       "  ('물주기-겨울', '토양 표면이 말랐을때 충분히 관수함'),\n",
       "  ('병충해', '응애,깍지벌레'),\n",
       "  ('병충해관리', '개각충 (가정과 온실 도입시 유의 제거)'),\n",
       "  ('특별관리',\n",
       "   '- 물주기: 적당히 건조한 상태 유지, 빗물 사용 시 토양이 산성화 될 수있으므로 주의, 온수사용함- 덩굴식물이 서로 얽히지 않도록 수시로 가지치기를 해주도록 함.')],\n",
       " [('식물이름', '만년청'),\n",
       "  ('분류', '잎보기식물,열매보기식물'),\n",
       "  ('생육형태', '풀모양'),\n",
       "  ('생장높이', '40'),\n",
       "  ('생장너비', '40'),\n",
       "  ('실내정원구성', '하층목'),\n",
       "  ('생태형', '일반형'),\n",
       "  ('잎형태', '바소꼴 / 광택'),\n",
       "  ('잎무늬', '점무늬,잎 가장자리 무늬'),\n",
       "  ('잎색', '녹색, 연두색,흰색, 크림색,기타'),\n",
       "  ('꽃피는계절', '봄,여름'),\n",
       "  ('꽃색', '노랑색,흰색'),\n",
       "  ('열매맺는계절', '여름,가을'),\n",
       "  ('열매색', '빨강색'),\n",
       "  ('향기', '약함'),\n",
       "  ('번식방법', '파종,분주'),\n",
       "  ('번식시기', '9~10월 가을'),\n",
       "  ('관리수준', '초보자'),\n",
       "  ('관리요구도', '낮음 (잘 견딤)'),\n",
       "  ('광요구도', '낮은 광도(300~800 Lux),중간 광도(800~1,500 Lux),높은 광도(1,500~10,000 Lux)'),\n",
       "  ('배치장소',\n",
       "   '실내 어두운 곳 (실내깊이 500 이상cm)거실 내측 (실내깊이 300~500cm)거실 창측 (실내깊이 150~300cm)발코니 내측 (실내깊이 50~150cm)발코니 창측 (실내깊이 0~50cm)'),\n",
       "  ('생장속도', '보통'),\n",
       "  ('생육적온', '21~25℃'),\n",
       "  ('겨울최저온도', '0℃ 이하'),\n",
       "  ('습도', '40 ~ 70%'),\n",
       "  ('비료', '비료를 보통 요구함'),\n",
       "  ('토양', '물빠짐이 좋은 토양 / 모래, 경석, 하이드로볼'),\n",
       "  ('물주기-봄', '토양 표면이 말랐을때 충분히 관수함'),\n",
       "  ('물주기-여름', '토양 표면이 말랐을때 충분히 관수함'),\n",
       "  ('물주기-가을', '토양 표면이 말랐을때 충분히 관수함'),\n",
       "  ('물주기-겨울', '화분 흙 대부분 말랐을때 충분히 관수함'),\n",
       "  ('병충해', '응애,깍지벌레'),\n",
       "  ('병충해관리', '가정과 온실 도입시 유의 제거'),\n",
       "  ('특별관리',\n",
       "   '- 여름관리: 오전 햇빛은 잠시 받는 정도가 좋으며, 오후 햇빛은 도움이 되지 않음. 통풍은 신선한 바람이 잘 통하게 하여야 습기가 건조해지면서 뿌리와 새순이 잘 나옴. - 겨울부터 초봄까지 부는 바람은 무늬와 모양, 색깔을 변하므로 피함.- 물주기: 분흙이 마르는 듯하면 주며, 표면이 까실까실한 정도가 좋음.')],\n",
       " [('식물이름', '만데빌라'),\n",
       "  ('분류', '잎&꽃보기식물'),\n",
       "  ('생육형태', '덩굴성'),\n",
       "  ('생장높이', '100'),\n",
       "  ('생장너비', '50'),\n",
       "  ('실내정원구성', '중층목,하층목'),\n",
       "  ('생태형', '일반형'),\n",
       "  ('잎형태', '끝이 뾰족한 난형'),\n",
       "  ('잎무늬', '기타 (무늬없음 등)'),\n",
       "  ('잎색', '녹색, 연두색'),\n",
       "  ('꽃피는계절', '봄,여름,가을'),\n",
       "  ('꽃색', '분홍색,빨강색,노랑색,흰색'),\n",
       "  ('향기', '거의 없음'),\n",
       "  ('독성', '강함 (식용하면 안됨)'),\n",
       "  ('번식방법', '삽목'),\n",
       "  ('번식시기', '봄'),\n",
       "  ('관리수준', '경험자'),\n",
       "  ('관리요구도', '필요함'),\n",
       "  ('광요구도', '중간 광도(800~1,500 Lux),높은 광도(1,500~10,000 Lux)'),\n",
       "  ('배치장소', '거실 창측 (실내깊이 150~300cm)발코니 내측 (실내깊이 50~150cm)발코니 창측 (실내깊이 0~50cm)'),\n",
       "  ('생장속도', '보통'),\n",
       "  ('생육적온', '16~20℃'),\n",
       "  ('겨울최저온도', '13℃ 이상'),\n",
       "  ('습도', '40 ~ 70%'),\n",
       "  ('비료', '비료를 보통 요구함(반희석한 수용성비료를 봄, 여름 2주에 한번 줌)'),\n",
       "  ('토양', '산성, 중성, 알칼리성 / 양질토, 모래 / 건조한토양'),\n",
       "  ('물주기-봄', '토양 표면이 말랐을때 충분히 관수함'),\n",
       "  ('물주기-여름', '토양 표면이 말랐을때 충분히 관수함'),\n",
       "  ('물주기-가을', '토양 표면이 말랐을때 충분히 관수함'),\n",
       "  ('물주기-겨울', '화분 흙 대부분 말랐을때 충분히 관수함'),\n",
       "  ('병충해', '응애,깍지벌레,온실가루이'),\n",
       "  ('병충해관리', '진딧물')],\n",
       " [('식물이름', '멕시코소철'),\n",
       "  ('분류', '잎보기식물'),\n",
       "  ('생육형태', '풀모양'),\n",
       "  ('생장높이', '100'),\n",
       "  ('생장너비', '100'),\n",
       "  ('실내정원구성', '중층목'),\n",
       "  ('생태형', '일반형,건조형'),\n",
       "  ('잎형태', '손바닥, 고사리잎 모양 / 광택'),\n",
       "  ('잎무늬', '기타 (무늬없음 등)'),\n",
       "  ('잎색', '녹색, 연두색'),\n",
       "  ('향기', '거의 없음'),\n",
       "  ('독성', '열매식용하면 안됨'),\n",
       "  ('번식방법', '파종'),\n",
       "  ('관리수준', '초보자'),\n",
       "  ('관리요구도', '낮음 (잘 견딤)'),\n",
       "  ('광요구도', '중간 광도(800~1,500 Lux),높은 광도(1,500~10,000 Lux)'),\n",
       "  ('배치장소', '거실 창측 (실내깊이 150~300cm)발코니 내측 (실내깊이 50~150cm)발코니 창측 (실내깊이 0~50cm)'),\n",
       "  ('생장속도', '빠름'),\n",
       "  ('생육적온', '21~25℃'),\n",
       "  ('겨울최저온도', '10℃'),\n",
       "  ('습도', '40 ~ 70%'),\n",
       "  ('비료', '비료를 거의 요구하지않음'),\n",
       "  ('토양', '산성, 중성, 알칼리성 / 양질토, 모래'),\n",
       "  ('물주기-봄', '토양 표면이 말랐을때 충분히 관수함'),\n",
       "  ('물주기-여름', '토양 표면이 말랐을때 충분히 관수함'),\n",
       "  ('물주기-가을', '토양 표면이 말랐을때 충분히 관수함'),\n",
       "  ('물주기-겨울', '화분 흙 대부분 말랐을때 충분히 관수함'),\n",
       "  ('병충해', '응애,깍지벌레'),\n",
       "  ('병충해관리', '가정과 온실 도입시 유의 제거'),\n",
       "  ('특별관리', '- 강한 빛과 그늘 모두 잘 적응하여 성장하는 식물임.')],\n",
       " [('식물이름', '멜라니 고무나무'),\n",
       "  ('분류', '잎보기식물'),\n",
       "  ('생육형태', '관목형'),\n",
       "  ('생장높이', '150'),\n",
       "  ('생장너비', '70'),\n",
       "  ('실내정원구성', '중층목'),\n",
       "  ('생태형', '일반형'),\n",
       "  ('잎형태', '엽첨부분이 좁아지는 타원형 / 크고 넓은 잎 / 두껍고 광택'),\n",
       "  ('잎무늬', '기타 (무늬없음 등)'),\n",
       "  ('잎색', '녹색, 연두색,빨강, 분홍, 자주색'),\n",
       "  ('향기', '거의 없음'),\n",
       "  ('번식방법', '삽목,기타'),\n",
       "  ('번식시기', '봄, 여름'),\n",
       "  ('관리수준', '경험자'),\n",
       "  ('관리요구도', '필요함'),\n",
       "  ('광요구도', '중간 광도(800~1,500 Lux),높은 광도(1,500~10,000 Lux)'),\n",
       "  ('배치장소', '거실 창측 (실내깊이 150~300cm)발코니 내측 (실내깊이 50~150cm)발코니 창측 (실내깊이 0~50cm)'),\n",
       "  ('생장속도', '보통'),\n",
       "  ('생육적온', '21~25℃'),\n",
       "  ('겨울최저온도', '13℃ 이상'),\n",
       "  ('습도', '40 ~ 70%'),\n",
       "  ('비료', '비료를 보통 요구함 (봄, 여름에 수용성 비료를 2주에 한번 줌)'),\n",
       "  ('토양', '산성, 중성, 알칼리성 / 양질토, 모래 / 건조한토양'),\n",
       "  ('물주기-봄', '토양 표면이 말랐을때 충분히 관수함'),\n",
       "  ('물주기-여름', '토양 표면이 말랐을때 충분히 관수함'),\n",
       "  ('물주기-가을', '토양 표면이 말랐을때 충분히 관수함'),\n",
       "  ('물주기-겨울', '토양 표면이 말랐을때 충분히 관수함'),\n",
       "  ('병충해', '응애,깍지벌레,온실가루이'),\n",
       "  ('병충해관리', '가정과 온실 도입시 유의 제거'),\n",
       "  ('특별관리', '- 물관리: 차가운 물로 관수하지 않는다.- 더운 여름에는 물 젖은 천으로 잎을 닦아준다.')],\n",
       " [('식물이름', '목베고니아'),\n",
       "  ('분류', '잎&꽃보기식물'),\n",
       "  ('생육형태', '관목형'),\n",
       "  ('생장높이', '100'),\n",
       "  ('생장너비', '50'),\n",
       "  ('실내정원구성', '중층목,하층목'),\n",
       "  ('생태형', '일반형'),\n",
       "  ('잎형태', '중간크기의 잎 / 토란잎 모양과 흡사 / 비율은 불규칙한 형태'),\n",
       "  ('잎무늬', '점무늬'),\n",
       "  ('잎색', '녹색, 연두색,흰색, 크림색'),\n",
       "  ('꽃피는계절', '봄,여름'),\n",
       "  ('꽃색', '분홍색,빨강색'),\n",
       "  ('향기', '약함'),\n",
       "  ('독성', '없음'),\n",
       "  ('번식방법', '삽목'),\n",
       "  ('관리수준', '초보자'),\n",
       "  ('관리요구도', '보통 (약간 잘 견딤)'),\n",
       "  ('광요구도', '중간 광도(800~1,500 Lux),높은 광도(1,500~10,000 Lux)'),\n",
       "  ('배치장소', '거실 창측 (실내깊이 150~300cm)발코니 내측 (실내깊이 50~150cm)발코니 창측 (실내깊이 0~50cm)'),\n",
       "  ('생장속도', '보통'),\n",
       "  ('생육적온', '21~25℃'),\n",
       "  ('겨울최저온도', '13℃ 이상'),\n",
       "  ('습도', '40 ~ 70%'),\n",
       "  ('비료', '비료를 보통 요구함'),\n",
       "  ('토양', '중성(pH 6-7) / 모래, 식양토'),\n",
       "  ('물주기-봄', '흙을 촉촉하게 유지함(물에 잠기지 않도록 주의)'),\n",
       "  ('물주기-여름', '흙을 촉촉하게 유지함(물에 잠기지 않도록 주의)'),\n",
       "  ('물주기-가을', '흙을 촉촉하게 유지함(물에 잠기지 않도록 주의)'),\n",
       "  ('물주기-겨울', '토양 표면이 말랐을때 충분히 관수함'),\n",
       "  ('병충해', '응애,깍지벌레,총채벌레,온실가루이'),\n",
       "  ('병충해관리', '삽주벌레 등 (깨끗한 용기에 심기, 가정과 온실 도입시 유의 제거)'),\n",
       "  ('특별관리',\n",
       "   '- 실내환경: 충분한 햇빛 좋아함. 건조한 공기는 병충해문제를 악화시킴. - 심기: 흙을 너무 단단하게 포장하지 않도록 주의함.- 물주기: 일주일에 한번 충분히 줌.- 가지치기: 순치기, 솎음, 자르기.')],\n",
       " [('식물이름', '몬스테라'),\n",
       "  ('분류', '잎보기식물'),\n",
       "  ('생육형태', '덩굴성,풀모양'),\n",
       "  ('생장높이', '150'),\n",
       "  ('생장너비', '100'),\n",
       "  ('실내정원구성', '중층목'),\n",
       "  ('생태형', '일반형'),\n",
       "  ('잎형태', '심장형 둥근모양 / 깃털처럼 갈라지고 군데군데 구멍 / 광택'),\n",
       "  ('잎무늬', '기타 (무늬없음 등)'),\n",
       "  ('잎색', '녹색, 연두색'),\n",
       "  ('꽃색', '흰색'),\n",
       "  ('열매맺는계절', '봄,여름'),\n",
       "  ('향기', '약함'),\n",
       "  ('독성', '식물체 독성임. (어린이주변에 두지말 것)'),\n",
       "  ('번식방법', '파종,삽목'),\n",
       "  ('번식시기', '여름'),\n",
       "  ('관리수준', '초보자'),\n",
       "  ('관리요구도', '보통 (약간 잘 견딤)'),\n",
       "  ('광요구도', '중간 광도(800~1,500 Lux),높은 광도(1,500~10,000 Lux)'),\n",
       "  ('배치장소', '거실 창측 (실내깊이 150~300cm)발코니 내측 (실내깊이 50~150cm)발코니 창측 (실내깊이 0~50cm)'),\n",
       "  ('생장속도', '보통'),\n",
       "  ('생육적온', '16~20℃'),\n",
       "  ('겨울최저온도', '13℃ 이상'),\n",
       "  ('습도', '70% 이상'),\n",
       "  ('비료', '비료를 보통 요구함(봄, 여름에 수용성 비료를 2주에 한번 줌)'),\n",
       "  ('토양', '산성, 중성 / 양질토, 모래'),\n",
       "  ('물주기-봄', '흙을 촉촉하게 유지함(물에 잠기지 않도록 주의)'),\n",
       "  ('물주기-여름', '흙을 촉촉하게 유지함(물에 잠기지 않도록 주의)'),\n",
       "  ('물주기-가을', '흙을 촉촉하게 유지함(물에 잠기지 않도록 주의)'),\n",
       "  ('물주기-겨울', '토양 표면이 말랐을때 충분히 관수함'),\n",
       "  ('병충해', '응애,깍지벌레'),\n",
       "  ('병충해관리', '가정과 온실 도입시 유의 제거'),\n",
       "  ('특별관리',\n",
       "   '- 물관리: 빗물을 주면 토양이 산성화 될 수도 있음. 따뜻한 물을 사용하세요. - 더운 여름에는 물 젖은 천으로 잎을 닦아 주고, 분무해 줌.')],\n",
       " [('식물이름', '무늬관음죽'),\n",
       "  ('분류', '잎보기식물'),\n",
       "  ('생육형태', '관목형'),\n",
       "  ('생장높이', '150'),\n",
       "  ('생장너비', '50'),\n",
       "  ('실내정원구성', '중층목'),\n",
       "  ('생태형', '일반형'),\n",
       "  ('잎형태', '손바닥모양 겹잎 / 뾰족한톱니 / 광택'),\n",
       "  ('잎무늬', '줄무늬'),\n",
       "  ('잎색', '녹색, 연두색,흰색, 크림색'),\n",
       "  ('향기', '거의 없음'),\n",
       "  ('번식방법', '분주'),\n",
       "  ('번식시기', '5~6월(분주)'),\n",
       "  ('관리수준', '경험자'),\n",
       "  ('관리요구도', '필요함'),\n",
       "  ('광요구도', '중간 광도(800~1,500 Lux),높은 광도(1,500~10,000 Lux)'),\n",
       "  ('배치장소',\n",
       "   '거실 내측 (실내깊이 300~500cm)거실 창측 (실내깊이 150~300cm)발코니 내측 (실내깊이 50~150cm)발코니 창측 (실내깊이 0~50cm)'),\n",
       "  ('생장속도', '보통'),\n",
       "  ('생육적온', '16~20℃'),\n",
       "  ('겨울최저온도', '10℃'),\n",
       "  ('습도', '40 ~ 70%'),\n",
       "  ('비료', '비료를 보통 요구함 (가을~봄 한달에 한번 수용성 비료 줌)'),\n",
       "  ('토양', '산성, 중성 / 양질토, 모래 / 건조한토양'),\n",
       "  ('물주기-봄', '토양 표면이 말랐을때 충분히 관수함'),\n",
       "  ('물주기-여름', '토양 표면이 말랐을때 충분히 관수함'),\n",
       "  ('물주기-가을', '토양 표면이 말랐을때 충분히 관수함'),\n",
       "  ('물주기-겨울', '화분 흙 대부분 말랐을때 충분히 관수함'),\n",
       "  ('병충해', '응애,깍지벌레'),\n",
       "  ('병충해관리', '작은벌레, 삽주벌레 등 (가정과 온실 도입시 유의 제거)'),\n",
       "  ('특별관리', '')],\n",
       " [('식물이름', '무늬마삭줄'),\n",
       "  ('분류', '잎보기식물'),\n",
       "  ('생육형태', '덩굴성'),\n",
       "  ('생장높이', '30'),\n",
       "  ('생장너비', '30'),\n",
       "  ('실내정원구성', '하층목,지피식물'),\n",
       "  ('생태형', '일반형,수경형'),\n",
       "  ('잎형태', '작은잎 / 타원형 / 광택'),\n",
       "  ('잎무늬', '점무늬,잎 가장자리 무늬'),\n",
       "  ('잎색', '녹색, 연두색,금색, 노란색,흰색, 크림색,빨강, 분홍, 자주색'),\n",
       "  ('꽃색', '노랑색,흰색'),\n",
       "  ('향기', '강함'),\n",
       "  ('번식방법', '삽목'),\n",
       "  ('관리수준', '초보자'),\n",
       "  ('관리요구도', '보통 (약간 잘 견딤)'),\n",
       "  ('광요구도', '중간 광도(800~1,500 Lux),높은 광도(1,500~10,000 Lux)'),\n",
       "  ('배치장소', '거실 창측 (실내깊이 150~300cm)발코니 내측 (실내깊이 50~150cm)발코니 창측 (실내깊이 0~50cm)'),\n",
       "  ('생장속도', '보통'),\n",
       "  ('생육적온', '16~20℃'),\n",
       "  ('겨울최저온도', '5℃'),\n",
       "  ('습도', '40 ~ 70%'),\n",
       "  ('비료', '비료를 보통 요구함 (수용성비료를 2~3개월에 한번씩 줌)'),\n",
       "  ('토양', '산성, 중성, 알칼리성 / 점토, 양질토, 모래 / 건조한토양'),\n",
       "  ('물주기-봄', '흙을 촉촉하게 유지함(물에 잠기지 않도록 주의)'),\n",
       "  ('물주기-여름', '흙을 촉촉하게 유지함(물에 잠기지 않도록 주의)'),\n",
       "  ('물주기-가을', '흙을 촉촉하게 유지함(물에 잠기지 않도록 주의)'),\n",
       "  ('물주기-겨울', '토양 표면이 말랐을때 충분히 관수함'),\n",
       "  ('병충해', '응애,깍지벌레'),\n",
       "  ('병충해관리', '가정과 온실 도입시 유의 제거'),\n",
       "  ('특별관리',\n",
       "   '- 물주기: 적당히 건조한 상태 유지, 빗물 사용 시 토양이 산성화 될 수있으므로 주의, 온수사용함 - 동결 날씨에 견디지 못함.- 덩굴식물이 서로 얽히지 않도록 수시로 가지치기를 해주도록 함.')],\n",
       " [('식물이름', '무늬벤자민고무나무'),\n",
       "  ('분류', '잎보기식물'),\n",
       "  ('생육형태', '직립형'),\n",
       "  ('생장높이', '150'),\n",
       "  ('생장너비', '100'),\n",
       "  ('실내정원구성', '상층목,중층목'),\n",
       "  ('생태형', '일반형'),\n",
       "  ('잎형태', '달걀모양, 타원형 / 광택'),\n",
       "  ('잎무늬', '점무늬,잎 가장자리 무늬'),\n",
       "  ('잎색', '녹색, 연두색,흰색, 크림색'),\n",
       "  ('향기', '거의 없음'),\n",
       "  ('번식방법', '삽목,접목'),\n",
       "  ('번식시기', '봄, 여름'),\n",
       "  ('관리수준', '초보자'),\n",
       "  ('관리요구도', '보통 (약간 잘 견딤)'),\n",
       "  ('광요구도', '중간 광도(800~1,500 Lux),높은 광도(1,500~10,000 Lux)'),\n",
       "  ('배치장소', '거실 창측 (실내깊이 150~300cm)발코니 내측 (실내깊이 50~150cm)발코니 창측 (실내깊이 0~50cm)'),\n",
       "  ('생장속도', '느림'),\n",
       "  ('생육적온', '21~25℃'),\n",
       "  ('겨울최저온도', '13℃ 이상'),\n",
       "  ('습도', '40 ~ 70%'),\n",
       "  ('비료', '비료를 보통 요구함'),\n",
       "  ('토양', '산성, 중성, 알칼리성 / 양질토, 모래 / 건조하고 배수가 잘되는 토양'),\n",
       "  ('물주기-봄', '토양 표면이 말랐을때 충분히 관수함'),\n",
       "  ('물주기-여름', '토양 표면이 말랐을때 충분히 관수함'),\n",
       "  ('물주기-가을', '토양 표면이 말랐을때 충분히 관수함'),\n",
       "  ('물주기-겨울', '화분 흙 대부분 말랐을때 충분히 관수함'),\n",
       "  ('병충해', '응애,깍지벌레'),\n",
       "  ('병충해관리', '작은벌레, 삽주벌레 등 (가정과 온실 도입시 유의 제거)')],\n",
       " [('식물이름', '무늬산호수'),\n",
       "  ('분류', '잎보기식물,열매보기식물'),\n",
       "  ('생육형태', '관목형,덩굴성'),\n",
       "  ('생장높이', '30'),\n",
       "  ('생장너비', '30'),\n",
       "  ('실내정원구성', '하층목'),\n",
       "  ('생태형', '일반형'),\n",
       "  ('잎형태', '엽첨과 엽각이 뾰족한 타원형 / 광택'),\n",
       "  ('잎무늬', '점무늬,잎 가장자리 무늬'),\n",
       "  ('잎색', '녹색, 연두색,흰색, 크림색'),\n",
       "  ('꽃피는계절', '봄,여름'),\n",
       "  ('꽃색', '분홍색,흰색'),\n",
       "  ('열매맺는계절', '가을,겨울'),\n",
       "  ('열매색', '빨강색'),\n",
       "  ('독성', '(섭취하면 안됨)'),\n",
       "  ('번식방법', '삽목,분주'),\n",
       "  ('번식시기', '여름'),\n",
       "  ('관리수준', '초보자'),\n",
       "  ('관리요구도', '보통 (약간 잘 견딤)'),\n",
       "  ('광요구도', '중간 광도(800~1,500 Lux),높은 광도(1,500~10,000 Lux)'),\n",
       "  ('배치장소', '거실 창측 (실내깊이 150~300cm)발코니 내측 (실내깊이 50~150cm)발코니 창측 (실내깊이 0~50cm)'),\n",
       "  ('생장속도', '보통'),\n",
       "  ('생육적온', '21~25℃'),\n",
       "  ('겨울최저온도', '0℃ 이하'),\n",
       "  ('습도', '40 ~ 70%'),\n",
       "  ('비료', '비료를 보통 요구함(완효성 비료를 한달에 한번 줌)'),\n",
       "  ('토양', '산성 / 양질토 / 건조하고 배수가 잘되는 토양'),\n",
       "  ('물주기-봄', '토양 표면이 말랐을때 충분히 관수함'),\n",
       "  ('물주기-여름', '토양 표면이 말랐을때 충분히 관수함'),\n",
       "  ('물주기-가을', '토양 표면이 말랐을때 충분히 관수함'),\n",
       "  ('물주기-겨울', '화분 흙 대부분 말랐을때 충분히 관수함'),\n",
       "  ('병충해', '응애,깍지벌레,온실가루이'),\n",
       "  ('병충해관리', '작은벌레, 삽주벌레 등 (가정과 온실 도입시 유의 제거)')],\n",
       " [('식물이름', '무늬석창포'),\n",
       "  ('분류', '잎보기식물'),\n",
       "  ('생육형태', '풀모양,로제트형'),\n",
       "  ('생장높이', '30'),\n",
       "  ('생장너비', '30'),\n",
       "  ('실내정원구성', '하층목'),\n",
       "  ('생태형', '일반형,수경형'),\n",
       "  ('잎형태', '가늘고 긴 잎'),\n",
       "  ('잎무늬', '줄무늬'),\n",
       "  ('잎색', '녹색, 연두색,흰색, 크림색'),\n",
       "  ('향기', '약함'),\n",
       "  ('번식방법', '분주'),\n",
       "  ('관리수준', '초보자'),\n",
       "  ('관리요구도', '낮음 (잘 견딤)'),\n",
       "  ('광요구도', '중간 광도(800~1,500 Lux),높은 광도(1,500~10,000 Lux)'),\n",
       "  ('배치장소', '거실 창측 (실내깊이 150~300cm)발코니 내측 (실내깊이 50~150cm)발코니 창측 (실내깊이 0~50cm)'),\n",
       "  ('생장속도', '느림'),\n",
       "  ('생육적온', '21~25℃'),\n",
       "  ('겨울최저온도', '0℃ 이하'),\n",
       "  ('습도', '40 ~ 70%'),\n",
       "  ('비료', '비료를 보통 요구함'),\n",
       "  ('토양', '산성, 중성 / 점토, 양질토, 모래'),\n",
       "  ('물주기-봄', '흙을 촉촉하게 유지함(물에 잠기지 않도록 주의)'),\n",
       "  ('물주기-여름', '흙을 촉촉하게 유지함(물에 잠기지 않도록 주의)'),\n",
       "  ('물주기-가을', '흙을 촉촉하게 유지함(물에 잠기지 않도록 주의)'),\n",
       "  ('물주기-겨울', '화분 흙 대부분 말랐을때 충분히 관수함'),\n",
       "  ('병충해', '응애'),\n",
       "  ('병충해관리', '질병 거의 없음 / 곤충에 약함 (가정과 온실 도입시 유의 제거)'),\n",
       "  ('특별관리',\n",
       "   '- 습한 토양에서도 잘 자란다.- 식물체의 깔끔하게 유지하기 위해서는 정기적인 잎 정리가 필요하다.- 컨테이너 정원과 암석 정원을 조성할때 잘 어울린다.')],\n",
       " [('식물이름', \"무늬쉐플레라'홍콩'\"),\n",
       "  ('분류', '잎보기식물'),\n",
       "  ('생육형태', '직립형,관목형'),\n",
       "  ('생장높이', '150'),\n",
       "  ('생장너비', '80'),\n",
       "  ('실내정원구성', '중층목'),\n",
       "  ('생태형', '일반형'),\n",
       "  ('잎형태', '손바닥모양 / 넓은 타원형'),\n",
       "  ('잎무늬', '점무늬,잎 가장자리 무늬'),\n",
       "  ('잎색', '녹색, 연두색,금색, 노란색,기타'),\n",
       "  ('향기', '거의 없음'),\n",
       "  ('번식방법', '삽목'),\n",
       "  ('번식시기', '봄, 여름'),\n",
       "  ('관리수준', '초보자'),\n",
       "  ('관리요구도', '필요함'),\n",
       "  ('광요구도', '중간 광도(800~1,500 Lux),높은 광도(1,500~10,000 Lux)'),\n",
       "  ('배치장소', '거실 창측 (실내깊이 150~300cm)발코니 내측 (실내깊이 50~150cm)발코니 창측 (실내깊이 0~50cm)'),\n",
       "  ('생장속도', '보통'),\n",
       "  ('생육적온', '21~25℃'),\n",
       "  ('겨울최저온도', '13℃ 이상'),\n",
       "  ('습도', '40 ~ 70%'),\n",
       "  ('비료', '비료를 보통 요구함 (봄부터 초가을까지 한달에 1번 정도 줌)'),\n",
       "  ('토양', '산성, 중성, 알칼리성 / 양질토, 모래'),\n",
       "  ('물주기-봄', '토양 표면이 말랐을때 충분히 관수함'),\n",
       "  ('물주기-여름', '토양 표면이 말랐을때 충분히 관수함'),\n",
       "  ('물주기-가을', '토양 표면이 말랐을때 충분히 관수함'),\n",
       "  ('물주기-겨울', '화분 흙 대부분 말랐을때 충분히 관수함'),\n",
       "  ('병충해', '응애,깍지벌레'),\n",
       "  ('병충해관리', '가정과 온실 도입시 유의 제거'),\n",
       "  ('특별관리',\n",
       "   '- 건조한 환경에서 잘 견디며, 밝은 그늘과 반 그늘에서도 무난하게 자란다. - 늦은 봄부터 햇빛을 잘 받도록 하며, 한여름의 강한 직사광에는 차광을 하거나 밝은 그늘에서 관리한다.- 햇빛과 통풍이 중요하다.- 과습에 주의(과습되면 잎의 색깔이 암록색을 띄며 떨어지게 되며, 여름철 너무 건조하게 관리해도 잎이 주름지거나 오그라들면서 떨어짐)- 물주기: 불규칙적으로 하면 잎의 모양이 고르지 않게 자랄 수도 있다.')],\n",
       " [('식물이름', '무늬알피니아'),\n",
       "  ('분류', '잎&꽃보기식물'),\n",
       "  ('생육형태', '풀모양'),\n",
       "  ('생장높이', '100'),\n",
       "  ('생장너비', '50'),\n",
       "  ('실내정원구성', '중층목'),\n",
       "  ('생태형', '일반형'),\n",
       "  ('잎무늬', '줄무늬'),\n",
       "  ('잎색', '녹색, 연두색,흰색, 크림색'),\n",
       "  ('꽃피는계절', '봄,여름'),\n",
       "  ('꽃색', '오렌지색,흰색,혼합색'),\n",
       "  ('향기', '약함'),\n",
       "  ('번식방법', '분주,기타'),\n",
       "  ('관리수준', '초보자'),\n",
       "  ('관리요구도', '낮음 (잘 견딤)'),\n",
       "  ('광요구도', '중간 광도(800~1,500 Lux),높은 광도(1,500~10,000 Lux)'),\n",
       "  ('배치장소', '거실 창측 (실내깊이 150~300cm)발코니 내측 (실내깊이 50~150cm)발코니 창측 (실내깊이 0~50cm)'),\n",
       "  ('생육적온', '21~25℃'),\n",
       "  ('겨울최저온도', '13℃ 이상'),\n",
       "  ('습도', '40 ~ 70%'),\n",
       "  ('비료', '비료를 보통 요구함'),\n",
       "  ('병충해', '응애,깍지벌레')],\n",
       " [('식물이름', '무늬유카'),\n",
       "  ('분류', '잎보기식물'),\n",
       "  ('생육형태', '직립형'),\n",
       "  ('생장높이', '150'),\n",
       "  ('생장너비', '50'),\n",
       "  ('실내정원구성', '상층목,중층목'),\n",
       "  ('생태형', '일반형,건조형'),\n",
       "  ('잎형태', '길고 뾰족한 잎 / 두꺼움'),\n",
       "  ('잎무늬', '줄무늬'),\n",
       "  ('잎색', '녹색, 연두색,금색, 노란색'),\n",
       "  ('꽃색', '흰색'),\n",
       "  ('향기', '거의 없음'),\n",
       "  ('번식방법', '삽목,분주'),\n",
       "  ('관리수준', '초보자'),\n",
       "  ('관리요구도', '보통 (약간 잘 견딤)'),\n",
       "  ('광요구도', '중간 광도(800~1,500 Lux),높은 광도(1,500~10,000 Lux)'),\n",
       "  ('배치장소', '발코니 내측 (실내깊이 50~150cm)발코니 창측 (실내깊이 0~50cm)'),\n",
       "  ('생장속도', '보통'),\n",
       "  ('생육적온', '21~25℃'),\n",
       "  ('겨울최저온도', '7℃'),\n",
       "  ('습도', '40 ~ 70%'),\n",
       "  ('비료', '비료를 보통 요구함'),\n",
       "  ('토양', '가볍고 건조한 토양'),\n",
       "  ('물주기-봄', '토양 표면이 말랐을때 충분히 관수함'),\n",
       "  ('물주기-여름', '토양 표면이 말랐을때 충분히 관수함'),\n",
       "  ('물주기-가을', '토양 표면이 말랐을때 충분히 관수함'),\n",
       "  ('물주기-겨울', '화분 흙 대부분 말랐을때 충분히 관수함'),\n",
       "  ('병충해', '응애,깍지벌레'),\n",
       "  ('특별관리', '- 곤충에 취약, 질병 없음')],\n",
       " [('식물이름', '무늬접란'),\n",
       "  ('분류', '잎보기식물'),\n",
       "  ('생육형태', '풀모양,로제트형'),\n",
       "  ('생장높이', '40'),\n",
       "  ('생장너비', '40'),\n",
       "  ('실내정원구성', '하층목,지피식물'),\n",
       "  ('생태형', '일반형,수경형'),\n",
       "  ('잎형태', '가늘고 긴 잎'),\n",
       "  ('잎무늬', '줄무늬'),\n",
       "  ('잎색', '녹색, 연두색,금색, 노란색'),\n",
       "  ('꽃색', '흰색'),\n",
       "  ('향기', '거의 없음'),\n",
       "  ('번식방법', '분주'),\n",
       "  ('관리수준', '초보자'),\n",
       "  ('관리요구도', '보통 (약간 잘 견딤)'),\n",
       "  ('광요구도', '중간 광도(800~1,500 Lux),높은 광도(1,500~10,000 Lux)'),\n",
       "  ('배치장소', '거실 창측 (실내깊이 150~300cm)발코니 내측 (실내깊이 50~150cm)발코니 창측 (실내깊이 0~50cm)'),\n",
       "  ('생장속도', '보통'),\n",
       "  ('생육적온', '21~25℃'),\n",
       "  ('겨울최저온도', '13℃ 이상'),\n",
       "  ('습도', '40 ~ 70%'),\n",
       "  ('비료', '비료를 보통 요구함'),\n",
       "  ('토양', '산성, 중성, 알칼리성 / 양질토, 모래'),\n",
       "  ('물주기-봄', '토양 표면이 말랐을때 충분히 관수함'),\n",
       "  ('물주기-여름', '토양 표면이 말랐을때 충분히 관수함'),\n",
       "  ('물주기-가을', '토양 표면이 말랐을때 충분히 관수함'),\n",
       "  ('물주기-겨울', '화분 흙 대부분 말랐을때 충분히 관수함'),\n",
       "  ('병충해', '응애,깍지벌레,온실가루이'),\n",
       "  ('병충해관리', '가정과 온실 도입시 유의 제거')],\n",
       " [('식물이름', '무늬털머위'),\n",
       "  ('분류', '잎&꽃보기식물'),\n",
       "  ('생육형태', '풀모양'),\n",
       "  ('생장높이', '40'),\n",
       "  ('생장너비', '40'),\n",
       "  ('실내정원구성', '하층목,지피식물'),\n",
       "  ('생태형', '일반형'),\n",
       "  ('잎형태', '머위 잎 모양 / 두껍고 신장 모양 / 광택'),\n",
       "  ('잎무늬', '점무늬,잎 가장자리 무늬'),\n",
       "  ('잎색', '녹색, 연두색,금색, 노란색,흰색, 크림색'),\n",
       "  ('꽃피는계절', '여름,가을'),\n",
       "  ('꽃색', '노랑색'),\n",
       "  ('향기', '거의 없음'),\n",
       "  ('번식방법', '파종,분주'),\n",
       "  ('관리수준', '초보자'),\n",
       "  ('관리요구도', '낮음 (잘 견딤)'),\n",
       "  ('광요구도', '중간 광도(800~1,500 Lux),높은 광도(1,500~10,000 Lux)'),\n",
       "  ('배치장소', '거실 창측 (실내깊이 150~300cm)발코니 내측 (실내깊이 50~150cm)발코니 창측 (실내깊이 0~50cm)'),\n",
       "  ('생장속도', '보통'),\n",
       "  ('생육적온', '16~20℃'),\n",
       "  ('겨울최저온도', '5℃'),\n",
       "  ('습도', '40 ~ 70%'),\n",
       "  ('비료', '비료를 보통 요구함'),\n",
       "  ('토양', '양질토, 모래'),\n",
       "  ('물주기-봄', '토양 표면이 말랐을때 충분히 관수함'),\n",
       "  ('물주기-여름', '토양 표면이 말랐을때 충분히 관수함'),\n",
       "  ('물주기-가을', '토양 표면이 말랐을때 충분히 관수함'),\n",
       "  ('물주기-겨울', '토양 표면이 말랐을때 충분히 관수함'),\n",
       "  ('병충해', '응애,온실가루이'),\n",
       "  ('병충해관리', '가정과 온실 도입시 유의 제거')],\n",
       " [('식물이름', '무늬팻츠헤데라'),\n",
       "  ('분류', '잎보기식물'),\n",
       "  ('생육형태', '관목형,덩굴성'),\n",
       "  ('생장높이', '50'),\n",
       "  ('생장너비', '40'),\n",
       "  ('실내정원구성', '중층목,하층목'),\n",
       "  ('생태형', '일반형'),\n",
       "  ('잎형태', '팔손이'),\n",
       "  ('잎무늬', '점무늬,잎 가장자리 무늬'),\n",
       "  ('잎색', '녹색, 연두색,흰색, 크림색'),\n",
       "  ('향기', '거의 없음'),\n",
       "  ('번식방법', '삽목'),\n",
       "  ('관리요구도', '필요함'),\n",
       "  ('광요구도', '중간 광도(800~1,500 Lux),높은 광도(1,500~10,000 Lux)'),\n",
       "  ('배치장소', '거실 창측 (실내깊이 150~300cm)발코니 내측 (실내깊이 50~150cm)발코니 창측 (실내깊이 0~50cm)'),\n",
       "  ('생장속도', '보통'),\n",
       "  ('생육적온', '16~20℃'),\n",
       "  ('겨울최저온도', '5℃'),\n",
       "  ('습도', '40 ~ 70%'),\n",
       "  ('비료', '비료를 보통 요구함 (유기비료, 수용성비료는 2주에 한번 줌)'),\n",
       "  ('물주기-봄', '토양 표면이 말랐을때 충분히 관수함'),\n",
       "  ('물주기-여름', '토양 표면이 말랐을때 충분히 관수함'),\n",
       "  ('물주기-가을', '토양 표면이 말랐을때 충분히 관수함'),\n",
       "  ('물주기-겨울', '화분 흙 대부분 말랐을때 충분히 관수함'),\n",
       "  ('병충해', '응애,깍지벌레,온실가루이'),\n",
       "  ('특별관리',\n",
       "   '- 시비관리: 수용성비료는 2주마다 지침에 따라 사용하며, 완효성비료는 성장하는 계절에 따라 신중하게 한번만 토양에 줌. 겨울동안(10월하순~2월하순)에는 시비하지 않음.- 분흙의 물빠짐이 좋아야 한다. 온도가 너무 높지 않도록 주의함, 팻츠헤데라의 반입종으로 팻츠헤데라에 비해서 추위에 약하다.')],\n",
       " [('식물이름', '무늬푸밀라고무나무 '),\n",
       "  ('분류', '잎보기식물'),\n",
       "  ('생육형태', '덩굴성'),\n",
       "  ('생장높이', '20'),\n",
       "  ('생장너비', '30'),\n",
       "  ('실내정원구성', '하층목,지피식물'),\n",
       "  ('생태형', '일반형'),\n",
       "  ('잎무늬', '잎 가장자리 무늬'),\n",
       "  ('잎색', '녹색, 연두색,흰색, 크림색'),\n",
       "  ('번식방법', '삽목'),\n",
       "  ('관리요구도', '보통 (약간 잘 견딤)'),\n",
       "  ('광요구도', '낮은 광도(300~800 Lux),중간 광도(800~1,500 Lux),높은 광도(1,500~10,000 Lux)'),\n",
       "  ('배치장소',\n",
       "   '거실 내측 (실내깊이 300~500cm)거실 창측 (실내깊이 150~300cm)발코니 내측 (실내깊이 50~150cm)발코니 창측 (실내깊이 0~50cm)'),\n",
       "  ('생육적온', '21~25℃'),\n",
       "  ('겨울최저온도', '7℃'),\n",
       "  ('습도', '40 ~ 70%'),\n",
       "  ('비료', '비료를 보통 요구함'),\n",
       "  ('물주기-봄', '토양 표면이 말랐을때 충분히 관수함'),\n",
       "  ('물주기-여름', '토양 표면이 말랐을때 충분히 관수함'),\n",
       "  ('물주기-가을', '토양 표면이 말랐을때 충분히 관수함'),\n",
       "  ('물주기-겨울', '화분 흙 대부분 말랐을때 충분히 관수함'),\n",
       "  ('병충해', '응애,온실가루이')],\n",
       " [('식물이름', '뮤렌베키아'),\n",
       "  ('분류', '잎보기식물'),\n",
       "  ('생육형태', '덩굴성'),\n",
       "  ('생장높이', '30'),\n",
       "  ('생장너비', '30'),\n",
       "  ('실내정원구성', '하층목,지피식물'),\n",
       "  ('생태형', '일반형'),\n",
       "  ('잎무늬', '기타 (무늬없음 등)'),\n",
       "  ('잎색', '녹색, 연두색'),\n",
       "  ('향기', '거의 없음'),\n",
       "  ('번식방법', '삽목'),\n",
       "  ('관리요구도', '낮음 (잘 견딤)'),\n",
       "  ('광요구도', '낮은 광도(300~800 Lux),중간 광도(800~1,500 Lux)'),\n",
       "  ('배치장소',\n",
       "   '거실 내측 (실내깊이 300~500cm)거실 창측 (실내깊이 150~300cm)발코니 내측 (실내깊이 50~150cm)'),\n",
       "  ('생육적온', '16~20℃'),\n",
       "  ('겨울최저온도', '10℃'),\n",
       "  ('습도', '40 ~ 70%'),\n",
       "  ('비료', '비료를 보통 요구함'),\n",
       "  ('병충해', '진딧물,응애'),\n",
       "  ('특별관리', '실내 밝은 장소에 배치한다. 잎이 작은데 배해 번식력이 왕성하여 지저분해지기 쉬우므로 자주 정리해 주어야 한다.')],\n",
       " [('식물이름', '바위취'),\n",
       "  ('분류', '잎&꽃보기식물'),\n",
       "  ('생육형태', '풀모양,로제트형'),\n",
       "  ('생장높이', '20'),\n",
       "  ('생장너비', '20'),\n",
       "  ('실내정원구성', '지피식물'),\n",
       "  ('생태형', '일반형'),\n",
       "  ('잎무늬', '줄무늬'),\n",
       "  ('잎색', '녹색, 연두색,은색, 회색,빨강, 분홍, 자주색'),\n",
       "  ('꽃피는계절', '여름'),\n",
       "  ('꽃색', '분홍색,흰색'),\n",
       "  ('번식방법', '분주'),\n",
       "  ('관리요구도', '보통 (약간 잘 견딤)'),\n",
       "  ('광요구도', '중간 광도(800~1,500 Lux),높은 광도(1,500~10,000 Lux)'),\n",
       "  ('배치장소', '거실 창측 (실내깊이 150~300cm)발코니 내측 (실내깊이 50~150cm)발코니 창측 (실내깊이 0~50cm)'),\n",
       "  ('생장속도', '빠름'),\n",
       "  ('생육적온', '16~20℃'),\n",
       "  ('겨울최저온도', '0℃ 이하'),\n",
       "  ('습도', '40 ~ 70%'),\n",
       "  ('비료', '비료를 보통 요구함'),\n",
       "  ('물주기-봄', '토양 표면이 말랐을때 충분히 관수함'),\n",
       "  ('물주기-여름', '토양 표면이 말랐을때 충분히 관수함'),\n",
       "  ('물주기-가을', '토양 표면이 말랐을때 충분히 관수함'),\n",
       "  ('물주기-겨울', '화분 흙 대부분 말랐을때 충분히 관수함'),\n",
       "  ('병충해', '응애,온실가루이')],\n",
       " [('식물이름', '박쥐란'),\n",
       "  ('분류', '잎보기식물'),\n",
       "  ('생육형태', '풀모양'),\n",
       "  ('생장높이', '30'),\n",
       "  ('생장너비', '30'),\n",
       "  ('실내정원구성', '상층목'),\n",
       "  ('생태형', '일반형'),\n",
       "  ('잎무늬', '기타 (무늬없음 등)'),\n",
       "  ('잎색', '녹색, 연두색'),\n",
       "  ('향기', '거의 없음'),\n",
       "  ('번식방법', '파종,분주'),\n",
       "  ('관리수준', '전문가'),\n",
       "  ('관리요구도', '필요함'),\n",
       "  ('광요구도', '중간 광도(800~1,500 Lux),높은 광도(1,500~10,000 Lux)'),\n",
       "  ('배치장소', '거실 창측 (실내깊이 150~300cm)발코니 내측 (실내깊이 50~150cm)발코니 창측 (실내깊이 0~50cm)'),\n",
       "  ('생장속도', '보통'),\n",
       "  ('생육적온', '16~20℃'),\n",
       "  ('겨울최저온도', '13℃ 이상'),\n",
       "  ('습도', '40 ~ 70%'),\n",
       "  ('비료', '비료를 보통 요구함'),\n",
       "  ('물주기-봄', '흙을 촉촉하게 유지함(물에 잠기지 않도록 주의)'),\n",
       "  ('물주기-여름', '흙을 촉촉하게 유지함(물에 잠기지 않도록 주의)'),\n",
       "  ('물주기-가을', '흙을 촉촉하게 유지함(물에 잠기지 않도록 주의)'),\n",
       "  ('물주기-겨울', '토양 표면이 말랐을때 충분히 관수함'),\n",
       "  ('병충해', '응애'),\n",
       "  ('병충해관리', '깍지벌레, 개각충, 진딧물')],\n",
       " [('식물이름', '백량금'),\n",
       "  ('분류', '잎&꽃보기식물,열매보기식물'),\n",
       "  ('생육형태', '관목형'),\n",
       "  ('생장높이', '90'),\n",
       "  ('생장너비', '40'),\n",
       "  ('실내정원구성', '중층목'),\n",
       "  ('생태형', '일반형'),\n",
       "  ('잎무늬', '기타 (무늬없음 등)'),\n",
       "  ('잎색', '녹색, 연두색'),\n",
       "  ('꽃피는계절', '봄,여름'),\n",
       "  ('꽃색', '흰색'),\n",
       "  ('열매맺는계절', '여름,가을,겨울'),\n",
       "  ('열매색', '빨강색,노랑색,흰색'),\n",
       "  ('향기', '거의 없음'),\n",
       "  ('번식방법', '파종,삽목'),\n",
       "  ('관리요구도', '보통 (약간 잘 견딤)'),\n",
       "  ('광요구도', '낮은 광도(300~800 Lux),중간 광도(800~1,500 Lux),높은 광도(1,500~10,000 Lux)'),\n",
       "  ('배치장소',\n",
       "   '실내 어두운 곳 (실내깊이 500 이상cm)거실 내측 (실내깊이 300~500cm)거실 창측 (실내깊이 150~300cm)발코니 내측 (실내깊이 50~150cm)발코니 창측 (실내깊이 0~50cm)'),\n",
       "  ('생육적온', '16~20℃'),\n",
       "  ('겨울최저온도', '5℃'),\n",
       "  ('습도', '40 ~ 70%'),\n",
       "  ('비료', '비료를 보통 요구함'),\n",
       "  ('물주기-봄', '토양 표면이 말랐을때 충분히 관수함'),\n",
       "  ('물주기-여름', '토양 표면이 말랐을때 충분히 관수함'),\n",
       "  ('물주기-가을', '토양 표면이 말랐을때 충분히 관수함'),\n",
       "  ('물주기-겨울', '토양 표면이 말랐을때 충분히 관수함'),\n",
       "  ('병충해', '응애,깍지벌레,온실가루이'),\n",
       "  ('병충해관리', '깍지벌레, 개각충, 응애')],\n",
       " [('식물이름', '백정화'),\n",
       "  ('분류', '잎&꽃보기식물'),\n",
       "  ('생육형태', '관목형'),\n",
       "  ('생장높이', '50'),\n",
       "  ('생장너비', '40'),\n",
       "  ('실내정원구성', '상층목,하층목'),\n",
       "  ('생태형', '일반형'),\n",
       "  ('잎무늬', '잎 가장자리 무늬'),\n",
       "  ('잎색', '녹색, 연두색,흰색, 크림색'),\n",
       "  ('꽃피는계절', '봄,여름'),\n",
       "  ('꽃색', '분홍색,흰색'),\n",
       "  ('향기', '중간'),\n",
       "  ('번식방법', '삽목'),\n",
       "  ('관리수준', '경험자'),\n",
       "  ('관리요구도', '필요함'),\n",
       "  ('광요구도', '중간 광도(800~1,500 Lux),높은 광도(1,500~10,000 Lux)'),\n",
       "  ('배치장소', '발코니 내측 (실내깊이 50~150cm)발코니 창측 (실내깊이 0~50cm)'),\n",
       "  ('생육적온', '16~20℃'),\n",
       "  ('겨울최저온도', '5℃'),\n",
       "  ('습도', '40 ~ 70%'),\n",
       "  ('비료', '비료를 보통 요구함'),\n",
       "  ('물주기-봄', '토양 표면이 말랐을때 충분히 관수함'),\n",
       "  ('물주기-여름', '토양 표면이 말랐을때 충분히 관수함'),\n",
       "  ('물주기-가을', '토양 표면이 말랐을때 충분히 관수함'),\n",
       "  ('물주기-겨울', '화분 흙 대부분 말랐을때 충분히 관수함'),\n",
       "  ('병충해', '응애,깍지벌레')],\n",
       " [('식물이름', '백화등'),\n",
       "  ('분류', '잎&꽃보기식물'),\n",
       "  ('생육형태', '덩굴성'),\n",
       "  ('생장높이', '50'),\n",
       "  ('생장너비', '50'),\n",
       "  ('실내정원구성', '하층목'),\n",
       "  ('생태형', '일반형'),\n",
       "  ('잎무늬', '기타 (무늬없음 등)'),\n",
       "  ('잎색', '녹색, 연두색'),\n",
       "  ('꽃피는계절', '봄'),\n",
       "  ('꽃색', '분홍색,흰색'),\n",
       "  ('향기', '강함'),\n",
       "  ('번식방법', '삽목'),\n",
       "  ('관리요구도', '필요함'),\n",
       "  ('광요구도', '중간 광도(800~1,500 Lux),높은 광도(1,500~10,000 Lux)'),\n",
       "  ('배치장소', '거실 창측 (실내깊이 150~300cm)발코니 내측 (실내깊이 50~150cm)발코니 창측 (실내깊이 0~50cm)'),\n",
       "  ('생육적온', '16~20℃'),\n",
       "  ('겨울최저온도', '0℃ 이하'),\n",
       "  ('습도', '40 ~ 70%'),\n",
       "  ('비료', '비료를 보통 요구함'),\n",
       "  ('물주기-봄', '흙을 촉촉하게 유지함(물에 잠기지 않도록 주의)'),\n",
       "  ('물주기-여름', '흙을 촉촉하게 유지함(물에 잠기지 않도록 주의)'),\n",
       "  ('물주기-가을', '흙을 촉촉하게 유지함(물에 잠기지 않도록 주의)'),\n",
       "  ('물주기-겨울', '토양 표면이 말랐을때 충분히 관수함'),\n",
       "  ('병충해', '응애,깍지벌레'),\n",
       "  ('특별관리', '토양을 촉촉하게 유지함, 통풍이 잘 되는 곳이 좋다.')],\n",
       " [('식물이름', '벤자민고무나무'),\n",
       "  ('분류', '잎보기식물'),\n",
       "  ('생육형태', '직립형,관목형'),\n",
       "  ('생장높이', '150'),\n",
       "  ('생장너비', '100'),\n",
       "  ('실내정원구성', '상층목,중층목'),\n",
       "  ('생태형', '일반형'),\n",
       "  ('잎무늬', '기타 (무늬없음 등)'),\n",
       "  ('잎색', '녹색, 연두색'),\n",
       "  ('향기', '거의 없음'),\n",
       "  ('번식방법', '삽목'),\n",
       "  ('관리요구도', '보통 (약간 잘 견딤)'),\n",
       "  ('광요구도', '중간 광도(800~1,500 Lux),높은 광도(1,500~10,000 Lux)'),\n",
       "  ('배치장소', '거실 내측 (실내깊이 300~500cm)발코니 내측 (실내깊이 50~150cm)발코니 창측 (실내깊이 0~50cm)'),\n",
       "  ('생육적온', '21~25℃'),\n",
       "  ('겨울최저온도', '13℃ 이상'),\n",
       "  ('습도', '40 ~ 70%'),\n",
       "  ('비료', '비료를 보통 요구함'),\n",
       "  ('물주기-봄', '토양 표면이 말랐을때 충분히 관수함'),\n",
       "  ('물주기-여름', '토양 표면이 말랐을때 충분히 관수함'),\n",
       "  ('물주기-가을', '토양 표면이 말랐을때 충분히 관수함'),\n",
       "  ('물주기-겨울', '토양 표면이 말랐을때 충분히 관수함'),\n",
       "  ('병충해', '응애,깍지벌레'),\n",
       "  ('특별관리',\n",
       "   '환경에 빨리 적응하지 못하므로 갑자기 햇빛으로 내 놓거나, 햇빛에 있다가 실내로 옮기게 되면 잎을 많이 떨구면서 힘든 기간을 보내기 때문에 서서히 적응기간을 주면서 옮기는 것이 좋다.')],\n",
       " [('식물이름', \"벤자민고무나무 '킹'\"),\n",
       "  ('분류', '잎보기식물'),\n",
       "  ('생육형태', '직립형,관목형'),\n",
       "  ('생장높이', '150'),\n",
       "  ('생장너비', '100'),\n",
       "  ('실내정원구성', '상층목,중층목'),\n",
       "  ('생태형', '일반형'),\n",
       "  ('잎무늬', '점무늬'),\n",
       "  ('잎색', '녹색, 연두색'),\n",
       "  ('향기', '거의 없음'),\n",
       "  ('번식방법', '삽목'),\n",
       "  ('관리요구도', '필요함'),\n",
       "  ('광요구도', '낮은 광도(300~800 Lux),중간 광도(800~1,500 Lux),높은 광도(1,500~10,000 Lux)'),\n",
       "  ('배치장소',\n",
       "   '거실 내측 (실내깊이 300~500cm)거실 창측 (실내깊이 150~300cm)발코니 내측 (실내깊이 50~150cm)발코니 창측 (실내깊이 0~50cm)'),\n",
       "  ('생육적온', '21~25℃'),\n",
       "  ('겨울최저온도', '13℃ 이상'),\n",
       "  ('습도', '40 ~ 70%'),\n",
       "  ('비료', '비료를 보통 요구함'),\n",
       "  ('물주기-봄', '토양 표면이 말랐을때 충분히 관수함'),\n",
       "  ('물주기-여름', '토양 표면이 말랐을때 충분히 관수함'),\n",
       "  ('물주기-가을', '토양 표면이 말랐을때 충분히 관수함'),\n",
       "  ('물주기-겨울', '토양 표면이 말랐을때 충분히 관수함'),\n",
       "  ('병충해', '응애,깍지벌레')],\n",
       " [('식물이름', '벵갈고무나무'),\n",
       "  ('분류', '잎보기식물'),\n",
       "  ('생육형태', '직립형,관목형'),\n",
       "  ('생장높이', '150'),\n",
       "  ('생장너비', '100'),\n",
       "  ('실내정원구성', '상층목,중층목'),\n",
       "  ('생태형', '일반형'),\n",
       "  ('잎무늬', '기타 (무늬없음 등)'),\n",
       "  ('잎색', '녹색, 연두색'),\n",
       "  ('향기', '거의 없음'),\n",
       "  ('독성', 'Parts of plant are poisonous if ingestedHandling'),\n",
       "  ('번식방법', '삽목'),\n",
       "  ('관리요구도', '보통 (약간 잘 견딤)'),\n",
       "  ('광요구도', '중간 광도(800~1,500 Lux),높은 광도(1,500~10,000 Lux)'),\n",
       "  ('배치장소', '거실 창측 (실내깊이 150~300cm)발코니 내측 (실내깊이 50~150cm)발코니 창측 (실내깊이 0~50cm)'),\n",
       "  ('생육적온', '21~25℃'),\n",
       "  ('겨울최저온도', '13℃ 이상'),\n",
       "  ('습도', '40 ~ 70%'),\n",
       "  ('비료', '비료를 보통 요구함'),\n",
       "  ('물주기-봄', '토양 표면이 말랐을때 충분히 관수함'),\n",
       "  ('물주기-여름', '토양 표면이 말랐을때 충분히 관수함'),\n",
       "  ('물주기-가을', '토양 표면이 말랐을때 충분히 관수함'),\n",
       "  ('물주기-겨울', '토양 표면이 말랐을때 충분히 관수함'),\n",
       "  ('병충해', '응애,깍지벌레')],\n",
       " [('식물이름', '병솔나무'),\n",
       "  ('분류', '잎&꽃보기식물'),\n",
       "  ('생육형태', '관목형'),\n",
       "  ('생장높이', '100'),\n",
       "  ('생장너비', '50'),\n",
       "  ('실내정원구성', '상층목,중층목'),\n",
       "  ('생태형', '일반형'),\n",
       "  ('잎무늬', '기타 (무늬없음 등)'),\n",
       "  ('잎색', '녹색, 연두색,은색, 회색'),\n",
       "  ('꽃피는계절', '봄,여름'),\n",
       "  ('꽃색', '분홍색,빨강색,노랑색,흰색'),\n",
       "  ('향기', '거의 없음'),\n",
       "  ('번식방법', '파종,삽목'),\n",
       "  ('관리수준', '경험자'),\n",
       "  ('관리요구도', '필요함'),\n",
       "  ('광요구도', '높은 광도(1,500~10,000 Lux)'),\n",
       "  ('배치장소', '거실 창측 (실내깊이 150~300cm)발코니 내측 (실내깊이 50~150cm)발코니 창측 (실내깊이 0~50cm)'),\n",
       "  ('생장속도', '보통'),\n",
       "  ('생육적온', '21~25℃'),\n",
       "  ('겨울최저온도', '7℃'),\n",
       "  ('습도', '40 ~ 70%'),\n",
       "  ('물주기-봄', '토양 표면이 말랐을때 충분히 관수함'),\n",
       "  ('물주기-여름', '토양 표면이 말랐을때 충분히 관수함'),\n",
       "  ('물주기-가을', '토양 표면이 말랐을때 충분히 관수함'),\n",
       "  ('물주기-겨울', '화분 흙 대부분 말랐을때 충분히 관수함'),\n",
       "  ('병충해', '응애,깍지벌레')],\n",
       " [('식물이름', '보스톤고사리'),\n",
       "  ('분류', '잎보기식물'),\n",
       "  ('생육형태', '풀모양'),\n",
       "  ('생장높이', '40'),\n",
       "  ('생장너비', '40'),\n",
       "  ('실내정원구성', '하층목,지피식물'),\n",
       "  ('생태형', '일반형'),\n",
       "  ('잎무늬', '기타 (무늬없음 등)'),\n",
       "  ('잎색', '녹색, 연두색'),\n",
       "  ('번식방법', '분주,기타'),\n",
       "  ('관리수준', '초보자'),\n",
       "  ('관리요구도', '보통 (약간 잘 견딤)'),\n",
       "  ('광요구도', '중간 광도(800~1,500 Lux),높은 광도(1,500~10,000 Lux)'),\n",
       "  ('배치장소',\n",
       "   '거실 내측 (실내깊이 300~500cm)거실 창측 (실내깊이 150~300cm)발코니 내측 (실내깊이 50~150cm)'),\n",
       "  ('생장속도', '빠름'),\n",
       "  ('생육적온', '16~20℃'),\n",
       "  ('겨울최저온도', '13℃ 이상'),\n",
       "  ('습도', '70% 이상'),\n",
       "  ('비료', '비료를 보통 요구함, 새 잎이 나올 때에는 주 1회 낮은 농도로 액비를 주고 겨울에는 월 1회 정도로 준다'),\n",
       "  ('물주기-봄', '흙을 촉촉하게 유지함(물에 잠기지 않도록 주의)'),\n",
       "  ('물주기-여름', '흙을 촉촉하게 유지함(물에 잠기지 않도록 주의)'),\n",
       "  ('물주기-가을', '흙을 촉촉하게 유지함(물에 잠기지 않도록 주의)'),\n",
       "  ('물주기-겨울', '토양 표면이 말랐을때 충분히 관수함'),\n",
       "  ('병충해', '진딧물,응애,깍지벌레,온실가루이'),\n",
       "  ('특별관리',\n",
       "   '유기질이 풍부한 화분용 배합토에서 잘 자라고, 뿌리가 화분 가득히 뻗어있는 것이 이상적이다.한여름의 직사광선은 피하고 습도유지가 되어야 잘 자란다.')],\n",
       " [('식물이름', '봉의꼬리'),\n",
       "  ('분류', '잎보기식물'),\n",
       "  ('생육형태', '풀모양'),\n",
       "  ('생장높이', '40'),\n",
       "  ('생장너비', '40'),\n",
       "  ('실내정원구성', '하층목,지피식물'),\n",
       "  ('생태형', '일반형'),\n",
       "  ('잎무늬', '기타 (무늬없음 등)'),\n",
       "  ('잎색', '녹색, 연두색'),\n",
       "  ('향기', '거의 없음'),\n",
       "  ('번식방법', '분주,기타'),\n",
       "  ('관리요구도', '보통 (약간 잘 견딤)'),\n",
       "  ('광요구도', '중간 광도(800~1,500 Lux),높은 광도(1,500~10,000 Lux)'),\n",
       "  ('배치장소',\n",
       "   '거실 내측 (실내깊이 300~500cm)거실 창측 (실내깊이 150~300cm)발코니 내측 (실내깊이 50~150cm)'),\n",
       "  ('생육적온', '16~20℃'),\n",
       "  ('겨울최저온도', '5℃'),\n",
       "  ('습도', '70% 이상'),\n",
       "  ('비료', '비료를 보통 요구함'),\n",
       "  ('물주기-봄', '흙을 촉촉하게 유지함(물에 잠기지 않도록 주의)'),\n",
       "  ('물주기-여름', '흙을 촉촉하게 유지함(물에 잠기지 않도록 주의)'),\n",
       "  ('물주기-가을', '흙을 촉촉하게 유지함(물에 잠기지 않도록 주의)'),\n",
       "  ('물주기-겨울', '토양 표면이 말랐을때 충분히 관수함'),\n",
       "  ('병충해', '응애,깍지벌레')],\n",
       " [('식물이름', '부겐빌레아'),\n",
       "  ('분류', '잎&꽃보기식물'),\n",
       "  ('생육형태', '관목형,덩굴성'),\n",
       "  ('생장높이', '150'),\n",
       "  ('생장너비', '100'),\n",
       "  ('실내정원구성', '상층목,중층목'),\n",
       "  ('생태형', '일반형'),\n",
       "  ('잎무늬', '기타 (무늬없음 등)'),\n",
       "  ('잎색', '녹색, 연두색'),\n",
       "  ('꽃피는계절', '봄,여름,가을'),\n",
       "  ('꽃색', '분홍색,빨강색,노랑색,흰색'),\n",
       "  ('향기', '약함'),\n",
       "  ('번식방법', '삽목'),\n",
       "  ('관리수준', '초보자'),\n",
       "  ('관리요구도', '필요함'),\n",
       "  ('광요구도', '중간 광도(800~1,500 Lux),높은 광도(1,500~10,000 Lux)'),\n",
       "  ('배치장소', '거실 창측 (실내깊이 150~300cm)발코니 내측 (실내깊이 50~150cm)발코니 창측 (실내깊이 0~50cm)'),\n",
       "  ('생장속도', '빠름'),\n",
       "  ('생육적온', '21~25℃'),\n",
       "  ('겨울최저온도', '13℃ 이상'),\n",
       "  ('습도', '40 ~ 70%'),\n",
       "  ('비료', '비료를 보통 요구함'),\n",
       "  ('물주기-봄', '흙을 촉촉하게 유지함(물에 잠기지 않도록 주의)'),\n",
       "  ('물주기-여름', '흙을 촉촉하게 유지함(물에 잠기지 않도록 주의)'),\n",
       "  ('물주기-가을', '흙을 촉촉하게 유지함(물에 잠기지 않도록 주의)'),\n",
       "  ('물주기-겨울', '흙을 촉촉하게 유지함(물에 잠기지 않도록 주의)'),\n",
       "  ('병충해', '응애,깍지벌레,온실가루이')],\n",
       " [('식물이름', '브룬펠시아'),\n",
       "  ('분류', '잎&꽃보기식물'),\n",
       "  ('생육형태', '관목형'),\n",
       "  ('생장높이', '150'),\n",
       "  ('생장너비', '100'),\n",
       "  ('실내정원구성', '상층목,중층목'),\n",
       "  ('생태형', '일반형'),\n",
       "  ('잎무늬', '기타 (무늬없음 등)'),\n",
       "  ('잎색', '녹색, 연두색'),\n",
       "  ('꽃피는계절', '봄,여름'),\n",
       "  ('꽃색', '보라색,분홍색,흰색'),\n",
       "  ('향기', '강함'),\n",
       "  ('번식방법', '삽목,분주'),\n",
       "  ('관리수준', '초보자'),\n",
       "  ('관리요구도', '필요함'),\n",
       "  ('광요구도', '중간 광도(800~1,500 Lux),높은 광도(1,500~10,000 Lux)'),\n",
       "  ('배치장소', '거실 창측 (실내깊이 150~300cm)발코니 내측 (실내깊이 50~150cm)발코니 창측 (실내깊이 0~50cm)'),\n",
       "  ('생장속도', '빠름'),\n",
       "  ('생육적온', '21~25℃'),\n",
       "  ('겨울최저온도', '10℃'),\n",
       "  ('습도', '40 ~ 70%'),\n",
       "  ('비료', '비료를 보통 요구함'),\n",
       "  ('물주기-봄', '토양 표면이 말랐을때 충분히 관수함'),\n",
       "  ('물주기-여름', '토양 표면이 말랐을때 충분히 관수함'),\n",
       "  ('물주기-가을', '토양 표면이 말랐을때 충분히 관수함'),\n",
       "  ('물주기-겨울', '화분 흙 대부분 말랐을때 충분히 관수함'),\n",
       "  ('병충해', '응애,깍지벌레,온실가루이')],\n",
       " [('식물이름', '브리세아'),\n",
       "  ('분류', '잎&꽃보기식물'),\n",
       "  ('생육형태', '로제트형'),\n",
       "  ('생장높이', '60'),\n",
       "  ('생장너비', '30'),\n",
       "  ('실내정원구성', '하층목'),\n",
       "  ('생태형', '일반형'),\n",
       "  ('잎무늬', '줄무늬,기타 (무늬없음 등)'),\n",
       "  ('잎색', '녹색, 연두색,흰색, 크림색'),\n",
       "  ('꽃피는계절', '봄,여름'),\n",
       "  ('꽃색', '보라색,분홍색,흰색'),\n",
       "  ('향기', '거의 없음'),\n",
       "  ('번식방법', '분주'),\n",
       "  ('관리수준', '초보자'),\n",
       "  ('관리요구도', '필요함'),\n",
       "  ('광요구도', '중간 광도(800~1,500 Lux),높은 광도(1,500~10,000 Lux)'),\n",
       "  ('배치장소', '거실 창측 (실내깊이 150~300cm)발코니 내측 (실내깊이 50~150cm)발코니 창측 (실내깊이 0~50cm)'),\n",
       "  ('생장속도', '빠름'),\n",
       "  ('생육적온', '21~25℃'),\n",
       "  ('겨울최저온도', '13℃ 이상'),\n",
       "  ('습도', '40 ~ 70%'),\n",
       "  ('비료', '비료를 보통 요구함'),\n",
       "  ('물주기-봄', '흙을 촉촉하게 유지함(물에 잠기지 않도록 주의)'),\n",
       "  ('물주기-여름', '흙을 촉촉하게 유지함(물에 잠기지 않도록 주의)'),\n",
       "  ('물주기-가을', '흙을 촉촉하게 유지함(물에 잠기지 않도록 주의)'),\n",
       "  ('물주기-겨울', '토양 표면이 말랐을때 충분히 관수함'),\n",
       "  ('병충해', '응애,깍지벌레')],\n",
       " [('식물이름', '비젯티접란'),\n",
       "  ('분류', '잎보기식물'),\n",
       "  ('생육형태', '풀모양,로제트형'),\n",
       "  ('생장높이', '40'),\n",
       "  ('생장너비', '40'),\n",
       "  ('실내정원구성', '하층목,지피식물'),\n",
       "  ('생태형', '일반형,수경형'),\n",
       "  ('잎무늬', '줄무늬'),\n",
       "  ('잎색', '녹색, 연두색,흰색, 크림색'),\n",
       "  ('향기', '약함'),\n",
       "  ('독성', 'N/A'),\n",
       "  ('번식방법', '분주'),\n",
       "  ('관리요구도', '보통 (약간 잘 견딤)'),\n",
       "  ('광요구도', '낮은 광도(300~800 Lux),중간 광도(800~1,500 Lux),높은 광도(1,500~10,000 Lux)'),\n",
       "  ('배치장소', '거실 창측 (실내깊이 150~300cm)발코니 내측 (실내깊이 50~150cm)발코니 창측 (실내깊이 0~50cm)'),\n",
       "  ('생육적온', '21~25℃'),\n",
       "  ('겨울최저온도', '10℃'),\n",
       "  ('습도', '40 ~ 70%'),\n",
       "  ('비료', '비료를 보통 요구함'),\n",
       "  ('물주기-봄', '토양 표면이 말랐을때 충분히 관수함'),\n",
       "  ('물주기-여름', '토양 표면이 말랐을때 충분히 관수함'),\n",
       "  ('물주기-가을', '토양 표면이 말랐을때 충분히 관수함'),\n",
       "  ('물주기-겨울', '화분 흙 대부분 말랐을때 충분히 관수함'),\n",
       "  ('병충해', '응애,온실가루이')],\n",
       " [('식물이름', '비타툼접란'),\n",
       "  ('분류', '잎보기식물'),\n",
       "  ('생육형태', '풀모양,로제트형'),\n",
       "  ('생장높이', '40'),\n",
       "  ('생장너비', '40'),\n",
       "  ('실내정원구성', '하층목,지피식물'),\n",
       "  ('생태형', '일반형,수경형'),\n",
       "  ('잎무늬', '줄무늬'),\n",
       "  ('잎색', '녹색, 연두색,흰색, 크림색'),\n",
       "  ('꽃색', '흰색'),\n",
       "  ('향기', '약함'),\n",
       "  ('독성', 'Unknown'),\n",
       "  ('번식방법', '분주'),\n",
       "  ('관리요구도', '보통 (약간 잘 견딤)'),\n",
       "  ('광요구도', '낮은 광도(300~800 Lux),중간 광도(800~1,500 Lux),높은 광도(1,500~10,000 Lux)'),\n",
       "  ('배치장소', '거실 창측 (실내깊이 150~300cm)발코니 내측 (실내깊이 50~150cm)발코니 창측 (실내깊이 0~50cm)'),\n",
       "  ('생육적온', '21~25℃'),\n",
       "  ('겨울최저온도', '7℃'),\n",
       "  ('습도', '40% 미만'),\n",
       "  ('비료', '비료를 보통 요구함'),\n",
       "  ('토양', '포름알데히드'),\n",
       "  ('물주기-봄', '토양 표면이 말랐을때 충분히 관수함'),\n",
       "  ('물주기-여름', '토양 표면이 말랐을때 충분히 관수함'),\n",
       "  ('물주기-가을', '토양 표면이 말랐을때 충분히 관수함'),\n",
       "  ('물주기-겨울', '화분 흙 대부분 말랐을때 충분히 관수함'),\n",
       "  ('병충해', '응애,온실가루이'),\n",
       "  ('병충해관리', '온실가루이, 개각충, 응애, 진딧물')],\n",
       " [('식물이름', '산세베리아'),\n",
       "  ('분류', '잎보기식물'),\n",
       "  ('생육형태', '다육형'),\n",
       "  ('생장높이', '70'),\n",
       "  ('생장너비', '30'),\n",
       "  ('실내정원구성', '중층목,하층목'),\n",
       "  ('생태형', '건조형'),\n",
       "  ('잎무늬', '줄무늬,기타 (무늬없음 등)'),\n",
       "  ('잎색', '녹색, 연두색,금색, 노란색,흰색, 크림색'),\n",
       "  ('향기', '약함'),\n",
       "  ('번식방법', '삽목,분주'),\n",
       "  ('관리수준', '초보자'),\n",
       "  ('관리요구도', '낮음 (잘 견딤)'),\n",
       "  ('광요구도', '낮은 광도(300~800 Lux),중간 광도(800~1,500 Lux),높은 광도(1,500~10,000 Lux)'),\n",
       "  ('배치장소',\n",
       "   '실내 어두운 곳 (실내깊이 500 이상cm)거실 내측 (실내깊이 300~500cm)거실 창측 (실내깊이 150~300cm)발코니 내측 (실내깊이 50~150cm)발코니 창측 (실내깊이 0~50cm)'),\n",
       "  ('생장속도', '빠름'),\n",
       "  ('생육적온', '21~25℃'),\n",
       "  ('겨울최저온도', '13℃ 이상'),\n",
       "  ('습도', '40 ~ 70%'),\n",
       "  ('비료', '비료를 거의 요구하지않음'),\n",
       "  ('물주기-봄', '토양 표면이 말랐을때 충분히 관수함'),\n",
       "  ('물주기-여름', '토양 표면이 말랐을때 충분히 관수함'),\n",
       "  ('물주기-가을', '토양 표면이 말랐을때 충분히 관수함'),\n",
       "  ('물주기-겨울', '화분 흙 대부분 말랐을때 충분히 관수함'),\n",
       "  ('병충해', '응애,깍지벌레,총채벌레,개각충')],\n",
       " [('식물이름', \"산세베리아 '골든 하니'\"),\n",
       "  ('분류', '잎보기식물'),\n",
       "  ('생육형태', '다육형'),\n",
       "  ('생장높이', '25'),\n",
       "  ('생장너비', '20'),\n",
       "  ('실내정원구성', '하층목'),\n",
       "  ('생태형', '건조형'),\n",
       "  ('잎무늬', '줄무늬'),\n",
       "  ('잎색', '녹색, 연두색,흰색, 크림색'),\n",
       "  ('향기', '거의 없음'),\n",
       "  ('번식방법', '분주'),\n",
       "  ('관리수준', '초보자'),\n",
       "  ('관리요구도', '낮음 (잘 견딤)'),\n",
       "  ('광요구도', '낮은 광도(300~800 Lux),중간 광도(800~1,500 Lux),높은 광도(1,500~10,000 Lux)'),\n",
       "  ('배치장소',\n",
       "   '실내 어두운 곳 (실내깊이 500 이상cm)거실 내측 (실내깊이 300~500cm)거실 창측 (실내깊이 150~300cm)발코니 내측 (실내깊이 50~150cm)발코니 창측 (실내깊이 0~50cm)'),\n",
       "  ('생장속도', '느림'),\n",
       "  ('생육적온', '21~25℃'),\n",
       "  ('겨울최저온도', '13℃ 이상'),\n",
       "  ('습도', '40 ~ 70%'),\n",
       "  ('비료', '비료를 거의 요구하지않음'),\n",
       "  ('물주기-봄', '토양 표면이 말랐을때 충분히 관수함'),\n",
       "  ('물주기-여름', '토양 표면이 말랐을때 충분히 관수함'),\n",
       "  ('물주기-가을', '토양 표면이 말랐을때 충분히 관수함'),\n",
       "  ('물주기-겨울', '화분 흙 대부분 말랐을때 충분히 관수함'),\n",
       "  ('병충해', '응애,깍지벌레')],\n",
       " [('식물이름', '산호수'),\n",
       "  ('분류', '잎&꽃보기식물,열매보기식물'),\n",
       "  ('생육형태', '관목형,덩굴성'),\n",
       "  ('생장높이', '30'),\n",
       "  ('생장너비', '30'),\n",
       "  ('실내정원구성', '하층목'),\n",
       "  ('생태형', '일반형'),\n",
       "  ('잎무늬', '기타 (무늬없음 등)'),\n",
       "  ('잎색', '녹색, 연두색'),\n",
       "  ('꽃피는계절', '봄,여름'),\n",
       "  ('꽃색', '흰색'),\n",
       "  ('열매맺는계절', '여름,가을'),\n",
       "  ('열매색', '빨강색'),\n",
       "  ('향기', '약함'),\n",
       "  ('번식방법', '파종,삽목,분주'),\n",
       "  ('관리수준', '초보자'),\n",
       "  ('관리요구도', '낮음 (잘 견딤)'),\n",
       "  ('광요구도', '낮은 광도(300~800 Lux),중간 광도(800~1,500 Lux),높은 광도(1,500~10,000 Lux)'),\n",
       "  ('배치장소',\n",
       "   '거실 내측 (실내깊이 300~500cm)거실 창측 (실내깊이 150~300cm)발코니 내측 (실내깊이 50~150cm)'),\n",
       "  ('생장속도', '빠름'),\n",
       "  ('생육적온', '16~20℃'),\n",
       "  ('겨울최저온도', '5℃'),\n",
       "  ('습도', '40 ~ 70%'),\n",
       "  ('비료', '비료를 보통 요구함'),\n",
       "  ('물주기-봄', '토양 표면이 말랐을때 충분히 관수함'),\n",
       "  ('물주기-여름', '토양 표면이 말랐을때 충분히 관수함'),\n",
       "  ('물주기-가을', '토양 표면이 말랐을때 충분히 관수함'),\n",
       "  ('물주기-겨울', '화분 흙 대부분 말랐을때 충분히 관수함'),\n",
       "  ('병충해', '응애,깍지벌레'),\n",
       "  ('특별관리',\n",
       "   '-추위에 약해 중부이북에서는 바깥에서 월동이 어렵다. -반 그늘진 곳을 좋아하며 어느 정도 습기유지가 중요하다. -씨앗을 12-4월에 따서 과육을 제거하고 뿌리거나 봄 또는 여름에 줄기를 삽목하면 잘 번식한다.')],\n",
       " [('식물이름', '삼색데코라고무나무'),\n",
       "  ('분류', '잎보기식물'),\n",
       "  ('생육형태', '직립형,관목형'),\n",
       "  ('생장높이', '150'),\n",
       "  ('생장너비', '100'),\n",
       "  ('실내정원구성', '상층목,중층목'),\n",
       "  ('생태형', '일반형'),\n",
       "  ('잎무늬', '점무늬,잎 가장자리 무늬'),\n",
       "  ('잎색', '녹색, 연두색,흰색, 크림색,빨강, 분홍, 자주색,여러색 혼합'),\n",
       "  ('향기', '거의 없음'),\n",
       "  ('번식방법', '삽목'),\n",
       "  ('관리수준', '초보자'),\n",
       "  ('관리요구도', '보통 (약간 잘 견딤)'),\n",
       "  ('광요구도', '중간 광도(800~1,500 Lux),높은 광도(1,500~10,000 Lux)'),\n",
       "  ('배치장소', '거실 창측 (실내깊이 150~300cm)발코니 내측 (실내깊이 50~150cm)발코니 창측 (실내깊이 0~50cm)'),\n",
       "  ('생장속도', '느림'),\n",
       "  ('생육적온', '21~25℃'),\n",
       "  ('겨울최저온도', '13℃ 이상'),\n",
       "  ('습도', '40 ~ 70%'),\n",
       "  ('비료', '비료를 보통 요구함'),\n",
       "  ('물주기-봄', '토양 표면이 말랐을때 충분히 관수함'),\n",
       "  ('물주기-여름', '토양 표면이 말랐을때 충분히 관수함'),\n",
       "  ('물주기-가을', '토양 표면이 말랐을때 충분히 관수함'),\n",
       "  ('물주기-겨울', '화분 흙 대부분 말랐을때 충분히 관수함'),\n",
       "  ('병충해', '응애,깍지벌레')],\n",
       " [('식물이름', \"상록넉줄고사리 '후마타'\"),\n",
       "  ('분류', '잎보기식물'),\n",
       "  ('생육형태', '풀모양'),\n",
       "  ('생장높이', '25'),\n",
       "  ('생장너비', '30'),\n",
       "  ('실내정원구성', '하층목'),\n",
       "  ('생태형', '일반형'),\n",
       "  ('잎무늬', '기타 (무늬없음 등)'),\n",
       "  ('잎색', '녹색, 연두색'),\n",
       "  ('향기', '거의 없음'),\n",
       "  ('번식방법', '삽목,분주'),\n",
       "  ('관리수준', '초보자'),\n",
       "  ('관리요구도', '보통 (약간 잘 견딤)'),\n",
       "  ('광요구도', '낮은 광도(300~800 Lux),중간 광도(800~1,500 Lux),높은 광도(1,500~10,000 Lux)'),\n",
       "  ('배치장소',\n",
       "   '실내 어두운 곳 (실내깊이 500 이상cm)거실 내측 (실내깊이 300~500cm)거실 창측 (실내깊이 150~300cm)발코니 내측 (실내깊이 50~150cm)발코니 창측 (실내깊이 0~50cm)'),\n",
       "  ('생장속도', '빠름'),\n",
       "  ('생육적온', '16~20℃'),\n",
       "  ('겨울최저온도', '5℃'),\n",
       "  ('습도', '70% 이상'),\n",
       "  ('비료', '비료를 보통 요구함'),\n",
       "  ('토양', '배수가 잘되는 토양이 좋다.'),\n",
       "  ('물주기-봄', '흙을 촉촉하게 유지함(물에 잠기지 않도록 주의)'),\n",
       "  ('물주기-여름', '흙을 촉촉하게 유지함(물에 잠기지 않도록 주의)'),\n",
       "  ('물주기-가을', '흙을 촉촉하게 유지함(물에 잠기지 않도록 주의)'),\n",
       "  ('물주기-겨울', '토양 표면이 말랐을때 충분히 관수함'),\n",
       "  ('병충해', '응애,온실가루이'),\n",
       "  ('병충해관리',\n",
       "   '습기가 많아서 민달팽이에 침해되기 쉬우므로 민달팽이가 붙으면 약을 뿌려 주도록 하고 과습에 의한 곰팡이병도 문제가 된다. 또, 건조할 때는 깍지벌레, 온실가루이, 가루깍지벌레 등이 발생한다.')],\n",
       " [('식물이름', '새우란'),\n",
       "  ('분류', '꽃보기식물'),\n",
       "  ('생육형태', '로제트형'),\n",
       "  ('생장높이', '30'),\n",
       "  ('생장너비', '30'),\n",
       "  ('실내정원구성', '하층목'),\n",
       "  ('생태형', '일반형'),\n",
       "  ('잎무늬', '기타 (무늬없음 등)'),\n",
       "  ('잎색', '녹색, 연두색'),\n",
       "  ('꽃피는계절', '봄,여름'),\n",
       "  ('꽃색', '보라색,분홍색,노랑색,흰색,혼합색'),\n",
       "  ('향기', '중간'),\n",
       "  ('번식방법', '분주'),\n",
       "  ('관리수준', '경험자'),\n",
       "  ('관리요구도', '필요함'),\n",
       "  ('광요구도', '중간 광도(800~1,500 Lux)'),\n",
       "  ('배치장소', '발코니 내측 (실내깊이 50~150cm)발코니 창측 (실내깊이 0~50cm)'),\n",
       "  ('생장속도', '느림'),\n",
       "  ('생육적온', '21~25℃'),\n",
       "  ('겨울최저온도', '7℃'),\n",
       "  ('습도', '40 ~ 70%'),\n",
       "  ('비료', '꽃이 진 후 시비'),\n",
       "  ('물주기-봄', '토양 표면이 말랐을때 충분히 관수함'),\n",
       "  ('물주기-여름', '토양 표면이 말랐을때 충분히 관수함'),\n",
       "  ('물주기-가을', '토양 표면이 말랐을때 충분히 관수함'),\n",
       "  ('물주기-겨울', '화분 흙 대부분 말랐을때 충분히 관수함'),\n",
       "  ('병충해', '응애,온실가루이')],\n",
       " [('식물이름', '석창포'),\n",
       "  ('분류', '잎보기식물'),\n",
       "  ('생육형태', '풀모양,로제트형'),\n",
       "  ('생장높이', '40'),\n",
       "  ('생장너비', '30'),\n",
       "  ('실내정원구성', '하층목,지피식물'),\n",
       "  ('생태형', '일반형,수경형'),\n",
       "  ('잎무늬', '기타 (무늬없음 등)'),\n",
       "  ('잎색', '녹색, 연두색'),\n",
       "  ('향기', '중간'),\n",
       "  ('번식방법', '분주'),\n",
       "  ('관리수준', '초보자'),\n",
       "  ('관리요구도', '낮음 (잘 견딤)'),\n",
       "  ('광요구도', '중간 광도(800~1,500 Lux),높은 광도(1,500~10,000 Lux)'),\n",
       "  ('배치장소', '거실 창측 (실내깊이 150~300cm)발코니 내측 (실내깊이 50~150cm)발코니 창측 (실내깊이 0~50cm)'),\n",
       "  ('생장속도', '느림'),\n",
       "  ('생육적온', '16~20℃'),\n",
       "  ('겨울최저온도', '0℃ 이하'),\n",
       "  ('습도', '40 ~ 70%'),\n",
       "  ('비료', '비료를 보통 요구함'),\n",
       "  ('물주기-봄', '흙을 촉촉하게 유지함(물에 잠기지 않도록 주의)'),\n",
       "  ('물주기-여름', '흙을 촉촉하게 유지함(물에 잠기지 않도록 주의)'),\n",
       "  ('물주기-가을', '흙을 촉촉하게 유지함(물에 잠기지 않도록 주의)'),\n",
       "  ('물주기-겨울', '토양 표면이 말랐을때 충분히 관수함'),\n",
       "  ('병충해', '응애')],\n",
       " [('식물이름', '세네시오 라디칸스'),\n",
       "  ('분류', '잎보기식물'),\n",
       "  ('생육형태', '덩굴성,다육형'),\n",
       "  ('생장높이', '25'),\n",
       "  ('생장너비', '30'),\n",
       "  ('실내정원구성', '하층목,지피식물'),\n",
       "  ('생태형', '일반형,건조형'),\n",
       "  ('잎무늬', '기타 (무늬없음 등)'),\n",
       "  ('잎색', '녹색, 연두색'),\n",
       "  ('꽃색', '흰색'),\n",
       "  ('향기', '약함'),\n",
       "  ('번식방법', '삽목,분주'),\n",
       "  ('관리수준', '초보자'),\n",
       "  ('관리요구도', '필요함'),\n",
       "  ('광요구도', '중간 광도(800~1,500 Lux),높은 광도(1,500~10,000 Lux)'),\n",
       "  ('배치장소', '거실 창측 (실내깊이 150~300cm)발코니 내측 (실내깊이 50~150cm)발코니 창측 (실내깊이 0~50cm)'),\n",
       "  ('생장속도', '빠름'),\n",
       "  ('생육적온', '21~25℃'),\n",
       "  ('겨울최저온도', '13℃ 이상'),\n",
       "  ('습도', '40% 미만'),\n",
       "  ('비료', '비료를 보통 요구함'),\n",
       "  ('물주기-봄', '토양 표면이 말랐을때 충분히 관수함'),\n",
       "  ('물주기-여름', '토양 표면이 말랐을때 충분히 관수함'),\n",
       "  ('물주기-가을', '토양 표면이 말랐을때 충분히 관수함'),\n",
       "  ('물주기-겨울', '토양 표면이 말랐을때 충분히 관수함'),\n",
       "  ('병충해', '진딧물,응애,깍지벌레'),\n",
       "  ('특별관리', '육질이 많아 잘 부러짐, 서늘한 곳을 좋아한다.')],\n",
       " [('식물이름', '세이프릿지 야자'),\n",
       "  ('분류', '잎보기식물'),\n",
       "  ('생육형태', '관목형'),\n",
       "  ('생장높이', '300'),\n",
       "  ('생장너비', '100'),\n",
       "  ('실내정원구성', '상층목,중층목'),\n",
       "  ('생태형', '일반형'),\n",
       "  ('잎무늬', '기타 (무늬없음 등)'),\n",
       "  ('잎색', '녹색, 연두색'),\n",
       "  ('열매색', '검정색'),\n",
       "  ('향기', '약함'),\n",
       "  ('독성', '줄기에 검은색의 열매가 맺히지만 독성이 있으므로 먹지 않는 것이 좋다.'),\n",
       "  ('번식방법', '파종,분주'),\n",
       "  ('관리요구도', '필요함'),\n",
       "  ('광요구도', '중간 광도(800~1,500 Lux),높은 광도(1,500~10,000 Lux)'),\n",
       "  ('배치장소', '발코니 내측 (실내깊이 50~150cm)발코니 창측 (실내깊이 0~50cm)'),\n",
       "  ('생육적온', '21~25℃'),\n",
       "  ('겨울최저온도', '13℃ 이상'),\n",
       "  ('습도', '40 ~ 70%'),\n",
       "  ('비료', '비료를 보통 요구함'),\n",
       "  ('물주기-봄', '토양 표면이 말랐을때 충분히 관수함'),\n",
       "  ('물주기-여름', '토양 표면이 말랐을때 충분히 관수함'),\n",
       "  ('물주기-가을', '토양 표면이 말랐을때 충분히 관수함'),\n",
       "  ('물주기-겨울', '토양 표면이 말랐을때 충분히 관수함'),\n",
       "  ('병충해', '응애,깍지벌레')],\n",
       " [('식물이름', '셀라기넬라'),\n",
       "  ('분류', '잎보기식물'),\n",
       "  ('생육형태', '풀모양'),\n",
       "  ('생장높이', '25'),\n",
       "  ('생장너비', '30'),\n",
       "  ('실내정원구성', '하층목,지피식물'),\n",
       "  ('생태형', '일반형'),\n",
       "  ('잎무늬', '기타 (무늬없음 등)'),\n",
       "  ('잎색', '녹색, 연두색'),\n",
       "  ('번식방법', '삽목,분주'),\n",
       "  ('관리요구도', '필요함'),\n",
       "  ('광요구도', '중간 광도(800~1,500 Lux),높은 광도(1,500~10,000 Lux)'),\n",
       "  ('배치장소', '거실 창측 (실내깊이 150~300cm)발코니 내측 (실내깊이 50~150cm)발코니 창측 (실내깊이 0~50cm)'),\n",
       "  ('생장속도', '보통'),\n",
       "  ('생육적온', '21~25℃'),\n",
       "  ('겨울최저온도', '13℃ 이상'),\n",
       "  ('습도', '70% 이상'),\n",
       "  ('비료', '비료를 보통 요구함 (2회/년, 4월, 7월)'),\n",
       "  ('물주기-봄', '흙을 촉촉하게 유지함(물에 잠기지 않도록 주의)'),\n",
       "  ('물주기-여름', '흙을 촉촉하게 유지함(물에 잠기지 않도록 주의)'),\n",
       "  ('물주기-가을', '흙을 촉촉하게 유지함(물에 잠기지 않도록 주의)'),\n",
       "  ('물주기-겨울', '토양 표면이 말랐을때 충분히 관수함'),\n",
       "  ('병충해', '응애,깍지벌레'),\n",
       "  ('병충해관리', '깍지벌레, 응애')],\n",
       " [('식물이름', '소철'),\n",
       "  ('분류', '잎보기식물'),\n",
       "  ('생육형태', '직립형'),\n",
       "  ('생장높이', '150'),\n",
       "  ('생장너비', '100'),\n",
       "  ('실내정원구성', '상층목,중층목'),\n",
       "  ('생태형', '건조형'),\n",
       "  ('잎무늬', '기타 (무늬없음 등)'),\n",
       "  ('잎색', '녹색, 연두색'),\n",
       "  ('꽃색', '노랑색,기타'),\n",
       "  ('열매맺는계절', '가을'),\n",
       "  ('향기', '거의 없음'),\n",
       "  ('번식방법', '파종,분주,기타'),\n",
       "  ('관리수준', '초보자'),\n",
       "  ('관리요구도', '낮음 (잘 견딤)'),\n",
       "  ('광요구도', '중간 광도(800~1,500 Lux),높은 광도(1,500~10,000 Lux)'),\n",
       "  ('배치장소',\n",
       "   '거실 내측 (실내깊이 300~500cm)거실 창측 (실내깊이 150~300cm)발코니 내측 (실내깊이 50~150cm)발코니 창측 (실내깊이 0~50cm)'),\n",
       "  ('생육적온', '21~25℃'),\n",
       "  ('겨울최저온도', '5℃'),\n",
       "  ('습도', '40 ~ 70%'),\n",
       "  ('비료', '비료를 보통 요구함'),\n",
       "  ('물주기-봄', '토양 표면이 말랐을때 충분히 관수함'),\n",
       "  ('물주기-여름', '토양 표면이 말랐을때 충분히 관수함'),\n",
       "  ('물주기-가을', '토양 표면이 말랐을때 충분히 관수함'),\n",
       "  ('물주기-겨울', '화분 흙 대부분 말랐을때 충분히 관수함'),\n",
       "  ('병충해', '응애,깍지벌레'),\n",
       "  ('병충해관리', '개각충, 응애'),\n",
       "  ('특별관리',\n",
       "   '뜰에서 재배가능한 제주도를 제외한 나머지 지역에서는 온실이나 집안에서 가꾸는 관상수이다. 꽃은 단성화이며 노란빛을 띤 색으로 6~8월에 암수딴그루로 핀다. 수꽃차례는 원줄기 끝에 원기둥 모양으로 달리며, 길이 50~60cm, 지름 5~8cm이고, 암꽃차례는 원줄기에 끝에 둥글게 모여 달린다. 열매는 구과로 10월에 익는데 관상용, 식용, 약용으로 쓴다.  ')],\n",
       " [('식물이름', '소피아 고무나무'),\n",
       "  ('분류', '잎보기식물'),\n",
       "  ('생육형태', '직립형,관목형'),\n",
       "  ('생장높이', '150'),\n",
       "  ('생장너비', '100'),\n",
       "  ('실내정원구성', '상층목,중층목'),\n",
       "  ('생태형', '일반형'),\n",
       "  ('잎무늬', '기타 (무늬없음 등)'),\n",
       "  ('잎색', '녹색, 연두색'),\n",
       "  ('향기', '거의 없음'),\n",
       "  ('번식방법', '삽목,취목'),\n",
       "  ('관리요구도', '필요함'),\n",
       "  ('광요구도', '낮은 광도(300~800 Lux),중간 광도(800~1,500 Lux),높은 광도(1,500~10,000 Lux)'),\n",
       "  ('배치장소',\n",
       "   '거실 내측 (실내깊이 300~500cm)거실 창측 (실내깊이 150~300cm)발코니 내측 (실내깊이 50~150cm)발코니 창측 (실내깊이 0~50cm)'),\n",
       "  ('생장속도', '보통'),\n",
       "  ('겨울최저온도', '13℃ 이상'),\n",
       "  ('습도', '40 ~ 70%'),\n",
       "  ('비료', '비료를 보통 요구함'),\n",
       "  ('물주기-봄', '토양 표면이 말랐을때 충분히 관수함'),\n",
       "  ('물주기-여름', '토양 표면이 말랐을때 충분히 관수함'),\n",
       "  ('물주기-가을', '토양 표면이 말랐을때 충분히 관수함'),\n",
       "  ('물주기-겨울', '화분 흙 대부분 말랐을때 충분히 관수함'),\n",
       "  ('병충해', '응애,깍지벌레')],\n",
       " [('식물이름', '솔레이롤리아'),\n",
       "  ('분류', '잎보기식물'),\n",
       "  ('생육형태', '풀모양'),\n",
       "  ('생장높이', '5'),\n",
       "  ('생장너비', '30'),\n",
       "  ('실내정원구성', '지피식물'),\n",
       "  ('생태형', '일반형'),\n",
       "  ('잎무늬', '기타 (무늬없음 등)'),\n",
       "  ('잎색', '녹색, 연두색'),\n",
       "  ('번식방법', '삽목,분주'),\n",
       "  ('관리요구도', '낮음 (잘 견딤)'),\n",
       "  ('광요구도', '중간 광도(800~1,500 Lux),높은 광도(1,500~10,000 Lux)'),\n",
       "  ('배치장소', '거실 창측 (실내깊이 150~300cm)발코니 내측 (실내깊이 50~150cm)발코니 창측 (실내깊이 0~50cm)'),\n",
       "  ('생장속도', '보통'),\n",
       "  ('생육적온', '16~20℃'),\n",
       "  ('겨울최저온도', '5℃'),\n",
       "  ('습도', '40 ~ 70%'),\n",
       "  ('비료', '비료를 보통 요구함'),\n",
       "  ('물주기-봄', '화분 흙 대부분 말랐을때 충분히 관수함'),\n",
       "  ('물주기-여름', '화분 흙 대부분 말랐을때 충분히 관수함'),\n",
       "  ('물주기-가을', '화분 흙 대부분 말랐을때 충분히 관수함'),\n",
       "  ('물주기-겨울', '화분 흙 대부분 말랐을때 충분히 관수함'),\n",
       "  ('병충해', '응애,온실가루이')],\n",
       " [('식물이름', '수박페페로미아'),\n",
       "  ('분류', '잎보기식물'),\n",
       "  ('생육형태', '풀모양'),\n",
       "  ('생장높이', '20'),\n",
       "  ('생장너비', '20'),\n",
       "  ('실내정원구성', '지피식물'),\n",
       "  ('생태형', '일반형'),\n",
       "  ('잎무늬', '줄무늬'),\n",
       "  ('잎색', '녹색, 연두색,흰색, 크림색'),\n",
       "  ('향기', '거의 없음'),\n",
       "  ('번식방법', '삽목'),\n",
       "  ('관리수준', '경험자'),\n",
       "  ('관리요구도', '필요함'),\n",
       "  ('광요구도', '중간 광도(800~1,500 Lux),높은 광도(1,500~10,000 Lux)'),\n",
       "  ('배치장소', '거실 창측 (실내깊이 150~300cm)발코니 내측 (실내깊이 50~150cm)발코니 창측 (실내깊이 0~50cm)'),\n",
       "  ('생장속도', '보통'),\n",
       "  ('생육적온', '21~25℃'),\n",
       "  ('겨울최저온도', '13℃ 이상'),\n",
       "  ('습도', '40 ~ 70%'),\n",
       "  ('비료', '비료를 보통 요구함'),\n",
       "  ('물주기-봄', '토양 표면이 말랐을때 충분히 관수함'),\n",
       "  ('물주기-여름', '토양 표면이 말랐을때 충분히 관수함'),\n",
       "  ('물주기-가을', '토양 표면이 말랐을때 충분히 관수함'),\n",
       "  ('물주기-겨울', '화분 흙 대부분 말랐을때 충분히 관수함'),\n",
       "  ('병충해', '응애,깍지벌레')],\n",
       " [('식물이름', '수박필레아'),\n",
       "  ('분류', '잎보기식물'),\n",
       "  ('생육형태', '관목형,풀모양'),\n",
       "  ('생장높이', '40'),\n",
       "  ('생장너비', '30'),\n",
       "  ('실내정원구성', '하층목'),\n",
       "  ('생태형', '일반형'),\n",
       "  ('잎무늬', '점무늬'),\n",
       "  ('잎색', '녹색, 연두색,은색, 회색'),\n",
       "  ('향기', '거의 없음'),\n",
       "  ('번식방법', '삽목,분주'),\n",
       "  ('관리요구도', '특별 관리 요구'),\n",
       "  ('광요구도', '중간 광도(800~1,500 Lux),높은 광도(1,500~10,000 Lux)'),\n",
       "  ('배치장소', '거실 창측 (실내깊이 150~300cm)발코니 내측 (실내깊이 50~150cm)발코니 창측 (실내깊이 0~50cm)'),\n",
       "  ('생육적온', '21~25℃'),\n",
       "  ('겨울최저온도', '13℃ 이상'),\n",
       "  ('습도', '40 ~ 70%'),\n",
       "  ('비료', '비료를 보통 요구함'),\n",
       "  ('물주기-봄', '토양 표면이 말랐을때 충분히 관수함'),\n",
       "  ('물주기-여름', '토양 표면이 말랐을때 충분히 관수함'),\n",
       "  ('물주기-가을', '토양 표면이 말랐을때 충분히 관수함'),\n",
       "  ('물주기-겨울', '화분 흙 대부분 말랐을때 충분히 관수함'),\n",
       "  ('병충해', '응애,깍지벌레,온실가루이'),\n",
       "  ('병충해관리', '온실가루이, 응애'),\n",
       "  ('특별관리', '열대식물이지만 10℃이상에서 월동하여 온실에서 겨울을   나고 그늘이나 직사광선에서도 잘 자란다.')],\n",
       " [('식물이름', '수염 틸란드시아'),\n",
       "  ('분류', '잎보기식물'),\n",
       "  ('생육형태', '덩굴성'),\n",
       "  ('생장높이', '50'),\n",
       "  ('생장너비', '25'),\n",
       "  ('실내정원구성', '상층목,중층목'),\n",
       "  ('생태형', '일반형'),\n",
       "  ('잎무늬', '기타 (무늬없음 등)'),\n",
       "  ('잎색', '녹색, 연두색,은색, 회색,기타'),\n",
       "  ('향기', '거의 없음'),\n",
       "  ('번식방법', '삽목,기타'),\n",
       "  ('관리수준', '경험자'),\n",
       "  ('관리요구도', '필요함'),\n",
       "  ('광요구도', '중간 광도(800~1,500 Lux),높은 광도(1,500~10,000 Lux)'),\n",
       "  ('배치장소',\n",
       "   '거실 내측 (실내깊이 300~500cm)거실 창측 (실내깊이 150~300cm)발코니 내측 (실내깊이 50~150cm)발코니 창측 (실내깊이 0~50cm)'),\n",
       "  ('생장속도', '느림'),\n",
       "  ('생육적온', '21~25℃'),\n",
       "  ('겨울최저온도', '13℃ 이상'),\n",
       "  ('습도', '70% 이상'),\n",
       "  ('비료', '비료를 거의 요구하지않음'),\n",
       "  ('특별관리', '뿌리가 없이 공중에서 습도와 영양분을 흡수하므로 건조하지 않도록 자주 분무해 준다.')],\n",
       " [('식물이름', '숙근이베리스'),\n",
       "  ('분류', '잎&꽃보기식물'),\n",
       "  ('생육형태', '관목형'),\n",
       "  ('생장높이', '25'),\n",
       "  ('생장너비', '25'),\n",
       "  ('실내정원구성', '하층목'),\n",
       "  ('생태형', '일반형'),\n",
       "  ('잎무늬', '기타 (무늬없음 등)'),\n",
       "  ('잎색', '녹색, 연두색'),\n",
       "  ('꽃피는계절', '봄,여름'),\n",
       "  ('꽃색', '흰색'),\n",
       "  ('향기', '약함'),\n",
       "  ('번식방법', '삽목'),\n",
       "  ('관리수준', '경험자'),\n",
       "  ('관리요구도', '필요함'),\n",
       "  ('광요구도', '높은 광도(1,500~10,000 Lux)'),\n",
       "  ('배치장소', '거실 창측 (실내깊이 150~300cm)발코니 내측 (실내깊이 50~150cm)발코니 창측 (실내깊이 0~50cm)'),\n",
       "  ('생장속도', '느림'),\n",
       "  ('생육적온', '21~25℃'),\n",
       "  ('겨울최저온도', '10℃'),\n",
       "  ('습도', '40 ~ 70%'),\n",
       "  ('물주기-봄', '토양 표면이 말랐을때 충분히 관수함'),\n",
       "  ('물주기-여름', '토양 표면이 말랐을때 충분히 관수함'),\n",
       "  ('물주기-가을', '토양 표면이 말랐을때 충분히 관수함'),\n",
       "  ('물주기-겨울', '화분 흙 대부분 말랐을때 충분히 관수함'),\n",
       "  ('병충해', '진딧물,응애')],\n",
       " [('식물이름', \"쉐플레라 '홍콩'\"),\n",
       "  ('분류', '잎보기식물'),\n",
       "  ('생육형태', '직립형,관목형'),\n",
       "  ('생장높이', '150'),\n",
       "  ('생장너비', '50'),\n",
       "  ('실내정원구성', '상층목,중층목'),\n",
       "  ('생태형', '일반형'),\n",
       "  ('잎무늬', '기타 (무늬없음 등)'),\n",
       "  ('잎색', '녹색, 연두색'),\n",
       "  ('향기', '거의 없음'),\n",
       "  ('번식방법', '파종,삽목'),\n",
       "  ('관리수준', '초보자'),\n",
       "  ('관리요구도', '보통 (약간 잘 견딤)'),\n",
       "  ('광요구도', '낮은 광도(300~800 Lux),중간 광도(800~1,500 Lux),높은 광도(1,500~10,000 Lux)'),\n",
       "  ('배치장소',\n",
       "   '실내 어두운 곳 (실내깊이 500 이상cm)거실 내측 (실내깊이 300~500cm)거실 창측 (실내깊이 150~300cm)발코니 내측 (실내깊이 50~150cm)발코니 창측 (실내깊이 0~50cm)'),\n",
       "  ('생육적온', '21~25℃'),\n",
       "  ('겨울최저온도', '7℃'),\n",
       "  ('습도', '40 ~ 70%'),\n",
       "  ('비료', '비료를 보통 요구함'),\n",
       "  ('물주기-봄', '토양 표면이 말랐을때 충분히 관수함'),\n",
       "  ('물주기-여름', '토양 표면이 말랐을때 충분히 관수함'),\n",
       "  ('물주기-가을', '토양 표면이 말랐을때 충분히 관수함'),\n",
       "  ('물주기-겨울', '화분 흙 대부분 말랐을때 충분히 관수함'),\n",
       "  ('병충해', '응애,깍지벌레'),\n",
       "  ('병충해관리', '깍지벌레, 개각충, 진딧물')],\n",
       " [('식물이름', '스킨답서스'),\n",
       "  ('분류', '잎보기식물'),\n",
       "  ('생육형태', '덩굴성'),\n",
       "  ('생장높이', '20'),\n",
       "  ('생장너비', '30'),\n",
       "  ('실내정원구성', '하층목,지피식물'),\n",
       "  ('생태형', '일반형,수경형'),\n",
       "  ('잎무늬', '기타 (무늬없음 등)'),\n",
       "  ('잎색', '녹색, 연두색'),\n",
       "  ('향기', '거의 없음'),\n",
       "  ('번식방법', '삽목'),\n",
       "  ('관리요구도', '보통 (약간 잘 견딤)'),\n",
       "  ('광요구도', '낮은 광도(300~800 Lux),중간 광도(800~1,500 Lux),높은 광도(1,500~10,000 Lux)'),\n",
       "  ('배치장소',\n",
       "   '실내 어두운 곳 (실내깊이 500 이상cm)거실 내측 (실내깊이 300~500cm)거실 창측 (실내깊이 150~300cm)발코니 내측 (실내깊이 50~150cm)발코니 창측 (실내깊이 0~50cm)'),\n",
       "  ('생육적온', '21~25℃'),\n",
       "  ('겨울최저온도', '13℃ 이상'),\n",
       "  ('습도', '40 ~ 70%'),\n",
       "  ('비료', '비료를 보통 요구함'),\n",
       "  ('토양', '포름알데히드'),\n",
       "  ('물주기-봄', '토양 표면이 말랐을때 충분히 관수함'),\n",
       "  ('물주기-여름', '토양 표면이 말랐을때 충분히 관수함'),\n",
       "  ('물주기-가을', '토양 표면이 말랐을때 충분히 관수함'),\n",
       "  ('물주기-겨울', '화분 흙 대부분 말랐을때 충분히 관수함'),\n",
       "  ('병충해', '응애,깍지벌레'),\n",
       "  ('병충해관리', '깍지벌레, 총채벌레')],\n",
       " [('식물이름', '스파티필룸'),\n",
       "  ('분류', '잎&꽃보기식물'),\n",
       "  ('생육형태', '풀모양'),\n",
       "  ('생장높이', '40'),\n",
       "  ('생장너비', '30'),\n",
       "  ('실내정원구성', '중층목,하층목'),\n",
       "  ('생태형', '일반형'),\n",
       "  ('잎무늬', '기타 (무늬없음 등)'),\n",
       "  ('잎색', '녹색, 연두색'),\n",
       "  ('꽃피는계절', '봄,여름'),\n",
       "  ('꽃색', '흰색'),\n",
       "  ('향기', '거의 없음'),\n",
       "  ('독성', '약간 있음'),\n",
       "  ('번식방법', '삽목,분주'),\n",
       "  ('관리수준', '경험자'),\n",
       "  ('관리요구도', '보통 (약간 잘 견딤)'),\n",
       "  ('광요구도', '낮은 광도(300~800 Lux),중간 광도(800~1,500 Lux),높은 광도(1,500~10,000 Lux)'),\n",
       "  ('배치장소',\n",
       "   '실내 어두운 곳 (실내깊이 500 이상cm)거실 내측 (실내깊이 300~500cm)거실 창측 (실내깊이 150~300cm)발코니 내측 (실내깊이 50~150cm)발코니 창측 (실내깊이 0~50cm)'),\n",
       "  ('생육적온', '21~25℃'),\n",
       "  ('겨울최저온도', '13℃ 이상'),\n",
       "  ('습도', '40 ~ 70%'),\n",
       "  ('비료', '비료를 많이 요구함'),\n",
       "  ('물주기-봄', '토양 표면이 말랐을때 충분히 관수함'),\n",
       "  ('물주기-여름', '토양 표면이 말랐을때 충분히 관수함'),\n",
       "  ('물주기-가을', '토양 표면이 말랐을때 충분히 관수함'),\n",
       "  ('물주기-겨울', '화분 흙 대부분 말랐을때 충분히 관수함'),\n",
       "  ('병충해', '응애,깍지벌레')],\n",
       " [('식물이름', '스파티필룸 (광엽)'),\n",
       "  ('분류', '잎&꽃보기식물'),\n",
       "  ('생육형태', '풀모양'),\n",
       "  ('생장높이', '60'),\n",
       "  ('생장너비', '40'),\n",
       "  ('실내정원구성', '중층목,하층목'),\n",
       "  ('생태형', '일반형'),\n",
       "  ('잎무늬', '기타 (무늬없음 등)'),\n",
       "  ('잎색', '기타'),\n",
       "  ('꽃피는계절', '봄,여름'),\n",
       "  ('꽃색', '흰색'),\n",
       "  ('향기', '거의 없음'),\n",
       "  ('독성', '약간 있음'),\n",
       "  ('번식방법', '파종,분주'),\n",
       "  ('관리요구도', '보통 (약간 잘 견딤)'),\n",
       "  ('광요구도', '낮은 광도(300~800 Lux),중간 광도(800~1,500 Lux),높은 광도(1,500~10,000 Lux)'),\n",
       "  ('배치장소',\n",
       "   '실내 어두운 곳 (실내깊이 500 이상cm)거실 내측 (실내깊이 300~500cm)거실 창측 (실내깊이 150~300cm)발코니 내측 (실내깊이 50~150cm)발코니 창측 (실내깊이 0~50cm)'),\n",
       "  ('생육적온', '21~25℃'),\n",
       "  ('겨울최저온도', '13℃ 이상'),\n",
       "  ('습도', '40 ~ 70%'),\n",
       "  ('비료', '비료를 많이 요구함'),\n",
       "  ('물주기-봄', '토양 표면이 말랐을때 충분히 관수함'),\n",
       "  ('물주기-여름', '토양 표면이 말랐을때 충분히 관수함'),\n",
       "  ('물주기-가을', '토양 표면이 말랐을때 충분히 관수함'),\n",
       "  ('물주기-겨울', '화분 흙 대부분 말랐을때 충분히 관수함'),\n",
       "  ('병충해', '응애,깍지벌레')],\n",
       " [('식물이름', '시서스'),\n",
       "  ('분류', '잎보기식물'),\n",
       "  ('생육형태', '덩굴성'),\n",
       "  ('생장높이', '30'),\n",
       "  ('생장너비', '40'),\n",
       "  ('실내정원구성', '하층목'),\n",
       "  ('생태형', '일반형'),\n",
       "  ('잎무늬', '기타 (무늬없음 등)'),\n",
       "  ('잎색', '녹색, 연두색,흰색, 크림색'),\n",
       "  ('향기', '거의 없음'),\n",
       "  ('번식방법', '삽목'),\n",
       "  ('관리수준', '경험자'),\n",
       "  ('관리요구도', '보통 (약간 잘 견딤)'),\n",
       "  ('광요구도', '중간 광도(800~1,500 Lux),높은 광도(1,500~10,000 Lux)'),\n",
       "  ('배치장소',\n",
       "   '거실 내측 (실내깊이 300~500cm)거실 창측 (실내깊이 150~300cm)발코니 내측 (실내깊이 50~150cm)발코니 창측 (실내깊이 0~50cm)'),\n",
       "  ('생육적온', '21~25℃'),\n",
       "  ('겨울최저온도', '13℃ 이상'),\n",
       "  ('습도', '40 ~ 70%'),\n",
       "  ('비료', '비료를 보통 요구함'),\n",
       "  ('토양', '부식토'),\n",
       "  ('물주기-봄', '토양 표면이 말랐을때 충분히 관수함'),\n",
       "  ('물주기-여름', '토양 표면이 말랐을때 충분히 관수함'),\n",
       "  ('물주기-가을', '토양 표면이 말랐을때 충분히 관수함'),\n",
       "  ('물주기-겨울', '토양 표면이 말랐을때 충분히 관수함'),\n",
       "  ('병충해', '응애,깍지벌레,온실가루이')],\n",
       " [('식물이름', '시클라멘'),\n",
       "  ('분류', '잎&꽃보기식물'),\n",
       "  ('생육형태', '풀모양'),\n",
       "  ('생장높이', '30'),\n",
       "  ('생장너비', '30'),\n",
       "  ('실내정원구성', '하층목'),\n",
       "  ('생태형', '일반형'),\n",
       "  ('잎무늬', '점무늬'),\n",
       "  ('잎색', '녹색, 연두색,은색, 회색'),\n",
       "  ('꽃피는계절', '봄,겨울'),\n",
       "  ('꽃색', '보라색,분홍색,빨강색,흰색'),\n",
       "  ('향기', '중간'),\n",
       "  ('번식방법', '파종'),\n",
       "  ('관리수준', '전문가'),\n",
       "  ('관리요구도', '필요함'),\n",
       "  ('광요구도', '중간 광도(800~1,500 Lux),높은 광도(1,500~10,000 Lux)'),\n",
       "  ('배치장소', '거실 창측 (실내깊이 150~300cm)발코니 내측 (실내깊이 50~150cm)발코니 창측 (실내깊이 0~50cm)'),\n",
       "  ('생장속도', '느림'),\n",
       "  ('생육적온', '16~20℃'),\n",
       "  ('겨울최저온도', '7℃'),\n",
       "  ('습도', '40 ~ 70%'),\n",
       "  ('비료', '비료를 보통 요구함'),\n",
       "  ('물주기-봄', '토양 표면이 말랐을때 충분히 관수함'),\n",
       "  ('물주기-가을', '토양 표면이 말랐을때 충분히 관수함'),\n",
       "  ('물주기-겨울', '토양 표면이 말랐을때 충분히 관수함'),\n",
       "  ('병충해', '진딧물,응애,온실가루이')],\n",
       " [('식물이름', '심비디움'),\n",
       "  ('분류', '잎&꽃보기식물'),\n",
       "  ('생육형태', '풀모양'),\n",
       "  ('생장높이', '50'),\n",
       "  ('생장너비', '30'),\n",
       "  ('실내정원구성', '중층목'),\n",
       "  ('생태형', '건조형'),\n",
       "  ('잎무늬', '줄무늬,잎 가장자리 무늬,기타 (무늬없음 등)'),\n",
       "  ('잎색', '녹색, 연두색,흰색, 크림색'),\n",
       "  ('꽃피는계절', '겨울'),\n",
       "  ('꽃색', '분홍색,빨강색,오렌지색,노랑색,흰색,기타'),\n",
       "  ('향기', '중간'),\n",
       "  ('번식방법', '분주,기타'),\n",
       "  ('관리수준', '전문가'),\n",
       "  ('관리요구도', '필요함'),\n",
       "  ('광요구도', '중간 광도(800~1,500 Lux),높은 광도(1,500~10,000 Lux)'),\n",
       "  ('배치장소', '발코니 내측 (실내깊이 50~150cm)발코니 창측 (실내깊이 0~50cm)'),\n",
       "  ('생장속도', '보통'),\n",
       "  ('생육적온', '21~25℃'),\n",
       "  ('겨울최저온도', '10℃'),\n",
       "  ('습도', '70% 이상'),\n",
       "  ('물주기-봄', '화분 흙 대부분 말랐을때 충분히 관수함'),\n",
       "  ('물주기-여름', '토양 표면이 말랐을때 충분히 관수함'),\n",
       "  ('물주기-가을', '토양 표면이 말랐을때 충분히 관수함'),\n",
       "  ('물주기-겨울', '화분 흙 대부분 말랐을때 충분히 관수함'),\n",
       "  ('병충해', '응애,깍지벌레')],\n",
       " [('식물이름', '싱고니움'),\n",
       "  ('분류', '잎보기식물'),\n",
       "  ('생육형태', '덩굴성,풀모양'),\n",
       "  ('생장높이', '30'),\n",
       "  ('생장너비', '30'),\n",
       "  ('실내정원구성', '하층목,지피식물'),\n",
       "  ('생태형', '일반형'),\n",
       "  ('잎무늬', '줄무늬,점무늬,기타 (무늬없음 등)'),\n",
       "  ('잎색', '녹색, 연두색,흰색, 크림색,빨강, 분홍, 자주색'),\n",
       "  ('향기', '거의 없음'),\n",
       "  ('번식방법', '삽목,기타'),\n",
       "  ('관리수준', '경험자'),\n",
       "  ('관리요구도', '필요함'),\n",
       "  ('광요구도', '중간 광도(800~1,500 Lux),높은 광도(1,500~10,000 Lux)'),\n",
       "  ('배치장소', '거실 창측 (실내깊이 150~300cm)발코니 내측 (실내깊이 50~150cm)발코니 창측 (실내깊이 0~50cm)'),\n",
       "  ('생육적온', '21~25℃'),\n",
       "  ('겨울최저온도', '10℃'),\n",
       "  ('습도', '40 ~ 70%'),\n",
       "  ('비료', '비료를 보통 요구함'),\n",
       "  ('물주기-봄', '흙을 촉촉하게 유지함(물에 잠기지 않도록 주의)'),\n",
       "  ('물주기-여름', '흙을 촉촉하게 유지함(물에 잠기지 않도록 주의)'),\n",
       "  ('물주기-가을', '토양 표면이 말랐을때 충분히 관수함'),\n",
       "  ('물주기-겨울', '화분 흙 대부분 말랐을때 충분히 관수함'),\n",
       "  ('병충해', '응애,깍지벌레,온실가루이')],\n",
       " [('식물이름', '아글라오네마'),\n",
       "  ('분류', '잎보기식물'),\n",
       "  ('생육형태', '풀모양'),\n",
       "  ('생장높이', '50'),\n",
       "  ('생장너비', '30'),\n",
       "  ('실내정원구성', '중층목,하층목'),\n",
       "  ('생태형', '일반형,수경형'),\n",
       "  ('잎무늬', '줄무늬,점무늬,기타 (무늬없음 등)'),\n",
       "  ('잎색', '녹색, 연두색,은색, 회색'),\n",
       "  ('향기', '거의 없음'),\n",
       "  ('번식방법', '삽목,분주,기타'),\n",
       "  ('관리수준', '경험자'),\n",
       "  ('관리요구도', '보통 (약간 잘 견딤)'),\n",
       "  ('광요구도', '낮은 광도(300~800 Lux),중간 광도(800~1,500 Lux),높은 광도(1,500~10,000 Lux)'),\n",
       "  ('배치장소',\n",
       "   '실내 어두운 곳 (실내깊이 500 이상cm)거실 내측 (실내깊이 300~500cm)거실 창측 (실내깊이 150~300cm)발코니 내측 (실내깊이 50~150cm)발코니 창측 (실내깊이 0~50cm)'),\n",
       "  ('생장속도', '보통'),\n",
       "  ('생육적온', '21~25℃'),\n",
       "  ('겨울최저온도', '13℃ 이상'),\n",
       "  ('습도', '40 ~ 70%'),\n",
       "  ('비료', '비료를 보통 요구함'),\n",
       "  ('물주기-봄', '토양 표면이 말랐을때 충분히 관수함'),\n",
       "  ('물주기-여름', '토양 표면이 말랐을때 충분히 관수함'),\n",
       "  ('물주기-가을', '토양 표면이 말랐을때 충분히 관수함'),\n",
       "  ('물주기-겨울', '화분 흙 대부분 말랐을때 충분히 관수함'),\n",
       "  ('병충해', '응애,깍지벌레,온실가루이'),\n",
       "  ('병충해관리', '깍지벌레')],\n",
       " [('식물이름', '아데니움'),\n",
       "  ('분류', '잎&꽃보기식물,선인장다육식물'),\n",
       "  ('생육형태', '관목형,다육형'),\n",
       "  ('생장높이', '40'),\n",
       "  ('생장너비', '30'),\n",
       "  ('실내정원구성', '중층목,하층목'),\n",
       "  ('생태형', '건조형'),\n",
       "  ('잎무늬', '기타 (무늬없음 등)'),\n",
       "  ('잎색', '녹색, 연두색'),\n",
       "  ('꽃피는계절', '봄,여름'),\n",
       "  ('꽃색', '분홍색,빨강색,흰색,혼합색'),\n",
       "  ('향기', '거의 없음'),\n",
       "  ('번식방법', '파종,삽목'),\n",
       "  ('관리수준', '경험자'),\n",
       "  ('관리요구도', '보통 (약간 잘 견딤)'),\n",
       "  ('광요구도', '높은 광도(1,500~10,000 Lux)'),\n",
       "  ('배치장소', '거실 창측 (실내깊이 150~300cm)발코니 내측 (실내깊이 50~150cm)발코니 창측 (실내깊이 0~50cm)'),\n",
       "  ('생장속도', '느림'),\n",
       "  ('생육적온', '21~25℃'),\n",
       "  ('겨울최저온도', '13℃ 이상'),\n",
       "  ('습도', '40 ~ 70%'),\n",
       "  ('비료', '비료를 보통 요구함(2회/년, 4월, 7월)'),\n",
       "  ('토양', '배수 잘 됨'),\n",
       "  ('물주기-봄', '화분 흙 대부분 말랐을때 충분히 관수함'),\n",
       "  ('물주기-여름', '화분 흙 대부분 말랐을때 충분히 관수함'),\n",
       "  ('물주기-가을', '화분 흙 대부분 말랐을때 충분히 관수함'),\n",
       "  ('물주기-겨울', '화분 흙 대부분 말랐을때 충분히 관수함'),\n",
       "  ('병충해', '응애,깍지벌레,온실가루이')],\n",
       " [('식물이름', '아디안텀'),\n",
       "  ('분류', '잎보기식물'),\n",
       "  ('생육형태', '풀모양'),\n",
       "  ('생장높이', '40'),\n",
       "  ('생장너비', '30'),\n",
       "  ('실내정원구성', '하층목'),\n",
       "  ('생태형', '일반형'),\n",
       "  ('잎무늬', '기타 (무늬없음 등)'),\n",
       "  ('잎색', '녹색, 연두색'),\n",
       "  ('향기', '거의 없음'),\n",
       "  ('번식방법', '분주'),\n",
       "  ('관리수준', '경험자'),\n",
       "  ('관리요구도', '특별 관리 요구'),\n",
       "  ('광요구도', '중간 광도(800~1,500 Lux),높은 광도(1,500~10,000 Lux)'),\n",
       "  ('배치장소', '거실 창측 (실내깊이 150~300cm)발코니 내측 (실내깊이 50~150cm)발코니 창측 (실내깊이 0~50cm)'),\n",
       "  ('생육적온', '21~25℃'),\n",
       "  ('겨울최저온도', '13℃ 이상'),\n",
       "  ('습도', '40 ~ 70%'),\n",
       "  ('비료', '비료를 보통 요구함'),\n",
       "  ('물주기-봄', '토양 표면이 말랐을때 충분히 관수함'),\n",
       "  ('물주기-여름', '토양 표면이 말랐을때 충분히 관수함'),\n",
       "  ('물주기-가을', '토양 표면이 말랐을때 충분히 관수함'),\n",
       "  ('물주기-겨울', '화분 흙 대부분 말랐을때 충분히 관수함'),\n",
       "  ('병충해', '응애'),\n",
       "  ('병충해관리', '응애'),\n",
       "  ('특별관리', '실내의 습도가 어느 정도인지 측정할 수 있는 지표식물인 만큼 잎에 자주 분무하여 잎이 건조하지 않도록 한다. ')],\n",
       " [('식물이름', '아라우카리아'),\n",
       "  ('분류', '잎보기식물'),\n",
       "  ('생육형태', '직립형'),\n",
       "  ('생장높이', '150'),\n",
       "  ('생장너비', '50'),\n",
       "  ('실내정원구성', '상층목,중층목'),\n",
       "  ('생태형', '일반형'),\n",
       "  ('잎무늬', '기타 (무늬없음 등)'),\n",
       "  ('잎색', '녹색, 연두색'),\n",
       "  ('향기', '거의 없음'),\n",
       "  ('번식방법', '파종'),\n",
       "  ('관리수준', '초보자'),\n",
       "  ('관리요구도', '낮음 (잘 견딤)'),\n",
       "  ('광요구도', '중간 광도(800~1,500 Lux),높은 광도(1,500~10,000 Lux)'),\n",
       "  ('배치장소',\n",
       "   '거실 내측 (실내깊이 300~500cm)거실 창측 (실내깊이 150~300cm)발코니 내측 (실내깊이 50~150cm)발코니 창측 (실내깊이 0~50cm)'),\n",
       "  ('생육적온', '21~25℃'),\n",
       "  ('겨울최저온도', '5℃'),\n",
       "  ('습도', '40 ~ 70%'),\n",
       "  ('비료', '비료를 보통 요구함'),\n",
       "  ('물주기-봄', '토양 표면이 말랐을때 충분히 관수함'),\n",
       "  ('물주기-여름', '토양 표면이 말랐을때 충분히 관수함'),\n",
       "  ('물주기-가을', '토양 표면이 말랐을때 충분히 관수함'),\n",
       "  ('물주기-겨울', '화분 흙 대부분 말랐을때 충분히 관수함'),\n",
       "  ('병충해', '응애,깍지벌레'),\n",
       "  ('병충해관리', '개각충, 응애, 총채벌레')],\n",
       " [('식물이름', '아레카야자'),\n",
       "  ('분류', '잎보기식물'),\n",
       "  ('생육형태', '직립형,관목형'),\n",
       "  ('생장높이', '200'),\n",
       "  ('생장너비', '100'),\n",
       "  ('실내정원구성', '상층목,중층목'),\n",
       "  ('생태형', '일반형'),\n",
       "  ('잎무늬', '기타 (무늬없음 등)'),\n",
       "  ('잎색', '녹색, 연두색'),\n",
       "  ('향기', '거의 없음'),\n",
       "  ('번식방법', '파종'),\n",
       "  ('관리수준', '경험자'),\n",
       "  ('관리요구도', '필요함'),\n",
       "  ('광요구도', '중간 광도(800~1,500 Lux),높은 광도(1,500~10,000 Lux)'),\n",
       "  ('배치장소', '거실 창측 (실내깊이 150~300cm)발코니 내측 (실내깊이 50~150cm)발코니 창측 (실내깊이 0~50cm)'),\n",
       "  ('생장속도', '빠름'),\n",
       "  ('생육적온', '21~25℃'),\n",
       "  ('겨울최저온도', '13℃ 이상'),\n",
       "  ('습도', '40 ~ 70%'),\n",
       "  ('비료', '비료를 많이 요구함'),\n",
       "  ('토양', '증산율이 높기 때문에 수경재배나 지하관수로도 키울 수 있다. 수경재배나 지하관수를 하면'),\n",
       "  ('물주기-봄', '토양 표면이 말랐을때 충분히 관수함'),\n",
       "  ('물주기-여름', '토양 표면이 말랐을때 충분히 관수함'),\n",
       "  ('물주기-가을', '토양 표면이 말랐을때 충분히 관수함'),\n",
       "  ('물주기-겨울', '토양 표면이 말랐을때 충분히 관수함'),\n",
       "  ('병충해', '응애,깍지벌레'),\n",
       "  ('병충해관리', '실내가 너무 건조하면 응애가 생길 수 있으며 잎 끝이 갈색으로 변한다.'),\n",
       "  ('특별관리',\n",
       "   '일부 가지에만 염분을 축적하는 독특한 성질을 가지고 있으며 축적된 염분이 포화상태에 이르렀을 때 그 가지가 말라죽게 되므로 이때는 빨리 가지를 잘라주도록 한다.')],\n",
       " [('식물이름', '아마릴리스'),\n",
       "  ('분류', '꽃보기식물'),\n",
       "  ('생육형태', '풀모양,로제트형'),\n",
       "  ('생장높이', '50'),\n",
       "  ('생장너비', '30'),\n",
       "  ('실내정원구성', '하층목'),\n",
       "  ('생태형', '일반형'),\n",
       "  ('잎무늬', '기타 (무늬없음 등)'),\n",
       "  ('잎색', '녹색, 연두색'),\n",
       "  ('꽃피는계절', '봄,여름'),\n",
       "  ('꽃색', '분홍색,빨강색,흰색,혼합색'),\n",
       "  ('향기', '거의 없음'),\n",
       "  ('번식방법', '파종,분주'),\n",
       "  ('관리수준', '초보자'),\n",
       "  ('관리요구도', '낮음 (잘 견딤)'),\n",
       "  ('광요구도', '높은 광도(1,500~10,000 Lux)'),\n",
       "  ('배치장소', '발코니 내측 (실내깊이 50~150cm)발코니 창측 (실내깊이 0~50cm)'),\n",
       "  ('생장속도', '보통'),\n",
       "  ('생육적온', '21~25℃'),\n",
       "  ('겨울최저온도', '7℃'),\n",
       "  ('습도', '40 ~ 70%'),\n",
       "  ('물주기-봄', '토양 표면이 말랐을때 충분히 관수함'),\n",
       "  ('물주기-여름', '흙을 촉촉하게 유지함(물에 잠기지 않도록 주의)'),\n",
       "  ('물주기-가을', '토양 표면이 말랐을때 충분히 관수함'),\n",
       "  ('물주기-겨울', '화분 흙 대부분 말랐을때 충분히 관수함'),\n",
       "  ('병충해', '응애')],\n",
       " [('식물이름', '아스파라거스 풀루모수스'),\n",
       "  ('분류', '잎보기식물'),\n",
       "  ('생육형태', '덩굴성,풀모양'),\n",
       "  ('생장높이', '100'),\n",
       "  ('생장너비', '50'),\n",
       "  ('실내정원구성', '중층목'),\n",
       "  ('생태형', '일반형'),\n",
       "  ('잎무늬', '기타 (무늬없음 등)'),\n",
       "  ('잎색', '녹색, 연두색'),\n",
       "  ('번식방법', '파종'),\n",
       "  ('관리요구도', '필요함'),\n",
       "  ('광요구도', '중간 광도(800~1,500 Lux),높은 광도(1,500~10,000 Lux)'),\n",
       "  ('배치장소', '거실 창측 (실내깊이 150~300cm)발코니 내측 (실내깊이 50~150cm)발코니 창측 (실내깊이 0~50cm)'),\n",
       "  ('생육적온', '21~25℃'),\n",
       "  ('겨울최저온도', '10℃'),\n",
       "  ('습도', '40 ~ 70%'),\n",
       "  ('비료', '비료를 보통 요구함'),\n",
       "  ('물주기-봄', '흙을 촉촉하게 유지함(물에 잠기지 않도록 주의)'),\n",
       "  ('물주기-여름', '흙을 촉촉하게 유지함(물에 잠기지 않도록 주의)'),\n",
       "  ('물주기-가을', '흙을 촉촉하게 유지함(물에 잠기지 않도록 주의)'),\n",
       "  ('물주기-겨울', '토양 표면이 말랐을때 충분히 관수함'),\n",
       "  ('병충해', '응애')],\n",
       " [('식물이름', '아스플레니움'),\n",
       "  ('분류', '잎보기식물'),\n",
       "  ('생육형태', '로제트형'),\n",
       "  ('생장높이', '40'),\n",
       "  ('생장너비', '30'),\n",
       "  ('실내정원구성', '하층목'),\n",
       "  ('생태형', '일반형'),\n",
       "  ('잎무늬', '기타 (무늬없음 등)'),\n",
       "  ('잎색', '녹색, 연두색'),\n",
       "  ('향기', '거의 없음'),\n",
       "  ('번식방법', '파종,기타'),\n",
       "  ('관리수준', '경험자'),\n",
       "  ('관리요구도', '필요함'),\n",
       "  ('광요구도', '중간 광도(800~1,500 Lux),높은 광도(1,500~10,000 Lux)'),\n",
       "  ('배치장소',\n",
       "   '거실 내측 (실내깊이 300~500cm)거실 창측 (실내깊이 150~300cm)발코니 내측 (실내깊이 50~150cm)발코니 창측 (실내깊이 0~50cm)'),\n",
       "  ('생육적온', '21~25℃'),\n",
       "  ('겨울최저온도', '10℃'),\n",
       "  ('습도', '40 ~ 70%'),\n",
       "  ('비료', '비료를 보통 요구함 (1회/년, 봄)'),\n",
       "  ('물주기-봄', '항상 흙을 축축하게 유지함(물에 잠김)'),\n",
       "  ('물주기-여름', '항상 흙을 축축하게 유지함(물에 잠김)'),\n",
       "  ('물주기-가을', '항상 흙을 축축하게 유지함(물에 잠김)'),\n",
       "  ('물주기-겨울', '토양 표면이 말랐을때 충분히 관수함'),\n",
       "  ('병충해', '응애,깍지벌레'),\n",
       "  ('병충해관리', '깍지벌레'),\n",
       "  ('특별관리', '한여름의 직사광선은 피하고 습도유지가 되어야 잘 자람.   새로운 엽상체는 잘 찢어지므로 취급시 주의한다.')],\n",
       " [('식물이름', '아왜나무'),\n",
       "  ('분류', '잎&꽃보기식물,열매보기식물'),\n",
       "  ('생육형태', '관목형'),\n",
       "  ('생장높이', '150'),\n",
       "  ('생장너비', '50'),\n",
       "  ('실내정원구성', '상층목,중층목'),\n",
       "  ('생태형', '일반형'),\n",
       "  ('잎무늬', '기타 (무늬없음 등)'),\n",
       "  ('잎색', '녹색, 연두색'),\n",
       "  ('꽃피는계절', '봄'),\n",
       "  ('꽃색', '흰색'),\n",
       "  ('열매맺는계절', '여름,가을'),\n",
       "  ('열매색', '빨강색'),\n",
       "  ('향기', '중간'),\n",
       "  ('번식방법', '파종,삽목'),\n",
       "  ('관리수준', '초보자'),\n",
       "  ('관리요구도', '낮음 (잘 견딤)'),\n",
       "  ('광요구도', '중간 광도(800~1,500 Lux),높은 광도(1,500~10,000 Lux)'),\n",
       "  ('배치장소',\n",
       "   '거실 내측 (실내깊이 300~500cm)거실 창측 (실내깊이 150~300cm)발코니 내측 (실내깊이 50~150cm)발코니 창측 (실내깊이 0~50cm)'),\n",
       "  ('생장속도', '보통'),\n",
       "  ('생육적온', '16~20℃'),\n",
       "  ('겨울최저온도', '0℃ 이하'),\n",
       "  ('습도', '40 ~ 70%'),\n",
       "  ('비료', '비료를 보통 요구함'),\n",
       "  ('물주기-봄', '토양 표면이 말랐을때 충분히 관수함'),\n",
       "  ('물주기-여름', '토양 표면이 말랐을때 충분히 관수함'),\n",
       "  ('물주기-가을', '토양 표면이 말랐을때 충분히 관수함'),\n",
       "  ('물주기-겨울', '화분 흙 대부분 말랐을때 충분히 관수함'),\n",
       "  ('병충해', '응애,깍지벌레')],\n",
       " [('식물이름', '아이비'),\n",
       "  ('분류', '잎보기식물'),\n",
       "  ('생육형태', '덩굴성'),\n",
       "  ('생장높이', '30'),\n",
       "  ('생장너비', '40'),\n",
       "  ('실내정원구성', '하층목,지피식물'),\n",
       "  ('생태형', '일반형'),\n",
       "  ('잎무늬', '점무늬,잎 가장자리 무늬,기타 (무늬없음 등)'),\n",
       "  ('잎색', '녹색, 연두색,금색, 노란색,흰색, 크림색'),\n",
       "  ('꽃색', '흰색'),\n",
       "  ('향기', '거의 없음'),\n",
       "  ('번식방법', '삽목'),\n",
       "  ('관리수준', '초보자'),\n",
       "  ('관리요구도', '낮음 (잘 견딤)'),\n",
       "  ('광요구도', '중간 광도(800~1,500 Lux),높은 광도(1,500~10,000 Lux)'),\n",
       "  ('배치장소',\n",
       "   '거실 내측 (실내깊이 300~500cm)거실 창측 (실내깊이 150~300cm)발코니 내측 (실내깊이 50~150cm)발코니 창측 (실내깊이 0~50cm)'),\n",
       "  ('생장속도', '빠름'),\n",
       "  ('생육적온', '16~20℃'),\n",
       "  ('겨울최저온도', '5℃'),\n",
       "  ('습도', '40 ~ 70%'),\n",
       "  ('비료', '비료를 보통 요구함'),\n",
       "  ('물주기-봄', '흙을 촉촉하게 유지함(물에 잠기지 않도록 주의)'),\n",
       "  ('물주기-여름', '흙을 촉촉하게 유지함(물에 잠기지 않도록 주의)'),\n",
       "  ('물주기-가을', '흙을 촉촉하게 유지함(물에 잠기지 않도록 주의)'),\n",
       "  ('물주기-겨울', '토양 표면이 말랐을때 충분히 관수함'),\n",
       "  ('병충해', '응애,깍지벌레')],\n",
       " [('식물이름', '아펠란드라'),\n",
       "  ('분류', '잎&꽃보기식물'),\n",
       "  ('생육형태', '직립형'),\n",
       "  ('생장높이', '50'),\n",
       "  ('생장너비', '30'),\n",
       "  ('실내정원구성', '중층목'),\n",
       "  ('생태형', '일반형'),\n",
       "  ('잎무늬', '줄무늬'),\n",
       "  ('잎색', '녹색, 연두색'),\n",
       "  ('꽃피는계절', '봄,겨울'),\n",
       "  ('꽃색', '노랑색'),\n",
       "  ('향기', '거의 없음'),\n",
       "  ('번식방법', '삽목'),\n",
       "  ('관리요구도', '필요함'),\n",
       "  ('광요구도', '중간 광도(800~1,500 Lux),높은 광도(1,500~10,000 Lux)'),\n",
       "  ('배치장소', '거실 창측 (실내깊이 150~300cm)발코니 내측 (실내깊이 50~150cm)발코니 창측 (실내깊이 0~50cm)'),\n",
       "  ('생육적온', '21~25℃'),\n",
       "  ('겨울최저온도', '13℃ 이상'),\n",
       "  ('습도', '40 ~ 70%'),\n",
       "  ('비료', '비료를 보통 요구함'),\n",
       "  ('물주기-봄', '토양 표면이 말랐을때 충분히 관수함'),\n",
       "  ('물주기-여름', '토양 표면이 말랐을때 충분히 관수함'),\n",
       "  ('물주기-가을', '토양 표면이 말랐을때 충분히 관수함'),\n",
       "  ('물주기-겨울', '화분 흙 대부분 말랐을때 충분히 관수함'),\n",
       "  ('병충해', '응애,깍지벌레,온실가루이'),\n",
       "  ('병충해관리', '온실가루이, 깍지벌레,  응애')],\n",
       " [('식물이름', '아프리칸 바이올렛'),\n",
       "  ('분류', '잎&꽃보기식물'),\n",
       "  ('생육형태', '풀모양,로제트형'),\n",
       "  ('생장높이', '20'),\n",
       "  ('생장너비', '20'),\n",
       "  ('실내정원구성', '하층목'),\n",
       "  ('생태형', '일반형'),\n",
       "  ('잎무늬', '기타 (무늬없음 등)'),\n",
       "  ('잎색', '녹색, 연두색,기타'),\n",
       "  ('꽃피는계절', '봄,여름,겨울'),\n",
       "  ('꽃색', '파랑색,보라색,분홍색,빨강색,흰색,혼합색'),\n",
       "  ('향기', '거의 없음'),\n",
       "  ('번식방법', '삽목'),\n",
       "  ('관리수준', '경험자'),\n",
       "  ('관리요구도', '필요함'),\n",
       "  ('광요구도', '중간 광도(800~1,500 Lux),높은 광도(1,500~10,000 Lux)'),\n",
       "  ('배치장소', '거실 창측 (실내깊이 150~300cm)발코니 내측 (실내깊이 50~150cm)발코니 창측 (실내깊이 0~50cm)'),\n",
       "  ('생육적온', '16~20℃'),\n",
       "  ('겨울최저온도', '13℃ 이상'),\n",
       "  ('습도', '40 ~ 70%'),\n",
       "  ('비료', '비료를 보통 요구함'),\n",
       "  ('물주기-봄', '토양 표면이 말랐을때 충분히 관수함'),\n",
       "  ('물주기-여름', '토양 표면이 말랐을때 충분히 관수함'),\n",
       "  ('물주기-가을', '토양 표면이 말랐을때 충분히 관수함'),\n",
       "  ('물주기-겨울', '토양 표면이 말랐을때 충분히 관수함'),\n",
       "  ('병충해', '응애,깍지벌레,온실가루이'),\n",
       "  ('특별관리',\n",
       "   '- 잎의 털에 물방울이 고여 있으면 곰팡이병이 생길 수 있고 진한 꽃잎에 물방울이 묻어 물방울이 데워짐으로 꽃 색이 바래질 수 있으므로, 물을 줄때 저면관수 방법이나, 흙으로만 물이 주어지도록 주의한다.')],\n",
       " [('식물이름', '안수리움'),\n",
       "  ('분류', '잎&꽃보기식물'),\n",
       "  ('생육형태', '풀모양'),\n",
       "  ('생장높이', '60'),\n",
       "  ('생장너비', '40'),\n",
       "  ('실내정원구성', '하층목'),\n",
       "  ('생태형', '일반형'),\n",
       "  ('잎무늬', '기타 (무늬없음 등)'),\n",
       "  ('잎색', '녹색, 연두색'),\n",
       "  ('꽃피는계절', '봄,여름,가을,겨울'),\n",
       "  ('꽃색', '분홍색,빨강색,흰색,혼합색'),\n",
       "  ('향기', '거의 없음'),\n",
       "  ('번식방법', '분주,기타'),\n",
       "  ('관리수준', '경험자'),\n",
       "  ('관리요구도', '필요함'),\n",
       "  ('광요구도', '중간 광도(800~1,500 Lux),높은 광도(1,500~10,000 Lux)'),\n",
       "  ('배치장소', '거실 창측 (실내깊이 150~300cm)발코니 내측 (실내깊이 50~150cm)발코니 창측 (실내깊이 0~50cm)'),\n",
       "  ('생육적온', '21~25℃'),\n",
       "  ('겨울최저온도', '13℃ 이상'),\n",
       "  ('습도', '40 ~ 70%'),\n",
       "  ('비료', '비료를 보통 요구함'),\n",
       "  ('토양', '포름알데히드, 자일렌, 암모니아'),\n",
       "  ('물주기-봄', '토양 표면이 말랐을때 충분히 관수함'),\n",
       "  ('물주기-여름', '토양 표면이 말랐을때 충분히 관수함'),\n",
       "  ('물주기-가을', '토양 표면이 말랐을때 충분히 관수함'),\n",
       "  ('물주기-겨울', '토양 표면이 말랐을때 충분히 관수함'),\n",
       "  ('병충해', '응애,깍지벌레'),\n",
       "  ('병충해관리', '깍지벌레, 개각충, 진딧물, 응애'),\n",
       "  ('특별관리', '여름철 직사광선을 피하고, 겨울철 밝은 빛을 유지해야하며 습한 것을 좋아해 자주 분무 해주는 것이 좋다.')],\n",
       " [('식물이름', '알로카시아 아마조니카'),\n",
       "  ('분류', '잎보기식물'),\n",
       "  ('생육형태', '풀모양'),\n",
       "  ('생장높이', '60'),\n",
       "  ('생장너비', '40'),\n",
       "  ('실내정원구성', '하층목'),\n",
       "  ('생태형', '일반형'),\n",
       "  ('잎무늬', '줄무늬'),\n",
       "  ('잎색', '빨강, 분홍, 자주색,기타'),\n",
       "  ('향기', '거의 없음'),\n",
       "  ('번식방법', '파종,분주,기타'),\n",
       "  ('관리수준', '전문가'),\n",
       "  ('관리요구도', '필요함'),\n",
       "  ('광요구도', '중간 광도(800~1,500 Lux),높은 광도(1,500~10,000 Lux)'),\n",
       "  ('배치장소', '거실 창측 (실내깊이 150~300cm)발코니 내측 (실내깊이 50~150cm)발코니 창측 (실내깊이 0~50cm)'),\n",
       "  ('생육적온', '21~25℃'),\n",
       "  ('겨울최저온도', '13℃ 이상'),\n",
       "  ('습도', '40 ~ 70%'),\n",
       "  ('비료', '비료를 보통 요구함'),\n",
       "  ('물주기-봄', '흙을 촉촉하게 유지함(물에 잠기지 않도록 주의)'),\n",
       "  ('물주기-여름', '흙을 촉촉하게 유지함(물에 잠기지 않도록 주의)'),\n",
       "  ('물주기-가을', '흙을 촉촉하게 유지함(물에 잠기지 않도록 주의)'),\n",
       "  ('물주기-겨울', '토양 표면이 말랐을때 충분히 관수함'),\n",
       "  ('병충해', '응애,깍지벌레')],\n",
       " [('식물이름', '알로카시아 쿠쿨라타'),\n",
       "  ('분류', '잎보기식물'),\n",
       "  ('생육형태', '직립형'),\n",
       "  ('생장높이', '100'),\n",
       "  ('생장너비', '50'),\n",
       "  ('실내정원구성', '중층목'),\n",
       "  ('생태형', '일반형,수경형'),\n",
       "  ('잎무늬', '기타 (무늬없음 등)'),\n",
       "  ('잎색', '녹색, 연두색'),\n",
       "  ('향기', '거의 없음'),\n",
       "  ('번식방법', '파종,분주'),\n",
       "  ('관리수준', '초보자'),\n",
       "  ('관리요구도', '보통 (약간 잘 견딤)'),\n",
       "  ('광요구도', '중간 광도(800~1,500 Lux),높은 광도(1,500~10,000 Lux)'),\n",
       "  ('배치장소',\n",
       "   '거실 내측 (실내깊이 300~500cm)거실 창측 (실내깊이 150~300cm)발코니 내측 (실내깊이 50~150cm)발코니 창측 (실내깊이 0~50cm)'),\n",
       "  ('생육적온', '16~20℃'),\n",
       "  ('겨울최저온도', '13℃ 이상'),\n",
       "  ('습도', '40 ~ 70%'),\n",
       "  ('비료', '비료를 보통 요구함'),\n",
       "  ('물주기-봄', '흙을 촉촉하게 유지함(물에 잠기지 않도록 주의)'),\n",
       "  ('물주기-여름', '흙을 촉촉하게 유지함(물에 잠기지 않도록 주의)'),\n",
       "  ('물주기-가을', '흙을 촉촉하게 유지함(물에 잠기지 않도록 주의)'),\n",
       "  ('물주기-겨울', '토양 표면이 말랐을때 충분히 관수함'),\n",
       "  ('병충해', '응애,깍지벌레')],\n",
       " [('식물이름', '얼룩자주달개비'),\n",
       "  ('분류', '잎&꽃보기식물'),\n",
       "  ('생육형태', '덩굴성'),\n",
       "  ('생장높이', '20'),\n",
       "  ('생장너비', '40'),\n",
       "  ('실내정원구성', '지피식물'),\n",
       "  ('생태형', '일반형'),\n",
       "  ('잎무늬', '줄무늬'),\n",
       "  ('잎색', '녹색, 연두색,은색, 회색,빨강, 분홍, 자주색'),\n",
       "  ('꽃피는계절', '봄,여름'),\n",
       "  ('꽃색', '분홍색,흰색'),\n",
       "  ('열매맺는계절', '봄,여름'),\n",
       "  ('향기', '거의 없음'),\n",
       "  ('번식방법', '삽목'),\n",
       "  ('관리수준', '초보자'),\n",
       "  ('관리요구도', '보통 (약간 잘 견딤)'),\n",
       "  ('광요구도', '중간 광도(800~1,500 Lux),높은 광도(1,500~10,000 Lux)'),\n",
       "  ('배치장소', '거실 창측 (실내깊이 150~300cm)발코니 내측 (실내깊이 50~150cm)발코니 창측 (실내깊이 0~50cm)'),\n",
       "  ('생육적온', '21~25℃'),\n",
       "  ('겨울최저온도', '10℃'),\n",
       "  ('습도', '40 ~ 70%'),\n",
       "  ('비료', '비료를 보통 요구함'),\n",
       "  ('물주기-봄', '토양 표면이 말랐을때 충분히 관수함'),\n",
       "  ('물주기-여름', '토양 표면이 말랐을때 충분히 관수함'),\n",
       "  ('물주기-가을', '토양 표면이 말랐을때 충분히 관수함'),\n",
       "  ('물주기-겨울', '화분 흙 대부분 말랐을때 충분히 관수함'),\n",
       "  ('병충해', '응애,깍지벌레'),\n",
       "  ('병충해관리', '깍지벌레, 진딧물')],\n",
       " [('식물이름', '에메랄드리플 페페로미아'),\n",
       "  ('분류', '잎보기식물'),\n",
       "  ('생육형태', '풀모양'),\n",
       "  ('생장높이', '25'),\n",
       "  ('생장너비', '20'),\n",
       "  ('실내정원구성', '하층목'),\n",
       "  ('생태형', '일반형'),\n",
       "  ('잎무늬', '기타 (무늬없음 등)'),\n",
       "  ('잎색', '녹색, 연두색,빨강, 분홍, 자주색'),\n",
       "  ('번식방법', '삽목'),\n",
       "  ('관리수준', '경험자'),\n",
       "  ('관리요구도', '필요함'),\n",
       "  ('광요구도', '중간 광도(800~1,500 Lux),높은 광도(1,500~10,000 Lux)'),\n",
       "  ('배치장소',\n",
       "   '거실 내측 (실내깊이 300~500cm)거실 창측 (실내깊이 150~300cm)발코니 내측 (실내깊이 50~150cm)'),\n",
       "  ('생장속도', '느림'),\n",
       "  ('생육적온', '21~25℃'),\n",
       "  ('겨울최저온도', '13℃ 이상'),\n",
       "  ('습도', '40 ~ 70%'),\n",
       "  ('비료', '비료를 보통 요구함'),\n",
       "  ('병충해', '응애,깍지벌레')],\n",
       " [('식물이름', '에크메아 파시아타'),\n",
       "  ('분류', '잎&꽃보기식물'),\n",
       "  ('생육형태', '로제트형'),\n",
       "  ('생장높이', '50'),\n",
       "  ('생장너비', '40'),\n",
       "  ('실내정원구성', '하층목'),\n",
       "  ('생태형', '일반형'),\n",
       "  ('잎무늬', '줄무늬,기타 (무늬없음 등)'),\n",
       "  ('잎색', '녹색, 연두색,은색, 회색,빨강, 분홍, 자주색'),\n",
       "  ('꽃피는계절', '봄,여름'),\n",
       "  ('꽃색', '분홍색'),\n",
       "  ('향기', '거의 없음'),\n",
       "  ('독성', '없음'),\n",
       "  ('번식방법', '분주'),\n",
       "  ('관리수준', '경험자'),\n",
       "  ('관리요구도', '보통 (약간 잘 견딤)'),\n",
       "  ('광요구도', '중간 광도(800~1,500 Lux),높은 광도(1,500~10,000 Lux)'),\n",
       "  ('배치장소', '거실 창측 (실내깊이 150~300cm)발코니 내측 (실내깊이 50~150cm)발코니 창측 (실내깊이 0~50cm)'),\n",
       "  ('생장속도', '보통'),\n",
       "  ('생육적온', '21~25℃'),\n",
       "  ('겨울최저온도', '13℃ 이상'),\n",
       "  ('습도', '40 ~ 70%'),\n",
       "  ('비료', '비료를 보통 요구함'),\n",
       "  ('토양', '포름알데히드'),\n",
       "  ('물주기-봄', '토양 표면이 말랐을때 충분히 관수함'),\n",
       "  ('물주기-여름', '토양 표면이 말랐을때 충분히 관수함'),\n",
       "  ('물주기-가을', '토양 표면이 말랐을때 충분히 관수함'),\n",
       "  ('물주기-겨울', '토양 표면이 말랐을때 충분히 관수함'),\n",
       "  ('병충해', '응애,깍지벌레')],\n",
       " [('식물이름', '엘라티올 베고니아'),\n",
       "  ('분류', '잎&꽃보기식물'),\n",
       "  ('생육형태', '풀모양'),\n",
       "  ('생장높이', '30'),\n",
       "  ('생장너비', '30'),\n",
       "  ('실내정원구성', '하층목'),\n",
       "  ('생태형', '일반형'),\n",
       "  ('잎무늬', '기타 (무늬없음 등)'),\n",
       "  ('잎색', '녹색, 연두색'),\n",
       "  ('꽃피는계절', '봄,여름,가을'),\n",
       "  ('꽃색', '분홍색,빨강색,오렌지색,노랑색,흰색'),\n",
       "  ('향기', '거의 없음'),\n",
       "  ('번식방법', '파종,삽목,기타'),\n",
       "  ('관리수준', '경험자'),\n",
       "  ('관리요구도', '보통 (약간 잘 견딤)'),\n",
       "  ('광요구도', '높은 광도(1,500~10,000 Lux)'),\n",
       "  ('배치장소', '거실 창측 (실내깊이 150~300cm)발코니 내측 (실내깊이 50~150cm)발코니 창측 (실내깊이 0~50cm)'),\n",
       "  ('생장속도', '보통'),\n",
       "  ('생육적온', '21~25℃'),\n",
       "  ('겨울최저온도', '13℃ 이상'),\n",
       "  ('습도', '40 ~ 70%'),\n",
       "  ('비료', '비료를 보통 요구함 (2주, 개화시 제외)'),\n",
       "  ('토양', '중성,산성 / 배수 잘 됨 / 타입-Loam'),\n",
       "  ('물주기-봄', '토양 표면이 말랐을때 충분히 관수함'),\n",
       "  ('물주기-여름', '토양 표면이 말랐을때 충분히 관수함'),\n",
       "  ('물주기-가을', '토양 표면이 말랐을때 충분히 관수함'),\n",
       "  ('물주기-겨울', '토양 표면이 말랐을때 충분히 관수함'),\n",
       "  ('병충해', '진딧물,응애')],\n",
       " [('식물이름', '여우꼬리풀'),\n",
       "  ('분류', '꽃보기식물'),\n",
       "  ('생육형태', '관목형'),\n",
       "  ('생장높이', '25'),\n",
       "  ('생장너비', '30'),\n",
       "  ('실내정원구성', '하층목'),\n",
       "  ('생태형', '일반형'),\n",
       "  ('잎무늬', '기타 (무늬없음 등)'),\n",
       "  ('잎색', '녹색, 연두색'),\n",
       "  ('꽃피는계절', '봄,여름'),\n",
       "  ('꽃색', '분홍색,빨강색'),\n",
       "  ('향기', '거의 없음'),\n",
       "  ('번식방법', '삽목'),\n",
       "  ('관리수준', '경험자'),\n",
       "  ('관리요구도', '필요함'),\n",
       "  ('광요구도', '높은 광도(1,500~10,000 Lux)'),\n",
       "  ('배치장소', '거실 창측 (실내깊이 150~300cm)발코니 내측 (실내깊이 50~150cm)발코니 창측 (실내깊이 0~50cm)'),\n",
       "  ('생장속도', '보통'),\n",
       "  ('생육적온', '21~25℃'),\n",
       "  ('겨울최저온도', '13℃ 이상'),\n",
       "  ('습도', '40 ~ 70%'),\n",
       "  ('물주기-봄', '화분 흙 대부분 말랐을때 충분히 관수함'),\n",
       "  ('물주기-여름', '토양 표면이 말랐을때 충분히 관수함'),\n",
       "  ('물주기-가을', '토양 표면이 말랐을때 충분히 관수함'),\n",
       "  ('물주기-겨울', '화분 흙 대부분 말랐을때 충분히 관수함'),\n",
       "  ('병충해', '진딧물,응애,온실가루이')],\n",
       " [('식물이름', '엽란'),\n",
       "  ('분류', '잎보기식물'),\n",
       "  ('생육형태', '풀모양'),\n",
       "  ('생장높이', '60'),\n",
       "  ('생장너비', '30'),\n",
       "  ('실내정원구성', '하층목'),\n",
       "  ('생태형', '일반형'),\n",
       "  ('잎무늬', '줄무늬,잎 가장자리 무늬,기타 (무늬없음 등)'),\n",
       "  ('잎색', '녹색, 연두색,흰색, 크림색'),\n",
       "  ('향기', '거의 없음'),\n",
       "  ('번식방법', '분주'),\n",
       "  ('관리수준', '초보자'),\n",
       "  ('관리요구도', '낮음 (잘 견딤)'),\n",
       "  ('광요구도', '낮은 광도(300~800 Lux),중간 광도(800~1,500 Lux),높은 광도(1,500~10,000 Lux)'),\n",
       "  ('배치장소',\n",
       "   '실내 어두운 곳 (실내깊이 500 이상cm)거실 내측 (실내깊이 300~500cm)거실 창측 (실내깊이 150~300cm)발코니 내측 (실내깊이 50~150cm)발코니 창측 (실내깊이 0~50cm)'),\n",
       "  ('생육적온', '16~20℃'),\n",
       "  ('겨울최저온도', '5℃'),\n",
       "  ('습도', '40 ~ 70%'),\n",
       "  ('비료', '비료를 보통 요구함'),\n",
       "  ('토양', '포름알데히드, 벤젠'),\n",
       "  ('물주기-봄', '토양 표면이 말랐을때 충분히 관수함'),\n",
       "  ('물주기-여름', '토양 표면이 말랐을때 충분히 관수함'),\n",
       "  ('물주기-가을', '토양 표면이 말랐을때 충분히 관수함'),\n",
       "  ('물주기-겨울', '화분 흙 대부분 말랐을때 충분히 관수함'),\n",
       "  ('병충해', '응애,깍지벌레')],\n",
       " [('식물이름', '옥살리스(사랑초)'),\n",
       "  ('분류', '잎&꽃보기식물'),\n",
       "  ('생육형태', '풀모양'),\n",
       "  ('생장높이', '25'),\n",
       "  ('생장너비', '25'),\n",
       "  ('실내정원구성', '하층목'),\n",
       "  ('생태형', '일반형'),\n",
       "  ('잎무늬', '기타 (무늬없음 등)'),\n",
       "  ('잎색', '녹색, 연두색,빨강, 분홍, 자주색'),\n",
       "  ('꽃피는계절', '봄,여름'),\n",
       "  ('꽃색', '보라색,분홍색,흰색'),\n",
       "  ('향기', '거의 없음'),\n",
       "  ('번식방법', '파종,분주'),\n",
       "  ('관리수준', '경험자'),\n",
       "  ('관리요구도', '보통 (약간 잘 견딤)'),\n",
       "  ('광요구도', '중간 광도(800~1,500 Lux),높은 광도(1,500~10,000 Lux)'),\n",
       "  ('배치장소', '거실 창측 (실내깊이 150~300cm)발코니 내측 (실내깊이 50~150cm)발코니 창측 (실내깊이 0~50cm)'),\n",
       "  ('생장속도', '보통'),\n",
       "  ('생육적온', '16~20℃'),\n",
       "  ('겨울최저온도', '10℃'),\n",
       "  ('습도', '40 ~ 70%'),\n",
       "  ('비료', '비료를 보통 요구함'),\n",
       "  ('물주기-봄', '토양 표면이 말랐을때 충분히 관수함'),\n",
       "  ('물주기-여름', '토양 표면이 말랐을때 충분히 관수함'),\n",
       "  ('물주기-가을', '토양 표면이 말랐을때 충분히 관수함'),\n",
       "  ('물주기-겨울', '화분 흙 대부분 말랐을때 충분히 관수함'),\n",
       "  ('병충해', '응애,온실가루이')],\n",
       " [('식물이름', '온시디움'),\n",
       "  ('분류', '꽃보기식물'),\n",
       "  ('생육형태', '풀모양,다육형'),\n",
       "  ('생장높이', '50'),\n",
       "  ('생장너비', '30'),\n",
       "  ('실내정원구성', '중층목'),\n",
       "  ('생태형', '건조형'),\n",
       "  ('잎무늬', '기타 (무늬없음 등)'),\n",
       "  ('잎색', '녹색, 연두색'),\n",
       "  ('꽃피는계절', '봄,여름'),\n",
       "  ('꽃색', '보라색,분홍색,빨강색,노랑색,흰색,혼합색,기타'),\n",
       "  ('향기', '중간'),\n",
       "  ('번식방법', '삽목,분주,기타'),\n",
       "  ('관리수준', '경험자'),\n",
       "  ('관리요구도', '필요함'),\n",
       "  ('광요구도', '중간 광도(800~1,500 Lux),높은 광도(1,500~10,000 Lux)'),\n",
       "  ('배치장소', '거실 창측 (실내깊이 150~300cm)발코니 내측 (실내깊이 50~150cm)발코니 창측 (실내깊이 0~50cm)'),\n",
       "  ('생장속도', '느림'),\n",
       "  ('생육적온', '21~25℃'),\n",
       "  ('겨울최저온도', '13℃ 이상'),\n",
       "  ('습도', '40 ~ 70%'),\n",
       "  ('물주기-봄', '화분 흙 대부분 말랐을때 충분히 관수함'),\n",
       "  ('물주기-여름', '토양 표면이 말랐을때 충분히 관수함'),\n",
       "  ('물주기-가을', '화분 흙 대부분 말랐을때 충분히 관수함'),\n",
       "  ('물주기-겨울', '화분 흙 대부분 말랐을때 충분히 관수함'),\n",
       "  ('병충해', '응애,깍지벌레')],\n",
       " [('식물이름', '왜란'),\n",
       "  ('분류', '잎보기식물'),\n",
       "  ('생육형태', '풀모양'),\n",
       "  ('생장높이', '10'),\n",
       "  ('생장너비', '10'),\n",
       "  ('실내정원구성', '지피식물'),\n",
       "  ('생태형', '일반형'),\n",
       "  ('잎무늬', '기타 (무늬없음 등)'),\n",
       "  ('잎색', '녹색, 연두색'),\n",
       "  ('향기', '거의 없음'),\n",
       "  ('번식방법', '분주'),\n",
       "  ('관리수준', '초보자'),\n",
       "  ('관리요구도', '낮음 (잘 견딤)'),\n",
       "  ('광요구도', '중간 광도(800~1,500 Lux),높은 광도(1,500~10,000 Lux)'),\n",
       "  ('배치장소', '거실 창측 (실내깊이 150~300cm)발코니 내측 (실내깊이 50~150cm)발코니 창측 (실내깊이 0~50cm)'),\n",
       "  ('생육적온', '10~15℃'),\n",
       "  ('겨울최저온도', '0℃ 이하'),\n",
       "  ('습도', '40 ~ 70%'),\n",
       "  ('비료', '비료를 보통 요구함'),\n",
       "  ('물주기-봄', '토양 표면이 말랐을때 충분히 관수함'),\n",
       "  ('물주기-여름', '토양 표면이 말랐을때 충분히 관수함'),\n",
       "  ('물주기-가을', '토양 표면이 말랐을때 충분히 관수함'),\n",
       "  ('물주기-겨울', '화분 흙 대부분 말랐을때 충분히 관수함'),\n",
       "  ('병충해', '응애')],\n",
       " [('식물이름', '왜성종려죽'),\n",
       "  ('분류', '잎보기식물'),\n",
       "  ('생육형태', '관목형'),\n",
       "  ('생장높이', '150'),\n",
       "  ('생장너비', '100'),\n",
       "  ('실내정원구성', '상층목,중층목'),\n",
       "  ('생태형', '일반형'),\n",
       "  ('잎형태', '잎의 질감-중간 / 잎의 광택-있음 / 상록'),\n",
       "  ('잎무늬', '기타 (무늬없음 등)'),\n",
       "  ('잎색', '녹색, 연두색'),\n",
       "  ('열매색', '흰색'),\n",
       "  ('향기', '거의 없음'),\n",
       "  ('번식방법', '파종,분주'),\n",
       "  ('관리수준', '경험자'),\n",
       "  ('관리요구도', '보통 (약간 잘 견딤)'),\n",
       "  ('광요구도', '중간 광도(800~1,500 Lux),높은 광도(1,500~10,000 Lux)'),\n",
       "  ('배치장소',\n",
       "   '거실 내측 (실내깊이 300~500cm)거실 창측 (실내깊이 150~300cm)발코니 내측 (실내깊이 50~150cm)발코니 창측 (실내깊이 0~50cm)'),\n",
       "  ('생장속도', '느림'),\n",
       "  ('생육적온', '16~20℃'),\n",
       "  ('겨울최저온도', '7℃'),\n",
       "  ('습도', '40 ~ 70%'),\n",
       "  ('비료', '비료를 보통 요구함'),\n",
       "  ('토양', '중성,산성,알칼리성 / 배수 잘 됨 / 타입-Loam, Sand'),\n",
       "  ('물주기-봄', '토양 표면이 말랐을때 충분히 관수함'),\n",
       "  ('물주기-여름', '토양 표면이 말랐을때 충분히 관수함'),\n",
       "  ('물주기-가을', '토양 표면이 말랐을때 충분히 관수함'),\n",
       "  ('물주기-겨울', '화분 흙 대부분 말랐을때 충분히 관수함'),\n",
       "  ('병충해', '응애,깍지벌레')],\n",
       " [('식물이름', '움벨라타 고무나무'),\n",
       "  ('분류', '잎보기식물'),\n",
       "  ('생육형태', '직립형'),\n",
       "  ('생장높이', '150'),\n",
       "  ('생장너비', '70'),\n",
       "  ('실내정원구성', '상층목,중층목'),\n",
       "  ('생태형', '일반형'),\n",
       "  ('잎무늬', '기타 (무늬없음 등)'),\n",
       "  ('잎색', '녹색, 연두색'),\n",
       "  ('번식방법', '삽목'),\n",
       "  ('관리수준', '경험자'),\n",
       "  ('관리요구도', '보통 (약간 잘 견딤)'),\n",
       "  ('광요구도', '중간 광도(800~1,500 Lux),높은 광도(1,500~10,000 Lux)'),\n",
       "  ('배치장소', '거실 창측 (실내깊이 150~300cm)발코니 내측 (실내깊이 50~150cm)발코니 창측 (실내깊이 0~50cm)'),\n",
       "  ('생육적온', '21~25℃'),\n",
       "  ('겨울최저온도', '13℃ 이상'),\n",
       "  ('습도', '40 ~ 70%'),\n",
       "  ('비료', '비료를 보통 요구함'),\n",
       "  ('병충해', '응애,깍지벌레')],\n",
       " [('식물이름', '유카'),\n",
       "  ('분류', '잎보기식물'),\n",
       "  ('생육형태', '직립형'),\n",
       "  ('생장높이', '150'),\n",
       "  ('생장너비', '50'),\n",
       "  ('실내정원구성', '상층목,중층목'),\n",
       "  ('생태형', '일반형,건조형'),\n",
       "  ('잎무늬', '기타 (무늬없음 등)'),\n",
       "  ('잎색', '녹색, 연두색'),\n",
       "  ('향기', '거의 없음'),\n",
       "  ('번식방법', '삽목'),\n",
       "  ('관리수준', '초보자'),\n",
       "  ('관리요구도', '낮음 (잘 견딤)'),\n",
       "  ('광요구도', '중간 광도(800~1,500 Lux),높은 광도(1,500~10,000 Lux)'),\n",
       "  ('배치장소',\n",
       "   '거실 내측 (실내깊이 300~500cm)거실 창측 (실내깊이 150~300cm)발코니 내측 (실내깊이 50~150cm)발코니 창측 (실내깊이 0~50cm)'),\n",
       "  ('생육적온', '21~25℃'),\n",
       "  ('겨울최저온도', '5℃'),\n",
       "  ('습도', '40 ~ 70%'),\n",
       "  ('비료', '비료를 보통 요구함'),\n",
       "  ('물주기-봄', '토양 표면이 말랐을때 충분히 관수함'),\n",
       "  ('물주기-여름', '토양 표면이 말랐을때 충분히 관수함'),\n",
       "  ('물주기-가을', '토양 표면이 말랐을때 충분히 관수함'),\n",
       "  ('물주기-겨울', '화분 흙 대부분 말랐을때 충분히 관수함'),\n",
       "  ('병충해', '응애,깍지벌레')],\n",
       " [('식물이름', '은사철나무'),\n",
       "  ('분류', '잎보기식물'),\n",
       "  ('생육형태', '관목형'),\n",
       "  ('생장높이', '30'),\n",
       "  ('생장너비', '20'),\n",
       "  ('실내정원구성', '중층목,하층목'),\n",
       "  ('생태형', '일반형'),\n",
       "  ('잎무늬', '잎 가장자리 무늬'),\n",
       "  ('잎색', '녹색, 연두색'),\n",
       "  ('향기', '약함'),\n",
       "  ('번식방법', '삽목'),\n",
       "  ('관리요구도', '보통 (약간 잘 견딤)'),\n",
       "  ('광요구도', '중간 광도(800~1,500 Lux),높은 광도(1,500~10,000 Lux)'),\n",
       "  ('배치장소', '발코니 내측 (실내깊이 50~150cm)발코니 창측 (실내깊이 0~50cm)'),\n",
       "  ('생육적온', '16~20℃'),\n",
       "  ('겨울최저온도', '0℃ 이하'),\n",
       "  ('습도', '40 ~ 70%'),\n",
       "  ('비료', '비료를 보통 요구함'),\n",
       "  ('물주기-봄', '토양 표면이 말랐을때 충분히 관수함'),\n",
       "  ('물주기-여름', '토양 표면이 말랐을때 충분히 관수함'),\n",
       "  ('물주기-가을', '토양 표면이 말랐을때 충분히 관수함'),\n",
       "  ('물주기-겨울', '토양 표면이 말랐을때 충분히 관수함'),\n",
       "  ('병충해', '응애,깍지벌레')],\n",
       " [('식물이름', '익소라'),\n",
       "  ('분류', '잎&꽃보기식물'),\n",
       "  ('생육형태', '관목형'),\n",
       "  ('생장높이', '50'),\n",
       "  ('생장너비', '30'),\n",
       "  ('실내정원구성', '중층목,하층목'),\n",
       "  ('생태형', '일반형'),\n",
       "  ('잎무늬', '기타 (무늬없음 등)'),\n",
       "  ('잎색', '녹색, 연두색'),\n",
       "  ('꽃피는계절', '봄,여름'),\n",
       "  ('꽃색', '분홍색,빨강색,오렌지색,흰색'),\n",
       "  ('향기', '약함'),\n",
       "  ('번식방법', '삽목'),\n",
       "  ('관리수준', '경험자'),\n",
       "  ('관리요구도', '보통 (약간 잘 견딤)'),\n",
       "  ('광요구도', '중간 광도(800~1,500 Lux),높은 광도(1,500~10,000 Lux)'),\n",
       "  ('배치장소', '거실 창측 (실내깊이 150~300cm)발코니 내측 (실내깊이 50~150cm)발코니 창측 (실내깊이 0~50cm)'),\n",
       "  ('생육적온', '21~25℃'),\n",
       "  ('겨울최저온도', '13℃ 이상'),\n",
       "  ('습도', '40 ~ 70%'),\n",
       "  ('비료', '비료를 보통 요구함'),\n",
       "  ('물주기-봄', '흙을 촉촉하게 유지함(물에 잠기지 않도록 주의)'),\n",
       "  ('물주기-여름', '흙을 촉촉하게 유지함(물에 잠기지 않도록 주의)'),\n",
       "  ('물주기-가을', '흙을 촉촉하게 유지함(물에 잠기지 않도록 주의)'),\n",
       "  ('물주기-겨울', '화분 흙 대부분 말랐을때 충분히 관수함'),\n",
       "  ('병충해', '응애,깍지벌레'),\n",
       "  ('병충해관리', '깍지벌레, 응애')],\n",
       " [('식물이름', '인삼벤자민'),\n",
       "  ('분류', '잎보기식물'),\n",
       "  ('생육형태', '관목형'),\n",
       "  ('생장높이', '50'),\n",
       "  ('생장너비', '30'),\n",
       "  ('실내정원구성', '중층목'),\n",
       "  ('생태형', '일반형'),\n",
       "  ('잎무늬', '기타 (무늬없음 등)'),\n",
       "  ('잎색', '녹색, 연두색'),\n",
       "  ('향기', '거의 없음'),\n",
       "  ('번식방법', '삽목,접목'),\n",
       "  ('관리수준', '경험자'),\n",
       "  ('관리요구도', '보통 (약간 잘 견딤)'),\n",
       "  ('광요구도', '중간 광도(800~1,500 Lux),높은 광도(1,500~10,000 Lux)'),\n",
       "  ('배치장소',\n",
       "   '거실 내측 (실내깊이 300~500cm)거실 창측 (실내깊이 150~300cm)발코니 내측 (실내깊이 50~150cm)발코니 창측 (실내깊이 0~50cm)'),\n",
       "  ('생육적온', '21~25℃'),\n",
       "  ('겨울최저온도', '13℃ 이상'),\n",
       "  ('습도', '40 ~ 70%'),\n",
       "  ('비료', '비료를 보통 요구함'),\n",
       "  ('물주기-봄', '토양 표면이 말랐을때 충분히 관수함'),\n",
       "  ('물주기-여름', '토양 표면이 말랐을때 충분히 관수함'),\n",
       "  ('물주기-가을', '토양 표면이 말랐을때 충분히 관수함'),\n",
       "  ('물주기-겨울', '화분 흙 대부분 말랐을때 충분히 관수함'),\n",
       "  ('병충해', '응애,깍지벌레')],\n",
       " [('식물이름', '자금우'),\n",
       "  ('분류', '잎&꽃보기식물,열매보기식물'),\n",
       "  ('생육형태', '관목형,덩굴성'),\n",
       "  ('생장높이', '30'),\n",
       "  ('생장너비', '45'),\n",
       "  ('실내정원구성', '하층목'),\n",
       "  ('생태형', '일반형'),\n",
       "  ('잎무늬', '기타 (무늬없음 등)'),\n",
       "  ('잎색', '녹색, 연두색'),\n",
       "  ('꽃피는계절', '봄'),\n",
       "  ('꽃색', '흰색'),\n",
       "  ('열매맺는계절', '여름,가을'),\n",
       "  ('열매색', '빨강색'),\n",
       "  ('향기', '거의 없음'),\n",
       "  ('독성', 'All parts of plant are poisonous if ingested'),\n",
       "  ('번식방법', '파종,삽목,분주'),\n",
       "  ('관리수준', '초보자'),\n",
       "  ('관리요구도', '낮음 (잘 견딤)'),\n",
       "  ('광요구도', '낮은 광도(300~800 Lux),중간 광도(800~1,500 Lux),높은 광도(1,500~10,000 Lux)'),\n",
       "  ('배치장소',\n",
       "   '실내 어두운 곳 (실내깊이 500 이상cm)거실 내측 (실내깊이 300~500cm)거실 창측 (실내깊이 150~300cm)발코니 내측 (실내깊이 50~150cm)발코니 창측 (실내깊이 0~50cm)'),\n",
       "  ('생육적온', '16~20℃'),\n",
       "  ('겨울최저온도', '0℃ 이하'),\n",
       "  ('습도', '40 ~ 70%'),\n",
       "  ('비료', '비료를 보통 요구함'),\n",
       "  ('물주기-봄', '토양 표면이 말랐을때 충분히 관수함'),\n",
       "  ('물주기-여름', '토양 표면이 말랐을때 충분히 관수함'),\n",
       "  ('물주기-가을', '토양 표면이 말랐을때 충분히 관수함'),\n",
       "  ('물주기-겨울', '화분 흙 대부분 말랐을때 충분히 관수함'),\n",
       "  ('병충해', '응애,깍지벌레')],\n",
       " [('식물이름', '자란'),\n",
       "  ('분류', '잎&꽃보기식물'),\n",
       "  ('생육형태', '풀모양'),\n",
       "  ('생장높이', '40'),\n",
       "  ('생장너비', '30'),\n",
       "  ('실내정원구성', '하층목'),\n",
       "  ('생태형', '일반형'),\n",
       "  ('잎무늬', '잎 가장자리 무늬,기타 (무늬없음 등)'),\n",
       "  ('잎색', '녹색, 연두색'),\n",
       "  ('꽃피는계절', '봄'),\n",
       "  ('꽃색', '분홍색,흰색,혼합색'),\n",
       "  ('향기', '약함'),\n",
       "  ('번식방법', '파종,분주'),\n",
       "  ('관리수준', '초보자'),\n",
       "  ('관리요구도', '낮음 (잘 견딤)'),\n",
       "  ('광요구도', '중간 광도(800~1,500 Lux)'),\n",
       "  ('배치장소', '발코니 내측 (실내깊이 50~150cm)발코니 창측 (실내깊이 0~50cm)'),\n",
       "  ('생장속도', '보통'),\n",
       "  ('생육적온', '16~20℃'),\n",
       "  ('겨울최저온도', '5℃'),\n",
       "  ('습도', '40 ~ 70%'),\n",
       "  ('물주기-봄', '화분 흙 대부분 말랐을때 충분히 관수함'),\n",
       "  ('물주기-여름', '토양 표면이 말랐을때 충분히 관수함'),\n",
       "  ('물주기-가을', '토양 표면이 말랐을때 충분히 관수함'),\n",
       "  ('물주기-겨울', '화분 흙 대부분 말랐을때 충분히 관수함'),\n",
       "  ('병충해', '응애')],\n",
       " [('식물이름', '자주색만년초'),\n",
       "  ('분류', '잎보기식물'),\n",
       "  ('생육형태', '풀모양'),\n",
       "  ('생장높이', '30'),\n",
       "  ('생장너비', '30'),\n",
       "  ('실내정원구성', '하층목'),\n",
       "  ('생태형', '일반형'),\n",
       "  ('잎무늬', '줄무늬,기타 (무늬없음 등)'),\n",
       "  ('잎색', '녹색, 연두색,빨강, 분홍, 자주색'),\n",
       "  ('향기', '거의 없음'),\n",
       "  ('번식방법', '분주,기타'),\n",
       "  ('관리수준', '경험자'),\n",
       "  ('관리요구도', '보통 (약간 잘 견딤)'),\n",
       "  ('광요구도', '중간 광도(800~1,500 Lux),높은 광도(1,500~10,000 Lux)'),\n",
       "  ('배치장소', '거실 창측 (실내깊이 150~300cm)발코니 내측 (실내깊이 50~150cm)발코니 창측 (실내깊이 0~50cm)'),\n",
       "  ('생육적온', '21~25℃'),\n",
       "  ('겨울최저온도', '7℃'),\n",
       "  ('습도', '40 ~ 70%'),\n",
       "  ('비료', '비료를 보통 요구함'),\n",
       "  ('물주기-봄', '토양 표면이 말랐을때 충분히 관수함'),\n",
       "  ('물주기-여름', '토양 표면이 말랐을때 충분히 관수함'),\n",
       "  ('물주기-가을', '토양 표면이 말랐을때 충분히 관수함'),\n",
       "  ('물주기-겨울', '화분 흙 대부분 말랐을때 충분히 관수함'),\n",
       "  ('병충해', '응애')],\n",
       " [('식물이름', '접란'),\n",
       "  ('분류', '잎보기식물'),\n",
       "  ('생육형태', '풀모양,로제트형'),\n",
       "  ('생장높이', '30'),\n",
       "  ('생장너비', '30'),\n",
       "  ('실내정원구성', '하층목'),\n",
       "  ('생태형', '일반형'),\n",
       "  ('잎무늬', '줄무늬'),\n",
       "  ('잎색', '녹색, 연두색'),\n",
       "  ('향기', '거의 없음'),\n",
       "  ('번식방법', '분주'),\n",
       "  ('관리수준', '초보자'),\n",
       "  ('관리요구도', '낮음 (잘 견딤)'),\n",
       "  ('광요구도', '중간 광도(800~1,500 Lux),높은 광도(1,500~10,000 Lux)'),\n",
       "  ('배치장소', '거실 창측 (실내깊이 150~300cm)발코니 내측 (실내깊이 50~150cm)발코니 창측 (실내깊이 0~50cm)'),\n",
       "  ('생육적온', '16~20℃'),\n",
       "  ('겨울최저온도', '10℃'),\n",
       "  ('습도', '40 ~ 70%'),\n",
       "  ('비료', '비료를 보통 요구함'),\n",
       "  ('물주기-봄', '토양 표면이 말랐을때 충분히 관수함'),\n",
       "  ('물주기-여름', '토양 표면이 말랐을때 충분히 관수함'),\n",
       "  ('물주기-가을', '토양 표면이 말랐을때 충분히 관수함'),\n",
       "  ('물주기-겨울', '화분 흙 대부분 말랐을때 충분히 관수함'),\n",
       "  ('병충해', '응애,온실가루이')],\n",
       " [('식물이름', '제라니움'),\n",
       "  ('분류', '잎&꽃보기식물'),\n",
       "  ('생육형태', '관목형,풀모양'),\n",
       "  ('생장높이', '50'),\n",
       "  ('생장너비', '40'),\n",
       "  ('실내정원구성', '하층목'),\n",
       "  ('생태형', '일반형'),\n",
       "  ('잎무늬', '잎 가장자리 무늬,기타 (무늬없음 등)'),\n",
       "  ('잎색', '녹색, 연두색,여러색 혼합'),\n",
       "  ('꽃피는계절', '봄,여름,가을'),\n",
       "  ('꽃색', '분홍색,빨강색,오렌지색,흰색'),\n",
       "  ('향기', '강함'),\n",
       "  ('번식방법', '파종,삽목'),\n",
       "  ('관리수준', '초보자'),\n",
       "  ('관리요구도', '낮음 (잘 견딤)'),\n",
       "  ('광요구도', '중간 광도(800~1,500 Lux),높은 광도(1,500~10,000 Lux)'),\n",
       "  ('배치장소', '거실 창측 (실내깊이 150~300cm)발코니 내측 (실내깊이 50~150cm)발코니 창측 (실내깊이 0~50cm)'),\n",
       "  ('생장속도', '보통'),\n",
       "  ('생육적온', '21~25℃'),\n",
       "  ('겨울최저온도', '10℃'),\n",
       "  ('습도', '40 ~ 70%'),\n",
       "  ('비료', '비료를 보통 요구함'),\n",
       "  ('물주기-봄', '토양 표면이 말랐을때 충분히 관수함'),\n",
       "  ('물주기-여름', '토양 표면이 말랐을때 충분히 관수함'),\n",
       "  ('물주기-가을', '토양 표면이 말랐을때 충분히 관수함'),\n",
       "  ('물주기-겨울', '화분 흙 대부분 말랐을때 충분히 관수함'),\n",
       "  ('병충해', '응애,깍지벌레,온실가루이'),\n",
       "  ('특별관리', '겉흙이 마르기 시작하면 충분히 관수함')],\n",
       " [('식물이름', '좀마삭줄'),\n",
       "  ('분류', '잎보기식물'),\n",
       "  ('생육형태', '덩굴성'),\n",
       "  ('생장높이', '20'),\n",
       "  ('생장너비', '30'),\n",
       "  ('실내정원구성', '하층목,지피식물'),\n",
       "  ('생태형', '일반형'),\n",
       "  ('잎무늬', '점무늬'),\n",
       "  ('잎색', '녹색, 연두색,금색, 노란색'),\n",
       "  ('향기', '거의 없음'),\n",
       "  ('번식방법', '삽목,분주'),\n",
       "  ('관리수준', '경험자'),\n",
       "  ('관리요구도', '낮음 (잘 견딤)'),\n",
       "  ('광요구도', '중간 광도(800~1,500 Lux),높은 광도(1,500~10,000 Lux)'),\n",
       "  ('배치장소', '거실 창측 (실내깊이 150~300cm)발코니 내측 (실내깊이 50~150cm)발코니 창측 (실내깊이 0~50cm)'),\n",
       "  ('생육적온', '16~20℃'),\n",
       "  ('겨울최저온도', '0℃ 이하'),\n",
       "  ('습도', '40 ~ 70%'),\n",
       "  ('비료', '비료를 보통 요구함'),\n",
       "  ('물주기-봄', '흙을 촉촉하게 유지함(물에 잠기지 않도록 주의)'),\n",
       "  ('물주기-여름', '흙을 촉촉하게 유지함(물에 잠기지 않도록 주의)'),\n",
       "  ('물주기-가을', '흙을 촉촉하게 유지함(물에 잠기지 않도록 주의)'),\n",
       "  ('물주기-겨울', '토양 표면이 말랐을때 충분히 관수함'),\n",
       "  ('병충해', '응애,깍지벌레')],\n",
       " [('식물이름', '종려방동사니'),\n",
       "  ('분류', '잎보기식물'),\n",
       "  ('생육형태', '풀모양'),\n",
       "  ('생장높이', '50'),\n",
       "  ('생장너비', '30'),\n",
       "  ('실내정원구성', '중층목,하층목'),\n",
       "  ('생태형', '수경형'),\n",
       "  ('잎무늬', '기타 (무늬없음 등)'),\n",
       "  ('잎색', '녹색, 연두색'),\n",
       "  ('향기', '거의 없음'),\n",
       "  ('번식방법', '파종,분주'),\n",
       "  ('관리수준', '경험자'),\n",
       "  ('관리요구도', '보통 (약간 잘 견딤)'),\n",
       "  ('광요구도', '중간 광도(800~1,500 Lux),높은 광도(1,500~10,000 Lux)'),\n",
       "  ('배치장소', '거실 창측 (실내깊이 150~300cm)발코니 내측 (실내깊이 50~150cm)발코니 창측 (실내깊이 0~50cm)'),\n",
       "  ('생육적온', '16~20℃'),\n",
       "  ('겨울최저온도', '10℃'),\n",
       "  ('습도', '40 ~ 70%'),\n",
       "  ('비료', '비료를 보통 요구함'),\n",
       "  ('병충해', '응애,깍지벌레')],\n",
       " [('식물이름', '종려죽'),\n",
       "  ('분류', '잎보기식물'),\n",
       "  ('생육형태', '관목형'),\n",
       "  ('생장높이', '200'),\n",
       "  ('생장너비', '100'),\n",
       "  ('실내정원구성', '상층목,중층목'),\n",
       "  ('생태형', '일반형'),\n",
       "  ('잎무늬', '기타 (무늬없음 등)'),\n",
       "  ('잎색', '녹색, 연두색'),\n",
       "  ('향기', '거의 없음'),\n",
       "  ('독성', 'unknown'),\n",
       "  ('번식방법', '파종,분주'),\n",
       "  ('관리수준', '경험자'),\n",
       "  ('관리요구도', '보통 (약간 잘 견딤)'),\n",
       "  ('광요구도', '중간 광도(800~1,500 Lux),높은 광도(1,500~10,000 Lux)'),\n",
       "  ('배치장소',\n",
       "   '거실 내측 (실내깊이 300~500cm)거실 창측 (실내깊이 150~300cm)발코니 내측 (실내깊이 50~150cm)'),\n",
       "  ('생육적온', '16~20℃'),\n",
       "  ('겨울최저온도', '10℃'),\n",
       "  ('습도', '40 ~ 70%'),\n",
       "  ('비료', '비료를 보통 요구함'),\n",
       "  ('물주기-봄', '토양 표면이 말랐을때 충분히 관수함'),\n",
       "  ('물주기-여름', '토양 표면이 말랐을때 충분히 관수함'),\n",
       "  ('물주기-가을', '토양 표면이 말랐을때 충분히 관수함'),\n",
       "  ('물주기-겨울', '화분 흙 대부분 말랐을때 충분히 관수함'),\n",
       "  ('병충해', '응애,깍지벌레')],\n",
       " [('식물이름', '죽백나무'),\n",
       "  ('분류', '잎보기식물'),\n",
       "  ('생육형태', '직립형'),\n",
       "  ('생장높이', '100'),\n",
       "  ('생장너비', '50'),\n",
       "  ('실내정원구성', '상층목,중층목'),\n",
       "  ('생태형', '일반형'),\n",
       "  ('잎무늬', '기타 (무늬없음 등)'),\n",
       "  ('잎색', '녹색, 연두색'),\n",
       "  ('향기', '약함'),\n",
       "  ('번식방법', '파종,삽목'),\n",
       "  ('관리수준', '초보자'),\n",
       "  ('관리요구도', '낮음 (잘 견딤)'),\n",
       "  ('광요구도', '중간 광도(800~1,500 Lux),높은 광도(1,500~10,000 Lux)'),\n",
       "  ('배치장소', '거실 창측 (실내깊이 150~300cm)발코니 내측 (실내깊이 50~150cm)발코니 창측 (실내깊이 0~50cm)'),\n",
       "  ('생육적온', '16~20℃'),\n",
       "  ('겨울최저온도', '10℃'),\n",
       "  ('습도', '40 ~ 70%'),\n",
       "  ('비료', '비료를 보통 요구함'),\n",
       "  ('물주기-봄', '토양 표면이 말랐을때 충분히 관수함'),\n",
       "  ('물주기-여름', '토양 표면이 말랐을때 충분히 관수함'),\n",
       "  ('물주기-가을', '토양 표면이 말랐을때 충분히 관수함'),\n",
       "  ('물주기-겨울', '토양 표면이 말랐을때 충분히 관수함'),\n",
       "  ('병충해', '응애,깍지벌레')],\n",
       " [('식물이름', '줄리아 페페로미아'),\n",
       "  ('분류', '잎보기식물'),\n",
       "  ('생육형태', '풀모양'),\n",
       "  ('생장높이', '20'),\n",
       "  ('생장너비', '30'),\n",
       "  ('실내정원구성', '하층목,지피식물'),\n",
       "  ('생태형', '일반형'),\n",
       "  ('잎무늬', '줄무늬'),\n",
       "  ('잎색', '녹색, 연두색'),\n",
       "  ('향기', '거의 없음'),\n",
       "  ('번식방법', '삽목'),\n",
       "  ('관리수준', '경험자'),\n",
       "  ('관리요구도', '필요함'),\n",
       "  ('광요구도', '중간 광도(800~1,500 Lux),높은 광도(1,500~10,000 Lux)'),\n",
       "  ('배치장소', '거실 창측 (실내깊이 150~300cm)발코니 내측 (실내깊이 50~150cm)발코니 창측 (실내깊이 0~50cm)'),\n",
       "  ('생육적온', '21~25℃'),\n",
       "  ('겨울최저온도', '13℃ 이상'),\n",
       "  ('습도', '40 ~ 70%'),\n",
       "  ('비료', '비료를 보통 요구함'),\n",
       "  ('물주기-봄', '토양 표면이 말랐을때 충분히 관수함'),\n",
       "  ('물주기-여름', '토양 표면이 말랐을때 충분히 관수함'),\n",
       "  ('물주기-가을', '토양 표면이 말랐을때 충분히 관수함'),\n",
       "  ('물주기-겨울', '화분 흙 대부분 말랐을때 충분히 관수함'),\n",
       "  ('병충해', '응애,깍지벌레')],\n",
       " [('식물이름', '참쇠고비(섬쇠고비)'),\n",
       "  ('분류', '잎보기식물'),\n",
       "  ('생육형태', '풀모양'),\n",
       "  ('생장높이', '40'),\n",
       "  ('생장너비', '40'),\n",
       "  ('실내정원구성', '하층목'),\n",
       "  ('생태형', '일반형'),\n",
       "  ('잎색', '녹색, 연두색'),\n",
       "  ('향기', '거의 없음'),\n",
       "  ('번식방법', '파종,기타'),\n",
       "  ('관리수준', '초보자'),\n",
       "  ('관리요구도', '낮음 (잘 견딤)'),\n",
       "  ('광요구도', '낮은 광도(300~800 Lux),중간 광도(800~1,500 Lux),높은 광도(1,500~10,000 Lux)'),\n",
       "  ('배치장소',\n",
       "   '실내 어두운 곳 (실내깊이 500 이상cm)거실 내측 (실내깊이 300~500cm)거실 창측 (실내깊이 150~300cm)발코니 내측 (실내깊이 50~150cm)발코니 창측 (실내깊이 0~50cm)'),\n",
       "  ('생육적온', '16~20℃'),\n",
       "  ('겨울최저온도', '5℃'),\n",
       "  ('습도', '70% 이상'),\n",
       "  ('비료', '비료를 보통 요구함'),\n",
       "  ('물주기-봄', '흙을 촉촉하게 유지함(물에 잠기지 않도록 주의)'),\n",
       "  ('물주기-여름', '흙을 촉촉하게 유지함(물에 잠기지 않도록 주의)'),\n",
       "  ('물주기-가을', '흙을 촉촉하게 유지함(물에 잠기지 않도록 주의)'),\n",
       "  ('물주기-겨울', '토양 표면이 말랐을때 충분히 관수함'),\n",
       "  ('병충해', '응애,깍지벌레')],\n",
       " [('식물이름', '치자나무'),\n",
       "  ('분류', '잎&꽃보기식물,열매보기식물'),\n",
       "  ('생육형태', '관목형'),\n",
       "  ('생장높이', '100'),\n",
       "  ('생장너비', '50'),\n",
       "  ('실내정원구성', '상층목,중층목'),\n",
       "  ('생태형', '일반형'),\n",
       "  ('잎무늬', '기타 (무늬없음 등)'),\n",
       "  ('잎색', '녹색, 연두색'),\n",
       "  ('꽃피는계절', '봄,여름'),\n",
       "  ('꽃색', '노랑색,흰색'),\n",
       "  ('열매맺는계절', '가을,겨울'),\n",
       "  ('열매색', '오렌지색,노랑색'),\n",
       "  ('향기', '강함'),\n",
       "  ('번식방법', '삽목'),\n",
       "  ('관리수준', '초보자'),\n",
       "  ('관리요구도', '낮음 (잘 견딤)'),\n",
       "  ('광요구도', '중간 광도(800~1,500 Lux),높은 광도(1,500~10,000 Lux)'),\n",
       "  ('배치장소', '발코니 내측 (실내깊이 50~150cm)발코니 창측 (실내깊이 0~50cm)'),\n",
       "  ('생장속도', '보통'),\n",
       "  ('생육적온', '21~25℃'),\n",
       "  ('겨울최저온도', '5℃'),\n",
       "  ('습도', '40 ~ 70%'),\n",
       "  ('물주기-봄', '화분 흙 대부분 말랐을때 충분히 관수함'),\n",
       "  ('물주기-여름', '토양 표면이 말랐을때 충분히 관수함'),\n",
       "  ('물주기-가을', '토양 표면이 말랐을때 충분히 관수함'),\n",
       "  ('물주기-겨울', '화분 흙 대부분 말랐을때 충분히 관수함'),\n",
       "  ('병충해', '깍지벌레')],\n",
       " [('식물이름', '칼라데아 마코야나'),\n",
       "  ('분류', '잎보기식물'),\n",
       "  ('생육형태', '풀모양'),\n",
       "  ('생장높이', '50'),\n",
       "  ('생장너비', '30'),\n",
       "  ('실내정원구성', '하층목'),\n",
       "  ('생태형', '일반형'),\n",
       "  ('잎무늬', '줄무늬'),\n",
       "  ('잎색', '녹색, 연두색,빨강, 분홍, 자주색'),\n",
       "  ('향기', '거의 없음'),\n",
       "  ('독성', 'N/A'),\n",
       "  ('번식방법', '분주,기타'),\n",
       "  ('관리수준', '경험자'),\n",
       "  ('관리요구도', '필요함'),\n",
       "  ('광요구도', '중간 광도(800~1,500 Lux),높은 광도(1,500~10,000 Lux)'),\n",
       "  ('배치장소', '거실 창측 (실내깊이 150~300cm)발코니 내측 (실내깊이 50~150cm)'),\n",
       "  ('생육적온', '21~25℃'),\n",
       "  ('겨울최저온도', '13℃ 이상'),\n",
       "  ('습도', '40 ~ 70%'),\n",
       "  ('비료', '비료를 보통 요구함'),\n",
       "  ('물주기-봄', '토양 표면이 말랐을때 충분히 관수함'),\n",
       "  ('물주기-여름', '토양 표면이 말랐을때 충분히 관수함'),\n",
       "  ('물주기-가을', '토양 표면이 말랐을때 충분히 관수함'),\n",
       "  ('물주기-겨울', '화분 흙 대부분 말랐을때 충분히 관수함'),\n",
       "  ('병충해', '응애,깍지벌레')],\n",
       " [('식물이름', '칼라데아 인시그니스'),\n",
       "  ('분류', '잎보기식물'),\n",
       "  ('생육형태', '풀모양'),\n",
       "  ('생장높이', '50'),\n",
       "  ('생장너비', '30'),\n",
       "  ('실내정원구성', '하층목'),\n",
       "  ('생태형', '일반형'),\n",
       "  ('잎무늬', '줄무늬'),\n",
       "  ('잎색', '녹색, 연두색,빨강, 분홍, 자주색'),\n",
       "  ('향기', '거의 없음'),\n",
       "  ('독성', '알려져 있지 않음'),\n",
       "  ('번식방법', '분주,기타'),\n",
       "  ('관리수준', '경험자'),\n",
       "  ('관리요구도', '필요함'),\n",
       "  ('광요구도', '중간 광도(800~1,500 Lux),높은 광도(1,500~10,000 Lux)'),\n",
       "  ('배치장소', '거실 창측 (실내깊이 150~300cm)발코니 내측 (실내깊이 50~150cm)'),\n",
       "  ('생장속도', '보통'),\n",
       "  ('생육적온', '21~25℃'),\n",
       "  ('겨울최저온도', '13℃ 이상'),\n",
       "  ('습도', '40 ~ 70%'),\n",
       "  ('비료', '비료를 보통 요구함'),\n",
       "  ('물주기-봄', '토양 표면이 말랐을때 충분히 관수함'),\n",
       "  ('물주기-여름', '토양 표면이 말랐을때 충분히 관수함'),\n",
       "  ('물주기-가을', '토양 표면이 말랐을때 충분히 관수함'),\n",
       "  ('물주기-겨울', '화분 흙 대부분 말랐을때 충분히 관수함'),\n",
       "  ('병충해', '응애,깍지벌레'),\n",
       "  ('특별관리',\n",
       "   '어두운 곳에 오래 있으면 잎 끝이 아래로 처지거나 싹 끝이 시드는 등의 증상이 있고, 건조할 경우에는 잎이 말리는 현상이 있으므로 직사광선을 피한다.')],\n",
       " [('식물이름', '칼라데아 크로카타'),\n",
       "  ('분류', '잎&꽃보기식물'),\n",
       "  ('생육형태', '풀모양'),\n",
       "  ('생장높이', '40'),\n",
       "  ('생장너비', '30'),\n",
       "  ('실내정원구성', '하층목'),\n",
       "  ('생태형', '일반형'),\n",
       "  ('잎무늬', '기타 (무늬없음 등)'),\n",
       "  ('잎색', '녹색, 연두색,빨강, 분홍, 자주색'),\n",
       "  ('꽃피는계절', '봄,여름'),\n",
       "  ('꽃색', '오렌지색,노랑색'),\n",
       "  ('향기', '거의 없음'),\n",
       "  ('번식방법', '분주,기타'),\n",
       "  ('관리요구도', '필요함'),\n",
       "  ('광요구도', '중간 광도(800~1,500 Lux),높은 광도(1,500~10,000 Lux)'),\n",
       "  ('배치장소', '거실 창측 (실내깊이 150~300cm)발코니 내측 (실내깊이 50~150cm)'),\n",
       "  ('생육적온', '21~25℃'),\n",
       "  ('겨울최저온도', '13℃ 이상'),\n",
       "  ('습도', '40 ~ 70%'),\n",
       "  ('비료', '비료를 보통 요구함'),\n",
       "  ('물주기-봄', '토양 표면이 말랐을때 충분히 관수함'),\n",
       "  ('물주기-여름', '토양 표면이 말랐을때 충분히 관수함'),\n",
       "  ('물주기-가을', '토양 표면이 말랐을때 충분히 관수함'),\n",
       "  ('물주기-겨울', '화분 흙 대부분 말랐을때 충분히 관수함'),\n",
       "  ('병충해', '응애,깍지벌레')],\n",
       " [('식물이름', '칼라디움'),\n",
       "  ('분류', '잎보기식물'),\n",
       "  ('생육형태', '풀모양'),\n",
       "  ('생장높이', '50'),\n",
       "  ('생장너비', '30'),\n",
       "  ('실내정원구성', '중층목,하층목'),\n",
       "  ('생태형', '일반형'),\n",
       "  ('잎무늬', '줄무늬,점무늬,잎 가장자리 무늬'),\n",
       "  ('잎색', '녹색, 연두색,빨강, 분홍, 자주색,여러색 혼합'),\n",
       "  ('향기', '거의 없음'),\n",
       "  ('번식방법', '파종,기타'),\n",
       "  ('관리수준', '전문가'),\n",
       "  ('관리요구도', '특별 관리 요구'),\n",
       "  ('광요구도', '중간 광도(800~1,500 Lux),높은 광도(1,500~10,000 Lux)'),\n",
       "  ('배치장소', '거실 창측 (실내깊이 150~300cm)발코니 내측 (실내깊이 50~150cm)'),\n",
       "  ('생장속도', '보통'),\n",
       "  ('생육적온', '21~25℃'),\n",
       "  ('겨울최저온도', '13℃ 이상'),\n",
       "  ('습도', '40 ~ 70%'),\n",
       "  ('비료', '비료를 보통 요구함'),\n",
       "  ('물주기-봄', '토양 표면이 말랐을때 충분히 관수함'),\n",
       "  ('물주기-여름', '토양 표면이 말랐을때 충분히 관수함'),\n",
       "  ('물주기-가을', '토양 표면이 말랐을때 충분히 관수함'),\n",
       "  ('물주기-겨울', '화분 흙 대부분 말랐을때 충분히 관수함'),\n",
       "  ('병충해', '응애,온실가루이')],\n",
       " [('식물이름', '칼랑코에'),\n",
       "  ('분류', '꽃보기식물'),\n",
       "  ('생육형태', '풀모양,다육형'),\n",
       "  ('생장높이', '30'),\n",
       "  ('생장너비', '25'),\n",
       "  ('실내정원구성', '하층목'),\n",
       "  ('생태형', '일반형,건조형'),\n",
       "  ('잎무늬', '기타 (무늬없음 등)'),\n",
       "  ('잎색', '녹색, 연두색,빨강, 분홍, 자주색'),\n",
       "  ('꽃피는계절', '봄,겨울'),\n",
       "  ('꽃색', '보라색,분홍색,오렌지색,노랑색,흰색'),\n",
       "  ('향기', '거의 없음'),\n",
       "  ('독성', 'All parts of plant are poisonous if ingested'),\n",
       "  ('번식방법', '삽목'),\n",
       "  ('관리수준', '초보자'),\n",
       "  ('관리요구도', '필요함'),\n",
       "  ('광요구도', '중간 광도(800~1,500 Lux),높은 광도(1,500~10,000 Lux)'),\n",
       "  ('배치장소', '거실 창측 (실내깊이 150~300cm)발코니 내측 (실내깊이 50~150cm)발코니 창측 (실내깊이 0~50cm)'),\n",
       "  ('생육적온', '16~20℃'),\n",
       "  ('겨울최저온도', '13℃ 이상'),\n",
       "  ('습도', '40 ~ 70%'),\n",
       "  ('비료', '비료를 보통 요구함'),\n",
       "  ('토양', '포름알데히드, 자일렌'),\n",
       "  ('물주기-봄', '토양 표면이 말랐을때 충분히 관수함'),\n",
       "  ('물주기-여름', '토양 표면이 말랐을때 충분히 관수함'),\n",
       "  ('물주기-가을', '토양 표면이 말랐을때 충분히 관수함'),\n",
       "  ('물주기-겨울', '화분 흙 대부분 말랐을때 충분히 관수함'),\n",
       "  ('병충해', '응애,깍지벌레'),\n",
       "  ('병충해관리', '깍지벌레, 개각충')],\n",
       " [('식물이름', '커피나무'),\n",
       "  ('분류', '잎보기식물,열매보기식물'),\n",
       "  ('생육형태', '직립형'),\n",
       "  ('생장높이', '150'),\n",
       "  ('생장너비', '50'),\n",
       "  ('실내정원구성', '상층목,중층목'),\n",
       "  ('생태형', '일반형'),\n",
       "  ('잎무늬', '기타 (무늬없음 등)'),\n",
       "  ('잎색', '녹색, 연두색'),\n",
       "  ('꽃피는계절', '봄'),\n",
       "  ('꽃색', '흰색'),\n",
       "  ('열매맺는계절', '여름,가을'),\n",
       "  ('열매색', '빨강색'),\n",
       "  ('향기', '약함'),\n",
       "  ('독성', 'N/A'),\n",
       "  ('번식방법', '파종,삽목'),\n",
       "  ('관리수준', '경험자'),\n",
       "  ('관리요구도', '필요함'),\n",
       "  ('광요구도', '높은 광도(1,500~10,000 Lux)'),\n",
       "  ('배치장소', '거실 창측 (실내깊이 150~300cm)발코니 내측 (실내깊이 50~150cm)발코니 창측 (실내깊이 0~50cm)'),\n",
       "  ('생장속도', '보통'),\n",
       "  ('생육적온', '21~25℃'),\n",
       "  ('겨울최저온도', '13℃ 이상'),\n",
       "  ('습도', '40 ~ 70%'),\n",
       "  ('비료', '비료를 보통 요구함'),\n",
       "  ('물주기-봄', '토양 표면이 말랐을때 충분히 관수함'),\n",
       "  ('물주기-여름', '토양 표면이 말랐을때 충분히 관수함'),\n",
       "  ('물주기-가을', '토양 표면이 말랐을때 충분히 관수함'),\n",
       "  ('물주기-겨울', '화분 흙 대부분 말랐을때 충분히 관수함'),\n",
       "  ('병충해', '응애,깍지벌레,온실가루이'),\n",
       "  ('병충해관리', '온실가루이, 깍지벌레, 개각충')],\n",
       " [('식물이름', '켄챠야자'),\n",
       "  ('분류', '잎보기식물'),\n",
       "  ('생육형태', '직립형'),\n",
       "  ('생장높이', '200'),\n",
       "  ('생장너비', '150'),\n",
       "  ('실내정원구성', '상층목,중층목'),\n",
       "  ('생태형', '일반형'),\n",
       "  ('잎무늬', '기타 (무늬없음 등)'),\n",
       "  ('향기', '거의 없음'),\n",
       "  ('번식방법', '파종'),\n",
       "  ('관리수준', '경험자'),\n",
       "  ('관리요구도', '필요함'),\n",
       "  ('광요구도', '중간 광도(800~1,500 Lux),높은 광도(1,500~10,000 Lux)'),\n",
       "  ('배치장소',\n",
       "   '거실 내측 (실내깊이 300~500cm)거실 창측 (실내깊이 150~300cm)발코니 내측 (실내깊이 50~150cm)발코니 창측 (실내깊이 0~50cm)'),\n",
       "  ('생육적온', '21~25℃'),\n",
       "  ('겨울최저온도', '13℃ 이상'),\n",
       "  ('습도', '40 ~ 70%'),\n",
       "  ('비료', '비료를 보통 요구함'),\n",
       "  ('토양', '포름알데히드, 벤젠, 톨루엔, 자일렌, 트리클로로 에틸렌'),\n",
       "  ('물주기-봄', '토양 표면이 말랐을때 충분히 관수함'),\n",
       "  ('물주기-여름', '토양 표면이 말랐을때 충분히 관수함'),\n",
       "  ('물주기-가을', '토양 표면이 말랐을때 충분히 관수함'),\n",
       "  ('물주기-겨울', '토양 표면이 말랐을때 충분히 관수함'),\n",
       "  ('병충해', '응애,깍지벌레'),\n",
       "  ('병충해관리', '깍지벌레, 개각충, 응애')],\n",
       " [('식물이름', '코르딜리네 레드에지'),\n",
       "  ('분류', '잎보기식물'),\n",
       "  ('생육형태', '직립형'),\n",
       "  ('생장높이', '150'),\n",
       "  ('생장너비', '40'),\n",
       "  ('실내정원구성', '상층목,중층목'),\n",
       "  ('생태형', '일반형'),\n",
       "  ('잎무늬', '잎 가장자리 무늬'),\n",
       "  ('잎색', '녹색, 연두색'),\n",
       "  ('향기', '중간'),\n",
       "  ('번식방법', '삽목'),\n",
       "  ('관리수준', '경험자'),\n",
       "  ('관리요구도', '필요함'),\n",
       "  ('광요구도', '중간 광도(800~1,500 Lux),높은 광도(1,500~10,000 Lux)'),\n",
       "  ('배치장소', '거실 창측 (실내깊이 150~300cm)발코니 내측 (실내깊이 50~150cm)발코니 창측 (실내깊이 0~50cm)'),\n",
       "  ('생육적온', '21~25℃'),\n",
       "  ('겨울최저온도', '13℃ 이상'),\n",
       "  ('습도', '40 ~ 70%'),\n",
       "  ('비료', '비료를 보통 요구함'),\n",
       "  ('물주기-봄', '흙을 촉촉하게 유지함(물에 잠기지 않도록 주의)'),\n",
       "  ('물주기-여름', '흙을 촉촉하게 유지함(물에 잠기지 않도록 주의)'),\n",
       "  ('물주기-가을', '흙을 촉촉하게 유지함(물에 잠기지 않도록 주의)'),\n",
       "  ('물주기-겨울', '토양 표면이 말랐을때 충분히 관수함'),\n",
       "  ('병충해', '응애,깍지벌레')],\n",
       " [('식물이름', '크로톤'),\n",
       "  ('분류', '잎보기식물'),\n",
       "  ('생육형태', '관목형'),\n",
       "  ('생장높이', '100'),\n",
       "  ('생장너비', '50'),\n",
       "  ('실내정원구성', '중층목'),\n",
       "  ('생태형', '일반형'),\n",
       "  ('잎무늬', '줄무늬,점무늬,잎 가장자리 무늬,기타 (무늬없음 등)'),\n",
       "  ('잎색', '녹색, 연두색,금색, 노란색,흰색, 크림색,여러색 혼합'),\n",
       "  ('향기', '약함'),\n",
       "  ('번식방법', '삽목'),\n",
       "  ('관리수준', '경험자'),\n",
       "  ('관리요구도', '필요함'),\n",
       "  ('광요구도', '중간 광도(800~1,500 Lux),높은 광도(1,500~10,000 Lux)'),\n",
       "  ('배치장소', '거실 창측 (실내깊이 150~300cm)발코니 내측 (실내깊이 50~150cm)발코니 창측 (실내깊이 0~50cm)'),\n",
       "  ('생육적온', '21~25℃'),\n",
       "  ('겨울최저온도', '13℃ 이상'),\n",
       "  ('습도', '40 ~ 70%'),\n",
       "  ('비료', '비료를 보통 요구함'),\n",
       "  ('물주기-봄', '토양 표면이 말랐을때 충분히 관수함'),\n",
       "  ('물주기-여름', '토양 표면이 말랐을때 충분히 관수함'),\n",
       "  ('물주기-가을', '토양 표면이 말랐을때 충분히 관수함'),\n",
       "  ('물주기-겨울', '화분 흙 대부분 말랐을때 충분히 관수함'),\n",
       "  ('병충해', '응애,깍지벌레'),\n",
       "  ('특별관리', '온도에 대해서는 민감하게 반응하여 저온조건에서는 잎이 잘 떨어짐, 매년 봄에 분을 갈아준다.')],\n",
       " [('식물이름', '크로톤'),\n",
       "  ('분류', '잎보기식물'),\n",
       "  ('생육형태', '관목형'),\n",
       "  ('생장높이', '100'),\n",
       "  ('생장너비', '50'),\n",
       "  ('실내정원구성', '중층목'),\n",
       "  ('생태형', '일반형'),\n",
       "  ('잎무늬', '줄무늬,점무늬,잎 가장자리 무늬'),\n",
       "  ('잎색', '녹색, 연두색,금색, 노란색,여러색 혼합'),\n",
       "  ('향기', '약함'),\n",
       "  ('번식방법', '삽목'),\n",
       "  ('관리수준', '경험자'),\n",
       "  ('관리요구도', '필요함'),\n",
       "  ('광요구도', '중간 광도(800~1,500 Lux),높은 광도(1,500~10,000 Lux)'),\n",
       "  ('배치장소', '거실 창측 (실내깊이 150~300cm)발코니 내측 (실내깊이 50~150cm)발코니 창측 (실내깊이 0~50cm)'),\n",
       "  ('생장속도', '보통'),\n",
       "  ('생육적온', '21~25℃'),\n",
       "  ('겨울최저온도', '13℃ 이상'),\n",
       "  ('습도', '40 ~ 70%'),\n",
       "  ('비료', '비료를 보통 요구함'),\n",
       "  ('물주기-봄', '토양 표면이 말랐을때 충분히 관수함'),\n",
       "  ('물주기-여름', '토양 표면이 말랐을때 충분히 관수함'),\n",
       "  ('물주기-가을', '토양 표면이 말랐을때 충분히 관수함'),\n",
       "  ('물주기-겨울', '화분 흙 대부분 말랐을때 충분히 관수함'),\n",
       "  ('병충해', '응애,깍지벌레')],\n",
       " [('식물이름', '크립탄서스'),\n",
       "  ('분류', '잎보기식물'),\n",
       "  ('생육형태', '로제트형'),\n",
       "  ('생장너비', '37'),\n",
       "  ('잎무늬', '줄무늬'),\n",
       "  ('잎색', '녹색, 연두색,여러색 혼합'),\n",
       "  ('번식방법', '분주'),\n",
       "  ('관리요구도', '필요함'),\n",
       "  ('광요구도', '중간 광도(800~1,500 Lux),높은 광도(1,500~10,000 Lux)'),\n",
       "  ('배치장소', '거실 창측 (실내깊이 150~300cm)발코니 내측 (실내깊이 50~150cm)발코니 창측 (실내깊이 0~50cm)'),\n",
       "  ('생육적온', '21~25℃'),\n",
       "  ('겨울최저온도', '13℃ 이상'),\n",
       "  ('습도', '40 ~ 70%'),\n",
       "  ('비료', '비료를 보통 요구함'),\n",
       "  ('물주기-봄', '토양 표면이 말랐을때 충분히 관수함'),\n",
       "  ('물주기-여름', '토양 표면이 말랐을때 충분히 관수함'),\n",
       "  ('물주기-가을', '토양 표면이 말랐을때 충분히 관수함'),\n",
       "  ('물주기-겨울', '토양 표면이 말랐을때 충분히 관수함'),\n",
       "  ('병충해관리', '개각충')],\n",
       " [('식물이름', '클레마티스'),\n",
       "  ('분류', '꽃보기식물'),\n",
       "  ('생육형태', '덩굴성'),\n",
       "  ('생장높이', '50'),\n",
       "  ('생장너비', '30'),\n",
       "  ('실내정원구성', '중층목'),\n",
       "  ('생태형', '일반형'),\n",
       "  ('잎무늬', '기타 (무늬없음 등)'),\n",
       "  ('잎색', '녹색, 연두색'),\n",
       "  ('꽃피는계절', '봄,여름'),\n",
       "  ('꽃색', '보라색,분홍색,빨강색,흰색'),\n",
       "  ('향기', '약함'),\n",
       "  ('번식방법', '삽목'),\n",
       "  ('관리수준', '경험자'),\n",
       "  ('관리요구도', '낮음 (잘 견딤)'),\n",
       "  ('광요구도', '높은 광도(1,500~10,000 Lux)'),\n",
       "  ('배치장소', '발코니 창측 (실내깊이 0~50cm)'),\n",
       "  ('생장속도', '빠름'),\n",
       "  ('생육적온', '21~25℃'),\n",
       "  ('겨울최저온도', '0℃ 이하'),\n",
       "  ('비료', '2주 1회 정도 복합비료 필요'),\n",
       "  ('물주기-봄', '흙을 촉촉하게 유지함(물에 잠기지 않도록 주의)'),\n",
       "  ('물주기-여름', '흙을 촉촉하게 유지함(물에 잠기지 않도록 주의)'),\n",
       "  ('물주기-가을', '흙을 촉촉하게 유지함(물에 잠기지 않도록 주의)'),\n",
       "  ('물주기-겨울', '토양 표면이 말랐을때 충분히 관수함'),\n",
       "  ('병충해', '응애,온실가루이')],\n",
       " [('식물이름', '털달개비'),\n",
       "  ('분류', '잎&꽃보기식물'),\n",
       "  ('생육형태', '다육형'),\n",
       "  ('생장높이', '25'),\n",
       "  ('생장너비', '30'),\n",
       "  ('실내정원구성', '하층목'),\n",
       "  ('생태형', '건조형'),\n",
       "  ('잎무늬', '기타 (무늬없음 등)'),\n",
       "  ('잎색', '녹색, 연두색,은색, 회색'),\n",
       "  ('꽃피는계절', '봄,여름'),\n",
       "  ('꽃색', '보라색,분홍색'),\n",
       "  ('향기', '거의 없음'),\n",
       "  ('번식방법', '삽목'),\n",
       "  ('관리수준', '경험자'),\n",
       "  ('관리요구도', '보통 (약간 잘 견딤)'),\n",
       "  ('광요구도', '높은 광도(1,500~10,000 Lux)'),\n",
       "  ('배치장소', '거실 창측 (실내깊이 150~300cm)발코니 내측 (실내깊이 50~150cm)발코니 창측 (실내깊이 0~50cm)'),\n",
       "  ('생장속도', '느림'),\n",
       "  ('생육적온', '21~25℃'),\n",
       "  ('겨울최저온도', '13℃ 이상'),\n",
       "  ('습도', '40 ~ 70%'),\n",
       "  ('물주기-봄', '화분 흙 대부분 말랐을때 충분히 관수함'),\n",
       "  ('물주기-여름', '토양 표면이 말랐을때 충분히 관수함'),\n",
       "  ('물주기-가을', '토양 표면이 말랐을때 충분히 관수함'),\n",
       "  ('물주기-겨울', '화분 흙 대부분 말랐을때 충분히 관수함'),\n",
       "  ('병충해', '응애')],\n",
       " [('식물이름', '털머위'),\n",
       "  ('분류', '잎&꽃보기식물'),\n",
       "  ('생육형태', '풀모양'),\n",
       "  ('생장높이', '40'),\n",
       "  ('생장너비', '30'),\n",
       "  ('실내정원구성', '하층목'),\n",
       "  ('생태형', '일반형'),\n",
       "  ('잎무늬', '기타 (무늬없음 등)'),\n",
       "  ('잎색', '녹색, 연두색'),\n",
       "  ('꽃피는계절', '봄,여름'),\n",
       "  ('꽃색', '노랑색'),\n",
       "  ('향기', '거의 없음'),\n",
       "  ('번식방법', '파종,분주'),\n",
       "  ('관리요구도', '보통 (약간 잘 견딤)'),\n",
       "  ('광요구도', '낮은 광도(300~800 Lux),중간 광도(800~1,500 Lux),높은 광도(1,500~10,000 Lux)'),\n",
       "  ('배치장소', '거실 창측 (실내깊이 150~300cm)발코니 내측 (실내깊이 50~150cm)발코니 창측 (실내깊이 0~50cm)'),\n",
       "  ('생육적온', '16~20℃'),\n",
       "  ('겨울최저온도', '5℃'),\n",
       "  ('습도', '40 ~ 70%'),\n",
       "  ('비료', '비료를 보통 요구함'),\n",
       "  ('물주기-봄', '토양 표면이 말랐을때 충분히 관수함'),\n",
       "  ('물주기-여름', '토양 표면이 말랐을때 충분히 관수함'),\n",
       "  ('물주기-가을', '토양 표면이 말랐을때 충분히 관수함'),\n",
       "  ('물주기-겨울', '토양 표면이 말랐을때 충분히 관수함'),\n",
       "  ('병충해', '응애,깍지벌레,온실가루이')],\n",
       " [('식물이름', '테이블야자'),\n",
       "  ('분류', '잎보기식물'),\n",
       "  ('생육형태', '직립형'),\n",
       "  ('생장높이', '200'),\n",
       "  ('생장너비', '50'),\n",
       "  ('실내정원구성', '상층목'),\n",
       "  ('생태형', '일반형'),\n",
       "  ('잎무늬', '기타 (무늬없음 등)'),\n",
       "  ('잎색', '녹색, 연두색'),\n",
       "  ('향기', '약함'),\n",
       "  ('번식방법', '파종,분주,기타'),\n",
       "  ('관리수준', '초보자'),\n",
       "  ('관리요구도', '보통 (약간 잘 견딤)'),\n",
       "  ('광요구도', '중간 광도(800~1,500 Lux),높은 광도(1,500~10,000 Lux)'),\n",
       "  ('배치장소',\n",
       "   '실내 어두운 곳 (실내깊이 500 이상cm)거실 내측 (실내깊이 300~500cm)거실 창측 (실내깊이 150~300cm)발코니 내측 (실내깊이 50~150cm)발코니 창측 (실내깊이 0~50cm)'),\n",
       "  ('생장속도', '보통'),\n",
       "  ('생육적온', '21~25℃'),\n",
       "  ('겨울최저온도', '13℃ 이상'),\n",
       "  ('습도', '40 ~ 70%'),\n",
       "  ('비료', '비료를 보통 요구함'),\n",
       "  ('토양', '포름알데히드, 벤젠, 톨루엔, 트리클로로 에틸렌, 암모니아'),\n",
       "  ('물주기-봄', '흙을 촉촉하게 유지함(물에 잠기지 않도록 주의)'),\n",
       "  ('물주기-여름', '흙을 촉촉하게 유지함(물에 잠기지 않도록 주의)'),\n",
       "  ('물주기-가을', '흙을 촉촉하게 유지함(물에 잠기지 않도록 주의)'),\n",
       "  ('물주기-겨울', '화분 흙 대부분 말랐을때 충분히 관수함'),\n",
       "  ('병충해', '응애,깍지벌레'),\n",
       "  ('병충해관리', '개각충, 응애'),\n",
       "  ('특별관리', '충분한 관수를 해주는 것이 중요하다.')],\n",
       " [('식물이름', '톨미아'),\n",
       "  ('분류', '잎보기식물'),\n",
       "  ('생육형태', '풀모양'),\n",
       "  ('생장높이', '40'),\n",
       "  ('생장너비', '30'),\n",
       "  ('실내정원구성', '중층목,하층목'),\n",
       "  ('생태형', '일반형'),\n",
       "  ('잎무늬', '점무늬,기타 (무늬없음 등)'),\n",
       "  ('잎색', '녹색, 연두색,흰색, 크림색'),\n",
       "  ('향기', '거의 없음'),\n",
       "  ('번식방법', '분주'),\n",
       "  ('관리수준', '경험자'),\n",
       "  ('관리요구도', '필요함'),\n",
       "  ('광요구도', '중간 광도(800~1,500 Lux),높은 광도(1,500~10,000 Lux)'),\n",
       "  ('배치장소',\n",
       "   '거실 내측 (실내깊이 300~500cm)거실 창측 (실내깊이 150~300cm)발코니 내측 (실내깊이 50~150cm)발코니 창측 (실내깊이 0~50cm)'),\n",
       "  ('생육적온', '21~25℃'),\n",
       "  ('겨울최저온도', '10℃'),\n",
       "  ('습도', '40 ~ 70%'),\n",
       "  ('비료', '비료를 보통 요구함'),\n",
       "  ('병충해', '진딧물,응애,온실가루이'),\n",
       "  ('병충해관리', '온실가루이, 개각충, 진딧물')],\n",
       " [('식물이름', '틸란드시아'),\n",
       "  ('분류', '잎&꽃보기식물'),\n",
       "  ('생육형태', '로제트형'),\n",
       "  ('생장높이', '30'),\n",
       "  ('생장너비', '25'),\n",
       "  ('실내정원구성', '하층목'),\n",
       "  ('생태형', '일반형,건조형'),\n",
       "  ('잎무늬', '기타 (무늬없음 등)'),\n",
       "  ('잎색', '녹색, 연두색'),\n",
       "  ('꽃피는계절', '봄,겨울'),\n",
       "  ('꽃색', '보라색,분홍색'),\n",
       "  ('향기', '거의 없음'),\n",
       "  ('번식방법', '분주,기타'),\n",
       "  ('관리수준', '경험자'),\n",
       "  ('관리요구도', '필요함'),\n",
       "  ('광요구도', '중간 광도(800~1,500 Lux),높은 광도(1,500~10,000 Lux)'),\n",
       "  ('배치장소', '거실 창측 (실내깊이 150~300cm)발코니 내측 (실내깊이 50~150cm)'),\n",
       "  ('생장속도', '느림'),\n",
       "  ('생육적온', '21~25℃'),\n",
       "  ('겨울최저온도', '10℃'),\n",
       "  ('습도', '40 ~ 70%'),\n",
       "  ('비료', '비료를 보통 요구함'),\n",
       "  ('물주기-봄', '토양 표면이 말랐을때 충분히 관수함'),\n",
       "  ('물주기-여름', '토양 표면이 말랐을때 충분히 관수함'),\n",
       "  ('물주기-가을', '토양 표면이 말랐을때 충분히 관수함'),\n",
       "  ('물주기-겨울', '화분 흙 대부분 말랐을때 충분히 관수함'),\n",
       "  ('병충해', '응애')],\n",
       " [('식물이름', '파키라'),\n",
       "  ('분류', '잎보기식물'),\n",
       "  ('생육형태', '직립형'),\n",
       "  ('생장높이', '200'),\n",
       "  ('생장너비', '50'),\n",
       "  ('실내정원구성', '상층목'),\n",
       "  ('생태형', '일반형'),\n",
       "  ('잎무늬', '기타 (무늬없음 등)'),\n",
       "  ('잎색', '녹색, 연두색'),\n",
       "  ('향기', '거의 없음'),\n",
       "  ('독성', '해독작용'),\n",
       "  ('번식방법', '파종'),\n",
       "  ('관리수준', '경험자'),\n",
       "  ('관리요구도', '필요함'),\n",
       "  ('광요구도', '중간 광도(800~1,500 Lux),높은 광도(1,500~10,000 Lux)'),\n",
       "  ('배치장소',\n",
       "   '거실 내측 (실내깊이 300~500cm)거실 창측 (실내깊이 150~300cm)발코니 내측 (실내깊이 50~150cm)'),\n",
       "  ('생육적온', '21~25℃'),\n",
       "  ('겨울최저온도', '13℃ 이상'),\n",
       "  ('습도', '40 ~ 70%'),\n",
       "  ('비료', '비료를 보통 요구함'),\n",
       "  ('물주기-봄', '토양 표면이 말랐을때 충분히 관수함'),\n",
       "  ('물주기-여름', '토양 표면이 말랐을때 충분히 관수함'),\n",
       "  ('물주기-가을', '토양 표면이 말랐을때 충분히 관수함'),\n",
       "  ('물주기-겨울', '화분 흙 대부분 말랐을때 충분히 관수함'),\n",
       "  ('병충해', '응애,깍지벌레')],\n",
       " [('식물이름', '파피오페딜럼'),\n",
       "  ('분류', '잎&꽃보기식물'),\n",
       "  ('생육형태', '풀모양'),\n",
       "  ('생장높이', '30'),\n",
       "  ('생장너비', '30'),\n",
       "  ('실내정원구성', '하층목'),\n",
       "  ('생태형', '일반형,건조형'),\n",
       "  ('잎무늬', '점무늬,기타 (무늬없음 등)'),\n",
       "  ('잎색', '녹색, 연두색'),\n",
       "  ('꽃피는계절', '봄,여름'),\n",
       "  ('꽃색', '보라색,분홍색,빨강색,노랑색,흰색,혼합색'),\n",
       "  ('향기', '약함'),\n",
       "  ('번식방법', '분주,기타'),\n",
       "  ('관리수준', '전문가'),\n",
       "  ('관리요구도', '필요함'),\n",
       "  ('광요구도', '중간 광도(800~1,500 Lux)'),\n",
       "  ('배치장소', '거실 창측 (실내깊이 150~300cm)발코니 내측 (실내깊이 50~150cm)발코니 창측 (실내깊이 0~50cm)'),\n",
       "  ('생장속도', '느림'),\n",
       "  ('생육적온', '21~25℃'),\n",
       "  ('겨울최저온도', '10℃'),\n",
       "  ('습도', '70% 이상'),\n",
       "  ('물주기-봄', '화분 흙 대부분 말랐을때 충분히 관수함'),\n",
       "  ('물주기-여름', '토양 표면이 말랐을때 충분히 관수함'),\n",
       "  ('물주기-가을', '토양 표면이 말랐을때 충분히 관수함'),\n",
       "  ('물주기-겨울', '화분 흙 대부분 말랐을때 충분히 관수함'),\n",
       "  ('병충해', '깍지벌레')],\n",
       " [('식물이름', '팔레놉시스(호접란)'),\n",
       "  ('분류', '잎&꽃보기식물'),\n",
       "  ('생육형태', '로제트형,다육형'),\n",
       "  ('생장높이', '30'),\n",
       "  ('생장너비', '20'),\n",
       "  ('실내정원구성', '하층목'),\n",
       "  ('생태형', '일반형,건조형'),\n",
       "  ('잎색', '녹색, 연두색'),\n",
       "  ('꽃피는계절', '봄,여름,겨울'),\n",
       "  ('꽃색', '분홍색,오렌지색,노랑색,흰색,혼합색'),\n",
       "  ('향기', '약함'),\n",
       "  ('번식방법', '기타'),\n",
       "  ('관리수준', '전문가'),\n",
       "  ('관리요구도', '특별 관리 요구'),\n",
       "  ('광요구도', '중간 광도(800~1,500 Lux),높은 광도(1,500~10,000 Lux)'),\n",
       "  ('배치장소',\n",
       "   '거실 내측 (실내깊이 300~500cm)거실 창측 (실내깊이 150~300cm)발코니 내측 (실내깊이 50~150cm)발코니 창측 (실내깊이 0~50cm)'),\n",
       "  ('생장속도', '느림'),\n",
       "  ('생육적온', '21~25℃'),\n",
       "  ('겨울최저온도', '13℃ 이상'),\n",
       "  ('습도', '40 ~ 70%'),\n",
       "  ('비료', '비료를 보통 요구함'),\n",
       "  ('물주기-봄', '토양 표면이 말랐을때 충분히 관수함'),\n",
       "  ('물주기-여름', '토양 표면이 말랐을때 충분히 관수함'),\n",
       "  ('물주기-가을', '토양 표면이 말랐을때 충분히 관수함'),\n",
       "  ('물주기-겨울', '화분 흙 대부분 말랐을때 충분히 관수함'),\n",
       "  ('병충해', '깍지벌레'),\n",
       "  ('특별관리', '실내공기가 너무 건조하면 개각충이나 응애가 발생함')],\n",
       " [('식물이름', '팔손이나무'),\n",
       "  ('분류', '잎&꽃보기식물'),\n",
       "  ('생육형태', '관목형'),\n",
       "  ('생장높이', '150'),\n",
       "  ('생장너비', '50'),\n",
       "  ('실내정원구성', '상층목,중층목'),\n",
       "  ('생태형', '일반형'),\n",
       "  ('잎무늬', '기타 (무늬없음 등)'),\n",
       "  ('잎색', '녹색, 연두색'),\n",
       "  ('향기', '약함'),\n",
       "  ('번식방법', '파종,삽목'),\n",
       "  ('관리수준', '초보자'),\n",
       "  ('관리요구도', '낮음 (잘 견딤)'),\n",
       "  ('광요구도', '중간 광도(800~1,500 Lux),높은 광도(1,500~10,000 Lux)'),\n",
       "  ('배치장소',\n",
       "   '거실 내측 (실내깊이 300~500cm)거실 창측 (실내깊이 150~300cm)발코니 내측 (실내깊이 50~150cm)발코니 창측 (실내깊이 0~50cm)'),\n",
       "  ('생장속도', '보통'),\n",
       "  ('생육적온', '16~20℃'),\n",
       "  ('겨울최저온도', '5℃'),\n",
       "  ('습도', '40 ~ 70%'),\n",
       "  ('비료', '비료를 보통 요구함'),\n",
       "  ('물주기-봄', '토양 표면이 말랐을때 충분히 관수함'),\n",
       "  ('물주기-여름', '토양 표면이 말랐을때 충분히 관수함'),\n",
       "  ('물주기-가을', '토양 표면이 말랐을때 충분히 관수함'),\n",
       "  ('물주기-겨울', '화분 흙 대부분 말랐을때 충분히 관수함'),\n",
       "  ('병충해', '응애,깍지벌레'),\n",
       "  ('특별관리', '4~9월까지 년 1회 영양관리 권장한다.')],\n",
       " [('식물이름', '팬더 고무나무'),\n",
       "  ('분류', '잎보기식물'),\n",
       "  ('생육형태', '관목형'),\n",
       "  ('생장높이', '50'),\n",
       "  ('생장너비', '40'),\n",
       "  ('실내정원구성', '상층목,중층목'),\n",
       "  ('생태형', '일반형'),\n",
       "  ('잎무늬', '기타 (무늬없음 등)'),\n",
       "  ('잎색', '녹색, 연두색'),\n",
       "  ('향기', '거의 없음'),\n",
       "  ('번식방법', '삽목,접목'),\n",
       "  ('관리수준', '경험자'),\n",
       "  ('관리요구도', '보통 (약간 잘 견딤)'),\n",
       "  ('광요구도', '중간 광도(800~1,500 Lux),높은 광도(1,500~10,000 Lux)'),\n",
       "  ('배치장소', '거실 창측 (실내깊이 150~300cm)발코니 내측 (실내깊이 50~150cm)발코니 창측 (실내깊이 0~50cm)'),\n",
       "  ('생장속도', '보통'),\n",
       "  ('생육적온', '21~25℃'),\n",
       "  ('겨울최저온도', '13℃ 이상'),\n",
       "  ('습도', '40 ~ 70%'),\n",
       "  ('비료', '비료를 보통 요구함'),\n",
       "  ('물주기-봄', '토양 표면이 말랐을때 충분히 관수함'),\n",
       "  ('물주기-여름', '토양 표면이 말랐을때 충분히 관수함'),\n",
       "  ('물주기-가을', '토양 표면이 말랐을때 충분히 관수함'),\n",
       "  ('물주기-겨울', '화분 흙 대부분 말랐을때 충분히 관수함'),\n",
       "  ('병충해', '응애,깍지벌레')],\n",
       " [('식물이름', '팻츠헤데라'),\n",
       "  ('분류', '잎보기식물'),\n",
       "  ('생육형태', '직립형'),\n",
       "  ('생장높이', '50'),\n",
       "  ('생장너비', '30'),\n",
       "  ('실내정원구성', '상층목,중층목'),\n",
       "  ('생태형', '일반형'),\n",
       "  ('잎무늬', '기타 (무늬없음 등)'),\n",
       "  ('잎색', '녹색, 연두색'),\n",
       "  ('향기', '약함'),\n",
       "  ('번식방법', '삽목'),\n",
       "  ('관리수준', '초보자'),\n",
       "  ('관리요구도', '보통 (약간 잘 견딤)'),\n",
       "  ('광요구도', '중간 광도(800~1,500 Lux),높은 광도(1,500~10,000 Lux)'),\n",
       "  ('배치장소', '거실 창측 (실내깊이 150~300cm)발코니 내측 (실내깊이 50~150cm)발코니 창측 (실내깊이 0~50cm)'),\n",
       "  ('생육적온', '16~20℃'),\n",
       "  ('겨울최저온도', '10℃'),\n",
       "  ('습도', '40 ~ 70%'),\n",
       "  ('비료', '비료를 보통 요구함'),\n",
       "  ('물주기-봄', '토양 표면이 말랐을때 충분히 관수함'),\n",
       "  ('물주기-여름', '토양 표면이 말랐을때 충분히 관수함'),\n",
       "  ('물주기-가을', '토양 표면이 말랐을때 충분히 관수함'),\n",
       "  ('물주기-겨울', '토양 표면이 말랐을때 충분히 관수함'),\n",
       "  ('병충해', '응애,깍지벌레'),\n",
       "  ('병충해관리', '깍지벌레, 개각충, 진딧물, 응애')],\n",
       " [('식물이름', '페페로미아 오브투시폴리아'),\n",
       "  ('분류', '잎보기식물'),\n",
       "  ('생육형태', '풀모양,다육형'),\n",
       "  ('생장높이', '25'),\n",
       "  ('생장너비', '25'),\n",
       "  ('실내정원구성', '하층목,지피식물'),\n",
       "  ('생태형', '일반형'),\n",
       "  ('잎무늬', '잎 가장자리 무늬,기타 (무늬없음 등)'),\n",
       "  ('잎색', '녹색, 연두색,은색, 회색'),\n",
       "  ('향기', '거의 없음'),\n",
       "  ('번식방법', '삽목'),\n",
       "  ('관리수준', '경험자'),\n",
       "  ('관리요구도', '보통 (약간 잘 견딤)'),\n",
       "  ('광요구도', '중간 광도(800~1,500 Lux),높은 광도(1,500~10,000 Lux)'),\n",
       "  ('배치장소',\n",
       "   '거실 내측 (실내깊이 300~500cm)거실 창측 (실내깊이 150~300cm)발코니 내측 (실내깊이 50~150cm)'),\n",
       "  ('생육적온', '21~25℃'),\n",
       "  ('겨울최저온도', '13℃ 이상'),\n",
       "  ('습도', '40 ~ 70%'),\n",
       "  ('비료', '비료를 보통 요구함'),\n",
       "  ('물주기-봄', '토양 표면이 말랐을때 충분히 관수함'),\n",
       "  ('물주기-여름', '토양 표면이 말랐을때 충분히 관수함'),\n",
       "  ('물주기-가을', '토양 표면이 말랐을때 충분히 관수함'),\n",
       "  ('물주기-겨울', '화분 흙 대부분 말랐을때 충분히 관수함'),\n",
       "  ('병충해', '응애,깍지벌레')],\n",
       " [('식물이름', '페페로미아 클루시폴리아'),\n",
       "  ('분류', '잎보기식물'),\n",
       "  ('생육형태', '풀모양,다육형'),\n",
       "  ('생장높이', '25'),\n",
       "  ('생장너비', '25'),\n",
       "  ('실내정원구성', '하층목'),\n",
       "  ('생태형', '일반형'),\n",
       "  ('잎무늬', '잎 가장자리 무늬,기타 (무늬없음 등)'),\n",
       "  ('잎색', '녹색, 연두색'),\n",
       "  ('향기', '약함'),\n",
       "  ('번식방법', '삽목'),\n",
       "  ('관리수준', '경험자'),\n",
       "  ('관리요구도', '보통 (약간 잘 견딤)'),\n",
       "  ('광요구도', '중간 광도(800~1,500 Lux),높은 광도(1,500~10,000 Lux)'),\n",
       "  ('배치장소',\n",
       "   '거실 내측 (실내깊이 300~500cm)거실 창측 (실내깊이 150~300cm)발코니 내측 (실내깊이 50~150cm)'),\n",
       "  ('생육적온', '21~25℃'),\n",
       "  ('겨울최저온도', '13℃ 이상'),\n",
       "  ('습도', '40 ~ 70%'),\n",
       "  ('비료', '비료를 보통 요구함'),\n",
       "  ('물주기-봄', '토양 표면이 말랐을때 충분히 관수함'),\n",
       "  ('물주기-여름', '토양 표면이 말랐을때 충분히 관수함'),\n",
       "  ('물주기-가을', '토양 표면이 말랐을때 충분히 관수함'),\n",
       "  ('물주기-겨울', '화분 흙 대부분 말랐을때 충분히 관수함'),\n",
       "  ('병충해', '응애,깍지벌레')],\n",
       " [('식물이름', '페페로미아 푸테올라타'),\n",
       "  ('분류', '잎보기식물'),\n",
       "  ('생육형태', '풀모양,다육형'),\n",
       "  ('생장높이', '30'),\n",
       "  ('생장너비', '30'),\n",
       "  ('실내정원구성', '하층목'),\n",
       "  ('생태형', '일반형'),\n",
       "  ('잎무늬', '줄무늬'),\n",
       "  ('잎색', '녹색, 연두색,흰색, 크림색'),\n",
       "  ('향기', '약함'),\n",
       "  ('번식방법', '삽목'),\n",
       "  ('관리수준', '경험자'),\n",
       "  ('관리요구도', '필요함'),\n",
       "  ('광요구도', '중간 광도(800~1,500 Lux),높은 광도(1,500~10,000 Lux)'),\n",
       "  ('배치장소',\n",
       "   '거실 내측 (실내깊이 300~500cm)거실 창측 (실내깊이 150~300cm)발코니 내측 (실내깊이 50~150cm)발코니 창측 (실내깊이 0~50cm)'),\n",
       "  ('생육적온', '21~25℃'),\n",
       "  ('겨울최저온도', '13℃ 이상'),\n",
       "  ('습도', '40 ~ 70%'),\n",
       "  ('비료', '비료를 보통 요구함'),\n",
       "  ('물주기-봄', '토양 표면이 말랐을때 충분히 관수함'),\n",
       "  ('물주기-여름', '토양 표면이 말랐을때 충분히 관수함'),\n",
       "  ('물주기-가을', '토양 표면이 말랐을때 충분히 관수함'),\n",
       "  ('물주기-겨울', '화분 흙 대부분 말랐을때 충분히 관수함'),\n",
       "  ('병충해', '응애,깍지벌레')],\n",
       " [('식물이름', '포인세티아'),\n",
       "  ('분류', '잎&꽃보기식물'),\n",
       "  ('생육형태', '관목형'),\n",
       "  ('생장높이', '100'),\n",
       "  ('생장너비', '50'),\n",
       "  ('실내정원구성', '상층목,중층목'),\n",
       "  ('생태형', '일반형'),\n",
       "  ('잎무늬', '기타 (무늬없음 등)'),\n",
       "  ('잎색', '녹색, 연두색'),\n",
       "  ('꽃피는계절', '봄,겨울'),\n",
       "  ('꽃색', '분홍색,빨강색,노랑색,흰색,혼합색'),\n",
       "  ('향기', '거의 없음'),\n",
       "  ('번식방법', '삽목'),\n",
       "  ('관리수준', '경험자'),\n",
       "  ('관리요구도', '필요함'),\n",
       "  ('광요구도', '높은 광도(1,500~10,000 Lux)'),\n",
       "  ('배치장소', '거실 창측 (실내깊이 150~300cm)발코니 내측 (실내깊이 50~150cm)발코니 창측 (실내깊이 0~50cm)'),\n",
       "  ('생육적온', '21~25℃'),\n",
       "  ('겨울최저온도', '13℃ 이상'),\n",
       "  ('습도', '40 ~ 70%'),\n",
       "  ('비료', '비료를 보통 요구함'),\n",
       "  ('물주기-봄', '흙을 촉촉하게 유지함(물에 잠기지 않도록 주의)'),\n",
       "  ('물주기-여름', '흙을 촉촉하게 유지함(물에 잠기지 않도록 주의)'),\n",
       "  ('물주기-가을', '흙을 촉촉하게 유지함(물에 잠기지 않도록 주의)'),\n",
       "  ('물주기-겨울', '토양 표면이 말랐을때 충분히 관수함'),\n",
       "  ('병충해', '응애,깍지벌레,온실가루이')],\n",
       " [('식물이름', '폴리시아스'),\n",
       "  ('분류', '잎보기식물'),\n",
       "  ('생육형태', '관목형'),\n",
       "  ('생장높이', '150'),\n",
       "  ('생장너비', '50'),\n",
       "  ('실내정원구성', '상층목,중층목'),\n",
       "  ('생태형', '일반형'),\n",
       "  ('잎무늬', '잎 가장자리 무늬'),\n",
       "  ('잎색', '녹색, 연두색,흰색, 크림색'),\n",
       "  ('향기', '거의 없음'),\n",
       "  ('번식방법', '삽목'),\n",
       "  ('관리수준', '경험자'),\n",
       "  ('관리요구도', '필요함'),\n",
       "  ('광요구도', '중간 광도(800~1,500 Lux),높은 광도(1,500~10,000 Lux)'),\n",
       "  ('배치장소',\n",
       "   '거실 내측 (실내깊이 300~500cm)거실 창측 (실내깊이 150~300cm)발코니 내측 (실내깊이 50~150cm)'),\n",
       "  ('생육적온', '21~25℃'),\n",
       "  ('겨울최저온도', '13℃ 이상'),\n",
       "  ('습도', '40 ~ 70%'),\n",
       "  ('비료', '비료를 보통 요구함'),\n",
       "  ('물주기-봄', '토양 표면이 말랐을때 충분히 관수함'),\n",
       "  ('물주기-여름', '토양 표면이 말랐을때 충분히 관수함'),\n",
       "  ('물주기-가을', '토양 표면이 말랐을때 충분히 관수함'),\n",
       "  ('물주기-겨울', '화분 흙 대부분 말랐을때 충분히 관수함'),\n",
       "  ('병충해', '응애,깍지벌레')],\n",
       " [('식물이름', '푸밀라고무나무'),\n",
       "  ('분류', '잎보기식물'),\n",
       "  ('생육형태', '덩굴성'),\n",
       "  ('생장높이', '20'),\n",
       "  ('생장너비', '30'),\n",
       "  ('실내정원구성', '지피식물'),\n",
       "  ('생태형', '일반형'),\n",
       "  ('잎무늬', '기타 (무늬없음 등)'),\n",
       "  ('잎색', '녹색, 연두색'),\n",
       "  ('향기', '거의 없음'),\n",
       "  ('번식방법', '삽목'),\n",
       "  ('관리요구도', '필요함'),\n",
       "  ('광요구도', '중간 광도(800~1,500 Lux),높은 광도(1,500~10,000 Lux)'),\n",
       "  ('배치장소', '거실 창측 (실내깊이 150~300cm)발코니 내측 (실내깊이 50~150cm)발코니 창측 (실내깊이 0~50cm)'),\n",
       "  ('생육적온', '21~25℃'),\n",
       "  ('겨울최저온도', '10℃'),\n",
       "  ('습도', '40 ~ 70%'),\n",
       "  ('비료', '비료를 보통 요구함'),\n",
       "  ('물주기-봄', '흙을 촉촉하게 유지함(물에 잠기지 않도록 주의)'),\n",
       "  ('물주기-여름', '흙을 촉촉하게 유지함(물에 잠기지 않도록 주의)'),\n",
       "  ('물주기-가을', '흙을 촉촉하게 유지함(물에 잠기지 않도록 주의)'),\n",
       "  ('물주기-겨울', '토양 표면이 말랐을때 충분히 관수함'),\n",
       "  ('병충해', '응애,깍지벌레,온실가루이'),\n",
       "  ('특별관리',\n",
       "   '너무 자주 옮겨심기는 피하고 2년에 한 번 정도 덩굴이 무성해졌을 때 가지치기를 한다. 여름에는 잎에 자주 분무해 준다.')],\n",
       " [('식물이름', '프테리스'),\n",
       "  ('분류', '잎보기식물'),\n",
       "  ('생육형태', '풀모양'),\n",
       "  ('생장높이', '30'),\n",
       "  ('생장너비', '30'),\n",
       "  ('실내정원구성', '하층목'),\n",
       "  ('생태형', '일반형'),\n",
       "  ('잎무늬', '줄무늬,기타 (무늬없음 등)'),\n",
       "  ('잎색', '녹색, 연두색,흰색, 크림색'),\n",
       "  ('번식방법', '파종,분주,기타'),\n",
       "  ('관리수준', '초보자'),\n",
       "  ('관리요구도', '보통 (약간 잘 견딤)'),\n",
       "  ('광요구도', '낮은 광도(300~800 Lux),중간 광도(800~1,500 Lux),높은 광도(1,500~10,000 Lux)'),\n",
       "  ('배치장소',\n",
       "   '실내 어두운 곳 (실내깊이 500 이상cm)거실 내측 (실내깊이 300~500cm)거실 창측 (실내깊이 150~300cm)발코니 내측 (실내깊이 50~150cm)발코니 창측 (실내깊이 0~50cm)'),\n",
       "  ('생육적온', '21~25℃'),\n",
       "  ('겨울최저온도', '5℃'),\n",
       "  ('습도', '70% 이상'),\n",
       "  ('비료', '비료를 보통 요구함'),\n",
       "  ('물주기-봄', '흙을 촉촉하게 유지함(물에 잠기지 않도록 주의)'),\n",
       "  ('물주기-여름', '흙을 촉촉하게 유지함(물에 잠기지 않도록 주의)'),\n",
       "  ('물주기-가을', '흙을 촉촉하게 유지함(물에 잠기지 않도록 주의)'),\n",
       "  ('물주기-겨울', '토양 표면이 말랐을때 충분히 관수함'),\n",
       "  ('병충해', '응애,깍지벌레'),\n",
       "  ('특별관리',\n",
       "   '고사리과 중에서 잎의 크기와 모양이 다양하고 기르기 쉬운 종류이다. 배양토가 완전히 마르지 않도록 주의하면 아름다운 색상과 모습을 관상할 수 있다. ')],\n",
       " [('식물이름', '피라칸사'),\n",
       "  ('분류', '잎&꽃보기식물,열매보기식물'),\n",
       "  ('생육형태', '관목형'),\n",
       "  ('생장높이', '100'),\n",
       "  ('생장너비', '50'),\n",
       "  ('실내정원구성', '상층목,중층목'),\n",
       "  ('생태형', '일반형'),\n",
       "  ('잎무늬', '잎 가장자리 무늬,기타 (무늬없음 등)'),\n",
       "  ('잎색', '녹색, 연두색,흰색, 크림색'),\n",
       "  ('꽃피는계절', '봄'),\n",
       "  ('꽃색', '흰색'),\n",
       "  ('열매맺는계절', '여름,가을'),\n",
       "  ('열매색', '빨강색,오렌지색,노랑색'),\n",
       "  ('향기', '강함'),\n",
       "  ('번식방법', '삽목'),\n",
       "  ('관리수준', '경험자'),\n",
       "  ('관리요구도', '낮음 (잘 견딤)'),\n",
       "  ('광요구도', '높은 광도(1,500~10,000 Lux)'),\n",
       "  ('배치장소', '발코니 내측 (실내깊이 50~150cm)발코니 창측 (실내깊이 0~50cm)'),\n",
       "  ('생장속도', '빠름'),\n",
       "  ('생육적온', '16~20℃'),\n",
       "  ('겨울최저온도', '0℃ 이하'),\n",
       "  ('습도', '40 ~ 70%'),\n",
       "  ('비료', '비료를 보통 요구함'),\n",
       "  ('물주기-봄', '흙을 촉촉하게 유지함(물에 잠기지 않도록 주의)'),\n",
       "  ('물주기-여름', '흙을 촉촉하게 유지함(물에 잠기지 않도록 주의)'),\n",
       "  ('물주기-가을', '토양 표면이 말랐을때 충분히 관수함'),\n",
       "  ('물주기-겨울', '화분 흙 대부분 말랐을때 충분히 관수함'),\n",
       "  ('병충해', '응애,깍지벌레')],\n",
       " [('식물이름', '피토니아 핑크스타'),\n",
       "  ('분류', '잎보기식물'),\n",
       "  ('생육형태', '풀모양'),\n",
       "  ('생장높이', '20'),\n",
       "  ('생장너비', '20'),\n",
       "  ('실내정원구성', '하층목,지피식물'),\n",
       "  ('생태형', '일반형'),\n",
       "  ('잎무늬', '줄무늬,잎 가장자리 무늬'),\n",
       "  ('잎색', '여러색 혼합'),\n",
       "  ('향기', '거의 없음'),\n",
       "  ('번식방법', '삽목,분주'),\n",
       "  ('관리수준', '경험자'),\n",
       "  ('관리요구도', '특별 관리 요구'),\n",
       "  ('광요구도', '중간 광도(800~1,500 Lux),높은 광도(1,500~10,000 Lux)'),\n",
       "  ('배치장소',\n",
       "   '거실 내측 (실내깊이 300~500cm)거실 창측 (실내깊이 150~300cm)발코니 내측 (실내깊이 50~150cm)'),\n",
       "  ('생장속도', '보통'),\n",
       "  ('생육적온', '21~25℃'),\n",
       "  ('겨울최저온도', '13℃ 이상'),\n",
       "  ('습도', '40 ~ 70%'),\n",
       "  ('비료', '비료를 보통 요구함'),\n",
       "  ('물주기-봄', '토양 표면이 말랐을때 충분히 관수함'),\n",
       "  ('물주기-여름', '토양 표면이 말랐을때 충분히 관수함'),\n",
       "  ('물주기-가을', '토양 표면이 말랐을때 충분히 관수함'),\n",
       "  ('물주기-겨울', '화분 흙 대부분 말랐을때 충분히 관수함'),\n",
       "  ('병충해', '응애,온실가루이'),\n",
       "  ('특별관리',\n",
       "   '- 부분적으로 빛이 드는 장소, 직사광선을 피한다.- 봄부터 가을까지 충분하게, 겨울엔 토양이 바싹 마를 때 인색하게 주고 미온수를 이용한다.- 갑자기 강한 햇빛에 노출되면 잎이 타기 쉽다.')],\n",
       " [('식물이름', '피토니아 화이트스타'),\n",
       "  ('분류', '잎보기식물'),\n",
       "  ('생육형태', '풀모양'),\n",
       "  ('생장높이', '20'),\n",
       "  ('생장너비', '20'),\n",
       "  ('실내정원구성', '하층목,지피식물'),\n",
       "  ('생태형', '일반형'),\n",
       "  ('잎무늬', '줄무늬,잎 가장자리 무늬'),\n",
       "  ('잎색', '녹색, 연두색,흰색, 크림색'),\n",
       "  ('번식방법', '삽목,분주'),\n",
       "  ('관리수준', '경험자'),\n",
       "  ('관리요구도', '필요함'),\n",
       "  ('광요구도', '중간 광도(800~1,500 Lux),높은 광도(1,500~10,000 Lux)'),\n",
       "  ('배치장소',\n",
       "   '거실 내측 (실내깊이 300~500cm)거실 창측 (실내깊이 150~300cm)발코니 내측 (실내깊이 50~150cm)'),\n",
       "  ('생육적온', '21~25℃'),\n",
       "  ('겨울최저온도', '13℃ 이상'),\n",
       "  ('습도', '40 ~ 70%'),\n",
       "  ('비료', '비료를 보통 요구함'),\n",
       "  ('물주기-봄', '토양 표면이 말랐을때 충분히 관수함'),\n",
       "  ('물주기-여름', '토양 표면이 말랐을때 충분히 관수함'),\n",
       "  ('물주기-가을', '토양 표면이 말랐을때 충분히 관수함'),\n",
       "  ('물주기-겨울', '화분 흙 대부분 말랐을때 충분히 관수함'),\n",
       "  ('병충해', '응애,온실가루이')],\n",
       " [('식물이름', '픽투라툼 접란'),\n",
       "  ('분류', '잎보기식물'),\n",
       "  ('생육형태', '풀모양'),\n",
       "  ('생장높이', '30'),\n",
       "  ('생장너비', '30'),\n",
       "  ('실내정원구성', '하층목'),\n",
       "  ('생태형', '일반형,수경형'),\n",
       "  ('잎무늬', '줄무늬'),\n",
       "  ('잎색', '녹색, 연두색,흰색, 크림색'),\n",
       "  ('향기', '약함'),\n",
       "  ('번식방법', '분주'),\n",
       "  ('관리수준', '초보자'),\n",
       "  ('관리요구도', '보통 (약간 잘 견딤)'),\n",
       "  ('광요구도', '중간 광도(800~1,500 Lux),높은 광도(1,500~10,000 Lux)'),\n",
       "  ('배치장소', '거실 창측 (실내깊이 150~300cm)발코니 내측 (실내깊이 50~150cm)발코니 창측 (실내깊이 0~50cm)'),\n",
       "  ('생장속도', '보통'),\n",
       "  ('생육적온', '21~25℃'),\n",
       "  ('겨울최저온도', '13℃ 이상'),\n",
       "  ('습도', '40 ~ 70%'),\n",
       "  ('비료', '비료를 보통 요구함'),\n",
       "  ('물주기-봄', '토양 표면이 말랐을때 충분히 관수함'),\n",
       "  ('물주기-여름', '토양 표면이 말랐을때 충분히 관수함'),\n",
       "  ('물주기-가을', '토양 표면이 말랐을때 충분히 관수함'),\n",
       "  ('물주기-겨울', '화분 흙 대부분 말랐을때 충분히 관수함'),\n",
       "  ('병충해', '응애,깍지벌레')],\n",
       " [('식물이름', '필레아 글라우카(타라, 블루체인)'),\n",
       "  ('분류', '잎보기식물'),\n",
       "  ('생육형태', '풀모양,다육형'),\n",
       "  ('생장높이', '10'),\n",
       "  ('생장너비', '30'),\n",
       "  ('실내정원구성', '지피식물'),\n",
       "  ('생태형', '일반형'),\n",
       "  ('잎무늬', '기타 (무늬없음 등)'),\n",
       "  ('잎색', '녹색, 연두색,은색, 회색'),\n",
       "  ('향기', '거의 없음'),\n",
       "  ('번식방법', '삽목,분주'),\n",
       "  ('관리수준', '초보자'),\n",
       "  ('관리요구도', '보통 (약간 잘 견딤)'),\n",
       "  ('광요구도', '중간 광도(800~1,500 Lux),높은 광도(1,500~10,000 Lux)'),\n",
       "  ('배치장소',\n",
       "   '거실 내측 (실내깊이 300~500cm)거실 창측 (실내깊이 150~300cm)발코니 내측 (실내깊이 50~150cm)발코니 창측 (실내깊이 0~50cm)'),\n",
       "  ('생장속도', '보통'),\n",
       "  ('생육적온', '21~25℃'),\n",
       "  ('겨울최저온도', '13℃ 이상'),\n",
       "  ('습도', '40 ~ 70%'),\n",
       "  ('비료', '비료를 보통 요구함'),\n",
       "  ('물주기-봄', '토양 표면이 말랐을때 충분히 관수함'),\n",
       "  ('물주기-여름', '토양 표면이 말랐을때 충분히 관수함'),\n",
       "  ('물주기-가을', '토양 표면이 말랐을때 충분히 관수함'),\n",
       "  ('물주기-겨울', '화분 흙 대부분 말랐을때 충분히 관수함'),\n",
       "  ('병충해', '응애,깍지벌레'),\n",
       "  ('특별관리',\n",
       "   '너무 그늘에서는 줄기 사이가 길어지며 모양이 흐트러지므로 직사광선을 피한 밝은 빛을 쬐어주면 잎이 엉성하지 않고 귀엽게 자란다.')],\n",
       " [('식물이름', \"필로덴드론 '선라이트'\"),\n",
       "  ('분류', '잎보기식물'),\n",
       "  ('생육형태', '풀모양'),\n",
       "  ('생장높이', '40'),\n",
       "  ('생장너비', '30'),\n",
       "  ('실내정원구성', '중층목'),\n",
       "  ('생태형', '일반형'),\n",
       "  ('잎무늬', '기타 (무늬없음 등)'),\n",
       "  ('잎색', '녹색, 연두색,빨강, 분홍, 자주색'),\n",
       "  ('향기', '거의 없음'),\n",
       "  ('번식방법', '기타'),\n",
       "  ('관리수준', '경험자'),\n",
       "  ('관리요구도', '필요함'),\n",
       "  ('광요구도', '중간 광도(800~1,500 Lux),높은 광도(1,500~10,000 Lux)'),\n",
       "  ('배치장소',\n",
       "   '거실 내측 (실내깊이 300~500cm)거실 창측 (실내깊이 150~300cm)발코니 내측 (실내깊이 50~150cm)발코니 창측 (실내깊이 0~50cm)'),\n",
       "  ('생장속도', '빠름'),\n",
       "  ('생육적온', '21~25℃'),\n",
       "  ('겨울최저온도', '13℃ 이상'),\n",
       "  ('습도', '40 ~ 70%'),\n",
       "  ('비료', '비료를 보통 요구함'),\n",
       "  ('물주기-봄', '토양 표면이 말랐을때 충분히 관수함'),\n",
       "  ('물주기-여름', '토양 표면이 말랐을때 충분히 관수함'),\n",
       "  ('물주기-가을', '토양 표면이 말랐을때 충분히 관수함'),\n",
       "  ('물주기-겨울', '화분 흙 대부분 말랐을때 충분히 관수함'),\n",
       "  ('병충해', '응애,깍지벌레')],\n",
       " [('식물이름', \"필로덴드론 '제나두'\"),\n",
       "  ('분류', '잎보기식물'),\n",
       "  ('생육형태', '풀모양'),\n",
       "  ('생장높이', '50'),\n",
       "  ('생장너비', '30'),\n",
       "  ('실내정원구성', '중층목'),\n",
       "  ('생태형', '일반형'),\n",
       "  ('잎무늬', '기타 (무늬없음 등)'),\n",
       "  ('잎색', '녹색, 연두색'),\n",
       "  ('향기', '약함'),\n",
       "  ('번식방법', '기타'),\n",
       "  ('관리수준', '경험자'),\n",
       "  ('관리요구도', '보통 (약간 잘 견딤)'),\n",
       "  ('광요구도', '중간 광도(800~1,500 Lux),높은 광도(1,500~10,000 Lux)'),\n",
       "  ('배치장소',\n",
       "   '거실 내측 (실내깊이 300~500cm)거실 창측 (실내깊이 150~300cm)발코니 내측 (실내깊이 50~150cm)'),\n",
       "  ('생육적온', '21~25℃'),\n",
       "  ('겨울최저온도', '13℃ 이상'),\n",
       "  ('습도', '40 ~ 70%'),\n",
       "  ('비료', '비료를 보통 요구함'),\n",
       "  ('물주기-봄', '토양 표면이 말랐을때 충분히 관수함'),\n",
       "  ('물주기-여름', '토양 표면이 말랐을때 충분히 관수함'),\n",
       "  ('물주기-가을', '토양 표면이 말랐을때 충분히 관수함'),\n",
       "  ('물주기-겨울', '화분 흙 대부분 말랐을때 충분히 관수함'),\n",
       "  ('병충해', '응애,깍지벌레')],\n",
       " [('식물이름', '필로덴드론 고엘디'),\n",
       "  ('분류', '잎보기식물'),\n",
       "  ('생육형태', '풀모양'),\n",
       "  ('생장높이', '50'),\n",
       "  ('생장너비', '30'),\n",
       "  ('실내정원구성', '중층목'),\n",
       "  ('생태형', '일반형'),\n",
       "  ('잎무늬', '기타 (무늬없음 등)'),\n",
       "  ('잎색', '녹색, 연두색'),\n",
       "  ('향기', '거의 없음'),\n",
       "  ('번식방법', '파종,기타'),\n",
       "  ('관리수준', '경험자'),\n",
       "  ('관리요구도', '필요함'),\n",
       "  ('광요구도', '중간 광도(800~1,500 Lux),높은 광도(1,500~10,000 Lux)'),\n",
       "  ('배치장소',\n",
       "   '거실 내측 (실내깊이 300~500cm)거실 창측 (실내깊이 150~300cm)발코니 내측 (실내깊이 50~150cm)'),\n",
       "  ('생장속도', '보통'),\n",
       "  ('생육적온', '21~25℃'),\n",
       "  ('겨울최저온도', '13℃ 이상'),\n",
       "  ('습도', '40 ~ 70%'),\n",
       "  ('비료', '비료를 보통 요구함'),\n",
       "  ('물주기-봄', '토양 표면이 말랐을때 충분히 관수함'),\n",
       "  ('물주기-여름', '토양 표면이 말랐을때 충분히 관수함'),\n",
       "  ('물주기-가을', '토양 표면이 말랐을때 충분히 관수함'),\n",
       "  ('물주기-겨울', '화분 흙 대부분 말랐을때 충분히 관수함'),\n",
       "  ('병충해', '응애,깍지벌레')],\n",
       " [('식물이름', '필로덴드론 레몬라임'),\n",
       "  ('분류', '잎보기식물'),\n",
       "  ('생육형태', '덩굴성'),\n",
       "  ('생장높이', '20'),\n",
       "  ('생장너비', '30'),\n",
       "  ('실내정원구성', '하층목'),\n",
       "  ('생태형', '일반형'),\n",
       "  ('잎무늬', '기타 (무늬없음 등)'),\n",
       "  ('잎색', '녹색, 연두색,금색, 노란색'),\n",
       "  ('향기', '거의 없음'),\n",
       "  ('번식방법', '삽목'),\n",
       "  ('관리수준', '경험자'),\n",
       "  ('관리요구도', '필요함'),\n",
       "  ('광요구도', '중간 광도(800~1,500 Lux),높은 광도(1,500~10,000 Lux)'),\n",
       "  ('배치장소', '거실 창측 (실내깊이 150~300cm)발코니 내측 (실내깊이 50~150cm)발코니 창측 (실내깊이 0~50cm)'),\n",
       "  ('생육적온', '21~25℃'),\n",
       "  ('겨울최저온도', '13℃ 이상'),\n",
       "  ('습도', '40 ~ 70%'),\n",
       "  ('비료', '비료를 보통 요구함'),\n",
       "  ('물주기-봄', '토양 표면이 말랐을때 충분히 관수함'),\n",
       "  ('물주기-여름', '토양 표면이 말랐을때 충분히 관수함'),\n",
       "  ('물주기-가을', '토양 표면이 말랐을때 충분히 관수함'),\n",
       "  ('물주기-겨울', '화분 흙 대부분 말랐을때 충분히 관수함'),\n",
       "  ('병충해', '응애,깍지벌레')],\n",
       " [('식물이름', '필로덴드론 셀로움'),\n",
       "  ('분류', '잎보기식물'),\n",
       "  ('생육형태', '풀모양'),\n",
       "  ('생장높이', '100'),\n",
       "  ('생장너비', '50'),\n",
       "  ('실내정원구성', '상층목'),\n",
       "  ('생태형', '일반형'),\n",
       "  ('잎무늬', '기타 (무늬없음 등)'),\n",
       "  ('잎색', '녹색, 연두색'),\n",
       "  ('향기', '약함'),\n",
       "  ('번식방법', '파종,기타'),\n",
       "  ('관리수준', '경험자'),\n",
       "  ('관리요구도', '필요함'),\n",
       "  ('광요구도', '중간 광도(800~1,500 Lux),높은 광도(1,500~10,000 Lux)'),\n",
       "  ('배치장소',\n",
       "   '거실 내측 (실내깊이 300~500cm)거실 창측 (실내깊이 150~300cm)발코니 내측 (실내깊이 50~150cm)'),\n",
       "  ('생육적온', '21~25℃'),\n",
       "  ('겨울최저온도', '13℃ 이상'),\n",
       "  ('습도', '40 ~ 70%'),\n",
       "  ('비료', '비료를 보통 요구함'),\n",
       "  ('물주기-봄', '토양 표면이 말랐을때 충분히 관수함'),\n",
       "  ('물주기-여름', '토양 표면이 말랐을때 충분히 관수함'),\n",
       "  ('물주기-가을', '토양 표면이 말랐을때 충분히 관수함'),\n",
       "  ('물주기-겨울', '화분 흙 대부분 말랐을때 충분히 관수함'),\n",
       "  ('병충해', '응애,깍지벌레')],\n",
       " [('식물이름', '필로덴드론 옥시카르디움'),\n",
       "  ('분류', '잎보기식물'),\n",
       "  ('생육형태', '덩굴성'),\n",
       "  ('생장높이', '50'),\n",
       "  ('생장너비', '30'),\n",
       "  ('실내정원구성', '중층목'),\n",
       "  ('생태형', '일반형'),\n",
       "  ('잎무늬', '기타 (무늬없음 등)'),\n",
       "  ('잎색', '녹색, 연두색'),\n",
       "  ('향기', '거의 없음'),\n",
       "  ('번식방법', '삽목,기타'),\n",
       "  ('관리수준', '경험자'),\n",
       "  ('관리요구도', '보통 (약간 잘 견딤)'),\n",
       "  ('광요구도', '중간 광도(800~1,500 Lux),높은 광도(1,500~10,000 Lux)'),\n",
       "  ('배치장소',\n",
       "   '실내 어두운 곳 (실내깊이 500 이상cm)거실 내측 (실내깊이 300~500cm)거실 창측 (실내깊이 150~300cm)발코니 내측 (실내깊이 50~150cm)'),\n",
       "  ('생육적온', '21~25℃'),\n",
       "  ('겨울최저온도', '13℃ 이상'),\n",
       "  ('습도', '40 ~ 70%'),\n",
       "  ('비료', '비료를 보통 요구함'),\n",
       "  ('물주기-봄', '토양 표면이 말랐을때 충분히 관수함'),\n",
       "  ('물주기-여름', '토양 표면이 말랐을때 충분히 관수함'),\n",
       "  ('물주기-가을', '토양 표면이 말랐을때 충분히 관수함'),\n",
       "  ('물주기-겨울', '화분 흙 대부분 말랐을때 충분히 관수함'),\n",
       "  ('병충해', '응애,깍지벌레')],\n",
       " [('식물이름', '필로덴드론 콩고'),\n",
       "  ('분류', '잎보기식물'),\n",
       "  ('생육형태', '풀모양'),\n",
       "  ('생장높이', '40'),\n",
       "  ('생장너비', '30'),\n",
       "  ('실내정원구성', '중층목'),\n",
       "  ('생태형', '일반형'),\n",
       "  ('잎무늬', '기타 (무늬없음 등)'),\n",
       "  ('잎색', '녹색, 연두색'),\n",
       "  ('향기', '약함'),\n",
       "  ('번식방법', '파종,기타'),\n",
       "  ('관리수준', '경험자'),\n",
       "  ('관리요구도', '필요함'),\n",
       "  ('광요구도', '중간 광도(800~1,500 Lux),높은 광도(1,500~10,000 Lux)'),\n",
       "  ('배치장소',\n",
       "   '거실 내측 (실내깊이 300~500cm)거실 창측 (실내깊이 150~300cm)발코니 내측 (실내깊이 50~150cm)'),\n",
       "  ('생육적온', '21~25℃'),\n",
       "  ('겨울최저온도', '13℃ 이상'),\n",
       "  ('습도', '40 ~ 70%'),\n",
       "  ('비료', '비료를 보통 요구함'),\n",
       "  ('물주기-봄', '토양 표면이 말랐을때 충분히 관수함'),\n",
       "  ('물주기-여름', '토양 표면이 말랐을때 충분히 관수함'),\n",
       "  ('물주기-가을', '토양 표면이 말랐을때 충분히 관수함'),\n",
       "  ('물주기-겨울', '화분 흙 대부분 말랐을때 충분히 관수함'),\n",
       "  ('병충해', '응애,깍지벌레')],\n",
       " [('식물이름', '해마리아'),\n",
       "  ('분류', '잎&꽃보기식물'),\n",
       "  ('생육형태', '풀모양'),\n",
       "  ('생장높이', '20'),\n",
       "  ('생장너비', '20'),\n",
       "  ('실내정원구성', '하층목,지피식물'),\n",
       "  ('생태형', '일반형'),\n",
       "  ('잎무늬', '줄무늬'),\n",
       "  ('잎색', '기타'),\n",
       "  ('꽃피는계절', '봄,여름'),\n",
       "  ('꽃색', '분홍색,흰색'),\n",
       "  ('향기', '약함'),\n",
       "  ('번식방법', '삽목,기타'),\n",
       "  ('관리수준', '전문가'),\n",
       "  ('관리요구도', '보통 (약간 잘 견딤)'),\n",
       "  ('광요구도', '낮은 광도(300~800 Lux),중간 광도(800~1,500 Lux),높은 광도(1,500~10,000 Lux)'),\n",
       "  ('배치장소',\n",
       "   '실내 어두운 곳 (실내깊이 500 이상cm)거실 내측 (실내깊이 300~500cm)거실 창측 (실내깊이 150~300cm)발코니 내측 (실내깊이 50~150cm)발코니 창측 (실내깊이 0~50cm)'),\n",
       "  ('생장속도', '느림'),\n",
       "  ('생육적온', '21~25℃'),\n",
       "  ('겨울최저온도', '13℃ 이상'),\n",
       "  ('습도', '40 ~ 70%'),\n",
       "  ('비료', '비료를 보통 요구함'),\n",
       "  ('물주기-봄', '흙을 촉촉하게 유지함(물에 잠기지 않도록 주의)'),\n",
       "  ('물주기-여름', '흙을 촉촉하게 유지함(물에 잠기지 않도록 주의)'),\n",
       "  ('물주기-가을', '흙을 촉촉하게 유지함(물에 잠기지 않도록 주의)'),\n",
       "  ('물주기-겨울', '화분 흙 대부분 말랐을때 충분히 관수함'),\n",
       "  ('병충해', '응애')],\n",
       " [('식물이름', '행운목'),\n",
       "  ('분류', '잎보기식물'),\n",
       "  ('생육형태', '직립형'),\n",
       "  ('생장높이', '200'),\n",
       "  ('생장너비', '50'),\n",
       "  ('실내정원구성', '상층목'),\n",
       "  ('생태형', '일반형'),\n",
       "  ('잎무늬', '줄무늬,기타 (무늬없음 등)'),\n",
       "  ('잎색', '녹색, 연두색'),\n",
       "  ('향기', '강함'),\n",
       "  ('번식방법', '삽목'),\n",
       "  ('관리수준', '초보자'),\n",
       "  ('관리요구도', '낮음 (잘 견딤)'),\n",
       "  ('광요구도', '중간 광도(800~1,500 Lux),높은 광도(1,500~10,000 Lux)'),\n",
       "  ('배치장소',\n",
       "   '거실 내측 (실내깊이 300~500cm)거실 창측 (실내깊이 150~300cm)발코니 내측 (실내깊이 50~150cm)'),\n",
       "  ('생장속도', '보통'),\n",
       "  ('생육적온', '21~25℃'),\n",
       "  ('겨울최저온도', '13℃ 이상'),\n",
       "  ('습도', '40 ~ 70%'),\n",
       "  ('비료', '비료를 보통 요구함'),\n",
       "  ('물주기-봄', '흙을 촉촉하게 유지함(물에 잠기지 않도록 주의)'),\n",
       "  ('물주기-여름', '흙을 촉촉하게 유지함(물에 잠기지 않도록 주의)'),\n",
       "  ('물주기-가을', '흙을 촉촉하게 유지함(물에 잠기지 않도록 주의)'),\n",
       "  ('물주기-겨울', '토양 표면이 말랐을때 충분히 관수함'),\n",
       "  ('병충해', '응애,깍지벌레')],\n",
       " [('식물이름', '헤미오니티스(하트펀)'),\n",
       "  ('분류', '잎보기식물'),\n",
       "  ('생육형태', '로제트형'),\n",
       "  ('생장높이', '20'),\n",
       "  ('생장너비', '20'),\n",
       "  ('실내정원구성', '하층목'),\n",
       "  ('생태형', '일반형'),\n",
       "  ('잎무늬', '기타 (무늬없음 등)'),\n",
       "  ('잎색', '녹색, 연두색'),\n",
       "  ('향기', '거의 없음'),\n",
       "  ('번식방법', '기타'),\n",
       "  ('관리수준', '경험자'),\n",
       "  ('관리요구도', '필요함'),\n",
       "  ('광요구도', '중간 광도(800~1,500 Lux),높은 광도(1,500~10,000 Lux)'),\n",
       "  ('배치장소',\n",
       "   '거실 내측 (실내깊이 300~500cm)거실 창측 (실내깊이 150~300cm)발코니 내측 (실내깊이 50~150cm)'),\n",
       "  ('생육적온', '21~25℃'),\n",
       "  ('겨울최저온도', '13℃ 이상'),\n",
       "  ('습도', '70% 이상'),\n",
       "  ('비료', '비료를 보통 요구함'),\n",
       "  ('물주기-봄', '흙을 촉촉하게 유지함(물에 잠기지 않도록 주의)'),\n",
       "  ('물주기-여름', '흙을 촉촉하게 유지함(물에 잠기지 않도록 주의)'),\n",
       "  ('물주기-가을', '흙을 촉촉하게 유지함(물에 잠기지 않도록 주의)'),\n",
       "  ('물주기-겨울', '토양 표면이 말랐을때 충분히 관수함'),\n",
       "  ('병충해', '응애'),\n",
       "  ('병충해관리', '깍지벌레, 개각충, 진딧물'),\n",
       "  ('특별관리', '습한 곳을 좋아하지만 뿌리가 물에 잠겨있는 것을 싫어하며, 빛은 좋아하지만 직사광선은 싫어한다.')],\n",
       " [('식물이름', '헤테로파낙스 프라그란스 (해피트리)'),\n",
       "  ('분류', '잎보기식물'),\n",
       "  ('생육형태', '직립형'),\n",
       "  ('생장높이', '150'),\n",
       "  ('생장너비', '50'),\n",
       "  ('실내정원구성', '상층목'),\n",
       "  ('생태형', '일반형'),\n",
       "  ('잎무늬', '기타 (무늬없음 등)'),\n",
       "  ('잎색', '녹색, 연두색'),\n",
       "  ('향기', '거의 없음'),\n",
       "  ('번식방법', '파종,삽목'),\n",
       "  ('관리수준', '경험자'),\n",
       "  ('관리요구도', '필요함'),\n",
       "  ('광요구도', '중간 광도(800~1,500 Lux),높은 광도(1,500~10,000 Lux)'),\n",
       "  ('배치장소', '거실 창측 (실내깊이 150~300cm)발코니 내측 (실내깊이 50~150cm)발코니 창측 (실내깊이 0~50cm)'),\n",
       "  ('생육적온', '21~25℃'),\n",
       "  ('겨울최저온도', '13℃ 이상'),\n",
       "  ('습도', '40 ~ 70%'),\n",
       "  ('비료', '비료를 보통 요구함'),\n",
       "  ('물주기-봄', '토양 표면이 말랐을때 충분히 관수함'),\n",
       "  ('물주기-여름', '토양 표면이 말랐을때 충분히 관수함'),\n",
       "  ('물주기-가을', '토양 표면이 말랐을때 충분히 관수함'),\n",
       "  ('물주기-겨울', '화분 흙 대부분 말랐을때 충분히 관수함'),\n",
       "  ('병충해', '응애,깍지벌레')],\n",
       " [('식물이름', '협죽도'),\n",
       "  ('분류', '잎&꽃보기식물'),\n",
       "  ('생육형태', '관목형'),\n",
       "  ('생장높이', '150'),\n",
       "  ('생장너비', '50'),\n",
       "  ('실내정원구성', '상층목,중층목'),\n",
       "  ('생태형', '일반형'),\n",
       "  ('잎무늬', '줄무늬,잎 가장자리 무늬,기타 (무늬없음 등)'),\n",
       "  ('잎색', '녹색, 연두색,흰색, 크림색'),\n",
       "  ('꽃피는계절', '여름'),\n",
       "  ('꽃색', '분홍색,흰색'),\n",
       "  ('향기', '중간'),\n",
       "  ('독성', '강함'),\n",
       "  ('번식방법', '삽목'),\n",
       "  ('관리수준', '초보자'),\n",
       "  ('관리요구도', '낮음 (잘 견딤)'),\n",
       "  ('광요구도', '높은 광도(1,500~10,000 Lux)'),\n",
       "  ('배치장소', '발코니 내측 (실내깊이 50~150cm)발코니 창측 (실내깊이 0~50cm)'),\n",
       "  ('생장속도', '빠름'),\n",
       "  ('생육적온', '21~25℃'),\n",
       "  ('겨울최저온도', '7℃'),\n",
       "  ('습도', '40 ~ 70%'),\n",
       "  ('물주기-봄', '토양 표면이 말랐을때 충분히 관수함'),\n",
       "  ('물주기-여름', '흙을 촉촉하게 유지함(물에 잠기지 않도록 주의)'),\n",
       "  ('물주기-가을', '토양 표면이 말랐을때 충분히 관수함'),\n",
       "  ('물주기-겨울', '화분 흙 대부분 말랐을때 충분히 관수함'),\n",
       "  ('병충해', '응애,깍지벌레')],\n",
       " [('식물이름', '형광스킨답서스'),\n",
       "  ('분류', '잎보기식물'),\n",
       "  ('생육형태', '덩굴성'),\n",
       "  ('생장높이', '30'),\n",
       "  ('생장너비', '30'),\n",
       "  ('실내정원구성', '하층목,지피식물'),\n",
       "  ('생태형', '일반형'),\n",
       "  ('잎무늬', '기타 (무늬없음 등)'),\n",
       "  ('잎색', '녹색, 연두색,금색, 노란색'),\n",
       "  ('향기', '거의 없음'),\n",
       "  ('번식방법', '삽목,기타'),\n",
       "  ('관리수준', '경험자'),\n",
       "  ('관리요구도', '보통 (약간 잘 견딤)'),\n",
       "  ('광요구도', '중간 광도(800~1,500 Lux),높은 광도(1,500~10,000 Lux)'),\n",
       "  ('배치장소',\n",
       "   '거실 내측 (실내깊이 300~500cm)거실 창측 (실내깊이 150~300cm)발코니 내측 (실내깊이 50~150cm)'),\n",
       "  ('생장속도', '빠름'),\n",
       "  ('생육적온', '21~25℃'),\n",
       "  ('겨울최저온도', '13℃ 이상'),\n",
       "  ('습도', '40 ~ 70%'),\n",
       "  ('비료', '비료를 보통 요구함'),\n",
       "  ('물주기-봄', '토양 표면이 말랐을때 충분히 관수함'),\n",
       "  ('물주기-여름', '토양 표면이 말랐을때 충분히 관수함'),\n",
       "  ('물주기-가을', '토양 표면이 말랐을때 충분히 관수함'),\n",
       "  ('물주기-겨울', '화분 흙 대부분 말랐을때 충분히 관수함'),\n",
       "  ('병충해', '응애,깍지벌레')],\n",
       " [('식물이름', '호야'),\n",
       "  ('분류', '잎&꽃보기식물'),\n",
       "  ('생육형태', '덩굴성,다육형'),\n",
       "  ('생장높이', '20'),\n",
       "  ('생장너비', '30'),\n",
       "  ('실내정원구성', '하층목,지피식물'),\n",
       "  ('생태형', '일반형,건조형'),\n",
       "  ('잎무늬', '줄무늬,잎 가장자리 무늬,기타 (무늬없음 등)'),\n",
       "  ('잎색', '녹색, 연두색,금색, 노란색,흰색, 크림색'),\n",
       "  ('꽃피는계절', '봄,여름'),\n",
       "  ('꽃색', '분홍색,흰색'),\n",
       "  ('향기', '약함'),\n",
       "  ('번식방법', '삽목'),\n",
       "  ('관리수준', '경험자'),\n",
       "  ('관리요구도', '보통 (약간 잘 견딤)'),\n",
       "  ('광요구도', '중간 광도(800~1,500 Lux),높은 광도(1,500~10,000 Lux)'),\n",
       "  ('배치장소', '거실 창측 (실내깊이 150~300cm)발코니 내측 (실내깊이 50~150cm)발코니 창측 (실내깊이 0~50cm)'),\n",
       "  ('생육적온', '21~25℃'),\n",
       "  ('겨울최저온도', '13℃ 이상'),\n",
       "  ('습도', '40 ~ 70%'),\n",
       "  ('비료', '비료를 보통 요구함'),\n",
       "  ('물주기-봄', '토양 표면이 말랐을때 충분히 관수함'),\n",
       "  ('물주기-여름', '토양 표면이 말랐을때 충분히 관수함'),\n",
       "  ('물주기-가을', '토양 표면이 말랐을때 충분히 관수함'),\n",
       "  ('물주기-겨울', '화분 흙 대부분 말랐을때 충분히 관수함'),\n",
       "  ('병충해', '응애,깍지벌레')],\n",
       " [('식물이름', '호야 엑소티카'),\n",
       "  ('분류', '잎&꽃보기식물'),\n",
       "  ('생육형태', '덩굴성,다육형'),\n",
       "  ('생장높이', '20'),\n",
       "  ('생장너비', '30'),\n",
       "  ('실내정원구성', '하층목'),\n",
       "  ('생태형', '일반형,건조형'),\n",
       "  ('잎무늬', '기타 (무늬없음 등)'),\n",
       "  ('잎색', '녹색, 연두색'),\n",
       "  ('꽃피는계절', '봄,여름'),\n",
       "  ('꽃색', '분홍색,흰색'),\n",
       "  ('향기', '거의 없음'),\n",
       "  ('번식방법', '삽목'),\n",
       "  ('관리수준', '경험자'),\n",
       "  ('관리요구도', '보통 (약간 잘 견딤)'),\n",
       "  ('광요구도', '중간 광도(800~1,500 Lux),높은 광도(1,500~10,000 Lux)'),\n",
       "  ('배치장소', '거실 창측 (실내깊이 150~300cm)발코니 내측 (실내깊이 50~150cm)발코니 창측 (실내깊이 0~50cm)'),\n",
       "  ('생육적온', '21~25℃'),\n",
       "  ('겨울최저온도', '13℃ 이상'),\n",
       "  ('습도', '40 ~ 70%'),\n",
       "  ('비료', '비료를 보통 요구함'),\n",
       "  ('병충해', '응애,깍지벌레')],\n",
       " [('식물이름', '호주매'),\n",
       "  ('분류', '꽃보기식물'),\n",
       "  ('생육형태', '관목형'),\n",
       "  ('생장높이', '50'),\n",
       "  ('생장너비', '30'),\n",
       "  ('실내정원구성', '중층목'),\n",
       "  ('생태형', '일반형'),\n",
       "  ('잎무늬', '기타 (무늬없음 등)'),\n",
       "  ('잎색', '녹색, 연두색'),\n",
       "  ('꽃피는계절', '봄,여름'),\n",
       "  ('꽃색', '분홍색,빨강색,흰색'),\n",
       "  ('향기', '약함'),\n",
       "  ('번식방법', '삽목'),\n",
       "  ('관리수준', '경험자'),\n",
       "  ('관리요구도', '필요함'),\n",
       "  ('광요구도', '높은 광도(1,500~10,000 Lux)'),\n",
       "  ('배치장소', '거실 창측 (실내깊이 150~300cm)발코니 내측 (실내깊이 50~150cm)발코니 창측 (실내깊이 0~50cm)'),\n",
       "  ('생장속도', '보통'),\n",
       "  ('생육적온', '21~25℃'),\n",
       "  ('겨울최저온도', '13℃ 이상'),\n",
       "  ('습도', '40 ~ 70%'),\n",
       "  ('물주기-봄', '화분 흙 대부분 말랐을때 충분히 관수함'),\n",
       "  ('물주기-여름', '토양 표면이 말랐을때 충분히 관수함'),\n",
       "  ('물주기-가을', '토양 표면이 말랐을때 충분히 관수함'),\n",
       "  ('물주기-겨울', '화분 흙 대부분 말랐을때 충분히 관수함'),\n",
       "  ('병충해', '응애,깍지벌레')],\n",
       " [('식물이름', '홀리아페페로미아'),\n",
       "  ('분류', '잎보기식물'),\n",
       "  ('생육형태', '풀모양'),\n",
       "  ('생장높이', '30'),\n",
       "  ('생장너비', '30'),\n",
       "  ('실내정원구성', '하층목'),\n",
       "  ('생태형', '일반형'),\n",
       "  ('잎무늬', '줄무늬'),\n",
       "  ('잎색', '녹색, 연두색,흰색, 크림색'),\n",
       "  ('향기', '거의 없음'),\n",
       "  ('번식방법', '삽목'),\n",
       "  ('관리수준', '경험자'),\n",
       "  ('관리요구도', '필요함'),\n",
       "  ('광요구도', '중간 광도(800~1,500 Lux),높은 광도(1,500~10,000 Lux)'),\n",
       "  ('배치장소',\n",
       "   '거실 내측 (실내깊이 300~500cm)거실 창측 (실내깊이 150~300cm)발코니 내측 (실내깊이 50~150cm)'),\n",
       "  ('생육적온', '21~25℃'),\n",
       "  ('겨울최저온도', '13℃ 이상'),\n",
       "  ('습도', '40 ~ 70%'),\n",
       "  ('비료', '비료를 보통 요구함'),\n",
       "  ('병충해', '응애,깍지벌레')],\n",
       " [('식물이름', '황금마삭줄'),\n",
       "  ('분류', '잎보기식물'),\n",
       "  ('생육형태', '덩굴성'),\n",
       "  ('생장높이', '20'),\n",
       "  ('생장너비', '30'),\n",
       "  ('실내정원구성', '하층목,지피식물'),\n",
       "  ('생태형', '일반형'),\n",
       "  ('잎무늬', '잎 가장자리 무늬'),\n",
       "  ('잎색', '녹색, 연두색,금색, 노란색'),\n",
       "  ('향기', '거의 없음'),\n",
       "  ('번식방법', '삽목'),\n",
       "  ('관리수준', '초보자'),\n",
       "  ('관리요구도', '보통 (약간 잘 견딤)'),\n",
       "  ('광요구도', '중간 광도(800~1,500 Lux),높은 광도(1,500~10,000 Lux)'),\n",
       "  ('배치장소', '거실 창측 (실내깊이 150~300cm)발코니 내측 (실내깊이 50~150cm)발코니 창측 (실내깊이 0~50cm)'),\n",
       "  ('생육적온', '16~20℃'),\n",
       "  ('겨울최저온도', '5℃'),\n",
       "  ('습도', '40 ~ 70%'),\n",
       "  ('비료', '비료를 보통 요구함'),\n",
       "  ('물주기-봄', '토양 표면이 말랐을때 충분히 관수함'),\n",
       "  ('물주기-여름', '토양 표면이 말랐을때 충분히 관수함'),\n",
       "  ('물주기-가을', '토양 표면이 말랐을때 충분히 관수함'),\n",
       "  ('물주기-겨울', '화분 흙 대부분 말랐을때 충분히 관수함'),\n",
       "  ('병충해', '응애,깍지벌레')],\n",
       " [('식물이름', '황금죽'),\n",
       "  ('분류', '잎보기식물'),\n",
       "  ('생육형태', '관목형'),\n",
       "  ('생장높이', '150'),\n",
       "  ('생장너비', '40'),\n",
       "  ('실내정원구성', '상층목'),\n",
       "  ('생태형', '일반형'),\n",
       "  ('잎무늬', '기타 (무늬없음 등)'),\n",
       "  ('잎색', '녹색, 연두색,금색, 노란색'),\n",
       "  ('향기', '약함'),\n",
       "  ('번식방법', '삽목'),\n",
       "  ('관리수준', '경험자'),\n",
       "  ('관리요구도', '필요함'),\n",
       "  ('광요구도', '중간 광도(800~1,500 Lux),높은 광도(1,500~10,000 Lux)'),\n",
       "  ('배치장소',\n",
       "   '거실 내측 (실내깊이 300~500cm)거실 창측 (실내깊이 150~300cm)발코니 내측 (실내깊이 50~150cm)'),\n",
       "  ('생육적온', '16~20℃'),\n",
       "  ('겨울최저온도', '13℃ 이상'),\n",
       "  ('습도', '40 ~ 70%'),\n",
       "  ('비료', '비료를 보통 요구함'),\n",
       "  ('토양', '포름알데히드, 벤젠, 톨루엔, 자일렌, 트리클로로 에틸렌'),\n",
       "  ('물주기-봄', '토양 표면이 말랐을때 충분히 관수함'),\n",
       "  ('물주기-여름', '토양 표면이 말랐을때 충분히 관수함'),\n",
       "  ('물주기-가을', '토양 표면이 말랐을때 충분히 관수함'),\n",
       "  ('물주기-겨울', '토양 표면이 말랐을때 충분히 관수함'),\n",
       "  ('병충해', '응애,깍지벌레'),\n",
       "  ('병충해관리', '깍지벌레, 개각충, 응애, 총채벌레')],\n",
       " [('식물이름', '후피향나무'),\n",
       "  ('분류', '잎보기식물'),\n",
       "  ('생육형태', '관목형'),\n",
       "  ('생장높이', '150'),\n",
       "  ('생장너비', '50'),\n",
       "  ('실내정원구성', '상층목'),\n",
       "  ('생태형', '일반형'),\n",
       "  ('잎무늬', '기타 (무늬없음 등)'),\n",
       "  ('잎색', '녹색, 연두색'),\n",
       "  ('향기', '중간'),\n",
       "  ('번식방법', '파종,삽목'),\n",
       "  ('관리수준', '초보자'),\n",
       "  ('관리요구도', '낮음 (잘 견딤)'),\n",
       "  ('광요구도', '높은 광도(1,500~10,000 Lux)'),\n",
       "  ('배치장소', '발코니 내측 (실내깊이 50~150cm)발코니 창측 (실내깊이 0~50cm)'),\n",
       "  ('생장속도', '보통'),\n",
       "  ('생육적온', '16~20℃'),\n",
       "  ('겨울최저온도', '0℃ 이하'),\n",
       "  ('습도', '40 ~ 70%'),\n",
       "  ('비료', '비료를 보통 요구함'),\n",
       "  ('물주기-봄', '토양 표면이 말랐을때 충분히 관수함'),\n",
       "  ('물주기-여름', '토양 표면이 말랐을때 충분히 관수함'),\n",
       "  ('물주기-가을', '토양 표면이 말랐을때 충분히 관수함'),\n",
       "  ('물주기-겨울', '화분 흙 대부분 말랐을때 충분히 관수함'),\n",
       "  ('병충해', '응애,깍지벌레')],\n",
       " [('식물이름', '흰꽃나도사프란'),\n",
       "  ('분류', '잎&꽃보기식물'),\n",
       "  ('생육형태', '풀모양'),\n",
       "  ('생장높이', '30'),\n",
       "  ('생장너비', '30'),\n",
       "  ('실내정원구성', '하층목'),\n",
       "  ('생태형', '일반형'),\n",
       "  ('잎무늬', '기타 (무늬없음 등)'),\n",
       "  ('잎색', '녹색, 연두색'),\n",
       "  ('꽃피는계절', '여름,가을'),\n",
       "  ('꽃색', '흰색'),\n",
       "  ('향기', '약함'),\n",
       "  ('번식방법', '파종,분주'),\n",
       "  ('관리수준', '초보자'),\n",
       "  ('관리요구도', '낮음 (잘 견딤)'),\n",
       "  ('광요구도', '높은 광도(1,500~10,000 Lux)'),\n",
       "  ('배치장소', '발코니 내측 (실내깊이 50~150cm)발코니 창측 (실내깊이 0~50cm)'),\n",
       "  ('생장속도', '보통'),\n",
       "  ('생육적온', '21~25℃'),\n",
       "  ('겨울최저온도', '5℃'),\n",
       "  ('습도', '40 ~ 70%'),\n",
       "  ('물주기-봄', '화분 흙 대부분 말랐을때 충분히 관수함'),\n",
       "  ('물주기-여름', '토양 표면이 말랐을때 충분히 관수함'),\n",
       "  ('물주기-가을', '토양 표면이 말랐을때 충분히 관수함'),\n",
       "  ('물주기-겨울', '화분 흙 대부분 말랐을때 충분히 관수함'),\n",
       "  ('병충해', '응애')],\n",
       " [('식물이름', '흰줄무늬달개비(트라데스칸티아)'),\n",
       "  ('분류', '잎보기식물'),\n",
       "  ('생육형태', '덩굴성'),\n",
       "  ('생장높이', '20'),\n",
       "  ('생장너비', '30'),\n",
       "  ('실내정원구성', '하층목'),\n",
       "  ('생태형', '일반형'),\n",
       "  ('잎무늬', '줄무늬'),\n",
       "  ('잎색', '녹색, 연두색,흰색, 크림색'),\n",
       "  ('향기', '거의 없음'),\n",
       "  ('번식방법', '삽목'),\n",
       "  ('관리수준', '초보자'),\n",
       "  ('관리요구도', '보통 (약간 잘 견딤)'),\n",
       "  ('광요구도', '중간 광도(800~1,500 Lux),높은 광도(1,500~10,000 Lux)'),\n",
       "  ('배치장소', '거실 창측 (실내깊이 150~300cm)발코니 내측 (실내깊이 50~150cm)발코니 창측 (실내깊이 0~50cm)'),\n",
       "  ('생육적온', '21~25℃'),\n",
       "  ('겨울최저온도', '13℃ 이상'),\n",
       "  ('습도', '40 ~ 70%'),\n",
       "  ('비료', '비료를 보통 요구함'),\n",
       "  ('물주기-봄', '토양 표면이 말랐을때 충분히 관수함'),\n",
       "  ('물주기-여름', '토양 표면이 말랐을때 충분히 관수함'),\n",
       "  ('물주기-가을', '토양 표면이 말랐을때 충분히 관수함'),\n",
       "  ('물주기-겨울', '토양 표면이 말랐을때 충분히 관수함'),\n",
       "  ('병충해', '응애'),\n",
       "  ('특별관리', '빛이 부족하면 무늬가 없어지므로 주의한다.')],\n",
       " [('식물이름', '히포에스테스'),\n",
       "  ('분류', '잎보기식물'),\n",
       "  ('생육형태', '풀모양'),\n",
       "  ('생장높이', '30'),\n",
       "  ('생장너비', '30'),\n",
       "  ('실내정원구성', '하층목'),\n",
       "  ('생태형', '일반형'),\n",
       "  ('잎무늬', '점무늬'),\n",
       "  ('잎색', '녹색, 연두색,흰색, 크림색,빨강, 분홍, 자주색,여러색 혼합'),\n",
       "  ('꽃피는계절', '여름'),\n",
       "  ('꽃색', '보라색,분홍색,흰색'),\n",
       "  ('향기', '약함'),\n",
       "  ('번식방법', '파종,삽목'),\n",
       "  ('관리수준', '초보자'),\n",
       "  ('관리요구도', '보통 (약간 잘 견딤)'),\n",
       "  ('광요구도', '중간 광도(800~1,500 Lux),높은 광도(1,500~10,000 Lux)'),\n",
       "  ('배치장소', '거실 창측 (실내깊이 150~300cm)발코니 내측 (실내깊이 50~150cm)발코니 창측 (실내깊이 0~50cm)'),\n",
       "  ('생장속도', '보통'),\n",
       "  ('생육적온', '21~25℃'),\n",
       "  ('겨울최저온도', '13℃ 이상'),\n",
       "  ('습도', '40 ~ 70%'),\n",
       "  ('비료', '비료를 보통 요구함'),\n",
       "  ('물주기-봄', '흙을 촉촉하게 유지함(물에 잠기지 않도록 주의)'),\n",
       "  ('물주기-여름', '흙을 촉촉하게 유지함(물에 잠기지 않도록 주의)'),\n",
       "  ('물주기-가을', '흙을 촉촉하게 유지함(물에 잠기지 않도록 주의)'),\n",
       "  ('물주기-겨울', '토양 표면이 말랐을때 충분히 관수함'),\n",
       "  ('병충해', '응애,온실가루이'),\n",
       "  ('병충해관리', '온실가루이, 개각충, 진딧물')],\n",
       " [('식물이름', '페페로미아 그라베올렌스'),\n",
       "  ('학명', 'Peperomia graveolens, 후추과'),\n",
       "  ('원산지', '페루'),\n",
       "  ('생태형', '불규칙형'),\n",
       "  ('잎색', '잎의 앞면은 초록, 잎의 뒷면은 붉은색을 띰'),\n",
       "  ('뿌리형태', '가는 뿌리'),\n",
       "  ('생장형', '봄~가을 성장 (겨울에 휴면)'),\n",
       "  ('생장속도', '느림'),\n",
       "  ('겨울최저온도', '10°C'),\n",
       "  ('광요구도', '충분한 광 필요'),\n",
       "  ('물주기', '분 흙이 마르면 흠뻑 관수 한겨울에는 단수'),\n",
       "  ('번식', '줄기꽂이'),\n",
       "  ('관리수준', '어려움'),\n",
       "  ('관리요구도', '필요함'),\n",
       "  ('배치장소', '발코니 내측까지 이용 가능함 창측의 형태 그대로 유지'),\n",
       "  ('Tip', '직사광선 및 다습한 환경을 피함')],\n",
       " [('식물이름', '산세베리아 ‘하니’'),\n",
       "  ('학명', \"Sansevieria trifasciata 'Hahnii' , 용설란과\"),\n",
       "  ('원산지', '아프리카 콩고'),\n",
       "  ('생태형', '로제트형'),\n",
       "  ('꽃', '한 여름 무렵에 흰색 꽃이 핌'),\n",
       "  ('뿌리형태', '굵은 뿌리'),\n",
       "  ('생장형', '봄~가을 성장 (겨울에 휴면)'),\n",
       "  ('생장속도', '빠름'),\n",
       "  ('생육적온', '18~27°C'),\n",
       "  ('겨울최저온도', '2~3°C'),\n",
       "  ('특성', '높이 15cm\\r잎은 넓고 다양한 무늬가 있음'),\n",
       "  ('광요구도', '고온에 강하므로 연중 광선이 잘 쬐는 반그늘\\r아래에서 잘 자라고 여름철에는 직사광선을\\r약간 피함'),\n",
       "  ('물주기', '분 흙이 충분히 마른 뒤 며칠 후 충분히 관수'),\n",
       "  ('번식', '포기나누기, 잎꽂이'),\n",
       "  ('병충해', '병충해에는 별로 걸리지 않으나 잎을 깨끗이 닦아주도록 함'),\n",
       "  ('관리수준', '쉬움'),\n",
       "  ('관리요구도', '약간 돌봄'),\n",
       "  ('배치장소', '발코니 내측까지 이용 가능함 형태와 색상 모두 유지하고 싱싱한 녹색 빛을 띰'),\n",
       "  ('Tip',\n",
       "   '10월 상, 중순부터 물을 점차 줄이고 비료도\\r주지 않음\\r고온에서 잘 자라고 저온에는 매우 약하므로\\r겨울에 냉해를 입지 않도록 잘 보온하여\\r적정온도 20-25℃를 유지함')],\n",
       " [('식물이름', '미파'),\n",
       "  ('학명', \"Faucaria tigrina 'Kikunami' , 석류풀과\"),\n",
       "  ('유통명', '경파'),\n",
       "  ('원산지', '남아프리카'),\n",
       "  ('생태형', '로제트형'),\n",
       "  ('꽃', '초가을부터 민들레처럼 생긴 노란색 꽃이 핌\\r낮에만 핌'),\n",
       "  ('잎색', '녹색'),\n",
       "  ('뿌리형태', '가는 뿌리'),\n",
       "  ('생장형', '가을~봄 성장 (겨울생장형, 여름에 휴면)'),\n",
       "  ('생장속도', '보통'),\n",
       "  ('겨울최저온도', '0°C'),\n",
       "  ('특성',\n",
       "   '원예선발품종으로 식물체의 지름이 4cm 정도이며\\r잎의 단면은 삼각형 모양을 이루고 있으며 잎이\\r빽빽하게 겹쳐있음\\r전체적으로 진녹색이고 매끈하며 잎의 가장자리는\\r흰색의 줄무늬가 둘러져 있음'),\n",
       "  ('광요구도', '반그늘~부분적인 강광, 실내 밝은 곳에서 키움\\r한 여름에는 반그늘에서 키움'),\n",
       "  ('물주기', '한 달에 한 번 정도 과습하지 않게 관리\\r여름철에는 물을 거의 주지 않음'),\n",
       "  ('번식', '잎꽂이'),\n",
       "  ('고온다습', '한여름 무더위나 습기에 약함과습에 민감하여 줄기가 쉽게 물러짐'),\n",
       "  ('관리수준', '어려움'),\n",
       "  ('관리요구도', '필요함'),\n",
       "  ('배치장소', '발코니 내측까지 이용 가능함 창측과 형태와 색상 모두 유지함')],\n",
       " [('식물이름', '벽어연'),\n",
       "  ('학명', 'Echinus maximilianus, 석류풀과'),\n",
       "  ('원산지', '남아프리카 남부'),\n",
       "  ('생태형', '불규칙형'),\n",
       "  ('꽃',\n",
       "   '여름에 줄기 끝에서 노란색으로 한 송이씩 두상화로 달림\\r꽃잎의 수가 많으며 지름은 2cm정도임\\r연보라색 꽃이 우산모양으로 피고 가운데 수술은\\r노란색이며 봉우리는 분홍색임'),\n",
       "  ('잎색', '온도 차가 심해지면 잎 끝부분이 붉게 물듦'),\n",
       "  ('뿌리형태', '가는 뿌리'),\n",
       "  ('생장형', '가을~봄 성장 (겨울생장형)'),\n",
       "  ('생장속도', '보통'),\n",
       "  ('겨울최저온도', '0°C'),\n",
       "  ('특성',\n",
       "   '키가 90cm인 관목형으로 잎은 가위모양이며,\\r포복성이 있어 길어지면 옆으로 누움\\r어린가지는 붉은색을 띠며 묵은 가지는 목질화됨'),\n",
       "  ('광요구도', '반그늘이나 부분적인 강광'),\n",
       "  ('물주기', '잎에 주름이 생기면 관수\\r휴면기인 여름철에는 단수하고 서늘한 곳에 둠'),\n",
       "  ('번식', '자구꽂이, 포기나누기'),\n",
       "  ('고온다습', '여름철 고온에 약함'),\n",
       "  ('관리수준', '보통'),\n",
       "  ('관리요구도', '약간 돌봄'),\n",
       "  ('배치장소', '발코니 내측까지 이용 가능함 창측과 형태와 색상 모두 유지함')],\n",
       " [('식물이름', '입전봉'),\n",
       "  ('학명', 'Sinocrassula densirosulata, 돌나물과'),\n",
       "  ('생태형', '군생형'),\n",
       "  ('잎색', '잎 뒷면이 붉은색으로 변함'),\n",
       "  ('뿌리형태', '가는 뿌리'),\n",
       "  ('생장형', '봄~가을 성장'),\n",
       "  ('생장속도', '빠름'),\n",
       "  ('겨울최저온도', '5°C'),\n",
       "  ('광요구도', '충분한 광 필요'),\n",
       "  ('물주기', '여름철에는 물을 적게 줌'),\n",
       "  ('번식', '잎꽂이, 줄기꽂이'),\n",
       "  ('관리수준', '매우 어려움'),\n",
       "  ('관리요구도', '필요함'),\n",
       "  ('배치장소', '발코니 내측까지 이용 가능함 약간 부피감이 커지고 붉은색이 연해짐')],\n",
       " [('식물이름', '사마로'),\n",
       "  ('학명', 'Sinocrassula yunnanensis, 돌나물과'),\n",
       "  ('원산지', '중국'),\n",
       "  ('생태형', '군생형'),\n",
       "  ('꽃', '철화는 꽃을 피우지 않음'),\n",
       "  ('잎색', '검은색 빛'),\n",
       "  ('뿌리형태', '가는 뿌리'),\n",
       "  ('생장형', '봄~가을 성장 (여름생장형, 겨울에 휴면)'),\n",
       "  ('생장속도', '느림'),\n",
       "  ('겨울최저온도', '3°C'),\n",
       "  ('특성',\n",
       "   '검은빛의 바위솔로 잎이 작음\\r광량에 따라 몸빛이 더욱 곱게 물듦\\r갸름하고 통통한 잎에 살짝 펠트 조직이 있어\\r부드러운 느낌임\\r군생하며 자람'),\n",
       "  ('광요구도', '충분한 광 필요'),\n",
       "  ('물주기', '여름철에는 물을 적게 줌'),\n",
       "  ('번식', '잎꽂이, 줄기꽂이'),\n",
       "  ('관리수준', '매우 어려움'),\n",
       "  ('관리요구도', '필요함'),\n",
       "  ('배치장소', '발코니 내측까지 이용 가능함 약간 부피감이 커지는듯 하지만 형태와 색이\\r거의 변함 없음')],\n",
       " [('식물이름', '모난데스 폴리필라'),\n",
       "  ('학명', 'Monanthes polyphylla, 돌나물과'),\n",
       "  ('원산지', '카나리아제도'),\n",
       "  ('생태형', '군생형'),\n",
       "  ('꽃', '봄에 우주선과 같이 생긴 독특한 꽃이 핌'),\n",
       "  ('잎색', '빛을 충분히 받으면 잎 가장자리가 적갈색으로 물듦'),\n",
       "  ('뿌리형태', '가는 뿌리'),\n",
       "  ('생장형', '가을~봄 성장 (겨울생장형)'),\n",
       "  ('생장속도', '보통'),\n",
       "  ('겨울최저온도', '0°C'),\n",
       "  ('특성',\n",
       "   '소형종으로 빽빽하게 모여나며 군락을 이룸\\r성장하면서 잎 사이에서 새로운 자구가 나옴\\r강광에서 녹기 쉽고 습기에도 약해 반그늘에서 키워야함'),\n",
       "  ('광요구도', '여름에는 강광보다는 반그늘 통풍이 잘되는 곳에서\\r건조하게 키움'),\n",
       "  ('물주기', '한 달에 두 번 정도 흠뻑 전면관수\\r다른 다육들 보다 물을 좀 더 자주 줘야 함'),\n",
       "  ('번식', '자구꽂이'),\n",
       "  ('관리수준', '쉬움'),\n",
       "  ('관리요구도', '약간 돌봄')],\n",
       " [('식물이름', '야로수'),\n",
       "  ('학명', 'Haworthia turgida var. longibracteata, 나리과'),\n",
       "  ('원산지', '남아프리카'),\n",
       "  ('생태형', '로제트형'),\n",
       "  ('꽃', '가을에서 이른 겨울 사이에 흰 꽃이 핌'),\n",
       "  ('뿌리형태', '굵은 뿌리'),\n",
       "  ('생장형', '봄, 가을 성장 (일 년 내내 성장)'),\n",
       "  ('생장속도', '보통'),\n",
       "  ('생육적온', '18~22°C'),\n",
       "  ('겨울최저온도', '10~15°C'),\n",
       "  ('특성', '잎이 옅은 녹색이며 잎면에 하얀색 줄 무늬가 있고\\r상단에 삼각 형태의 창이 있음\\r기부에서 군생함'),\n",
       "  ('광요구도',\n",
       "   '강한 직사광선은 피하고 양지바르고 통풍이 잘되는\\r반그늘에서 키움\\r직사광선을 받으면 잎이 갈변하며 상하고,\\r음지에서는 웃자라게 됨'),\n",
       "  ('물주기', '분 흙이 충분히 말랐을 때 관수함\\r과습하지 않게 건조한 듯 관리'),\n",
       "  ('번식', '파종, 포기나누기, 자구꽂이'),\n",
       "  ('관리수준', '보통'),\n",
       "  ('관리요구도', '약간 돌봄'),\n",
       "  ('배치장소', '발코니 내측까지 이용 가능함 창측보다 싱싱한 녹색으로 탱글탱글해짐'),\n",
       "  ('Tip', '잎장이 따닥따닥 붙어 있어 통풍에 신경쓰지\\r않으면 곰팡이균이 서식하기 쉬움')],\n",
       " [('식물이름', '수'),\n",
       "  ('학명', 'Haworthia bayeri, 나리과'),\n",
       "  ('유통명', '보전'),\n",
       "  ('원산지', '남아프리카'),\n",
       "  ('생태형', '로제트형'),\n",
       "  ('꽃', '늦은 봄에서 여름 흰색 꽃이 핌'),\n",
       "  ('잎색', '청록색 잎의 끝부분이 투명함'),\n",
       "  ('뿌리형태', '굵은 뿌리'),\n",
       "  ('생장형', '봄, 가을 성장 (일 년 내내 성장)'),\n",
       "  ('생장속도', '보통'),\n",
       "  ('겨울최저온도', '10~15°C'),\n",
       "  ('특성',\n",
       "   '줄기가 없는 잎은 로제트를 이루며 군생하고\\r3~5cm정도 크기의 두터운 잎은 15~20개\\r정도가 넓게 직립\\r하며 성장하며 진한 청색을 띠고 흰색의 선이 있음'),\n",
       "  ('광요구도', '강한 직사광선은 피하고 양지바르고 통풍이 잘되는\\r반그늘에서 키움\\r직사광선을 받으면 잎이 상함'),\n",
       "  ('물주기', '분 흙이 충분히 말랐을 때 관수함\\r과습하지 않게 건조한 듯 관리'),\n",
       "  ('번식', '파종, 포기나누기, 자구꽂이'),\n",
       "  ('관리수준', '보통'),\n",
       "  ('관리요구도', '약간 돌봄'),\n",
       "  ('배치장소', '발코니 내측까지 이용 가능함 잎이 진한 녹색으로 탱글탱글해짐'),\n",
       "  ('Tip', '잎장이 따닥따닥 붙어 있어 통풍에 신경쓰지\\r않으면 곰팡이균이 서식하기 쉬움')],\n",
       " [('식물이름', '십이지권'),\n",
       "  ('학명', \"Haworthia reinwardtii 'Brevucula' , 나리과\"),\n",
       "  ('원산지', '남아프리카'),\n",
       "  ('생태형', '로제트형'),\n",
       "  ('꽃', '여름에 흰색의 작은 통꽃이 핌'),\n",
       "  ('잎색', '빛을 충분히 받으면 여러색으로 물듦'),\n",
       "  ('뿌리형태', '굵은 뿌리'),\n",
       "  ('생장형', '봄, 가을 성장 (일 년 내내 성장)'),\n",
       "  ('생장속도', '보통'),\n",
       "  ('겨울최저온도', '10~15°C'),\n",
       "  ('특성',\n",
       "   '줄기가 없으며, 지름 8~10cm의 로제트를 이룸\\r잎은 길이 4~4.5cm, 폭 1.5cm 정도로 긴 삼각형이며\\r선단은 뾰족함\\r잎 뒷면의 결절은 백색이며 가로줄무늬를 이룸\\rHaworthia속 중에서 가장 널리 일반에 보급된 종'),\n",
       "  ('광요구도',\n",
       "   '밝은 빛을 좋아하지만 반양지성으로 5~9월의\\r따가운 직사광선은 차광하고 실내에서 기를 경우는\\r창가나 밝은 곳에서 기름'),\n",
       "  ('물주기', '여름에는 분 흙이 마른 2~3일후에 충분히 관수\\r겨울 휴면기에는 단수함'),\n",
       "  ('번식', '포기나누기'),\n",
       "  ('관리수준', '보통'),\n",
       "  ('관리요구도', '약간 돌봄'),\n",
       "  ('비료', '비료는 주지 않음'),\n",
       "  ('배치장소', '발코니 내측까지 이용 가능함 창측에 비해 형태 유지가 좋으며 싱그러운 녹색을\\r띠어 건강해 보임')],\n",
       " [('식물이름', '알로에'),\n",
       "  ('학명', 'Aloe ssp., 나리과'),\n",
       "  ('생태형', '불규칙형'),\n",
       "  ('뿌리형태', '굵은 뿌리'),\n",
       "  ('생장형', '봄~가을 성장 (여름생장형)'),\n",
       "  ('생장속도', '빠름'),\n",
       "  ('겨울최저온도', '5°C'),\n",
       "  ('특성', '소형종으로 식물체의 지름이 10cm이며,\\r널리 알려짐\\r노란 꽃이 핌\\r더위에 약함\\r자주가 많이 생김'),\n",
       "  ('광요구도', '강한 직사광선에서 잘 자라지만 반그늘에서\\r관리하면 더 튼튼한 다육질이 됨'),\n",
       "  ('물주기', '여름철에는 분 흙이 완전히 건조되었을 때\\r관수하고, 겨울에는 거의 주지 않음'),\n",
       "  ('번식', '파종, 포기나누기'),\n",
       "  ('고온다습', '고온다습 조건에서 무름병이 발생할 수 있음'),\n",
       "  ('관리수준', '쉬움'),\n",
       "  ('관리요구도', '약간 돌봄'),\n",
       "  ('배치장소', '발코니 내측까지 이용 가능함 창측에 비해 싱그러운 녹색을 띠며 생육하여\\r건강해 보임')],\n",
       " [('식물이름', '불야성'),\n",
       "  ('학명', 'Aloe mitriformis, 나리과'),\n",
       "  ('원산지', '남아프리카'),\n",
       "  ('생태형', '불규칙형'),\n",
       "  ('꽃', '여름철에 주황~적색 꽃이 핌'),\n",
       "  ('잎색', '초록색의 잎 둘레에 옅은 황색 가시가 있음'),\n",
       "  ('뿌리형태', '굵은 뿌리'),\n",
       "  ('생장형', '봄~가을 성장 (여름생장형)'),\n",
       "  ('생장속도', '빠름'),\n",
       "  ('겨울최저온도', '5°C'),\n",
       "  ('특성', '소형종으로 식물체의 지름이 10cm임\\r잎 가장자리에 가시가 있으며, 기부에서 분지함'),\n",
       "  ('광요구도', '강한 직사광선에서 잘 자라지만 반그늘에서\\r관리하면 더 튼튼한 다육질이 됨'),\n",
       "  ('물주기', '여름철에는 분 흙이 완전히 건조되었을 때\\r관수하고, 겨울에는 거의 물을 주지 않음'),\n",
       "  ('번식', '파종, 포기나누기'),\n",
       "  ('고온다습', '고온다습 조건에서 무름병이 발생할 수 있음'),\n",
       "  ('관리수준', '쉬움'),\n",
       "  ('관리요구도', '약간 돌봄'),\n",
       "  ('배치장소', '발코니 내측까지 이용 가능함 창측에 비해 싱그러운 녹색을 띠며 생육하여\\r건강해 보임')],\n",
       " [('식물이름', '자보'),\n",
       "  ('학명', 'Gasteria gracilis var. minima, 백합과'),\n",
       "  ('원산지', '남아프리카 남부'),\n",
       "  ('생태형', '로제트형'),\n",
       "  ('꽃', '봄에 꽃이 핌'),\n",
       "  ('뿌리형태', '굵은 뿌리'),\n",
       "  ('생장형', '봄, 가을 성장 (일 년 내내 성장)'),\n",
       "  ('생장속도', '느림'),\n",
       "  ('겨울최저온도', '-5°C'),\n",
       "  ('특성', '잎 길이가 7cm 정도이며 얇고 호생함\\r기부에서 분지하여 군생\\r잎에 반점이 많은 것은 조금 약하고 생장도 느림'),\n",
       "  ('광요구도', '한여름 한낮의 강한 직사광만 피하고 가능한\\r햇빛이 잘 드는 곳에서 기름\\r실내 약광, 간접광에도 잘 적응하는 편임'),\n",
       "  ('물주기',\n",
       "   '성장기인 여름철에는 일조량에 따라 화분 겉흙이\\r마를 때 물을 흠뻑 줌\\r봄, 가을에는 월 2회 정도, 겨울에는 월 1회 정도 관수'),\n",
       "  ('번식', '포기나누기'),\n",
       "  ('관리수준', '쉬움'),\n",
       "  ('관리요구도', '잘 견딤'),\n",
       "  ('배치장소', '발코니 내측까지 이용 가능함 창측의 형태와 반점은 변함 없고 색깔이 녹색으로 변함')],\n",
       " [('식물이름', '상조'),\n",
       "  ('학명', 'Pachyveria exotica, 돌나물과'),\n",
       "  ('유통명', '서리의 아침'),\n",
       "  ('원산지', '멕시코'),\n",
       "  ('생태형', '로제트형'),\n",
       "  ('꽃', '봄~여름사이 노란 색 꽃이 핌'),\n",
       "  ('뿌리형태', '가는 뿌리'),\n",
       "  ('생장형', '봄~가을 성장 (여름생장형, 겨울에 휴면)'),\n",
       "  ('생장속도', '보통'),\n",
       "  ('겨울최저온도', '3°C'),\n",
       "  ('특성', '잎이 도톰하고 길며 백분이 있음\\r잎을 억지로 따면 상처가 남\\r여름철에는 물을 적게 줌\\r번식이 잘 됨'),\n",
       "  ('물주기', '분 흙이 마르면 충분히 관수\\r잎에 물이 닿지 않도록 주의함'),\n",
       "  ('번식', '잎꽂이, 자구꽂이'),\n",
       "  ('관리수준', '보통'),\n",
       "  ('관리요구도', '약간 돌봄')],\n",
       " [('식물이름', '자려전'),\n",
       "  ('학명', \"Pachyveria 'Royal Flush' , 돌나물과\"),\n",
       "  ('유통명', '흑미인'),\n",
       "  ('원산지', '멕시코'),\n",
       "  ('생태형', '군생형'),\n",
       "  ('꽃', '가을에 자줏빛 꽃대 위에 주황색 꽃이 핌'),\n",
       "  ('잎색', '환경에 따라 흑자주색으로 물듦'),\n",
       "  ('생장형', '봄~가을 성장 (여름생장형, 겨울에 휴면)'),\n",
       "  ('생장속도', '빠름'),\n",
       "  ('겨울최저온도', '3°C'),\n",
       "  ('특성', '약 15cm너비의 장미꽃 형상이며 잎은 연한\\r붉은색의 두꺼운 반원통모양임'),\n",
       "  ('광요구도', '해가 드는 곳이나 밝은 곳'),\n",
       "  ('물주기', '한 달에 1~2번 흠뻑 전면 관수'),\n",
       "  ('번식', '잎꽂이, 줄기꽂이'),\n",
       "  ('병충해', '고온 다습 환경시 충해의 피해가 큼'),\n",
       "  ('관리수준', '보통'),\n",
       "  ('관리요구도', '약간 돌봄'),\n",
       "  ('배치장소', '발코니 창측까지 이용 가능함')],\n",
       " [('식물이름', '입전'),\n",
       "  ('학명', 'Pachyveria scheideckeri, 돌나물과'),\n",
       "  ('유통명', '입전군생, 원종 엘레강스, 다쯔다'),\n",
       "  ('원산지', '멕시코'),\n",
       "  ('생태형', '군생형'),\n",
       "  ('꽃', '늦은 봄부터 여름까지 맑은 주황색 꽃이 핌'),\n",
       "  ('뿌리형태', '가는 뿌리'),\n",
       "  ('생장형', '봄~가을 성장 (여름생장형, 겨울에 휴면)'),\n",
       "  ('생장속도', '빠름'),\n",
       "  ('겨울최저온도', '3°C'),\n",
       "  ('특성',\n",
       "   '곧게 선 줄기에 잎이 약간 긺\\r잎이 떨어진 후에 줄기 끝에 잎이 남\\r성장이 좋은 다육이로 주걱모양의 기다란 잎이\\r탐스럽게 런너를 형성하며 성장하고 잎 표면이\\r미세한 백분으로 덮여 있어 뽀얗고 깔끔함\\r성장하면서 줄기는 곧고 튼튼하게 목질화됨'),\n",
       "  ('광요구도', '하루 4~5시간 이상의 햇빛을 요구함'),\n",
       "  ('물주기', '한 달에 두 번 정도 흠뻑 관수'),\n",
       "  ('번식', '잎꽂이, 자구꽂이'),\n",
       "  ('고온다습', '고온다습을 피함'),\n",
       "  ('관리수준', '보통'),\n",
       "  ('관리요구도', '약간 돌봄'),\n",
       "  ('배치장소', '발코니 창측까지 이용 가능함 잎이 아래로 쳐지면서 벌어짐')],\n",
       " [('식물이름', '일레인'),\n",
       "  ('학명', \"Pachyveria 'Elaine Reinelt' , 돌나물과\"),\n",
       "  ('생태형', '로제트형'),\n",
       "  ('뿌리형태', '가는 뿌리'),\n",
       "  ('생장형', '여름형(3~7월) /겨울형(9~1월)'),\n",
       "  ('관리수준', '보통'),\n",
       "  ('관리요구도', '약간 돌봄'),\n",
       "  ('배치장소', '발코니 창측까지 이용 가능함')],\n",
       " [('식물이름', '홍미인'),\n",
       "  ('학명', 'Pachyphytum oviferum ‘Momovijin’ , 돌나물과'),\n",
       "  ('원산지', '멕시코'),\n",
       "  ('생태형', '불규칙형'),\n",
       "  ('꽃', '겨울부터 초여름 사이에 나팔 모양의 붉은색 \\r꽃이 핌'),\n",
       "  ('잎색', '잎끝부터 분홍빛으로 물듦'),\n",
       "  ('뿌리형태', '가는 뿌리'),\n",
       "  ('생장형', '봄~가을 성장 (여름생장형, 겨울에 휴면)'),\n",
       "  ('생장속도', '보통'),\n",
       "  ('겨울최저온도', '0°C'),\n",
       "  ('특성', '목대에 끈적임이 있음'),\n",
       "  ('광요구도', '하루 4~5시간 이상의 충분한 광'),\n",
       "  ('번식', '잎꽂이, 줄기꽂이'),\n",
       "  ('관리수준', '보통'),\n",
       "  ('관리요구도', '약간 돌봄'),\n",
       "  ('배치장소', '발코니 내측까지 이용 가능함 분홍빛은 띠지 않고 연한 백분을 유지함\\r잎의 각도가 아래로 벌어짐')],\n",
       " [('식물이름', '성미인'),\n",
       "  ('학명', 'Pachyphytum oviferum, 돌나물과'),\n",
       "  ('원산지', '멕시코'),\n",
       "  ('생태형', '불규칙형'),\n",
       "  ('꽃', '4~6월 사이에 선홍색(내측은 적색) 종 모양의\\r꽃이 핌'),\n",
       "  ('잎색', '옅은 청록색의 잎이 붉은 보라색으로 물듦'),\n",
       "  ('뿌리형태', '가는 뿌리'),\n",
       "  ('생장형', '봄~가을 성장 (여름생장형, 겨울에 휴면)'),\n",
       "  ('생장속도', '빠름'),\n",
       "  ('겨울최저온도', '7°C'),\n",
       "  ('특성',\n",
       "   '작고 낮은 나무모양으 로, 잎끝은 넓고 둥글며\\r끝은 약간 뾰족함\\r백분을 띤 잎은 옅은 청록색\\r잎 길이는 2∼4cm, 폭은 2∼2.5cm로\\r두께는 1∼1.5cm로 두꺼움'),\n",
       "  ('광요구도', '반그늘'),\n",
       "  ('물주기', '성장기에는 물을 한 번 주고 나면 흙을 완전히\\r건조 후에 관수함'),\n",
       "  ('번식', '줄기꽂이, 잎꽂이, 파종'),\n",
       "  ('관리수준', '보통'),\n",
       "  ('관리요구도', '필요함'),\n",
       "  ('배치장소', '발코니 내측까지 이용 가능함 약간 키가 커졌으나 잎의 두께와 모양 등은\\r변하지 않고 관상가치 유지함')],\n",
       " [('식물이름', '군작'),\n",
       "  ('학명', 'Pachyphytum viride, 돌나물과'),\n",
       "  ('유통명', '비리데'),\n",
       "  ('원산지', '멕시코'),\n",
       "  ('생태형', '로제트형'),\n",
       "  ('꽃', '봄부터 여름에 흰(안쪽은 적색)꽃이 핌'),\n",
       "  ('잎색', '어두운 녹색의 잎이 가을부터 겨울에 햇빛을\\r받으면 검붉은색으로 물듦'),\n",
       "  ('뿌리형태', '가는 뿌리'),\n",
       "  ('생장형', '봄~가을 성장 (여름생장형, 겨울에 휴면)'),\n",
       "  ('생장속도', '빠름'),\n",
       "  ('겨울최저온도', '2~3°C'),\n",
       "  ('특성',\n",
       "   '식물체의 지름이 10cm임\\r길고 통통한 잎이 돌려나며 방추형임\\r성장이 느린편이며 줄기가 엄지손가락보다 굵게\\r목질화되는 모습을 볼 수 있음'),\n",
       "  ('광요구도', '빛이 잘 들고 통풍이 용이한 곳(베란다, 창가)'),\n",
       "  ('물주기',\n",
       "   '여름철, 겉흙이 말랐을 때 흠뻑 관수하며\\r겨울철에는 분 흙이 완전히 말랐을 때\\r촉촉하게 해줌\\r5°C이하의 저온과 30°C이상의 고온 휴면기에는\\r물을 주지 않음'),\n",
       "  ('번식', '잎꽂이, 줄기꽂이'),\n",
       "  ('관리수준', '보통'),\n",
       "  ('관리요구도', '약간 돌봄'),\n",
       "  ('배치장소', '발코니 창측까지 이용 가능함 잎의 각도 벌어짐')],\n",
       " [('식물이름', '신화월'),\n",
       "  ('학명', \"Crassula ovata 'Obliqua' , 돌나물과\"),\n",
       "  ('원산지', '남아프리카'),\n",
       "  ('생태형', '관목형'),\n",
       "  ('꽃', '봄, 겨울에 흰색과 연분홍 색의 꽃이 핌'),\n",
       "  ('뿌리형태', '가는 뿌리'),\n",
       "  ('생장형', '여름형(3~7월) /겨울형(9~1월)'),\n",
       "  ('생장속도', '보통'),\n",
       "  ('겨울최저온도', '5°C'),\n",
       "  ('특성', '잎이 화월보다 둥글며 가장자리가 붉게 물듦\\r여름에는 잎이 파랗게 되며 가을에 다시 노랗게 됨'),\n",
       "  ('광요구도', '밝은 빛이나 직사광선에서 잘 자람'),\n",
       "  ('물주기',\n",
       "   '줄기와 잎에 수분을 저장하고 있기 때문에 심한\\r건조도 견뎌낼 수 있어 분 흙의 표면이 말라도\\r바로 물을 줄 필요는 없음\\r생장이 일시적으로 멈추는 한여름에는 물을\\r너무 많이주면 뿌리가 쉽게 썩음'),\n",
       "  ('번식', '잎꽂이, 줄기꽂이'),\n",
       "  ('병충해', '배수가 안 되면 잿빛곰팡이병에 걸리기 쉬움\\r진딧물, 거미응애'),\n",
       "  ('관리수준', '쉬움'),\n",
       "  ('관리요구도', '약간 돌봄'),\n",
       "  ('비료', '5월과 9월 초순에 2회, 비료를 주면 잘 자람'),\n",
       "  ('배치장소', '발코니 내측까지 이용 가능함 잎에 광택이나는 녹색으로 건강해 보임'),\n",
       "  ('Tip', '따뜻한 곳이라면 실외에서도 시들지 않지만,\\r서리에는 상당히 약하므로 주의함')],\n",
       " [('식물이름', '무을녀'),\n",
       "  ('학명', \"Crassula rupestriss 'Marnieriana' , 돌나물과\"),\n",
       "  ('원산지', '남아프리카공화국'),\n",
       "  ('생태형', '탑형'),\n",
       "  ('꽃', '여름에서 이른 가을사이 종 모양의 흰색 꽃이 핌'),\n",
       "  ('잎색', '잎 끝에 붉은색'),\n",
       "  ('뿌리형태', '가는 뿌리'),\n",
       "  ('생장형', '가을~봄 성장 (겨울생장형, 여름에 휴면)'),\n",
       "  ('생장속도', '보통'),\n",
       "  ('생육적온', '15~30°C'),\n",
       "  ('겨울최저온도', '10°C'),\n",
       "  ('특성',\n",
       "   '15~30cm 내외로 자라며, 줄기에 있는 마디를\\r가릴정도로 많은 잎이 비스듬히 마주남\\r잎은 둥근 형이며 짧고 통통함. 줄기는 가늘고\\r탑을 쌓아가듯 곧게 뻗으며, 추후 옆으로 기듯이\\r뻗어나고 군생함'),\n",
       "  ('광요구도', '직사광선 등 충분한 햇빛 필요'),\n",
       "  ('물주기', '한 달에 두번 정도 흠뻑 전면 관수'),\n",
       "  ('번식', '줄기꽂이, 줄기를 2~3마디 정도 잘라 흙에\\r옮겨 심음\\r잘린 줄기는 두 개로 나뉘며 성장함'),\n",
       "  ('병충해', '잎에 물기가 있으면 충이 생길 수 있음'),\n",
       "  ('관리수준', '보통'),\n",
       "  ('관리요구도', '약간 돌봄'),\n",
       "  ('배치장소', '발코니 창측까지 이용 가능함 발코니 내측에서는 가장 선단에 있는 어린 잎 웃자람')],\n",
       " [('식물이름', '우주목'),\n",
       "  ('학명', \"Crassula portulacea monstrosa 'Gollum' , 돌나물과\"),\n",
       "  ('원산지', '남아프리카'),\n",
       "  ('생태형', '불규칙형'),\n",
       "  ('꽃', '늦은 봄부터 여름까지 분홍색 꽃이 핌'),\n",
       "  ('잎색', '빛을 충분히 받으면 원통형의 잎 끝이 붉게 물듦'),\n",
       "  ('뿌리형태', '가는 뿌리'),\n",
       "  ('생장형', '가을~봄 성장 (겨울생장형, 여름에 휴면)'),\n",
       "  ('생장속도', '보통'),\n",
       "  ('겨울최저온도', '5°C'),\n",
       "  ('특성', '잎은 끝이 빨판 모양 원통형\\r줄기는 약한 편이고 추위에 약함'),\n",
       "  ('광요구도', '직사광선을 피함'),\n",
       "  ('물주기', '한 달에 두 번 정도 흠뻑 전면 관수\\r여름 장마철과 겨울에는 단수'),\n",
       "  ('번식', '잎꽂이, 줄기꽂이'),\n",
       "  ('관리수준', '보통'),\n",
       "  ('관리요구도', '약간 돌봄'),\n",
       "  ('배치장소', '발코니 내측까지 이용 가능함 창측의 형태를 유지하나 붉은 빛은 적어지고\\r전반적으로 녹색을 띰')],\n",
       " [('식물이름', '십자성'),\n",
       "  ('학명', 'Crassula perforata, 돌나물과'),\n",
       "  ('유통명', '영자'),\n",
       "  ('원산지', '남아프리카'),\n",
       "  ('생태형', '탑형'),\n",
       "  ('꽃', '가을부터 이른 봄까지 흰색 꽃이 핌'),\n",
       "  ('잎색', '봄, 가을 빛을 충분히 받으면 잎 가장자리가 붉게 물듦'),\n",
       "  ('뿌리형태', '가는 뿌리'),\n",
       "  ('생장형', '가을~봄 성장 (겨울생장형, 여름에 휴면)'),\n",
       "  ('생장속도', '보통'),\n",
       "  ('겨울최저온도', '5°C'),\n",
       "  ('특성',\n",
       "   '줄기는 분 지성으로 많 이 자 라다가 나 중에는\\r쓰러져서 자라기도 함\\r잎은 마주나고 끝부분이 뾰족한 타원형에 가까운\\r회녹색이고 잎 둘레에 적색무늬가 있음\\r잎의 길이는 15~25mm, 폭은 9~13mm임'),\n",
       "  ('광요구도', '웃자라지 않기 위해 충분한 광 필요\\r한여름 직사광선 피함'),\n",
       "  ('물주기', '한 달에 두 번 가량 분의 흙이 흠뻑 젖도록 관수'),\n",
       "  ('번식', '잎꽂이, 줄기꽂이'),\n",
       "  ('관리수준', '보통'),\n",
       "  ('관리요구도', '약간 돌봄'),\n",
       "  ('배치장소', '발코니 창측까지 이용 가능함')],\n",
       " [('식물이름', '남십자성'),\n",
       "  ('학명', 'Crassula perforata var. variegata, 돌나물과'),\n",
       "  ('원산지', '아프리카'),\n",
       "  ('생태형', '탑형'),\n",
       "  ('꽃', '봄~여름 연노랑색 꽃이 핌'),\n",
       "  ('잎색', '연두색 잎이 강한 광을 받으면 잎 가장자리가 붉게 물듦'),\n",
       "  ('뿌리형태', '가는 뿌리'),\n",
       "  ('생장형', '가을~봄 성장 (겨울생장형, 여름에 휴면)'),\n",
       "  ('생장속도', '보통'),\n",
       "  ('겨울최저온도', '4~7°C'),\n",
       "  ('특성',\n",
       "   '잎은 십자성과 비슷하나 잎에 무늬가 있고 조금 더 얇음\\r마주나는 연두색 두 잎이 열십자 모양으로 교차함\\r분지성으로 많은 줄기가 자라며, 46cm 까지 자람'),\n",
       "  ('광요구도', '충분한 광을 받아야 잎 간격이 촘촘하게 생장함\\r직사광선, 강광에 강함'),\n",
       "  ('물주기', '한 달에 두 번 가량 분의 흙이 흠뻑 젖도록 관수'),\n",
       "  ('번식', '줄기꽂이, 포기나누기'),\n",
       "  ('병충해', '잎에 물기가 남아 있으면 충이 잘 생김'),\n",
       "  ('관리수준', '보통'),\n",
       "  ('관리요구도', '약간 돌봄'),\n",
       "  ('배치장소', '발코니 창측까지 이용 가능함')],\n",
       " [('식물이름', '염자'),\n",
       "  ('학명', 'Crassula ovata, 돌나물과'),\n",
       "  ('유통명', '화월'),\n",
       "  ('원산지', '남아프리카'),\n",
       "  ('생태형', '관목형'),\n",
       "  ('꽃', '봄에 작은 별 모양의 흰 꽃이 무수히 피지만\\r실내에서는 보기 어려움'),\n",
       "  ('잎색', '녹색의 잎 가장자리가 붉게 물듦'),\n",
       "  ('뿌리형태', '가는 뿌리'),\n",
       "  ('생장형', '가을~봄 성장 (겨울생장형, 여름에 휴면)'),\n",
       "  ('생장속도', '빠름'),\n",
       "  ('생육적온', '15~35°C'),\n",
       "  ('겨울최저온도', '3°C'),\n",
       "  ('특성', '실내에서 1m 정도까지 자람'),\n",
       "  ('광요구도', '밝은 빛이나 직사광선에서 잘 자람'),\n",
       "  ('물주기', '생장이 일시적으로 멈추는 한여름에 물을 너무\\r많이 주면 뿌리가 쉽게 썩음'),\n",
       "  ('번식', '잎꽂이, 줄기꽂이'),\n",
       "  ('고온다습', '배수가 안 되면 잿빛곰팡이병에 걸리기 쉬움'),\n",
       "  ('병충해', '진딧물, 거미응애'),\n",
       "  ('관리수준', '쉬움'),\n",
       "  ('관리요구도', '약간 돌봄'),\n",
       "  ('비료', '봄, 여름 액비를 격주로 줌5월과 9월 초순에 2회, 비료를 주면 잘 자람'),\n",
       "  ('배치장소', '발코니 내측까지 이용 가능함'),\n",
       "  ('Tip', '실온에서 잘 자라며 겨울철에는 7-13°C의 저온에 두는 것이 좋다.')],\n",
       " [('식물이름', '애성'),\n",
       "  ('학명', 'Crassula nudicaulis var. herrei, 돌나물과'),\n",
       "  ('원산지', '나미비아'),\n",
       "  ('생태형', '불규칙형'),\n",
       "  ('꽃', '봄에 짙은 복숭아색 꽃이 핌'),\n",
       "  ('잎색', '일조량과 통풍이 좋으면 옅은 녹색의 잎 테두리가\\r홍색으로 선명하게 물듦'),\n",
       "  ('뿌리형태', '가는 뿌리'),\n",
       "  ('생장형', '가을~봄 성장 (겨울생장형, 여름에 휴면)'),\n",
       "  ('생장속도', '느림'),\n",
       "  ('겨울최저온도', '5~10°C'),\n",
       "  ('특성', '통통한 삼각형 모양의 잎이 십자 형태로 마주 보고\\r나오며 위로 25~30cm 까지 자람'),\n",
       "  ('광요구도', '충분한 광 요구'),\n",
       "  ('물주기', '한 달에 두 번 정도 흠뻑 관수\\r여름철에 단수'),\n",
       "  ('번식', '포기나누기, 줄기꽂이'),\n",
       "  ('관리수준', '매우 어려움'),\n",
       "  ('관리요구도', '필요함'),\n",
       "  ('배치장소', '발코니 창측까지 이용 가능함')],\n",
       " [('식물이름', '기천'),\n",
       "  ('학명', \"Crassula 'Moonglow' , 돌나물과\"),\n",
       "  ('원산지', '남아프리카'),\n",
       "  ('생태형', '탑형'),\n",
       "  ('꽃', '꽃대는 굵고 흰색이며 여름에 작은 주황색 꽃이 핌'),\n",
       "  ('뿌리형태', '가는 뿌리'),\n",
       "  ('생장형', '가을~봄 성장 (겨울생장형, 여름에 휴면)'),\n",
       "  ('생장속도', '느림'),\n",
       "  ('겨울최저온도', '5°C'),\n",
       "  ('특성',\n",
       "   '직경 4cm 정도의 사각형 기둥모양으로 잎은 두껍고\\r빽빽하게 겹쳐 있으며, 회백 녹색을 띰\\r잎의 윗면은 편평하며 각이 져 있고, 아랫면은\\r부풀어 오른 모양'),\n",
       "  ('광요구도', '한여름의 강한 직사광선보다는 통풍이 잘 되는\\r밝은 그늘이 좋음'),\n",
       "  ('물주기', '장마철에는 일주일 전부터 단수, 겨울철에는\\r물을 거의 주지 않음'),\n",
       "  ('번식', '줄기꽂이'),\n",
       "  ('병충해', '잎 사이에 물이 고이면 곰팡이병에 걸리기 쉬움\\r곰팡이병에 걸리면 잎색이 갈색으로 변하면서\\r형태가 쭈그러듦'),\n",
       "  ('관리수준', '어려움'),\n",
       "  ('관리요구도', '필요함'),\n",
       "  ('배치장소', '발코니 내측까지 이용 가능함 키만 약간 자라지만 지지하는데 문제가 없고\\r관상가치 있음')],\n",
       " [('식물이름', '은전'),\n",
       "  ('학명', 'Crassula mesembryanthemoides, 돌나물과'),\n",
       "  ('원산지', '남아프리카공화국, 탄자니아'),\n",
       "  ('생태형', '관목형'),\n",
       "  ('잎색', '녹색의 잎 표면에 하얀색 솜털이 무성'),\n",
       "  ('뿌리형태', '가는 뿌리'),\n",
       "  ('생장형', '가을~봄 성장 (겨울생장형, 여름에 휴면)'),\n",
       "  ('생장속도', '빠름'),\n",
       "  ('겨울최저온도', '0°C'),\n",
       "  ('특성', '가늘고 긴 잎에 길고 부드러운 흰색 털이 붙어 있음\\r군생으로 자람\\r봄에 줄기를 잘라 번식'),\n",
       "  ('광요구도', '직사광선을 피함'),\n",
       "  ('물주기', '분 흙이 말랐을 때 흠뻑 관수'),\n",
       "  ('번식', '자구꽂이, 줄기꽂이, 포기나누기'),\n",
       "  ('관리수준', '보통'),\n",
       "  ('관리요구도', '약간 돌봄'),\n",
       "  ('배치장소', '발코니 내측까지 이용 가능함 창측의 형태를 유지하고 정단부쪽으로 약간\\r절간장이 길어지지만 관상가치 있음')],\n",
       " [('식물이름', '백로'),\n",
       "  ('학명', 'Crassula deltoidea, 돌나물과'),\n",
       "  ('유통명', '백묘'),\n",
       "  ('원산지', '남아프리카'),\n",
       "  ('생태형', '포복형'),\n",
       "  ('꽃', '봄에 흰색 꽃이 개화'),\n",
       "  ('뿌리형태', '가는 뿌리'),\n",
       "  ('생장형', '가을~봄 성장 (겨울생장형, 여름에 휴면)'),\n",
       "  ('생장속도', '느림'),\n",
       "  ('겨울최저온도', '5~10°C'),\n",
       "  ('특성', '12cm까지 자람\\r자생지가 넓고 형태가 다양\\r군생으로 키움\\r여름철에는 물을 적게 줌'),\n",
       "  ('광요구도', '충분한 광, 한여름에는 직사광선을 피함'),\n",
       "  ('물주기', '겉흙이 완전히 마를 때 관수\\r여름철에는 가급적 건조하게 관리'),\n",
       "  ('번식', '줄기꽂이'),\n",
       "  ('관리수준', '어려움'),\n",
       "  ('관리요구도', '필요함'),\n",
       "  ('배치장소', '발코니 창측까지 이용 가능함')],\n",
       " [('식물이름', '크라슐라 ‘다비드’'),\n",
       "  ('학명', \"Crassula 'David' , 돌나물과\"),\n",
       "  ('원산지', '남아프리카'),\n",
       "  ('생태형', '포복형'),\n",
       "  ('꽃', '봄에 개화'),\n",
       "  ('잎색', '생육환경에 따라 노란색에서 붉은색으로 물듦'),\n",
       "  ('뿌리형태', '가는 뿌리'),\n",
       "  ('생장형', '가을~봄 성장 (겨울생장형, 여름에 휴면)'),\n",
       "  ('생장속도', '빠름'),\n",
       "  ('겨울최저온도', '5~10°C'),\n",
       "  ('광요구도', '직사광선을 피한 밝은 광 필요'),\n",
       "  ('물주기', '겉흙이 완전히 마를 때 관수\\r여름철에는 가급적 건조하게 관리'),\n",
       "  ('번식', '파종, 잎꽂이'),\n",
       "  ('관리수준', '보통'),\n",
       "  ('관리요구도', '약간 돌봄'),\n",
       "  ('배치장소', '발코니 창측까지 이용 가능함'),\n",
       "  ('Tip', '월동 안 됨')],\n",
       " [('식물이름', '크라슐라 ‘부다템플’'),\n",
       "  ('학명', \"Crassula 'Buddha's Temple' , 돌나물과\"),\n",
       "  ('유통명', '대형녹탑'),\n",
       "  ('원산지', '미국'),\n",
       "  ('생태형', '탑형'),\n",
       "  ('꽃', '11월 부터 1월 사이 흰색의 꽃이 핌'),\n",
       "  ('잎색', '잎의 가장자리부터 붉게 물듦'),\n",
       "  ('뿌리형태', '가는 뿌리'),\n",
       "  ('생장형', '가을~봄 성장 (겨울생장형, 여름에 휴면)'),\n",
       "  ('생장속도', '느림'),\n",
       "  ('생육적온', '12~30°C'),\n",
       "  ('겨울최저온도', '5~10°C'),\n",
       "  ('특성', '잎 너비가 2~3cm로 탑처럼 쌓여 가며 길게 자람\\r육각형 모양을 띤 것도 있음'),\n",
       "  ('광요구도', '직광을 피한 밝은 광 요구'),\n",
       "  ('물주기', '겉흙이 완전히 마를 때 관수\\r여름철에는 가급적 건조하게 관리'),\n",
       "  ('번식', '줄기꽂이'),\n",
       "  ('고온다습', '과습에 약함'),\n",
       "  ('병충해', '깍지벌레 주의'),\n",
       "  ('관리수준', '어려움'),\n",
       "  ('관리요구도', '필요함'),\n",
       "  ('배치장소',\n",
       "   '발코니 내측까지 이용 가능함 키가 자라 커다란 탑 모양을 만들지만 지지하는데\\r문제가 없고, 창측과 전혀 다른 모습이지만\\r관상가치 있음')],\n",
       " [('식물이름', '적귀성'),\n",
       "  ('학명', \"Crassula cappitella 'Campfire' X C. fusca 'Momigimatsuri' , 돌나물과\"),\n",
       "  ('원산지', '남아프리카'),\n",
       "  ('생태형', '군생형'),\n",
       "  ('꽃', '가을부터 겨울 사이에 흰색의 작은 꽃이 다발로 핌'),\n",
       "  ('잎색', '푸른 색의 잎이 가을이 되면 붉게 물듦'),\n",
       "  ('뿌리형태', '가는 뿌리'),\n",
       "  ('생장형', '봄~가을 성장 (여름생장형, 겨울에 휴면)'),\n",
       "  ('생장속도', '보통'),\n",
       "  ('겨울최저온도', '5~10°C'),\n",
       "  ('특성', '원예종으로 소형이며 잎 전체가 붉게 물듦\\r강하게 키우는 것이 좋음'),\n",
       "  ('광요구도', '충분한 빛'),\n",
       "  ('물주기', '건조하게 관리\\r잎에 주름이 생기기 시작할 때 관수'),\n",
       "  ('번식', '잎꽂이, 줄기꽂이'),\n",
       "  ('관리수준', '어려움'),\n",
       "  ('관리요구도', '필요함'),\n",
       "  ('배치장소', '발코니 창측까지 이용 가능함')],\n",
       " [('식물이름', '화제'),\n",
       "  ('학명', \"Crassula Americana 'Flame' , 돌나물과\"),\n",
       "  ('원산지', '아프리카'),\n",
       "  ('생태형', '로제트형'),\n",
       "  ('꽃', '가을부터 겨울까지 흰 색 꽃이 핌'),\n",
       "  ('잎색', '해를 자주 볼 수로 붉게 물듦'),\n",
       "  ('뿌리형태', '가는 뿌리'),\n",
       "  ('생장형', '봄~가을 성장 (여름생장형, 겨울에 휴면)'),\n",
       "  ('생장속도', '보통'),\n",
       "  ('겨울최저온도', '5~10°C'),\n",
       "  ('특성', '잎 너비는 1~2cm 정도이며 빨간색을 띰'),\n",
       "  ('광요구도', '실외나 햇빛이 잘 드는 실내에서 키움'),\n",
       "  ('물주기', '잎이 쭈글거릴 때 듬뿍 관수함\\r건조하게 키워야 잎색이 선명해지고,\\r물을 많이 주면 잎이 초록색으로 됨'),\n",
       "  ('번식', '잎꽂이, 줄기꽂이'),\n",
       "  ('관리수준', '보통'),\n",
       "  ('관리요구도', '약간 돌봄'),\n",
       "  ('배치장소', '발코니 창측까지 이용 가능함'),\n",
       "  ('Tip', '추위와 더위에 강함')],\n",
       " [('식물이름', '복랑'),\n",
       "  ('학명', 'Cotyledon orbiculata var. oophylla, 돌나물과'),\n",
       "  ('원산지', '남아프리카'),\n",
       "  ('생태형', '불규칙형'),\n",
       "  ('꽃', '봄~여름 사이 연한 홍색의 꽃이 핌'),\n",
       "  ('잎색', '원통 모양의 잎 끝부분이 특유의 자홍색으로 물듦'),\n",
       "  ('뿌리형태', '가는 뿌리'),\n",
       "  ('생장형', '봄~가을 생장 (여름생장형)'),\n",
       "  ('생장속도', '느림'),\n",
       "  ('겨울최저온도', '5~10°C'),\n",
       "  ('특성',\n",
       "   '백녹색의 잎에 보랏빛 홍색선이 둘러져 있으며\\r백분이 있음\\r겨울철에는 그다지 자라지 않으며, 5°C 이상을\\r유지하고 물을 적게 줌'),\n",
       "  ('광요구도', '직사광선을 피함'),\n",
       "  ('물주기', '1~2주에 한 번 흠뻑 관수 여름, 겨울철에는 관수\\r횟수를 줄임'),\n",
       "  ('번식', '자구꽂이'),\n",
       "  ('관리수준', '매우 어려움'),\n",
       "  ('관리요구도', '필요함'),\n",
       "  ('배치장소', '발코니 창측까지 이용 가능함'),\n",
       "  ('Tip', '잎에 물이 닿지 않게 함')],\n",
       " [('식물이름', '백미인'),\n",
       "  ('학명', 'Cotyledon orbiculata sp., 돌나물과'),\n",
       "  ('원산지', '멕시코'),\n",
       "  ('생태형', '군생형'),\n",
       "  ('뿌리형태', '가는 뿌리'),\n",
       "  ('생장형', '봄~가을 생장 (여름생장형)'),\n",
       "  ('생장속도', '빠름'),\n",
       "  ('겨울최저온도', '5~10°C'),\n",
       "  ('광요구도', '충분한 광 필요'),\n",
       "  ('물주기', '한 달에 두 번 가량 흠뻑 관수'),\n",
       "  ('번식', '파종, 잎꽂이, 줄기꽂이'),\n",
       "  ('관리수준', '보통'),\n",
       "  ('관리요구도', '약간 돌봄'),\n",
       "  ('배치장소', '발코니 창측까지 이용 가능함')],\n",
       " [('식물이름', '웅동자'),\n",
       "  ('학명', 'Cotyledon tomentosa, 돌나물과'),\n",
       "  ('원산지', '남아프리카'),\n",
       "  ('생태형', '불규칙형'),\n",
       "  ('꽃', '(꽃대) 10~20cm, 주황색~적갈색의 초롱꽃 모양\\r꽃은 생장점 끝부분에 핌'),\n",
       "  ('잎색', '가을이 되면 잎 가장자리의 돌기가 적갈색으로 물듦'),\n",
       "  ('뿌리형태', '가는 뿌리'),\n",
       "  ('생장형', '봄~가을 성장 (여름생장형, 겨울에 휴면)'),\n",
       "  ('생장속도', '빠름'),\n",
       "  ('생육적온', '-1~35℃'),\n",
       "  ('겨울최저온도', '-1°C'),\n",
       "  ('특성',\n",
       "   '줄기는 높이 30cm정도의 낮은 나무 모양으로\\r자라며, 가지가 계속 발생해 넓게 퍼짐\\r회록색의 몸체에 두툼한 털이 월토이와 비슷하며\\r길이 2.5cm, 폭 1.2cm 정도인 잎이 많이 달림'),\n",
       "  ('광요구도', '강한 광선은 잎 끝을 빨간색으로 변색시킬 수\\r있으나 반그늘에서 문제없이 자람\\r한여름 고온의 직사광선을 피함'),\n",
       "  ('물주기', '화분 위 흙만 젖도록 관수'),\n",
       "  ('번식', '파종, 줄기꽂이'),\n",
       "  ('관리수준', '쉬움'),\n",
       "  ('관리요구도', '잘 견딤'),\n",
       "  ('배치장소', '발코니 내측까지 이용 가능함잎 가장자리의 적갈색 반점을 유지'),\n",
       "  ('Tip', '양지바른 곳에서 건조하게 키움')],\n",
       " [('식물이름', '월토이'),\n",
       "  ('학명', 'Kalanchoe tomentosa, 돌나물과'),\n",
       "  ('원산지', '마다가스카르'),\n",
       "  ('생태형', '로제트형'),\n",
       "  ('꽃', '개화시기가 일정하지 않음. 연녹색의 꽃이 핌'),\n",
       "  ('뿌리형태', '가는 뿌리'),\n",
       "  ('생장형', '봄~가을 성장 (겨울에 휴면)'),\n",
       "  ('생장속도', '빠름'),\n",
       "  ('생육적온', '15~35°C'),\n",
       "  ('겨울최저온도', '5°C'),\n",
       "  ('특성',\n",
       "   '기부에서부터 가지를 치며 높이 50cm 정도\\r잎은 상당히 다육질이며 원형으로 긴 편. 길이 7cm,\\r폭 2cm 정도임\\r줄기와 잎은 조밀한 백모(白毛)형태의 펠트로\\r덮여있으며 잎 가장자리에는 톱니 모양으로\\r진한 갈색의 반점이 있음'),\n",
       "  ('광요구도', '충분한 햇빛을 요구'),\n",
       "  ('물주기', '한 달에 두 번 정도 흠뻑 관수'),\n",
       "  ('번식', '줄기꽂이, 잎꽂이'),\n",
       "  ('관리수준', '쉬움'),\n",
       "  ('관리요구도', '잘 견딤'),\n",
       "  ('배치장소', '발코니 창측까지 이용 가능함 잎의 각도 벌어짐'),\n",
       "  ('Tip', '잎에 물이 닿지 않게 관수함')],\n",
       " [('식물이름', '당인'),\n",
       "  ('학명', 'Kalanchoe thyrsifolia, 돌나물과'),\n",
       "  ('원산지', '마다가스카르'),\n",
       "  ('생태형', '불규칙형'),\n",
       "  ('꽃', '겨울부터 이른 봄까지 노란 색 꽃이 핌'),\n",
       "  ('잎색', '가을부터 겨울에 충분한 빛을 받으면\\r잎 가장자리의 홍색 테두리가 더욱\\r빨갛게 됨'),\n",
       "  ('뿌리형태', '가는 뿌리'),\n",
       "  ('생장형', '봄~가을 성장 (겨울에 휴면)'),\n",
       "  ('생장속도', '빠름'),\n",
       "  ('생육적온', '12~35°C'),\n",
       "  ('겨울최저온도', '-2°C'),\n",
       "  ('특성',\n",
       "   '줄기에는 잎이 촘촘하게 붙어 있으며 줄기는\\r1m 정도까지 자람\\r백분을 띤 잎은 길이 10~15cm, 폭 4~6cm 정도로\\r가장 자리가 붉으며 계란형임'),\n",
       "  ('광요구도', '간접광에서도 생육 가능하지만 많은 양의 직접광이 필요'),\n",
       "  ('물주기', '분 흙이 완전히 마르면 흠뻑 관수'),\n",
       "  ('번식', '잎꽂이, 포기나누기'),\n",
       "  ('관리수준', '보통'),\n",
       "  ('관리요구도', '필요함'),\n",
       "  ('배치장소', '발코니 내측까지 이용 가능함 잎의 각도 벌어짐')],\n",
       " [('식물이름', '캐시미어바이올렛'),\n",
       "  ('학명', 'Aeonium velour, 돌나물과'),\n",
       "  ('원산지', '카나리제도'),\n",
       "  ('생태형', '직립형'),\n",
       "  ('잎색', '빛을 충분히 받으면 잎장의 끝부터 자주 빛으로 물듦'),\n",
       "  ('뿌리형태', '가는 뿌리'),\n",
       "  ('생장형', '가을~봄 성장 (겨울생장형)'),\n",
       "  ('생장속도', '빠름'),\n",
       "  ('생육적온', '10~24°C'),\n",
       "  ('겨울최저온도', '-7°C'),\n",
       "  ('특성', '보랏 빛깔 장미 모양 형태에 은은한 장미향이 남\\r잎사귀를 만지면 짧은 잔털이 있어서 캐시미어처럼\\r부드러움'),\n",
       "  ('물주기', '휴면기인 여름에는 단수'),\n",
       "  ('번식', '줄기꽂이'),\n",
       "  ('관리수준', '쉬움'),\n",
       "  ('관리요구도', '약간 돌봄'),\n",
       "  ('배치장소', '발코니 창측까지 이용 가능함 잎이 넓어지고 벌어짐')],\n",
       " [('식물이름', '소인제'),\n",
       "  ('학명', 'Aeonium sedifolium, 돌나물과'),\n",
       "  ('원산지', '카나리제도'),\n",
       "  ('생태형', '관목형'),\n",
       "  ('꽃', '늦은 봄부터 노란색 꽃이 핌'),\n",
       "  ('잎색', '햇빛을 받으면 잎면의 붉은색 무늬가 선명해짐'),\n",
       "  ('뿌리형태', '가는 뿌리'),\n",
       "  ('생장형', '가을~봄 성장 (여름생장형, 겨울에 휴면)'),\n",
       "  ('생장속도', '보통'),\n",
       "  ('생육적온', '3~35°C'),\n",
       "  ('겨울최저온도', '0°C'),\n",
       "  ('특성', '잎 길이가 2cm이고 끈적거림\\r줄기는 얇고 진한 갈색을 띠며 잘 부러짐\\r잎이 유접곡보다 원통형임'),\n",
       "  ('광요구도', '충분한 광을 받아야 웃자람이 없고 잎의 무늬가 선명해짐'),\n",
       "  ('물주기', '완전히 건조해졌을 때 충분히 관수'),\n",
       "  ('번식', '파종, 줄기꽂이'),\n",
       "  ('관리수준', '보통'),\n",
       "  ('관리요구도', '필요함'),\n",
       "  ('배치장소', '발코니 내측까지 이용 가능함 잎이 녹색으로 변하고 잎 모양이 활짝 전개됨')],\n",
       " [('식물이름', '유접곡'),\n",
       "  ('학명', 'Aeonium arnoldii, 돌나물과'),\n",
       "  ('유통명', '청패희'),\n",
       "  ('원산지', '아프리카 남부'),\n",
       "  ('생태형', '관목형'),\n",
       "  ('꽃', '늦봄에 노란색 꽃이 핌'),\n",
       "  ('잎색', '잎의 갈색 무늬가 햇빛을 자주 볼수록 색이 선명해짐'),\n",
       "  ('뿌리형태', '가는 뿌리'),\n",
       "  ('생장형', '가을~봄 성장 (겨울생장형, 여름에 휴면)'),\n",
       "  ('생장속도', '빠름'),\n",
       "  ('생육적온', '3~35°C'),\n",
       "  ('겨울최저온도', '-7°C'),\n",
       "  ('특성',\n",
       "   '줄기 끝 부분에 로제트상으로 작은 잎을 만듦\\r잎 길이는 1cm이고 둥근 형태로 표면에 갈색\\r무늬가 있음\\r녹색의 가느다란 줄기는 점차 목질화됨\\r소인제보다 잎이 넓음'),\n",
       "  ('광요구도', '충분한 광을 받아야 웃자람이 없고 잎의 무늬가 선명해짐'),\n",
       "  ('물주기', '완전히 건조해졌을 때 충분히 관수'),\n",
       "  ('번식', '파종, 줄기꽂이'),\n",
       "  ('관리수준', '보통'),\n",
       "  ('관리요구도', '약간 돌봄'),\n",
       "  ('배치장소', '발코니 내측까지 이용 가능함 잎이 녹색으로 변하고 잎 모양이 활짝 전개됨')],\n",
       " [('식물이름', '흑법사(黑法師)'),\n",
       "  ('학명', \"Aeonium arboreum 'Atropurpureum' , 돌나물과\"),\n",
       "  ('원산지', '카나리아 섬'),\n",
       "  ('생태형', '직립형'),\n",
       "  ('꽃', '긴 총상화서로 25~30cm, 연한 황색꽃이 여름에 개화'),\n",
       "  ('잎색', '햇빛을 많이 받으면 더 새까매져서 특유의 색이 나옴'),\n",
       "  ('뿌리형태', '가는 뿌리'),\n",
       "  ('생장형', '가을~봄 성장 (겨울생장형)'),\n",
       "  ('생장속도', '빠름'),\n",
       "  ('생육적온', '10°C 이상'),\n",
       "  ('겨울최저온도', '-2°C'),\n",
       "  ('특성',\n",
       "   '원예품종으로 잎이 줄기 끝에 로제트 형상으로\\r자라고, 25cm 정도 높이의 곧은 줄기에 가지가\\r조금 나옴\\r로제트의 직경은 20cm 정도로 잎은 암적자색으로\\r밀생하고 주걱모양이며 선단은 뾰족하지 않음\\r잎 주위에서는 흰털이 남'),\n",
       "  ('광요구도', '양지나 반그늘에서 키움\\r채색을 변화시키려면 많은 빛을 쬐어야 함'),\n",
       "  ('물주기', '분 흙이 완전히 건조해졌을 때 흠뻑 관수'),\n",
       "  ('번식', '줄기꽂이, 파종\\r어느 정도 자랐을 때 줄기 끝을 자르고 그늘진 곳에\\r놓아두면 곧 뿌리가 발생함'),\n",
       "  ('관리수준', '쉬움'),\n",
       "  ('관리요구도', '약간 돌봄'),\n",
       "  ('배치장소', '발코니 내측까지 이용 가능함 잎 중심 초록색부위가 넓어져 잎끝으로만 진한 자주 빛')],\n",
       " [('식물이름', '홍용월'),\n",
       "  ('학명', 'Graptopetalum paraguayense, 돌나물과'),\n",
       "  ('원산지', '멕시코'),\n",
       "  ('생태형', '직립형'),\n",
       "  ('꽃', '이른 봄에 붉은 반점이 있는 흰색의 별모양 꽃이 핌\\r꽃대 15cm, 크기 3cm'),\n",
       "  ('잎색', '햇빛을 많이 받으면 진한 분홍빛으로 물듦'),\n",
       "  ('뿌리형태', '가는 뿌리'),\n",
       "  ('생장형', '봄~가을 성장 (여름생장형, 겨울에 휴면)'),\n",
       "  ('생장속도', '빠름'),\n",
       "  ('겨울최저온도', '0°C'),\n",
       "  ('특성',\n",
       "   '갸름한 잎이 두툼하게 로제트 형으로 자라며\\r잎 끝 부분에 흰색 띠가 나타남\\r생장이 빠르며 잘 늘어짐\\r줄기가 단단하고 추위에 강함'),\n",
       "  ('광요구도', '밝은 그늘에서 키움'),\n",
       "  ('물주기', '한 달에 두 번 정도 전체적으로 흠뻑 관수'),\n",
       "  ('번식', '파종, 줄기꽂이, 잎꽂이'),\n",
       "  ('고온다습', '여름철 고온에 약함'),\n",
       "  ('병충해', '고온다습한 환경에서 충해의 피해 큼'),\n",
       "  ('관리수준', '매우 쉬움'),\n",
       "  ('관리요구도', '잘 견딤')],\n",
       " [('식물이름', '그랍토페탈룸 멘도자'),\n",
       "  ('학명', 'Graptopetalum mendozae, 돌나물과'),\n",
       "  ('유통명', '멘도사, 베라히긴즈, 멘도자'),\n",
       "  ('원산지', '멕시코'),\n",
       "  ('생태형', '관목형'),\n",
       "  ('꽃',\n",
       "   '늦은 봄부터 여름까지 흰색의 꽃이 핌\\r꽃은 직경 1cm 정도로 작으며, 꽃잎은 3~5장\\r다른 그랍토페탈룸과 식물들과 달리 꽃잎에\\r줄무늬나 반점이 없음'),\n",
       "  ('잎색', '강한 빛을 받으면 잎끝이 붉게 물듦'),\n",
       "  ('뿌리형태', '가는 뿌리'),\n",
       "  ('생장형', '봄~가을 성장 (여름생장형, 겨울에 휴면)'),\n",
       "  ('생장속도', '빠름'),\n",
       "  ('겨울최저온도', '0°C'),\n",
       "  ('특성',\n",
       "   '10~15cm 까지 성장\\r잎 길이 1.0~1.5cm, 폭 0.5cm 까지 됨\\r군생하며 자라고 옅은 살구색을 띰\\r더디게 키우는 것이 좋음'),\n",
       "  ('광요구도', '충분한 빛'),\n",
       "  ('물주기', '약 한 달 주기로 물을 줌\\r겨울철에는 잎에 주름이 생기면 줌'),\n",
       "  ('번식', '줄기꽂이, 잎꽂이'),\n",
       "  ('병충해', '고온다습한 환경에서 충해의 피해 큼'),\n",
       "  ('관리수준', '쉬움'),\n",
       "  ('관리요구도', '약간 돌봄'),\n",
       "  ('배치장소', '발코니 창측까지 이용 가능함'),\n",
       "  ('Tip', '겨울에 번식이 어려움')],\n",
       " [('식물이름', '그랍토베리아 ‘퍼플드림’'),\n",
       "  ('학명', \"Graptoveria 'Purpledream' , 돌나물과\"),\n",
       "  ('원산지', '멕시코'),\n",
       "  ('생태형', '관목형'),\n",
       "  ('뿌리형태', '가는 뿌리'),\n",
       "  ('생장형', '봄~가을 성장 (여름생장형, 겨울에 휴면)'),\n",
       "  ('생장속도', '빠름'),\n",
       "  ('겨울최저온도', '0°C'),\n",
       "  ('특성',\n",
       "   '수목형으로 성장하는 소형종. 기다란 잎들이 줄기를\\r따라 로제트로 성장하는 모습으로 기부에서 자구를\\r만들며 풍성하게 군생'),\n",
       "  ('광요구도', '강한 햇빛에서 관리\\r햇빛이 부족하면 잎 간격이 길어지고 잎 모양이 성글어짐'),\n",
       "  ('물주기', '한 달에 두 번 정도 전체적으로 흠뻑 관수\\r여름 장마철과 겨울에는 절수해야 함'),\n",
       "  ('번식', '봄, 여름에 줄기꽂이, 잎꽂이'),\n",
       "  ('관리수준', '쉬움'),\n",
       "  ('관리요구도', '약간 돌봄'),\n",
       "  ('배치장소', '발코니 창측까지 이용 가능함')],\n",
       " [('식물이름', '흑괴리'),\n",
       "  ('학명', \"Graptoveria 'FredIvers' , 돌나물과\"),\n",
       "  ('원산지', '멕시코'),\n",
       "  ('생태형', '직립형'),\n",
       "  ('꽃', '3월~8월 노란색 꽃 핌'),\n",
       "  ('잎색', '청록색의 잎이 환경에 따라 점차 검붉은색으로 물듦\\r얼룩덜룩하게 물들기 시작'),\n",
       "  ('생장형', '봄~가을 성장 (여름생장형, 겨울에 휴면)'),\n",
       "  ('생장속도', '빠름'),\n",
       "  ('겨울최저온도', '0°C'),\n",
       "  ('특성', '길쭉하고 끝이 뾰족한 잎이 로제트형상으로\\r둘러나며 비교적 관리가 수월하며 왕성하게\\r단기간에 자람'),\n",
       "  ('물주기', '한 달에 두 번 정도 전체적으로 흠뻑 관수\\r여름 장마철과 겨울에는 절수해야 함'),\n",
       "  ('번식', '봄과 여름에 줄기꽂이, 잎꽂이'),\n",
       "  ('관리수준', '쉬움'),\n",
       "  ('관리요구도', '약간 돌봄'),\n",
       "  ('배치장소', '발코니 창측까지 이용 가능함')],\n",
       " [('식물이름', '그랍토베리아 ‘실버스타’'),\n",
       "  ('학명', \"Graptoveria 'Silverstar' , 돌나물과\"),\n",
       "  ('유통명', '실버스타'),\n",
       "  ('원산지', '남아프리카'),\n",
       "  ('생태형', '로제트형'),\n",
       "  ('꽃', '늦은 봄부터 여름까지 살구빛 꽃 핌'),\n",
       "  ('잎색', '잎이 전체적으로 은색광택을 나타내며 잎끝이\\r붉은색을 띰'),\n",
       "  ('뿌리형태', '가는 뿌리'),\n",
       "  ('생장형', '봄~가을 성장 (여름생장형, 겨울에 휴면)'),\n",
       "  ('생장속도', '느림'),\n",
       "  ('겨울최저온도', '0°C'),\n",
       "  ('특성',\n",
       "   '가늘고 긴 촘촘한 잎 표면에 은색광택이 있으며,\\r잎 끝이 가늘고 긴 털 같은 느낌의 붉은색을 띰\\r가운데 부분에서 분지하며 군생으로 자람\\r성장이 더딘 편임'),\n",
       "  ('물주기', '한 달에 두 번 정도 전체적으로 흠뻑 관수\\r여름 장마철과 겨울에는 절수해야 함'),\n",
       "  ('번식', '잎꽂이, 자구꽂이'),\n",
       "  ('관리수준', '보통'),\n",
       "  ('관리요구도', '약간 돌봄'),\n",
       "  ('배치장소', '발코니 내측까지 이용 가능함 선명한 초록색으로 변함')],\n",
       " [('식물이름', '그랍토베리아 ‘데비’'),\n",
       "  ('학명', \"Graptoveria 'Debby' , 돌나물과\"),\n",
       "  ('유통명', '데비'),\n",
       "  ('원산지', '멕시코'),\n",
       "  ('생태형', '직립형, 단측지'),\n",
       "  ('꽃', '늦은 봄부터 여름까지 층층이 주황색을 띤\\r노란색의 꽃을 피움'),\n",
       "  ('잎색', '옅은 백분이 있으며, 전체적으로 분홍빛을 나타냄'),\n",
       "  ('뿌리형태', '가는 뿌리'),\n",
       "  ('생장형', '봄~가을 성장 (여름생장형, 겨울에 휴면)'),\n",
       "  ('생장속도', '보통'),\n",
       "  ('겨울최저온도', '5°C'),\n",
       "  ('특성', '식물체의 지름이 10cm\\r길고 납작한 잎이 로제트를 이루며 돌려남\\r잎은 분홍색으로 가늘고 길며 도톰함'),\n",
       "  ('광요구도', '직사광선을 피함\\r하루 4~5시간 이상 광 요구'),\n",
       "  ('물주기', '보통 2주 주기로 전면 관수\\r여름 장마철과 겨울에는 절수함'),\n",
       "  ('번식', '봄과 여름에 줄기꽂이, 잎꽂이'),\n",
       "  ('관리수준', '보통'),\n",
       "  ('관리요구도', '약간 돌봄'),\n",
       "  ('배치장소', '발코니 창측까지 이용 가능함'),\n",
       "  ('Tip', '깨끗한 화분 용토에 새로 자른 단측지를 사용하면\\r번식이 잘됨')],\n",
       " [('식물이름', '백모단'),\n",
       "  ('학명', \"Graptoveria 'Titubans' , 돌나물과, 용월과 정야의 교배종\"),\n",
       "  ('유통명', '백모란'),\n",
       "  ('원산지', '일본'),\n",
       "  ('생태형', '직립형, 단측지'),\n",
       "  ('꽃', '늦은 봄부터 여름(5월~7월)까지 붉은색을 띤 크림색\\r꽃이 핌'),\n",
       "  ('잎색', '봄과 가을의 건조기에는 잎이 연보라색을 띰'),\n",
       "  ('뿌리형태', '가는 뿌리'),\n",
       "  ('생장형', '봄~가을 성장 (여름생장형, 겨울에 휴면)'),\n",
       "  ('생장속도', '보통'),\n",
       "  ('겨울최저온도', '0°C'),\n",
       "  ('특성', '식물체의 지름이 10cm 정도이며 잎이 겹쳐 남\\r더위에 강함'),\n",
       "  ('광요구도', '직사광선을 피함\\r하루 4~5시간 이상 햇빛을 보게 함'),\n",
       "  ('물주기', '한 달에 두 번 정도 전체적으로 흠뻑 관수\\r여름 장마철과 겨울에는 절수함'),\n",
       "  ('번식', '봄과 여름에 줄기꽂이, 잎꽂이'),\n",
       "  ('관리수준', '보통'),\n",
       "  ('관리요구도', '약간 돌봄'),\n",
       "  ('배치장소', '발코니 창측까지 이용 가능함'),\n",
       "  ('Tip', '깨끗한 화분 용토에 새로 자른 단측지를 사용하면\\r번식이 잘됨')],\n",
       " [('식물이름', '연봉'),\n",
       "  ('학명', \"Graptoveria 'Bainesii' , 돌나물과\"),\n",
       "  ('원산지', '멕시코'),\n",
       "  ('생태형', '직립형, 단측지'),\n",
       "  ('꽃', '늦은 봄부터 여름까지 연한 분홍색 꽃이 핌'),\n",
       "  ('잎색', '붉은색의 잎이 저온에서는 푸른빛이 나는\\r붉은색으로 변함\\r빛이 충분할수록 잎 전체가 보랏빛으로 변함'),\n",
       "  ('뿌리형태', '가는 뿌리'),\n",
       "  ('생장형', '봄~가을 성장 (여름생장형, 겨울에 휴면)'),\n",
       "  ('생장속도', '보통'),\n",
       "  ('겨울최저온도', '0°C'),\n",
       "  ('특성',\n",
       "   '줄기가 서고 잎이 둥글고 크며 분홍색을 띰\\r저온이 되면 잎에 붉은 점이 생김\\r백분으로 덮인 옥색의 잎이 로제트를 이뤄\\r모여나며, 잎 두께는 얇은 편임 줄기는\\r튼튼하게 목질화되어 성장하며, 줄기부터 자구를 만듦'),\n",
       "  ('광요구도', '직사광선을 피함\\r하루 4~5시간 이상 광 요구'),\n",
       "  ('물주기',\n",
       "   '성장기에는 한 달에 2회 정도 관수\\r휴면기와 겨울철에는 한 달에 1회 겉흙이 젖을\\r정도로만 관수\\r여름 장마철에는 관수를 중단'),\n",
       "  ('번식', '봄과 여름에 줄기꽂이, 잎꽂이'),\n",
       "  ('병충해', '병충해에 강한 내성'),\n",
       "  ('관리수준', '보통'),\n",
       "  ('관리요구도', '약간 돌봄'),\n",
       "  ('배치장소', '발코니 내측까지 이용 가능함 보라색의 반점을 띠고, 잎이 넓어지고 커짐'),\n",
       "  ('Tip', '깨끗한 화분 용토에 새로 자른 단측지를 사용하면\\r번식이 잘됨')],\n",
       " [('식물이름', '에케베리아 ‘탱고’'),\n",
       "  ('학명', 'Echeveria sp. 톱시터비의 교배품종, 돌나물과'),\n",
       "  ('원산지', '멕시코, 오클랜드, 캘리포니아'),\n",
       "  ('생태형', '로제트형'),\n",
       "  ('꽃', '겨울~늦은 봄 주황색 계열의 종 모양 꽃이 핌'),\n",
       "  ('잎색', '햇빛을 많이 받으면 분홍색으로 물듦'),\n",
       "  ('뿌리형태', '가는 뿌리'),\n",
       "  ('생장형', '봄~가을 성장 (여름생장형, 겨울에 휴면)'),\n",
       "  ('생장속도', '보통'),\n",
       "  ('생육적온', '5~30°C'),\n",
       "  ('겨울최저온도', '0°C'),\n",
       "  ('광요구도', '햇빛과 통풍이 좋은 곳에서 기름'),\n",
       "  ('물주기', '봄과 여름에는 충분히 관수하고 겨울철에는\\r관수량을 줄이거나 절수 배수가 잘 되어야 함'),\n",
       "  ('번식', '잎꽂이, 자구꽂이'),\n",
       "  ('관리수준', '어려움'),\n",
       "  ('관리요구도', '필요함'),\n",
       "  ('배치장소', '발코니 창측까지 이용 가능함')],\n",
       " [('식물이름', '에케베리아 ‘블루에뜨’'),\n",
       "  ('학명', \"Echeveria peacockckii 'Bluete' , 돌나물과\"),\n",
       "  ('원산지', '멕시코'),\n",
       "  ('생태형', '로제트형'),\n",
       "  ('꽃', '봄~여름 사이 12cm의 꽃대에 붉은색 꽃이 핌'),\n",
       "  ('뿌리형태', '가는 뿌리'),\n",
       "  ('생장형', '봄~가을 성장 (여름생장형, 겨울에 휴면)'),\n",
       "  ('생장속도', '빠름'),\n",
       "  ('겨울최저온도', '0°C'),\n",
       "  ('특성', '더위에 약함\\r로제트로 군생하며 로제트의 직경은 15cm\\r잎의 길이 5~7cm, 너비 2~3cm'),\n",
       "  ('광요구도', '밝은 그늘에서 키움'),\n",
       "  ('물주기', '봄과 여름에는 충분히 관수하고 겨울철에는\\r관수량을 줄임\\r배수가 잘 되야 함'),\n",
       "  ('번식', '파종\\r종자는 21°C에서 10~18일이 지나면 발아하고\\r발아 2달이 지난 후 이식'),\n",
       "  ('관리수준', '쉬움'),\n",
       "  ('관리요구도', '약간 돌봄')],\n",
       " [('식물이름', '에케베리아 ‘미니캐슬’'),\n",
       "  ('학명', \"Echeveria 'Mini Castle' , 돌나물과\"),\n",
       "  ('유통명', '미니캐슬'),\n",
       "  ('원산지', '멕시코'),\n",
       "  ('생태형', '로제트형'),\n",
       "  ('잎색', '햇빛을 많이 받으면 잎 끝이 분홍색으로 물듦'),\n",
       "  ('뿌리형태', '가는 뿌리'),\n",
       "  ('생장형', '봄~가을 성장 (여름생장형, 겨울에 휴면)'),\n",
       "  ('생장속도', '보통'),\n",
       "  ('생육적온', '5~30°C'),\n",
       "  ('겨울최저온도', '0°C'),\n",
       "  ('광요구도', '햇빛과 통풍이 좋은 곳에서 기름'),\n",
       "  ('물주기', '봄과 여름에는 충분히 관수하고 겨울철에는\\r관수량을 줄임\\r배수가 잘 되어야 함'),\n",
       "  ('번식', '잎꽂이, 자구꽂이'),\n",
       "  ('병충해', '고온다습한 환경에서 충해의 피해가 큼'),\n",
       "  ('관리수준', '보통'),\n",
       "  ('관리요구도', '필요함')],\n",
       " [('식물이름', '에케베리아 톨루센시스'),\n",
       "  ('학명', 'Echeveria tolucensis, 돌나물과'),\n",
       "  ('유통명', '트리멘시스'),\n",
       "  ('원산지', '멕시코'),\n",
       "  ('생태형', '로제트형'),\n",
       "  ('잎색', '햇빛을 많이 받으면 잎 끝이 분홍색으로 물듦'),\n",
       "  ('뿌리형태', '가는 뿌리'),\n",
       "  ('생장형', '봄~가을 성장 (여름생장형, 겨울에 휴면)'),\n",
       "  ('생장속도', '보통'),\n",
       "  ('생육적온', '5~30°C'),\n",
       "  ('겨울최저온도', '0°C'),\n",
       "  ('광요구도', '햇빛과 통풍이 좋은 곳에서 기름'),\n",
       "  ('물주기', '봄과 여름에는 충분히 관수하고 겨울철에는\\r관수량을 줄임\\r배수가 잘 되어야 함'),\n",
       "  ('번식', '잎꽂이, 자구꽂이'),\n",
       "  ('관리수준', '보통'),\n",
       "  ('관리요구도', '약간 돌봄'),\n",
       "  ('배치장소', '발코니 내측까지 이용 가능함 잎이 아래를 향해 벌어져 땅가에 붙어 자라는 듯 보임')],\n",
       " [('식물이름', '에케베리아 ‘데저스스타’'),\n",
       "  ('학명', \"Echeveria 'Desert Star' , 돌나물과\"),\n",
       "  ('원산지', '멕시코'),\n",
       "  ('생태형', '로제트형'),\n",
       "  ('잎색', '햇빛을 많이 받으면 잎 가장자리에 분홍색 물듦'),\n",
       "  ('뿌리형태', '가는 뿌리'),\n",
       "  ('생장형', '봄~가을 성장 (여름생장형, 겨울에 휴면)'),\n",
       "  ('생장속도', '보통'),\n",
       "  ('겨울최저온도', '0°C'),\n",
       "  ('광요구도', '햇빛과 통풍이 좋은 곳에서 기름'),\n",
       "  ('물주기', '봄과 여름에는 충분히 관수하고, 겨울철에는\\r관수량을 줄임\\r배수가 잘 되어야 함'),\n",
       "  ('번식', '잎꽂이, 자구꽂이'),\n",
       "  ('병충해', '고온다습한 환경에서 충해의 피해가 큼'),\n",
       "  ('관리수준', '보통'),\n",
       "  ('관리요구도', '필요함'),\n",
       "  ('배치장소', '발코니 창측까지 이용 가능함')],\n",
       " [('식물이름', '환엽홍사'),\n",
       "  ('학명', \"Echeveria nodulosa 'Maruba Benithukasa' , 돌나물과\"),\n",
       "  ('원산지', '멕시코'),\n",
       "  ('생태형', '로제트형'),\n",
       "  ('꽃', '봄~여름 밑부분은 분홍색, 끝부분은 흰색인 꽃이 핌'),\n",
       "  ('잎색', '봄, 가을에 짙은 보라색으로 물듦'),\n",
       "  ('뿌리형태', '가는 뿌리'),\n",
       "  ('생장형', '봄~가을 성장 (여름생장형, 겨울에 휴면)'),\n",
       "  ('생장속도', '느림'),\n",
       "  ('겨울최저온도', '5°C'),\n",
       "  ('특성', '홍사의 개량종이며, 강하게 키우면 잎 중앙에 돌기가 생김\\r잎은 홍사보다 진한 자주색을 띰\\r로제트의 직경 12cm'),\n",
       "  ('광요구도', '햇빛과 통풍이 좋은 곳에서 기름'),\n",
       "  ('물주기', '봄과 여름에는 충분히 관수하고, 겨울철에는\\r관수량을 줄임\\r배수가 잘 되어야 함'),\n",
       "  ('번식', '잎꽂이, 자구꽂이'),\n",
       "  ('관리수준', '어려움'),\n",
       "  ('관리요구도', '필요함'),\n",
       "  ('배치장소', '발코니 창측까지 이용 가능함')],\n",
       " [('식물이름', '에케베리아 ‘릴리시아나’'),\n",
       "  ('학명', \"Echeveria 'Liliciana' , 돌나물과\"),\n",
       "  ('유통명', '릴리시나, 릴리시아, 릴리시아나'),\n",
       "  ('원산지', '멕시코, 오클랜드, 캘리포니아'),\n",
       "  ('생태형', '로제트형'),\n",
       "  ('꽃', '겨울부터 늦은 봄까지 주황색 계열 종 모양의 꽃이 핌'),\n",
       "  ('잎색', '햇빛을 많이 받으면 분홍색으로 물듦'),\n",
       "  ('뿌리형태', '가는 뿌리'),\n",
       "  ('생장형', '봄~가을 성장 (여름생장형, 겨울에 휴면)'),\n",
       "  ('생장속도', '보통'),\n",
       "  ('생육적온', '5~30°C'),\n",
       "  ('겨울최저온도', '0°C'),\n",
       "  ('특성', '잎모양이 말려놓은 장미같은 로제트를 이루며 잎에\\r은회색의 백분이 있음'),\n",
       "  ('광요구도', '햇빛과 통풍이 좋은 곳에서 기름\\r강한 빛을 받을 수록 더 짱짱하게 자람'),\n",
       "  ('물주기', '한 달에 두 번 정도 흠뻑 전면 관수\\r여름 장마철과 겨울에는 관수량을 줄여줌'),\n",
       "  ('번식', '잎꽂이, 자구꽂이'),\n",
       "  ('관리수준', '보통'),\n",
       "  ('관리요구도', '약간 돌봄'),\n",
       "  ('배치장소', '발코니 내측까지 이용 가능함 잎이 꽃잎처럼 전개됨')],\n",
       " [('식물이름', '조몽'),\n",
       "  ('학명', 'Echeveria wardii, 돌나물과'),\n",
       "  ('유통명', '아침의 꿈'),\n",
       "  ('원산지', '멕시코'),\n",
       "  ('생태형', '군생형'),\n",
       "  ('잎색', '빛을 충분히 받으면 분홍색으로 물듦'),\n",
       "  ('생장형', '봄~가을 성장 (여름생장형, 겨울에 휴면)'),\n",
       "  ('생장속도', '보통'),\n",
       "  ('겨울최저온도', '5°C'),\n",
       "  ('특성', '식물체의 지름이 10cm이고, 잎이 얇고 길며\\r분홍색으로 물듦'),\n",
       "  ('광요구도', '로제트형에서 직립형으로 자람'),\n",
       "  ('물주기', '더위에 약하므로 여름철에는 적게 관수함'),\n",
       "  ('번식', '잎꽂이'),\n",
       "  ('관리수준', '보통'),\n",
       "  ('관리요구도', '약간 돌봄'),\n",
       "  ('배치장소', '발코니 창측까지 이용 가능함 로제트형에서 직립형으로 자람')],\n",
       " [('식물이름', '구미리'),\n",
       "  ('학명', \"Echeveria spectabilis 'KUMENOSATO' , 돌나물과\"),\n",
       "  ('유통명', '숲의 요정'),\n",
       "  ('원산지', '멕시코'),\n",
       "  ('생태형', '관목형'),\n",
       "  ('잎색', '전체적으로 붉은 빛'),\n",
       "  ('뿌리형태', '가는 뿌리'),\n",
       "  ('생장형', '봄~가을 성장 (여름생장형, 겨울에 휴면)'),\n",
       "  ('생장속도', '빠름'),\n",
       "  ('생육적온', '5~30°C'),\n",
       "  ('겨울최저온도', '0°C'),\n",
       "  ('특성',\n",
       "   '멕시코, 미국남부에 분포하며 하단부 줄기는 60cm\\r까지 자라고 가지가 발달\\r70cm까지 자라는 꽃대에 총상꽃차례로 개화\\rspectabilis는 “remarkable”의 뜻이 있으며 식물이\\r크고 화려한 꽃이 피는데서 유래'),\n",
       "  ('광요구도', '양지, 반음지'),\n",
       "  ('물주기', '건조하게 관리'),\n",
       "  ('번식', '종자번식, 잎꽂이, 줄기꽂이'),\n",
       "  ('관리수준', '보통'),\n",
       "  ('관리요구도', '약간 돌봄'),\n",
       "  ('배치장소', '발코니 내측까지 이용 가능함 형태의 변화는 크지 않으나 잎의 색은 창측과\\r달리 연한 녹색 빛을 띰')],\n",
       " [('식물이름', '에케베리아 ‘글라우카’'),\n",
       "  ('학명', \"Echeveria secunda 'Glauca' , 돌나물과\"),\n",
       "  ('유통명', '칠복수, 글라우카, 후커리'),\n",
       "  ('원산지', '남아프리카, 모로코'),\n",
       "  ('생태형', '로제트형'),\n",
       "  ('꽃', '늦은 봄부터 여름(4~6월)사이에 바깥은 분홍색,\\r안쪽은 노란색 꽃이 핌'),\n",
       "  ('잎색', '납회색의 잎이 가을이 되면 분홍색으로 물듦'),\n",
       "  ('생장형', '가을~봄 성장 (겨울생장형, 여름에 휴면)'),\n",
       "  ('생장속도', '빠름'),\n",
       "  ('생육적온', '16~30°C'),\n",
       "  ('겨울최저온도', '3~7°C'),\n",
       "  ('특성',\n",
       "   '높이 60cm, 줄기직경 1.5cm, 낙엽성의 잎을 가짐\\r몸체와 잎은 납회색이며 마디에서 곁가지가 형성됨\\r로제트 모양이며, 잎 가장자리가 붉음\\r분지가 잘 되며 키우기 쉬움'),\n",
       "  ('광요구도', '직사광선, 강한 햇빛을 봐야 웃자라지 않음'),\n",
       "  ('물주기', '매우 건조하게 관리\\r건조하게 키우지 않으면 마디가 부러지는 습성이 있음\\r휴면기에는 절수함'),\n",
       "  ('번식', '자구꽂이, 잎꽂이'),\n",
       "  ('고온다습', '주의'),\n",
       "  ('관리수준', '쉬움'),\n",
       "  ('관리요구도', '잘 견딤'),\n",
       "  ('배치장소', '발코니 창측까지 이용 가능함'),\n",
       "  ('Tip', '저온에서도 잘 견딤')],\n",
       " [('식물이름', '에케베리아 ‘톱시터비’'),\n",
       "  ('학명', \"Echeveria runyonii 'Topsy Turvy' , 돌나물과\"),\n",
       "  ('유통명', '특엽옥접, 톱시터비'),\n",
       "  ('원산지', '멕시코'),\n",
       "  ('생태형', '로제트형'),\n",
       "  ('꽃', '봄부터 가을 사이 주황, 살구, 분홍색 등의 꽃이 핌'),\n",
       "  ('잎색', '빛을 충분히 받으면 회녹색 잎의 끝이 붉게 물듦'),\n",
       "  ('생장형', '봄~가을 성장 (여름생장형, 겨울에 휴면)'),\n",
       "  ('생장속도', '보통'),\n",
       "  ('겨울최저온도', '5°C'),\n",
       "  ('특성', '식물체의 지름이 10cm정도이고 잎의 바깥쪽이\\r안으로 굽어짐'),\n",
       "  ('광요구도', '햇빛과 통풍이 잘되는 곳에서 기름\\r강한 햇빛을 받을 수록 더 튼실해짐'),\n",
       "  ('물주기', '봄과 여름에는 충분히 관수하고 겨울철에는\\r관수량을 줄임, 배수가 잘 되어야 함'),\n",
       "  ('번식', '잎꽂이, 자구꽂이'),\n",
       "  ('관리수준', '보통'),\n",
       "  ('관리요구도', '필요함'),\n",
       "  ('배치장소', '발코니 창측까지 이용 가능함'),\n",
       "  ('Tip', '잎면이 백분으로 형성되어 있어 관수 후 잎에\\r물방울이 남아 있을 경우 잎이 햇빛에 타므로 주의')],\n",
       " [('식물이름', '대화금'),\n",
       "  ('학명', 'Echeveria purpusorum, 돌나물과'),\n",
       "  ('원산지', '멕시코'),\n",
       "  ('생태형', '로제트형'),\n",
       "  ('꽃', '늦은 봄부터 여름 사이에 밑부분은 붉은색,\\r끝부분은 노랑색 종 모양의 꽃이 핌'),\n",
       "  ('잎색', '잎 뒷면 연한 붉은색'),\n",
       "  ('뿌리형태', '가는 뿌리'),\n",
       "  ('생장형', '봄~가을 성장 (여름생장형, 겨울에 휴면)'),\n",
       "  ('생장속도', '느림'),\n",
       "  ('겨울최저온도', '5°C'),\n",
       "  ('특성',\n",
       "   '소형종으로 식물체의 지름이 10cm정도\\r잎이 넓고 촘촘하며 갈색무늬가 선명함\\r보통 단구로 자람, 건조에 강하고 햇빛을 좋아함'),\n",
       "  ('광요구도', '반그늘'),\n",
       "  ('물주기', '한 달에 두 번 정도 전체적으로 흠뻑 관수\\r여름 장마철과 겨울에는 절수해야 함'),\n",
       "  ('번식', '잎꽂이, 자구꽂이, 종자번식'),\n",
       "  ('관리수준', '어려움'),\n",
       "  ('관리요구도', '필요함'),\n",
       "  ('배치장소', '발코니 창측까지 이용 가능함')],\n",
       " [('식물이름', '에케베리아 푸미라'),\n",
       "  ('학명', 'Echeveria pumila, 돌나물과'),\n",
       "  ('유통명', '푸미라'),\n",
       "  ('원산지', '멕시코'),\n",
       "  ('생태형', '로제트형'),\n",
       "  ('꽃', '늦은 봄부터 여름 사이에 밑부분은 붉은색\\r끝부분은 노랑색인 종 모양 꽃이 핌'),\n",
       "  ('잎색', '빛을 충분히 받으면 잎 뒷면이 붉게 물듦'),\n",
       "  ('생장형', '봄~가을 성장 (여름생장형, 겨울에 휴면)'),\n",
       "  ('생장속도', '느림'),\n",
       "  ('생육적온', '5~30°C'),\n",
       "  ('겨울최저온도', '0°C'),\n",
       "  ('특성', '줄기가 없으며 식물체의 지름이 8~10cm 정도\\r작은 잎이 촘촘하게 많이 나며 잎 뒷면이 붉게 물듦\\r더위에 강함'),\n",
       "  ('광요구도', '강한 광을 좋아하고, 강한 햇빛을 받을 수록 더 짱짱해짐'),\n",
       "  ('물주기', '봄과 여름에는 충분히 관수하고 겨울철에는\\r관수량을 줄이거나 절수, 배수가 잘 되야 함'),\n",
       "  ('번식', '잎꽂이, 자구꽂이'),\n",
       "  ('관리수준', '어려움'),\n",
       "  ('관리요구도', '필요함'),\n",
       "  ('배치장소', '발코니 창측까지 이용 가능함')],\n",
       " [('식물이름', '금황성'),\n",
       "  ('학명', 'Echeveria pulvinata, 돌나물과'),\n",
       "  ('원산지', '멕시코, 페루'),\n",
       "  ('생태형', '로제트형'),\n",
       "  ('꽃', '2월 경에 종 모양의 주황색 꽃이 핌'),\n",
       "  ('잎색', '백색 융모가 있는 녹색 잎은 봄철 잎끝이 짙은\\r적색으로 물듦'),\n",
       "  ('뿌리형태', '가는 뿌리'),\n",
       "  ('생장형', '봄~가을 성장 (여름생장형, 겨울에 휴면)'),\n",
       "  ('생장속도', '보통'),\n",
       "  ('생육적온', '15~30°C'),\n",
       "  ('겨울최저온도', '5°C'),\n",
       "  ('특성',\n",
       "   '길고 두터운 녹색의 잎은 백색의 융모로 뒤덮힘\\r모체는 작은 저목형으로 분지성임\\r로제트의 잎 직경은 8cm\\r줄기 끝은 어두운 주황색의 잔 털이 남'),\n",
       "  ('광요구도', '반그늘이나 양지바른 곳에서 키움'),\n",
       "  ('물주기', '봄과 여름에는 충분히 관수하고 겨울철에는\\r관수량을 줄임, 배수가 잘 되야 함'),\n",
       "  ('번식', '잎꽂이, 줄기꽂이'),\n",
       "  ('관리수준', '보통'),\n",
       "  ('관리요구도', '약간 돌봄'),\n",
       "  ('비료', '거의 필요 없음'),\n",
       "  ('배치장소', '발코니 창측까지 이용 가능함')],\n",
       " [('식물이름', '라일락'),\n",
       "  ('학명', \"Echeveria 'Perle's Pride' , 돌나물과\"),\n",
       "  ('원산지', '멕시코'),\n",
       "  ('생태형', '로제트형'),\n",
       "  ('꽃', '늦은 봄부터 여름까지 연한 노란색 꽃이 핌'),\n",
       "  ('잎색', '충분한 빛을 받으면 연보라색으로 물듦'),\n",
       "  ('뿌리형태', '가는 뿌리'),\n",
       "  ('생장형', '봄~가을 성장 (여름생장형, 겨울에 휴면)'),\n",
       "  ('생장속도', '보통'),\n",
       "  ('겨울최저온도', '5°C'),\n",
       "  ('특성', '잎이 둥그스름하며 줄기가 서고 보라색으로 물듦'),\n",
       "  ('광요구도', '일광이 부족할 경우 잎이 빛을 받기 위해 도장하여\\r휘어지므로 주의'),\n",
       "  ('물주기', '한 달에 두 번 충분히 관수'),\n",
       "  ('번식', '잎꽂이, 자구꽂이'),\n",
       "  ('관리수준', '보통'),\n",
       "  ('관리요구도', '약간 돌봄'),\n",
       "  ('배치장소', '발코니 창측까지 이용 가능함')],\n",
       " [('식물이름', '양로'),\n",
       "  ('학명', 'Echeveria subssilis, 돌나물과'),\n",
       "  ('원산지', '멕시코'),\n",
       "  ('생태형', '로제트형'),\n",
       "  ('꽃', '봄부터 여름까지 10~15cm의 꽃대가 올라와 적색 꽃 핌'),\n",
       "  ('잎색', '충분한 빛을 받으면 분홍빛이 도는 은청색으로 물듦'),\n",
       "  ('뿌리형태', '가는 뿌리'),\n",
       "  ('생장형', '봄~가을 성장 (여름생장형, 겨울에 휴면)'),\n",
       "  ('생장속도', '보통'),\n",
       "  ('겨울최저온도', '5°C'),\n",
       "  ('특성',\n",
       "   '식물체의 지름이 10cm정도의 로제트형\\r잎의 길이는 5~7cm, 폭 2~3cm로, 안으로 오목함\\r줄기가 곧고 강함\\r기부에서 군생'),\n",
       "  ('광요구도', '양지, 반음지, 강한 직사광선을 피함'),\n",
       "  ('물주기', '봄~여름에는 수분을 충분히 공급하고 겨울에는\\r관수하지 않음'),\n",
       "  ('번식', '잎꽂이'),\n",
       "  ('관리수준', '보통'),\n",
       "  ('관리요구도', '약간 돌봄')],\n",
       " [('식물이름', '샤비홍'),\n",
       "  ('학명', \"Echeveria 'Painted Frills' , 돌나물과\"),\n",
       "  ('생태형', '로제트형'),\n",
       "  ('잎색', '햇빛을 충분히 받으면 검붉은 색으로 물듦'),\n",
       "  ('생장형', '봄~가을 성장 (여름생장형, 겨울에 휴면)'),\n",
       "  ('생장속도', '빠름'),\n",
       "  ('겨울최저온도', '5°C'),\n",
       "  ('광요구도', '하루 4~5시간 이상 광 요구'),\n",
       "  ('물주기', '한 달에 두 번 정도 흠뻑 전면 관수\\r여름 장마철과 겨울엔 관수량을 줄임'),\n",
       "  ('번식', '잎꽂이, 자구꽂이'),\n",
       "  ('관리수준', '어려움'),\n",
       "  ('관리요구도', '필요함'),\n",
       "  ('배치장소', '발코니 창측까지 이용 가능함')],\n",
       " [('식물이름', '홍매화'),\n",
       "  ('학명', \"Echeveria multicaulis 'Ginmei-Tennyo' , 돌나물과\"),\n",
       "  ('원산지', '일본'),\n",
       "  ('생태형', '직립형'),\n",
       "  ('잎색', '잎 뒷면, 가장자리가 붉은색으로 변함'),\n",
       "  ('뿌리형태', '가는 뿌리'),\n",
       "  ('생장형', '봄~가을 성장 (여름생장형, 겨울에 휴면)'),\n",
       "  ('생장속도', '빠름'),\n",
       "  ('겨울최저온도', '5°C'),\n",
       "  ('광요구도', '강한 빛'),\n",
       "  ('물주기', '한 달에 두 번 정도 흠뻑 전면 관수\\r건조하게 키워야 하고, 특히 겨울철에는 더욱\\r건조하게 키움'),\n",
       "  ('번식', '잎꽂이, 자구꽂이'),\n",
       "  ('관리수준', '보통'),\n",
       "  ('관리요구도', '약간 돌봄'),\n",
       "  ('배치장소', '발코니 창측까지 이용 가능함 잎이 커지고 아래를 향하면서 키가 커짐\\r웃자라 보이지 않음')],\n",
       " [('식물이름', '몰라코'),\n",
       "  ('학명', 'Echeveria melaco, 돌나물과'),\n",
       "  ('원산지', '멕시코'),\n",
       "  ('생태형', '로제트형'),\n",
       "  ('꽃', '초봄인 3월에 겉은 주황색이고 안은 노란 색 종\\r모양 꽃이 핌'),\n",
       "  ('잎색', '검붉은색으로 물듦'),\n",
       "  ('생장형', '봄~가을 성장 (여름생장형, 겨울에 휴면)'),\n",
       "  ('생장속도', '보통'),\n",
       "  ('생육적온', '5~30°C'),\n",
       "  ('겨울최저온도', '5°C'),\n",
       "  ('특성', '검붉게 물드는 로제트 형태'),\n",
       "  ('광요구도', '충분한 광 요구'),\n",
       "  ('물주기', '한 달에 두 번 정도 흠뻑 전면 관수, 건조하게\\r키워야 하고, 특히 겨울철에는 더욱 건조하게 키움'),\n",
       "  ('번식', '잎꽂이, 자구꽂이'),\n",
       "  ('관리수준', '보통'),\n",
       "  ('관리요구도', '약간 돌봄'),\n",
       "  ('배치장소', '발코니 창측까지 이용 가능함 잎이 약간 쳐짐'),\n",
       "  ('Tip', '성장이 더딤')],\n",
       " [('식물이름', '에케베리아 ‘라임앤칠리’'),\n",
       "  ('학명', \"Echeveria 'Lime & Chili' , 돌나물과\"),\n",
       "  ('유통명', '라임앤칠리'),\n",
       "  ('원산지', '멕시코'),\n",
       "  ('생태형', '로제트형'),\n",
       "  ('잎색', '잎 끝이 연한 붉은색으로 변함'),\n",
       "  ('뿌리형태', '가는 뿌리'),\n",
       "  ('생장형', '봄~가을 성장 (여름생장형, 겨울에 휴면)'),\n",
       "  ('생장속도', '보통'),\n",
       "  ('겨울최저온도', '5°C'),\n",
       "  ('광요구도', '충분한 광 요구'),\n",
       "  ('물주기', '한 달에 두 번 정도 흠뻑 전면 관수\\r건조하게 키워야 하고, 특히 겨울철에는 더욱\\r건조하게 키움'),\n",
       "  ('번식', '잎꽂이, 자구꽂이'),\n",
       "  ('관리수준', '보통'),\n",
       "  ('관리요구도', '약간 돌봄'),\n",
       "  ('배치장소', '발코니 창측까지 이용 가능함 잎이 아래로 쳐짐')],\n",
       " [('식물이름', '먼로'),\n",
       "  ('학명', 'Echeveria lauii X E. lindsayana, 돌나물과'),\n",
       "  ('원산지', '멕시코'),\n",
       "  ('생태형', '로제트형'),\n",
       "  ('꽃', '늦은 봄부터 여름까지 안쪽은 주황색 바깥은\\r분홍색 꽃이 핌'),\n",
       "  ('잎색', '빛을 받으면 잎끝이 붉게 물듦'),\n",
       "  ('뿌리형태', '가는 뿌리'),\n",
       "  ('생장형', '봄~가을 성장 (여름생장형, 겨울에 휴면)'),\n",
       "  ('생장속도', '보통'),\n",
       "  ('겨울최저온도', '5°C'),\n",
       "  ('특성', '라우린제의 콤팩트 한 종으로 식물체의 지름이\\r10cm정도이며 잎이 짧음\\r라우린제 보다 붉은빛이 많음\\r더위에 약함'),\n",
       "  ('광요구도', '강한 빛'),\n",
       "  ('물주기', '한 달에 두 번 정도 흠뻑 전면 관수, 건조하게\\r키워야하고, 특히 겨울철에는 더욱 건조하게 키움'),\n",
       "  ('번식', '잎꽂이, 자구꽂이'),\n",
       "  ('관리수준', '보통'),\n",
       "  ('관리요구도', '약간 돌봄'),\n",
       "  ('배치장소', '발코니 창측까지 이용 가능함 잎이 아래로 쳐짐')],\n",
       " [('식물이름', '에케베리아 ‘미니벨’'),\n",
       "  ('학명', \"Echeveria hummel 'Minibelle' , 돌나물과\"),\n",
       "  ('유통명', '홍련, 미니벨'),\n",
       "  ('원산지', '멕시코'),\n",
       "  ('생태형', '관목형'),\n",
       "  ('꽃', '9월부터 2월 사이 안쪽으로 노란색을 띠는 주황색\\r종 모양 꽃이 핌'),\n",
       "  ('잎색', '빛을 받으면 테두리부터 붉은색으로 물듦'),\n",
       "  ('뿌리형태', '가는 뿌리'),\n",
       "  ('생장형', '봄~가을 성장 (여름생장형, 겨울에 휴면)'),\n",
       "  ('생장속도', '빠름'),\n",
       "  ('겨울최저온도', '5°C'),\n",
       "  ('특성', '끝이 뾰족한 타원형의 잎이 로제트를 이룸'),\n",
       "  ('광요구도', '웃자라지 않기 위해 강한 빛을 받아야 함'),\n",
       "  ('물주기', '한 달에 두 번 정도 흠뻑 전면 관수'),\n",
       "  ('번식', '잎꽂이, 자구꽂이'),\n",
       "  ('관리수준', '쉬움'),\n",
       "  ('관리요구도', '잘 견딤'),\n",
       "  ('배치장소', '발코니 창측까지 이용 가능함')],\n",
       " [('식물이름', '부용'),\n",
       "  ('학명', 'Echeveria harmsii, 돌나물과'),\n",
       "  ('유통명', '부용, 화사, 부영'),\n",
       "  ('원산지', '멕시코'),\n",
       "  ('생태형', '관목형'),\n",
       "  ('꽃', '늦봄부터 여름까지 진한 홍색 꽃이 핌'),\n",
       "  ('잎색', '밤낮의 일교차와 햇빛에 따라 잎 가장자리가\\r붉은색으로 물듦'),\n",
       "  ('뿌리형태', '가는 뿌리'),\n",
       "  ('생장형', '봄~가을 성장 (여름생장형, 겨울에 휴면)'),\n",
       "  ('생장속도', '빠름'),\n",
       "  ('생육적온', '15~20°C'),\n",
       "  ('겨울최저온도', '5°C'),\n",
       "  ('특성',\n",
       "   '식물체의 지름이 5~6cm정도이며, 줄기는 25cm까지\\r짙은 갈색으로 자람\\r어린줄기와 잎은 가늘고 부드러운 흰털로 덮여있음\\r잎은 긴 타원형으로 납작하며, 가장자리 중앙\\r부분에서 잎 끝으로 갈수록 붉은색이 짙어짐'),\n",
       "  ('광요구도', '강한 빛을 받을수록 잎의 물이 잘 들며 잘 자람\\r여름철에는 반나절 그늘에서 관리'),\n",
       "  ('물주기', '2주에 한 번 정도 분 흙이 마르면 흠뻑 관수'),\n",
       "  ('번식', '잎꽂이'),\n",
       "  ('관리수준', '매우 쉬움'),\n",
       "  ('관리요구도', '잘 견딤'),\n",
       "  ('배치장소', '발코니 내측까지 이용 가능함 형태변화는 없고, 내측에서 약간의 붉은빛 발현됨'),\n",
       "  ('Tip', '여름에 적심하면 모체가 죽기 쉬움\\r다습하면 도장하기 쉬우므로 건조하게 관리')],\n",
       " [('식물이름', '에케베리아 ‘라즈베리아이스’'),\n",
       "  ('학명', \"Echeveria gilva 'Razberry ice' , 돌나물과\"),\n",
       "  ('유통명', '라즈베리아이스'),\n",
       "  ('원산지', '멕시코'),\n",
       "  ('생태형', '로제트형'),\n",
       "  ('꽃', '여름까지 안쪽으로 노란색을 띠는 분홍색 종모양 꽃이 핌'),\n",
       "  ('잎색', '잎끝이 분홍색으로 물듦'),\n",
       "  ('뿌리형태', '가는 뿌리'),\n",
       "  ('생장형', '봄~가을 성장 (여름생장형, 겨울에 휴면)'),\n",
       "  ('생장속도', '느림'),\n",
       "  ('겨울최저온도', '5°C'),\n",
       "  ('특성', '잎끝에 맑은 빛이 특징이며 동그란 로제트형임'),\n",
       "  ('광요구도', '강한 빛을 받을수록 잎에 물이 잘 들고 잘 자람\\r여름철에는 반나절정도 그늘에서 관리'),\n",
       "  ('물주기', '한 달에 두 번 정도 흠뻑 전면 관수한다.'),\n",
       "  ('번식', '잎꽂이, 자구꽂이'),\n",
       "  ('관리수준', '어려움'),\n",
       "  ('관리요구도', '필요함'),\n",
       "  ('배치장소', '발코니 창측까지 이용 가능함')],\n",
       " [('식물이름', '에케베리아 ‘도리스테일러’'),\n",
       "  ('학명', \"Echeveria 'Doris Taylor' , 돌나물과\"),\n",
       "  ('유통명', '양털장미, 도리스테일러'),\n",
       "  ('원산지', '멕시코'),\n",
       "  ('생태형', '군생형'),\n",
       "  ('꽃', '4월부터 7월까지 안쪽은 노란색을 띠는 붉은색 꽃이 핌'),\n",
       "  ('잎색', '잎에 솜털이 있으며 가을철에 잎 끝이 붉게 물듦'),\n",
       "  ('뿌리형태', '가는 뿌리'),\n",
       "  ('생장형', '봄~가을 성장 (여름생장형, 겨울에 휴면)'),\n",
       "  ('생장속도', '빠름'),\n",
       "  ('겨울최저온도', '0°C'),\n",
       "  ('특성', '식물체 지름이 5~8cm 정도이고, 연한 녹색의 잎은\\r솜털로 덮여 있으며 빨갛게 물듦\\r군생이 잘 됨'),\n",
       "  ('광요구도', '부분적인 직사광선이나 밝은 그늘이 좋음'),\n",
       "  ('물주기', '한 달에 두 번 정도 흠뻑 전면 관수\\r건조하지 않게 관리'),\n",
       "  ('번식', '잎꽂이, 자구꽂이'),\n",
       "  ('관리수준', '쉬움'),\n",
       "  ('관리요구도', '약간 돌봄'),\n",
       "  ('배치장소',\n",
       "   '발코니 창측까지 이용 가능함 절간장이 길어지면서 전체적으로 키가 자라고\\r잎이 넓어지면서 원래 형태와는 완전히 달라지지만\\r관상 가치 있음')],\n",
       " [('식물이름', '정야'),\n",
       "  ('학명', \"Echeveria 'Derenbergii' , 돌나물과\"),\n",
       "  ('원산지', '멕시코'),\n",
       "  ('생태형', '군생형'),\n",
       "  ('꽃', '여름에 바깥쪽은 붉고 안쪽은 노란 종 모양 꽃이 핌'),\n",
       "  ('잎색', '연한청록색의 잎에 백분이 있으며, 빛을 충분히\\r받으면 잎 가장자리가 옅은 주황색으로 물듦'),\n",
       "  ('뿌리형태', '가는 뿌리'),\n",
       "  ('생장형', '가을~봄 성장 (겨울생장형, 여름에 휴면)'),\n",
       "  ('생장속도', '보통'),\n",
       "  ('생육적온', '5~30°C'),\n",
       "  ('겨울최저온도', '3°C'),\n",
       "  ('특성',\n",
       "   '식물체 지름이 5cm정도이고 녹색 빛이 나는 흰색의\\r둥근잎이 촘촘히 겹쳐남\\r외줄기이며, 나중에는 줄기가 길어짐\\r로제트의 직경은 6cm 정도'),\n",
       "  ('광요구도', '충분한 광 요구'),\n",
       "  ('물주기', '한 달에 한 번 전체적으로 관수\\r여름 장마철에 과습하지 않게 관리'),\n",
       "  ('번식', '잎꽂이, 자구꽂이'),\n",
       "  ('관리수준', '보통'),\n",
       "  ('관리요구도', '약간 돌봄'),\n",
       "  ('배치장소', '발코니 내측까지 이용 가능함 잎이 조금씩 커지고 벌어지면서 전체적인 부피감이 커짐'),\n",
       "  ('Tip', '물을 극히 아껴야 웃자람이 덜함')],\n",
       " [('식물이름', '에케베리아 ‘펀퀸’'),\n",
       "  ('학명', \"Echeveria 'Fun Queen' , 돌나물과\"),\n",
       "  ('유통명', '펀퀸'),\n",
       "  ('원산지', '일본'),\n",
       "  ('생태형', '군생형'),\n",
       "  ('꽃', '여름부터 가을까지 주황색 꽃이 핌'),\n",
       "  ('잎색', '잎 가장자리가 연한 붉은색으로 변함'),\n",
       "  ('뿌리형태', '가는 뿌리'),\n",
       "  ('생장형', '봄~가을 성장 (여름생장형, 겨울에 휴면)'),\n",
       "  ('생장속도', '빠름'),\n",
       "  ('생육적온', '0~30°C'),\n",
       "  ('겨울최저온도', '3°C'),\n",
       "  ('특성', '잎은 삼각형으로 백분이 있으며 기부에서 군생\\r연한 녹색의 잎이 장미처럼 서로 엇갈린 형태를 이룸'),\n",
       "  ('광요구도', '햇빛과 통풍이 좋은 곳에서 기름\\r강한 빛을 받을 수록 더 잘 자람'),\n",
       "  ('물주기', '한 달에 두 번 정도 흠뻑 전면관수'),\n",
       "  ('번식', '잎꽂이, 자구꽂이'),\n",
       "  ('관리수준', '보통'),\n",
       "  ('관리요구도', '약간 돌봄'),\n",
       "  ('배치장소', '발코니 내측까지 이용 가능함 지상부의 부피감이 커지나 웃자라지 않음')],\n",
       " [('식물이름', '홍화장'),\n",
       "  ('학명', \"Echeveria 'Victor' , 돌나물과\"),\n",
       "  ('원산지', '브라질'),\n",
       "  ('생태형', '군생형'),\n",
       "  ('꽃', '여름까지 밖으로는 붉은 주황색 안으로는\\r노란색의 꽃이 핌'),\n",
       "  ('잎색', '가을철 서늘해지면 잎 가장자리가 적색으로 물듦'),\n",
       "  ('뿌리형태', '가는 뿌리'),\n",
       "  ('생장형', '봄~가을 성장 (여름생장형, 겨울에 휴면)'),\n",
       "  ('생장속도', '빠름'),\n",
       "  ('겨울최저온도', '5°C'),\n",
       "  ('특성', '서늘해지면 잎 가장자리가 빨갛게 물듦\\r줄기가 서고, 작은 로제트가 됨\\r군생이 잘 됨'),\n",
       "  ('광요구도', '햇빛과 통풍이 좋은 곳에서 기름\\r웃자라지 않기 위해 강한 햇빛을 요구'),\n",
       "  ('물주기', '한 달에 두 번 정도 흠뻑 전면 관수함'),\n",
       "  ('번식', '잎꽂이, 자구꽂이'),\n",
       "  ('관리수준', '쉬움'),\n",
       "  ('관리요구도', '약간 돌봄'),\n",
       "  ('배치장소', '발코니 창측까지 이용 가능함 잎이 많이 떨어져 본래의 형태와 다른 모습으로\\r변하지만 관상가치 유지함')],\n",
       " [('식물이름', '에케베리아 ‘치와와린제’'),\n",
       "  ('학명', \"Echeveria 'Chihuahualindsa' , 돌나물과\"),\n",
       "  ('유통명', '치와와린제, 도태랑, 모모타로'),\n",
       "  ('원산지', '멕시코'),\n",
       "  ('생태형', '로제트형'),\n",
       "  ('꽃', '늦은 봄부터 여름까지 주황색의 꽃 핌'),\n",
       "  ('잎색', '잎에 있는 붉은색의 가시가 빛을 충분히 받으면\\r검붉은색으로 변함'),\n",
       "  ('뿌리형태', '가는 뿌리'),\n",
       "  ('생장형', '봄~가을 성장 (여름생장형, 겨울에 휴면)'),\n",
       "  ('생장속도', '느림'),\n",
       "  ('생육적온', '5~30°C'),\n",
       "  ('겨울최저온도', '0°C'),\n",
       "  ('특성',\n",
       "   'E. chilhuahuaensis X E. lindsayana의 교배종으로\\r라우린제보다 작고 초록색임\\r강하게 키우는 것이 좋음'),\n",
       "  ('광요구도', '햇빛과 통풍이 잘되는 곳에서 기름\\r강한 빛을 볼수록 더 짱짱하게 자람'),\n",
       "  ('물주기', '한 달에 두 번 정도 흠뻑 전면 관수\\r여름 장마철과 겨울에는 관수 줄임'),\n",
       "  ('번식', '잎꽂이, 자구꽂이'),\n",
       "  ('관리수준', '어려움'),\n",
       "  ('관리요구도', '약간 돌봄'),\n",
       "  ('배치장소', '발코니 내측까지 이용 가능함 지상부의 부피감이 커지고 한가지 색을 띰')],\n",
       " [('식물이름', '에케베리아 ‘크리스마스’'),\n",
       "  ('학명', \"Echeveria agavoides 'Christmas' , 돌나물과\"),\n",
       "  ('유통명', '크리스마스'),\n",
       "  ('원산지', '멕시코, 남아메리카'),\n",
       "  ('생태형', '로제트형'),\n",
       "  ('꽃', '여름에 30cm 크기의 꽃대에서 종 모양의 분홍색\\r(안쪽은 황색) 꽃이 여러개 핌'),\n",
       "  ('잎색', '녹색의 잎이 봄, 가을이 되면 잎의 가장자리가\\r붉은색으로 물듦'),\n",
       "  ('뿌리형태', '가는 뿌리'),\n",
       "  ('생장형', '봄~가을 성장 (여름생장형, 겨울에 휴면)'),\n",
       "  ('생장속도', '보통'),\n",
       "  ('생육적온', '5~30°C'),\n",
       "  ('겨울최저온도', '3°C'),\n",
       "  ('광요구도', '밝은 광선을 요구\\r여름철에는 약간의 차광이 필요'),\n",
       "  ('물주기', '한 달에 두 번 정도 흠뻑 전면 관수'),\n",
       "  ('번식', '파종, 줄기꽂이, 잎꽂이'),\n",
       "  ('관리수준', '보통'),\n",
       "  ('관리요구도', '약간 돌봄'),\n",
       "  ('배치장소', '발코니 창측까지 이용 가능함'),\n",
       "  ('Tip', '봄과 여름이 성장기이므로 이 기간에 물을 충분히\\r규칙적으로 주고, 겨울동안엔 가급적 건조하게 관리')],\n",
       " [('식물이름', '에케베리아 ‘레이디스핑거’'),\n",
       "  ('학명', \"Echeveria agavoides 'Lady's finger' , 돌나물과\"),\n",
       "  ('유통명', '레이디스핑거'),\n",
       "  ('원산지', '멕시코'),\n",
       "  ('생태형', '로제트형'),\n",
       "  ('꽃', '여름에 30cm 크기의 꽃대에서 종 모양의 핑크색(안쪽\\r은 황색) 꽃이 여러개 핌'),\n",
       "  ('잎색', '진한 녹색의 잎 뒷면이 붉은색으로 물듦'),\n",
       "  ('뿌리형태', '가는 뿌리'),\n",
       "  ('생장형', '봄~가을 성장 (여름생장형, 겨울에 휴면)'),\n",
       "  ('생장속도', '느림'),\n",
       "  ('겨울최저온도', '5°C'),\n",
       "  ('광요구도', '밝은 광선 요구'),\n",
       "  ('물주기', '한 달에 두 번 정도 흠뻑 관수'),\n",
       "  ('번식', '파종, 줄기꽂이, 잎꽂이'),\n",
       "  ('관리수준', '어려움'),\n",
       "  ('관리요구도', '필요함'),\n",
       "  ('배치장소', '발코니 창측까지 이용 가능함'),\n",
       "  ('Tip', '성장이 느리지만 잘 자라기 위해서는 충분한 공간 유지함')],\n",
       " [('식물이름', '에케베리아 ‘제이드포인트’'),\n",
       "  ('학명', \"Echeveria agavoides 'JadePoint' , 돌나물과\"),\n",
       "  ('유통명', '가을의 창, 제이드포인트'),\n",
       "  ('원산지', '유럽'),\n",
       "  ('생태형', '로제트형'),\n",
       "  ('꽃', '여름에 30cm 크기의 꽃대에서 종 모양의 붉은색(안쪽\\r은 황색) 꽃이 여러개 핌'),\n",
       "  ('잎색', '진한 녹색의 잎 뒷면이 붉은색으로 물듦'),\n",
       "  ('뿌리형태', '가는 뿌리'),\n",
       "  ('생장형', '봄~가을 성장 (여름생장형, 겨울에 휴면)'),\n",
       "  ('생장속도', '보통'),\n",
       "  ('생육적온', '5~30°C'),\n",
       "  ('겨울최저온도', '0°C'),\n",
       "  ('특성',\n",
       "   '석연화속중 가장 큰 형태로 윤기나는 밀랍 잎들이\\r로제트 형상(폭 20cm 까지 성장)을 가짐\\r다육 마니아들에 잘 알려진 식물 종명의\\r아가보이데스(agavoides)는 용설란과 아가베속\\r다육들과 유사한 형상에서 유래'),\n",
       "  ('광요구도', '밝은 광선 요구'),\n",
       "  ('물주기', '봄과 여름에는 충분히 관수해 주고 겨울에는\\r거의 건조하게 관리, 배수성을 좋게 해줌'),\n",
       "  ('번식', '파종, 줄기꽂이, 잎꽂이'),\n",
       "  ('관리수준', '보통'),\n",
       "  ('관리요구도', '약간 돌봄'),\n",
       "  ('배치장소', '발코니 창측까지 이용 가능함 잎이 아래로 쳐짐'),\n",
       "  ('Tip',\n",
       "   '성장이 느리지만 잘 자라기 위해서는 충분한\\r공간 확보\\r봄과 여름이 성장기이므로 이 시기에 물을\\r규칙적으로 충분히 관수, 겨울동안엔 가급적\\r건조하게 관리')],\n",
       " [('식물이름', '핑크세도이데스'),\n",
       "  ('학명', 'Echeveria macdougallii, 돌나물과'),\n",
       "  ('유통명', '홍치아'),\n",
       "  ('원산지', '멕시코'),\n",
       "  ('생태형', '관목형'),\n",
       "  ('꽃', '5월부터 6월 경에 종 모양의 주황색 꽃 핌'),\n",
       "  ('잎색', '빛을 충분히 받으면 잎 가장자리가 선홍색으로 물듦'),\n",
       "  ('뿌리형태', '가는 뿌리'),\n",
       "  ('생장속도', '빠름'),\n",
       "  ('겨울최저온도', '5°C'),\n",
       "  ('특성', '식물체의 지름이 3cm 정도이고 길쭉하고 통통한\\r작은잎들이 군생하며 빛을 받는 정도에 따라\\r붉게 물드는 정도가 다름'),\n",
       "  ('물주기', '한 달에 두 번 정도 흠뻑 관수'),\n",
       "  ('번식', '잎꽂이, 줄기꽂이'),\n",
       "  ('관리수준', '쉬움'),\n",
       "  ('관리요구도', '약간 돌봄'),\n",
       "  ('배치장소', '발코니 내측까지 이용 가능함 선명한 초록색으로 잎이 넓어짐')],\n",
       " [('식물이름', '천장금'),\n",
       "  ('학명', 'Adropmischus clavifolius, 돌나물과'),\n",
       "  ('유통명', '천금장, 금령전'),\n",
       "  ('원산지', '남아프리카'),\n",
       "  ('생태형', '불규칙형'),\n",
       "  ('꽃', '(꽃대) 10~30cm, 백록색으로 길이 1cm정도'),\n",
       "  ('뿌리형태', '가는 뿌리'),\n",
       "  ('생장형', '가을~봄 성장 (겨울생장형, 여름에 휴면)'),\n",
       "  ('생장속도', '느림'),\n",
       "  ('겨울최저온도', '10~15 °C'),\n",
       "  ('특성',\n",
       "   '성장은 그다지 빠르지 않으나 튼튼해 기르기 쉬움\\r고온다습에 약하며, 통기성이 매우 원활한 용토에\\r심지 않으면 뿌리가 쉽게 상함\\r(높이) 10cm. 짧은 줄기 끝부분에 납작한 잎은 6~8\\r개 정도 생기며, 작은 로제트형으로 자람\\r잎은 곤봉모양으로 줄기에 붙어있는 부분이 가늘며\\r길이 3~7cm, 굵기 1~1.5cm 정도. 잎은 녹색으로 적\\r갈색의 점무늬 있음'),\n",
       "  ('광요구도', '하루 4시간 정도 강한 광선이나 반그늘\\r직사광선을 좋아하나 너무 쪼이면 성장이 더딤'),\n",
       "  ('물주기', '여름과 겨울동안은 잎을 적셔 주는 정도의\\r수분이면 충분하며, 이외 성장기엔 규칙적인 관수 필요'),\n",
       "  ('번식', '줄기꽂이, 잎꽂이, 파종'),\n",
       "  ('병충해', '깍지벌레, 과습으로 인한 뿌리썩음병 발생 우려'),\n",
       "  ('관리수준', '어려움'),\n",
       "  ('관리요구도', '필요함'),\n",
       "  ('비료', '거의 필요치 않으나 봄과 가을 생장기에 액체비료를 잎에 살포'),\n",
       "  ('배치장소', '발코니 내측까지 이용 가능함 형태 그대로 유지함')],\n",
       " [('식물이름', '녹영'),\n",
       "  ('학명', 'Senecio rowleyanus, 국화과'),\n",
       "  ('유통명', '콩선인장'),\n",
       "  ('원산지', '서남아프리카'),\n",
       "  ('생태형', '포복형'),\n",
       "  ('꽃', '9월부터 10월경에 5cm 정도의 꽃대에 흰 꽃이 핌'),\n",
       "  ('잎색', '푸른 완두콩 같은 구슬 모양의 잎'),\n",
       "  ('뿌리형태', '가는 뿌리'),\n",
       "  ('생장형', '봄~가을 성장 (여름생장형, 겨울에 휴면)'),\n",
       "  ('생장속도', '빠름'),\n",
       "  ('겨울최저온도', '5~10°C'),\n",
       "  ('특성',\n",
       "   '1cm 지름의 구 모양의 잎이 덩굴상태의 가는\\r줄기에 겹쳐지면서 아래로 늘어짐\\r줄기는 가늘면서 25cm 정도 자람\\r여름철에는 차광하고, 통풍이 잘되게 함'),\n",
       "  ('광요구도', '한여름에는 반그늘, 이외에는 충분한 햇빛을 쬠'),\n",
       "  ('물주기', '분 흙의 표면이 마르면 2일 정도 기다린 후 관수\\r겨울철에는 공기 중의 습도를 유지해 주는 정도로 분무'),\n",
       "  ('번식', '줄기꽂이, 포기나누기'),\n",
       "  ('고온다습', '과습하면 잎이 무름'),\n",
       "  ('병충해', '병충해를 별로 입지 않음'),\n",
       "  ('관리수준', '매우 쉬움'),\n",
       "  ('관리요구도', '잘 견딤'),\n",
       "  ('배치장소', '발코니 창측까지 이용 가능함 가장 끝에 있는 줄기가 가늘어지나 전반적인 형태 변화 없음'),\n",
       "  ('Tip',\n",
       "   '채광이 충분할수록 잎이 작고 촘촘히 맺히지만\\r하지만, 직사광선에서는 화상의 위험이 있음\\r10월 중순부터 물주는 횟수를 서서히 줄임')],\n",
       " [('식물이름', '바위솔'),\n",
       "  ('학명', 'Orostachys japonica, 돌나물과'),\n",
       "  ('유통명', '와송'),\n",
       "  ('원산지', '한국'),\n",
       "  ('생태형', '군생형'),\n",
       "  ('꽃', '흰색'),\n",
       "  ('잎색', '잎 가장자리 선명한 붉은색으로 변함'),\n",
       "  ('뿌리형태', '가는 뿌리'),\n",
       "  ('생장형', '봄~가을 성장 (여름생장형, 겨울에 휴면)'),\n",
       "  ('생장속도', '보통'),\n",
       "  ('겨울최저온도', '0°C'),\n",
       "  ('특성', '작고 짧은 잎이 로제트를 이룸\\r생육조건에 따라 여러 형태를 보임'),\n",
       "  ('광요구도', '햇빛이 부족하면 웃자라므로 충분한 햇빛 요구'),\n",
       "  ('물주기', '2주에 한 번 정도 흠뻑 관수'),\n",
       "  ('번식', '꺾꽂이(삽목), 포기나누기(분주)'),\n",
       "  ('관리수준', '보통'),\n",
       "  ('관리요구도', '약간 돌봄'),\n",
       "  ('배치장소', '발코니 창측까지 이용 가능함 발코니 내측에서는 꽃대가 웃자라 지탱하지 못하고 쓰러짐')],\n",
       " [('식물이름', '세데베리아 ‘팡파레’'),\n",
       "  ('학명', \"Sedeveria 'Fanfare' , 돌나물과\"),\n",
       "  ('유통명', '팡파레'),\n",
       "  ('생태형', '로제트형'),\n",
       "  ('꽃', '초봄에 종 모양의 옅은 노랑색 꽃이 핌'),\n",
       "  ('잎색', '환경에 따라 옅은 녹색의 잎이 약간 노랑색이 도는 정도로 변함'),\n",
       "  ('뿌리형태', '가는 뿌리'),\n",
       "  ('생장형', '봄~가을 성장 (여름생장형, 겨울에 휴면)'),\n",
       "  ('생장속도', '보통'),\n",
       "  ('겨울최저온도', '5°C'),\n",
       "  ('특성', '교잡종이며, 길고 납작한 잎들이 촘촘히 로제트를 이루며 돌려남\\r줄기는 목질화됨'),\n",
       "  ('광요구도', '충분한 햇빛(직사광선)을 요구함'),\n",
       "  ('물주기', '한 달에 두 번 정도 흠뻑 관수함'),\n",
       "  ('번식', '잎꽂이'),\n",
       "  ('관리수준', '어려움'),\n",
       "  ('관리요구도', '필요함'),\n",
       "  ('배치장소', '발코니 창측까지 이용 가능함'),\n",
       "  ('Tip', '잎이 시들어 가는 과정은 목질화가 되어가는\\r과정이므로 미관상 시들은 잎을 수시로 따주며 관리함')],\n",
       " [('식물이름', '세데베리아 ‘레티지아’'),\n",
       "  ('학명', \"Sedeveria 'Letizia' , 돌나물과\"),\n",
       "  ('유통명', '레티지아, 잽'),\n",
       "  ('원산지', '영국'),\n",
       "  ('생태형', '군생형'),\n",
       "  ('꽃', '봄부터 여름까지 흰색과 분홍색의 꽃이 핌'),\n",
       "  ('잎색', '연녹색의 잎이 가을 햇빛을 받으면 붉은색으로 물듦'),\n",
       "  ('뿌리형태', '가는 뿌리'),\n",
       "  ('생장형', '봄 ~가을 성장 (여름생장형, 겨울에 휴면)'),\n",
       "  ('생장속도', '보통'),\n",
       "  ('생육적온', '5~30°C'),\n",
       "  ('겨울최저온도', '5°C'),\n",
       "  ('특성', '군생이 잘 됨\\r봄~가을 까지 옥외 재배가 가능함'),\n",
       "  ('광요구도', '충분한 햇빛을 요구함(여름철 반그늘에서 키움)'),\n",
       "  ('물주기', '여름 장마철과 추운 겨울에는 관수를 줄임'),\n",
       "  ('번식', '잎꽂이, 자구꽂이'),\n",
       "  ('고온다습', '여름 고온기 화상과 무름병 주의'),\n",
       "  ('관리수준', '보통'),\n",
       "  ('관리요구도', '약간 돌봄'),\n",
       "  ('배치장소', '발코니 창측까지 이용 가능함')],\n",
       " [('식물이름', '홍옥'),\n",
       "  ('학명', 'Sedum rubrotinctum, 돌나물과'),\n",
       "  ('원산지', '멕시코'),\n",
       "  ('생태형', '포도송이형'),\n",
       "  ('꽃', '6월부터 8월 사이 별모양의 황색 꽃을 피움'),\n",
       "  ('잎색', '봄, 여름철 녹색인 잎이 가을 햇빛을 받으면 붉게 물듦'),\n",
       "  ('생장형', '봄~가을 성장 (여름생장형, 겨울에 휴면)'),\n",
       "  ('생장속도', '빠름'),\n",
       "  ('겨울최저온도', '5°C'),\n",
       "  ('특성', '줄기에 3cm 전후의 짧은 곤봉모양의 빨간 잎이 특징\\r추위에 강함'),\n",
       "  ('광요구도', '충분한 광이 필요함'),\n",
       "  ('물주기', '건조에 강하므로 가급적 잦은 물 주기를 자제함'),\n",
       "  ('번식', '잎꽂이, 자구꽂이'),\n",
       "  ('관리수준', '매우 쉬움'),\n",
       "  ('관리요구도', '잘 견딤'),\n",
       "  ('Tip', '가을에 관수를 적게 하고 강한 광선을 쬐면 붉게 물듦\\r아랫부분 시든 잎을 따줘야 위에 남은 잎들이 통통하게 자람')],\n",
       " [('식물이름', '을녀심'),\n",
       "  ('학명', 'Sedum pachyphyllum, 돌나물과'),\n",
       "  ('원산지', '멕시코'),\n",
       "  ('생태형', '관목형'),\n",
       "  ('꽃', '6월부터 8월 한여름에 노란색의 꽃을 피움'),\n",
       "  ('잎색', '햇빛을 잘 받으면 잎이 빨갛게 물듦'),\n",
       "  ('뿌리형태', '가는 뿌리'),\n",
       "  ('생장형', '봄~가을 성장(여름생장형, 겨울에 휴면)'),\n",
       "  ('생장속도', '보통'),\n",
       "  ('겨울최저온도', '5°C'),\n",
       "  ('특성', '둥근 잎은 햇빛이 좋으면 끝이 등홍색으로 선명해짐'),\n",
       "  ('광요구도', '강한 햇빛을 봐야 웃자람이 없음'),\n",
       "  ('물주기', '물은 분 흙이 충분히 마르면 주되 과습을 피함\\r여름철 장마철과 겨울철에는 더 건조하게 키움'),\n",
       "  ('번식', '잎꽂이, 자구꽂이, 줄기꽂이'),\n",
       "  ('관리수준', '어려움'),\n",
       "  ('관리요구도', '약간 돌봄')],\n",
       " [('식물이름', '옥주염'),\n",
       "  ('학명', 'Sedum morganianum, 돌나물과'),\n",
       "  ('유통명', '구슬얽이'),\n",
       "  ('원산지', '멕시코, 온두라스'),\n",
       "  ('생태형', '군생형'),\n",
       "  ('꽃', '늦은 봄부터 여름 사이에 연분홍색의 꽃을 피움'),\n",
       "  ('잎색', '연한 백녹색'),\n",
       "  ('뿌리형태', '가는 뿌리'),\n",
       "  ('생장형', '봄~가을 성장(여름생장형, 겨울에 휴면)'),\n",
       "  ('생장속도', '보통'),\n",
       "  ('겨울최저온도', '5°C'),\n",
       "  ('특성',\n",
       "   '연한 백녹색인 장원형의 잎을 가지에 촘촘히 붙임\\r자랄수록 머리 무게 때문에 줄기가 아래로 드리워\\r처지는 모습이 Hanging 디자인에 적당함'),\n",
       "  ('광요구도', '밝은 그늘'),\n",
       "  ('물주기', '여름 장마철에는 관수를 줄임'),\n",
       "  ('번식', '잎꽂이, 자구꽂이'),\n",
       "  ('고온다습', '여름철 고온에 약함'),\n",
       "  ('관리수준', '보통'),\n",
       "  ('관리요구도', '약간 돌봄'),\n",
       "  ('배치장소', '발코니 내측까지 이용 가능함 잎의 형태와 모양을 유지함'),\n",
       "  ('Tip', '관리하기 어려운 점은 접촉하면 잎이 부서지듯이 떨어짐')],\n",
       " [('식물이름', '황금세덤'),\n",
       "  ('학명', 'Sedum makinoi, 돌나물과'),\n",
       "  ('원산지', '미국'),\n",
       "  ('생태형', '포복형'),\n",
       "  ('꽃', '봄에서 여름 사이 노란색 꽃이 핌'),\n",
       "  ('잎색', '햇빛을 받으면 연두색으로 변함'),\n",
       "  ('뿌리형태', '가는 뿌리'),\n",
       "  ('생장형', '봄~가을 성장 (여름생장형, 겨울에 휴면)'),\n",
       "  ('생장속도', '빠름'),\n",
       "  ('겨울최저온도', '5°C'),\n",
       "  ('특성', '마주나는 잎이 촘촘하고 줄기가 길게 늘어지며 성장함'),\n",
       "  ('광요구도', '빛을 못 보면 웃자람이 심함'),\n",
       "  ('물주기', '한 달에 두 번가량 분의 흙이 젖게끔 관수함'),\n",
       "  ('번식', '포기나누기, 줄기꽂이'),\n",
       "  ('고온다습', '과습하면 짓무를 수 있으므로 다소 건조하게 관리함'),\n",
       "  ('병충해', '응애가 생기기 쉬움'),\n",
       "  ('관리수준', '매우 쉬움'),\n",
       "  ('관리요구도', '잘 견딤'),\n",
       "  ('배치장소', '발코니 창측까지 이용 가능함')],\n",
       " [('식물이름', '환엽송록'),\n",
       "  ('학명', \"Sedum lucidum 'Obesum' , 돌나물과\"),\n",
       "  ('유통명', '루시덤'),\n",
       "  ('원산지', '멕시코'),\n",
       "  ('생태형', '관목형'),\n",
       "  ('꽃', '늦은 봄부터 여름까지 흰색의 꽃을 피움'),\n",
       "  ('잎색', '햇빛을 많이 받으면 잎끝이 붉게 물듦'),\n",
       "  ('뿌리형태', '가는 뿌리'),\n",
       "  ('생장형', '봄~가을 성장 (여름생장형, 겨울에 휴면)'),\n",
       "  ('생장속도', '빠름'),\n",
       "  ('겨울최저온도', '5°C'),\n",
       "  ('특성',\n",
       "   '송록보다 잎이 통통하고 둥근 모습으로 런너를 형성함\\r햇빛을 충분히 받으면 잎끝이 적갈색으로 물듦\\r자구를 많이 만들며 자라고 잎에서 향기가 남'),\n",
       "  ('광요구도', '강한 햇빛에서 키워야 웃자라지 않고 통통하고 붉게 물듦'),\n",
       "  ('물주기', '한 달에 두 번 정도 흠뻑 줌'),\n",
       "  ('번식', '잎꽂이, 자구꽂이'),\n",
       "  ('고온다습', '더위에 약하므로 여름철에는 물을 적게 줌'),\n",
       "  ('관리수준', '보통'),\n",
       "  ('관리요구도', '약간 돌봄'),\n",
       "  ('배치장소', '발코니 창측까지 이용 가능함'),\n",
       "  ('Tip', '통풍이 잘되는 곳에서 건조하게 키움')],\n",
       " [('식물이름', \"세덤 '리틀잼'\"),\n",
       "  ('학명', \"Sedum 'LittleGem' , 돌나물과\"),\n",
       "  ('유통명', '소옥, 리틀잼'),\n",
       "  ('원산지', '캘리포니아'),\n",
       "  ('생태형', '군생형'),\n",
       "  ('꽃', '봄에서 여름 사이 옅은 노란색의 꽃이'),\n",
       "  ('잎색', '짙은 녹색의 잎이 환경에 따라서 붉은빛으로 물듦'),\n",
       "  ('뿌리형태', '가는 뿌리'),\n",
       "  ('생장형', '봄~가을 성장 (여름생장형, 겨울에 휴면)'),\n",
       "  ('생장속도', '느림'),\n",
       "  ('겨울최저온도', '3~5°C'),\n",
       "  ('특성', '자구가 생성되어 군생으로 자람\\r봄, 가을에 붉게 물듦'),\n",
       "  ('광요구도', '충분한 광이 필요함'),\n",
       "  ('물주기', '여름 장마철에 관수에 주의함'),\n",
       "  ('번식', '잎꽂이, 자구꽂이'),\n",
       "  ('관리수준', '어려움'),\n",
       "  ('관리요구도', '필요함'),\n",
       "  ('배치장소', '발코니 창측까지 이용 가능함')],\n",
       " [('식물이름', \"세덤 '라울'\"),\n",
       "  ('학명', \"Sedum clavatum 'Lawool' , 돌나물과\"),\n",
       "  ('유통명', '로치, 로티, 라울'),\n",
       "  ('원산지', '멕시코'),\n",
       "  ('생태형', '군생형'),\n",
       "  ('꽃', '늦은 겨울부터 봄까지 흰색의 꽃을 피움'),\n",
       "  ('잎색', '연녹색의 잎에 백분이 있으며, 잎끝에 붉은 점이 있음'),\n",
       "  ('뿌리형태', '가는 뿌리'),\n",
       "  ('생장형', '봄~가을 성장 (여름생장형, 겨울에 휴면)'),\n",
       "  ('생장속도', '보통'),\n",
       "  ('겨울최저온도', '5°C'),\n",
       "  ('특성', '키는 약 15cm 정도, 지제부에서 자구가 나옴\\r잎은 녹색에 약간의 백분이 나오며 주걱처럼 둥근모양'),\n",
       "  ('광요구도', '충분한 광이 필요함'),\n",
       "  ('물주기', '한 달에 두 번 정도 흠뻑 주며 전면관수'),\n",
       "  ('번식', '잎꽂이, 자구꽂이'),\n",
       "  ('관리수준', '쉬움'),\n",
       "  ('관리요구도', '약간 돌봄'),\n",
       "  ('배치장소', '발코니 내측까지 이용 가능함\\r창측에 비해 약간 키가 커지지만 관상가치 있음')],\n",
       " [('식물이름', '청옥'),\n",
       "  ('학명', 'Sedum burrito, 돌나물과'),\n",
       "  ('원산지', '멕시코'),\n",
       "  ('생태형', '포도송이형'),\n",
       "  ('꽃', '늦은 봄부터 여름까지 붉은색의 꽃을 피움'),\n",
       "  ('잎색', '황록색'),\n",
       "  ('뿌리형태', '가는 뿌리'),\n",
       "  ('생장형', '봄~가을 성장 (여름생장형, 겨울에 휴면)'),\n",
       "  ('생장속도', '빠름'),\n",
       "  ('겨울최저온도', '5°C'),\n",
       "  ('특성', '동글동글한 황록색의 잎이 다닥다닥 붙어 자람'),\n",
       "  ('광요구도', '햇빛을 잘 받게 하여 웃자라지 않도록 함'),\n",
       "  ('물주기', '한 달에 두 번 정도 흠뻑 주며 전체적으로 관수'),\n",
       "  ('번식', '포기나누기, 잎꽂이\\r분갈이는 4~5월이 적당하며, 배수가 잘되는 용토에\\r심어 관리'),\n",
       "  ('관리수준', '매우 쉬움'),\n",
       "  ('관리요구도', '잘 견딤'),\n",
       "  ('배치장소', '발코니 창측까지 이용 가능함'),\n",
       "  ('Tip', '건조하게 관리하여 식물을 작게 키움')]]"
      ]
     },
     "execution_count": 29,
     "metadata": {},
     "output_type": "execute_result"
    }
   ],
   "source": [
    "plant = []\n",
    "for i in df1[0]:\n",
    "    plant.append(plant_info(i))\n",
    "    \n",
    "for i in df2[0]:\n",
    "    plant.append(plant_info_dry(i))\n",
    "    \n",
    "plant\n"
   ]
  },
  {
   "cell_type": "code",
   "execution_count": 74,
   "metadata": {},
   "outputs": [],
   "source": [
    "raw_data = pd.DataFrame(plant)"
   ]
  },
  {
   "cell_type": "code",
   "execution_count": 76,
   "metadata": {},
   "outputs": [],
   "source": [
    "raw_data.to_excel(\"raw_data.xlsx\")"
   ]
  },
  {
   "cell_type": "code",
   "execution_count": null,
   "metadata": {},
   "outputs": [],
   "source": []
  }
 ],
 "metadata": {
  "kernelspec": {
   "display_name": "Python 3",
   "language": "python",
   "name": "python3"
  },
  "language_info": {
   "codemirror_mode": {
    "name": "ipython",
    "version": 3
   },
   "file_extension": ".py",
   "mimetype": "text/x-python",
   "name": "python",
   "nbconvert_exporter": "python",
   "pygments_lexer": "ipython3",
   "version": "3.8.5"
  }
 },
 "nbformat": 4,
 "nbformat_minor": 4
}
